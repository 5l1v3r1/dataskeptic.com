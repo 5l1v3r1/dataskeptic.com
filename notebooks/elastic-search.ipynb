{
 "cells": [
  {
   "cell_type": "markdown",
   "metadata": {},
   "source": [
    "Some details found here:\n",
    "\n",
    "http://elasticsearch-py.readthedocs.io/en/master/"
   ]
  },
  {
   "cell_type": "code",
   "execution_count": 2,
   "metadata": {},
   "outputs": [],
   "source": [
    "\n",
    "from pyelasticsearch.client import ElasticSearch"
   ]
  },
  {
   "cell_type": "code",
   "execution_count": 3,
   "metadata": {},
   "outputs": [],
   "source": [
    "endpoint = 'https://search-test-vu2fwve5ykzm5tsjkut5q4idum.us-east-1.es.amazonaws.com'"
   ]
  },
  {
   "cell_type": "code",
   "execution_count": 4,
   "metadata": {},
   "outputs": [],
   "source": [
    "es = ElasticSearch(endpoint, port=443)"
   ]
  },
  {
   "cell_type": "code",
   "execution_count": 5,
   "metadata": {},
   "outputs": [
    {
     "data": {
      "text/plain": [
       "{'_id': '6',\n",
       " '_index': 'contacts',\n",
       " '_shards': {'failed': 0, 'successful': 1, 'total': 2},\n",
       " '_type': 'person',\n",
       " '_version': 1,\n",
       " 'created': True,\n",
       " 'result': 'created'}"
      ]
     },
     "execution_count": 5,
     "metadata": {},
     "output_type": "execute_result"
    }
   ],
   "source": [
    "es.index('contacts',\n",
    "          'person',\n",
    "          {'name': 'Jing', 'age': 25, 'title': 'QA Master'},\n",
    "           id=6)"
   ]
  },
  {
   "cell_type": "code",
   "execution_count": 5,
   "metadata": {},
   "outputs": [
    {
     "data": {
      "text/plain": [
       "{'errors': False,\n",
       " 'items': [{'index': {'_id': '2',\n",
       "    '_index': 'contacts',\n",
       "    '_shards': {'failed': 0, 'successful': 1, 'total': 2},\n",
       "    '_type': 'person',\n",
       "    '_version': 7,\n",
       "    'created': False,\n",
       "    'result': 'updated',\n",
       "    'status': 200}},\n",
       "  {'index': {'_id': '3',\n",
       "    '_index': 'contacts',\n",
       "    '_shards': {'failed': 0, 'successful': 1, 'total': 2},\n",
       "    '_type': 'person',\n",
       "    '_version': 5,\n",
       "    'created': False,\n",
       "    'result': 'updated',\n",
       "    'status': 200}}],\n",
       " 'took': 17}"
      ]
     },
     "execution_count": 5,
     "metadata": {},
     "output_type": "execute_result"
    }
   ],
   "source": [
    "docs = [{'id': 2, 'name': 'Jessica Coder', 'age': 32, 'title': 'Programmer'},\n",
    "          {'id': 3, 'name': 'Freddy Tester', 'age': 29, 'title': 'Office Assistant'}]\n",
    "es.bulk((es.index_op(doc, id=doc.pop('id')) for doc in docs),\n",
    "          index='contacts',\n",
    "          doc_type='person')"
   ]
  },
  {
   "cell_type": "code",
   "execution_count": 16,
   "metadata": {},
   "outputs": [
    {
     "data": {
      "text/plain": [
       "{'_shards': {'failed': 0, 'successful': 5, 'total': 10}}"
      ]
     },
     "execution_count": 16,
     "metadata": {},
     "output_type": "execute_result"
    }
   ],
   "source": [
    "es.refresh('contacts')"
   ]
  },
  {
   "cell_type": "code",
   "execution_count": 17,
   "metadata": {},
   "outputs": [
    {
     "data": {
      "text/plain": [
       "{'_id': '3',\n",
       " '_index': 'contacts',\n",
       " '_source': {'age': 29, 'name': 'Freddy Tester', 'title': 'Office Assistant'},\n",
       " '_type': 'person',\n",
       " '_version': 3,\n",
       " 'found': True}"
      ]
     },
     "execution_count": 17,
     "metadata": {},
     "output_type": "execute_result"
    }
   ],
   "source": [
    "es.get('contacts', 'person', 3)"
   ]
  },
  {
   "cell_type": "code",
   "execution_count": 19,
   "metadata": {},
   "outputs": [
    {
     "data": {
      "text/plain": [
       "{'_shards': {'failed': 0, 'successful': 5, 'total': 5},\n",
       " 'hits': {'hits': [{'_id': '1',\n",
       "    '_index': 'contacts',\n",
       "    '_score': 0.25811607,\n",
       "    '_source': {'age': 25, 'name': 'Joe Tester', 'title': 'QA Master'},\n",
       "    '_type': 'person'},\n",
       "   {'_id': '3',\n",
       "    '_index': 'contacts',\n",
       "    '_score': 0.25811607,\n",
       "    '_source': {'age': 29,\n",
       "     'name': 'Freddy Tester',\n",
       "     'title': 'Office Assistant'},\n",
       "    '_type': 'person'}],\n",
       "  'max_score': 0.25811607,\n",
       "  'total': 2},\n",
       " 'timed_out': False,\n",
       " 'took': 2}"
      ]
     },
     "execution_count": 19,
     "metadata": {},
     "output_type": "execute_result"
    }
   ],
   "source": [
    "es.search('name:joe OR name:freddy', index='contacts')"
   ]
  },
  {
   "cell_type": "code",
   "execution_count": 39,
   "metadata": {},
   "outputs": [
    {
     "data": {
      "text/plain": [
       "{'_shards': {'failed': 0, 'successful': 5, 'total': 5},\n",
       " 'hits': {'hits': [{'_id': '1',\n",
       "    '_index': 'contacts',\n",
       "    '_score': 0.25811607,\n",
       "    '_source': {'age': 25, 'name': 'Joe Tester', 'title': 'QA Master'},\n",
       "    '_type': 'person'},\n",
       "   {'_id': '3',\n",
       "    '_index': 'contacts',\n",
       "    '_score': 0.25811607,\n",
       "    '_source': {'age': 29,\n",
       "     'name': 'Freddy Tester',\n",
       "     'title': 'Office Assistant'},\n",
       "    '_type': 'person'}],\n",
       "  'max_score': 0.25811607,\n",
       "  'total': 2},\n",
       " 'timed_out': False,\n",
       " 'took': 4}"
      ]
     },
     "execution_count": 39,
     "metadata": {},
     "output_type": "execute_result"
    }
   ],
   "source": [
    "es.search(index='contacts', query={\"query\": {\"match\": {\"name\": \"Tester\"}}})"
   ]
  },
  {
   "cell_type": "code",
   "execution_count": 25,
   "metadata": {},
   "outputs": [
    {
     "name": "stderr",
     "output_type": "stream",
     "text": [
      "GET /contacts/_search [status:400 request:1.011s]\n"
     ]
    },
    {
     "ename": "ElasticHttpError",
     "evalue": "(400, 'parsing_exception')",
     "output_type": "error",
     "traceback": [
      "\u001b[0;31m---------------------------------------------------------------------------\u001b[0m",
      "\u001b[0;31mRequestError\u001b[0m                              Traceback (most recent call last)",
      "\u001b[0;32m/usr/local/lib/python3.5/site-packages/pyelasticsearch/client.py\u001b[0m in \u001b[0;36msend_request\u001b[0;34m(self, method, path_components, body, query_params)\u001b[0m\n\u001b[1;32m    275\u001b[0m                             for k, v in iteritems(query_params)),\n\u001b[0;32m--> 276\u001b[0;31m                 body=body)\n\u001b[0m\u001b[1;32m    277\u001b[0m         \u001b[0;32mexcept\u001b[0m \u001b[0mSerializationError\u001b[0m \u001b[0;32mas\u001b[0m \u001b[0mexc\u001b[0m\u001b[0;34m:\u001b[0m\u001b[0;34m\u001b[0m\u001b[0m\n",
      "\u001b[0;32m/usr/local/lib/python3.5/site-packages/elasticsearch/transport.py\u001b[0m in \u001b[0;36mperform_request\u001b[0;34m(self, method, url, params, body)\u001b[0m\n\u001b[1;32m    306\u001b[0m             \u001b[0;32mtry\u001b[0m\u001b[0;34m:\u001b[0m\u001b[0;34m\u001b[0m\u001b[0m\n\u001b[0;32m--> 307\u001b[0;31m                 \u001b[0mstatus\u001b[0m\u001b[0;34m,\u001b[0m \u001b[0mheaders\u001b[0m\u001b[0;34m,\u001b[0m \u001b[0mdata\u001b[0m \u001b[0;34m=\u001b[0m \u001b[0mconnection\u001b[0m\u001b[0;34m.\u001b[0m\u001b[0mperform_request\u001b[0m\u001b[0;34m(\u001b[0m\u001b[0mmethod\u001b[0m\u001b[0;34m,\u001b[0m \u001b[0murl\u001b[0m\u001b[0;34m,\u001b[0m \u001b[0mparams\u001b[0m\u001b[0;34m,\u001b[0m \u001b[0mbody\u001b[0m\u001b[0;34m,\u001b[0m \u001b[0mignore\u001b[0m\u001b[0;34m=\u001b[0m\u001b[0mignore\u001b[0m\u001b[0;34m,\u001b[0m \u001b[0mtimeout\u001b[0m\u001b[0;34m=\u001b[0m\u001b[0mtimeout\u001b[0m\u001b[0;34m)\u001b[0m\u001b[0;34m\u001b[0m\u001b[0m\n\u001b[0m\u001b[1;32m    308\u001b[0m \u001b[0;34m\u001b[0m\u001b[0m\n",
      "\u001b[0;32m/usr/local/lib/python3.5/site-packages/elasticsearch/connection/http_urllib3.py\u001b[0m in \u001b[0;36mperform_request\u001b[0;34m(self, method, url, params, body, timeout, ignore)\u001b[0m\n\u001b[1;32m     92\u001b[0m             \u001b[0mself\u001b[0m\u001b[0;34m.\u001b[0m\u001b[0mlog_request_fail\u001b[0m\u001b[0;34m(\u001b[0m\u001b[0mmethod\u001b[0m\u001b[0;34m,\u001b[0m \u001b[0murl\u001b[0m\u001b[0;34m,\u001b[0m \u001b[0mbody\u001b[0m\u001b[0;34m,\u001b[0m \u001b[0mduration\u001b[0m\u001b[0;34m,\u001b[0m \u001b[0mresponse\u001b[0m\u001b[0;34m.\u001b[0m\u001b[0mstatus\u001b[0m\u001b[0;34m)\u001b[0m\u001b[0;34m\u001b[0m\u001b[0m\n\u001b[0;32m---> 93\u001b[0;31m             \u001b[0mself\u001b[0m\u001b[0;34m.\u001b[0m\u001b[0m_raise_error\u001b[0m\u001b[0;34m(\u001b[0m\u001b[0mresponse\u001b[0m\u001b[0;34m.\u001b[0m\u001b[0mstatus\u001b[0m\u001b[0;34m,\u001b[0m \u001b[0mraw_data\u001b[0m\u001b[0;34m)\u001b[0m\u001b[0;34m\u001b[0m\u001b[0m\n\u001b[0m\u001b[1;32m     94\u001b[0m \u001b[0;34m\u001b[0m\u001b[0m\n",
      "\u001b[0;32m/usr/local/lib/python3.5/site-packages/elasticsearch/connection/base.py\u001b[0m in \u001b[0;36m_raise_error\u001b[0;34m(self, status_code, raw_data)\u001b[0m\n\u001b[1;32m    104\u001b[0m \u001b[0;34m\u001b[0m\u001b[0m\n\u001b[0;32m--> 105\u001b[0;31m         \u001b[0;32mraise\u001b[0m \u001b[0mHTTP_EXCEPTIONS\u001b[0m\u001b[0;34m.\u001b[0m\u001b[0mget\u001b[0m\u001b[0;34m(\u001b[0m\u001b[0mstatus_code\u001b[0m\u001b[0;34m,\u001b[0m \u001b[0mTransportError\u001b[0m\u001b[0;34m)\u001b[0m\u001b[0;34m(\u001b[0m\u001b[0mstatus_code\u001b[0m\u001b[0;34m,\u001b[0m \u001b[0merror_message\u001b[0m\u001b[0;34m,\u001b[0m \u001b[0madditional_info\u001b[0m\u001b[0;34m)\u001b[0m\u001b[0;34m\u001b[0m\u001b[0m\n\u001b[0m\u001b[1;32m    106\u001b[0m \u001b[0;34m\u001b[0m\u001b[0m\n",
      "\u001b[0;31mRequestError\u001b[0m: TransportError(400, 'parsing_exception')",
      "\nDuring handling of the above exception, another exception occurred:\n",
      "\u001b[0;31mElasticHttpError\u001b[0m                          Traceback (most recent call last)",
      "\u001b[0;32m<ipython-input-25-cb30da31bf18>\u001b[0m in \u001b[0;36m<module>\u001b[0;34m()\u001b[0m\n\u001b[1;32m     16\u001b[0m      },\n\u001b[1;32m     17\u001b[0m }\n\u001b[0;32m---> 18\u001b[0;31m \u001b[0mes\u001b[0m\u001b[0;34m.\u001b[0m\u001b[0msearch\u001b[0m\u001b[0;34m(\u001b[0m\u001b[0mindex\u001b[0m\u001b[0;34m=\u001b[0m\u001b[0;34m'contacts'\u001b[0m\u001b[0;34m,\u001b[0m \u001b[0mquery\u001b[0m\u001b[0;34m=\u001b[0m\u001b[0mquery\u001b[0m\u001b[0;34m)\u001b[0m\u001b[0;34m\u001b[0m\u001b[0m\n\u001b[0m",
      "\u001b[0;32m/usr/local/lib/python3.5/site-packages/pyelasticsearch/client.py\u001b[0m in \u001b[0;36mdecorate\u001b[0;34m(*args, **kwargs)\u001b[0m\n\u001b[1;32m     91\u001b[0m                 \u001b[0;32melif\u001b[0m \u001b[0mk\u001b[0m \u001b[0;32min\u001b[0m \u001b[0mconvertible_args\u001b[0m\u001b[0;34m:\u001b[0m\u001b[0;34m\u001b[0m\u001b[0m\n\u001b[1;32m     92\u001b[0m                     \u001b[0mquery_params\u001b[0m\u001b[0;34m[\u001b[0m\u001b[0mk\u001b[0m\u001b[0;34m]\u001b[0m \u001b[0;34m=\u001b[0m \u001b[0mkwargs\u001b[0m\u001b[0;34m.\u001b[0m\u001b[0mpop\u001b[0m\u001b[0;34m(\u001b[0m\u001b[0mk\u001b[0m\u001b[0;34m)\u001b[0m\u001b[0;34m\u001b[0m\u001b[0m\n\u001b[0;32m---> 93\u001b[0;31m             \u001b[0;32mreturn\u001b[0m \u001b[0mfunc\u001b[0m\u001b[0;34m(\u001b[0m\u001b[0;34m*\u001b[0m\u001b[0margs\u001b[0m\u001b[0;34m,\u001b[0m \u001b[0mquery_params\u001b[0m\u001b[0;34m=\u001b[0m\u001b[0mquery_params\u001b[0m\u001b[0;34m,\u001b[0m \u001b[0;34m**\u001b[0m\u001b[0mkwargs\u001b[0m\u001b[0;34m)\u001b[0m\u001b[0;34m\u001b[0m\u001b[0m\n\u001b[0m\u001b[1;32m     94\u001b[0m         \u001b[0;32mreturn\u001b[0m \u001b[0mdecorate\u001b[0m\u001b[0;34m\u001b[0m\u001b[0m\n\u001b[1;32m     95\u001b[0m     \u001b[0;32mreturn\u001b[0m \u001b[0mdecorator\u001b[0m\u001b[0;34m\u001b[0m\u001b[0m\n",
      "\u001b[0;32m/usr/local/lib/python3.5/site-packages/pyelasticsearch/client.py\u001b[0m in \u001b[0;36msearch\u001b[0;34m(self, query, **kwargs)\u001b[0m\n\u001b[1;32m    857\u001b[0m             \u001b[0mhttp\u001b[0m\u001b[0;34m:\u001b[0m\u001b[0;34m//\u001b[0m\u001b[0mwww\u001b[0m\u001b[0;34m.\u001b[0m\u001b[0melastic\u001b[0m\u001b[0;34m.\u001b[0m\u001b[0mco\u001b[0m\u001b[0;34m/\u001b[0m\u001b[0mguide\u001b[0m\u001b[0;34m/\u001b[0m\u001b[0men\u001b[0m\u001b[0;34m/\u001b[0m\u001b[0melasticsearch\u001b[0m\u001b[0;34m/\u001b[0m\u001b[0mreference\u001b[0m\u001b[0;34m/\u001b[0m\u001b[0mcurrent\u001b[0m\u001b[0;34m/\u001b[0m\u001b[0m_the_search_api\u001b[0m\u001b[0;34m.\u001b[0m\u001b[0mhtml\u001b[0m\u001b[0;34m\u001b[0m\u001b[0m\n\u001b[1;32m    858\u001b[0m         \"\"\"\n\u001b[0;32m--> 859\u001b[0;31m         \u001b[0;32mreturn\u001b[0m \u001b[0mself\u001b[0m\u001b[0;34m.\u001b[0m\u001b[0m_search_or_count\u001b[0m\u001b[0;34m(\u001b[0m\u001b[0;34m'_search'\u001b[0m\u001b[0;34m,\u001b[0m \u001b[0mquery\u001b[0m\u001b[0;34m,\u001b[0m \u001b[0;34m**\u001b[0m\u001b[0mkwargs\u001b[0m\u001b[0;34m)\u001b[0m\u001b[0;34m\u001b[0m\u001b[0m\n\u001b[0m\u001b[1;32m    860\u001b[0m \u001b[0;34m\u001b[0m\u001b[0m\n\u001b[1;32m    861\u001b[0m     \u001b[0;34m@\u001b[0m\u001b[0mes_kwargs\u001b[0m\u001b[0;34m(\u001b[0m\u001b[0;34m'df'\u001b[0m\u001b[0;34m,\u001b[0m \u001b[0;34m'analyzer'\u001b[0m\u001b[0;34m,\u001b[0m \u001b[0;34m'default_operator'\u001b[0m\u001b[0;34m,\u001b[0m \u001b[0;34m'source'\u001b[0m\u001b[0;34m,\u001b[0m \u001b[0;34m'routing'\u001b[0m\u001b[0;34m)\u001b[0m\u001b[0;34m\u001b[0m\u001b[0m\n",
      "\u001b[0;32m/usr/local/lib/python3.5/site-packages/pyelasticsearch/client.py\u001b[0m in \u001b[0;36m_search_or_count\u001b[0;34m(self, kind, query, index, doc_type, query_params)\u001b[0m\n\u001b[1;32m    834\u001b[0m             \u001b[0;34m[\u001b[0m\u001b[0mself\u001b[0m\u001b[0;34m.\u001b[0m\u001b[0m_concat\u001b[0m\u001b[0;34m(\u001b[0m\u001b[0mindex\u001b[0m\u001b[0;34m)\u001b[0m\u001b[0;34m,\u001b[0m \u001b[0mself\u001b[0m\u001b[0;34m.\u001b[0m\u001b[0m_concat\u001b[0m\u001b[0;34m(\u001b[0m\u001b[0mdoc_type\u001b[0m\u001b[0;34m)\u001b[0m\u001b[0;34m,\u001b[0m \u001b[0mkind\u001b[0m\u001b[0;34m]\u001b[0m\u001b[0;34m,\u001b[0m\u001b[0;34m\u001b[0m\u001b[0m\n\u001b[1;32m    835\u001b[0m             \u001b[0mbody\u001b[0m\u001b[0;34m,\u001b[0m\u001b[0;34m\u001b[0m\u001b[0m\n\u001b[0;32m--> 836\u001b[0;31m             query_params=query_params)\n\u001b[0m\u001b[1;32m    837\u001b[0m \u001b[0;34m\u001b[0m\u001b[0m\n\u001b[1;32m    838\u001b[0m     \u001b[0;34m@\u001b[0m\u001b[0mes_kwargs\u001b[0m\u001b[0;34m(\u001b[0m\u001b[0;34m'routing'\u001b[0m\u001b[0;34m,\u001b[0m \u001b[0;34m'size'\u001b[0m\u001b[0;34m)\u001b[0m\u001b[0;34m\u001b[0m\u001b[0m\n",
      "\u001b[0;32m/usr/local/lib/python3.5/site-packages/pyelasticsearch/client.py\u001b[0m in \u001b[0;36msend_request\u001b[0;34m(self, method, path_components, body, query_params)\u001b[0m\n\u001b[1;32m    283\u001b[0m             \u001b[0mstatus\u001b[0m \u001b[0;34m=\u001b[0m \u001b[0mexc\u001b[0m\u001b[0;34m.\u001b[0m\u001b[0margs\u001b[0m\u001b[0;34m[\u001b[0m\u001b[0;36m0\u001b[0m\u001b[0;34m]\u001b[0m\u001b[0;34m\u001b[0m\u001b[0m\n\u001b[1;32m    284\u001b[0m             \u001b[0merror_message\u001b[0m \u001b[0;34m=\u001b[0m \u001b[0mexc\u001b[0m\u001b[0;34m.\u001b[0m\u001b[0margs\u001b[0m\u001b[0;34m[\u001b[0m\u001b[0;36m1\u001b[0m\u001b[0;34m]\u001b[0m\u001b[0;34m\u001b[0m\u001b[0m\n\u001b[0;32m--> 285\u001b[0;31m             \u001b[0mself\u001b[0m\u001b[0;34m.\u001b[0m\u001b[0m_raise_exception\u001b[0m\u001b[0;34m(\u001b[0m\u001b[0mstatus\u001b[0m\u001b[0;34m,\u001b[0m \u001b[0merror_message\u001b[0m\u001b[0;34m)\u001b[0m\u001b[0;34m\u001b[0m\u001b[0m\n\u001b[0m\u001b[1;32m    286\u001b[0m \u001b[0;34m\u001b[0m\u001b[0m\n\u001b[1;32m    287\u001b[0m         \u001b[0;32mreturn\u001b[0m \u001b[0mprepped_response\u001b[0m\u001b[0;34m\u001b[0m\u001b[0m\n",
      "\u001b[0;32m/usr/local/lib/python3.5/site-packages/pyelasticsearch/client.py\u001b[0m in \u001b[0;36m_raise_exception\u001b[0;34m(self, status, error_message)\u001b[0m\n\u001b[1;32m    297\u001b[0m             \u001b[0merror_class\u001b[0m \u001b[0;34m=\u001b[0m \u001b[0mIndexAlreadyExistsError\u001b[0m\u001b[0;34m\u001b[0m\u001b[0m\n\u001b[1;32m    298\u001b[0m \u001b[0;34m\u001b[0m\u001b[0m\n\u001b[0;32m--> 299\u001b[0;31m         \u001b[0;32mraise\u001b[0m \u001b[0merror_class\u001b[0m\u001b[0;34m(\u001b[0m\u001b[0mstatus\u001b[0m\u001b[0;34m,\u001b[0m \u001b[0merror_message\u001b[0m\u001b[0;34m)\u001b[0m\u001b[0;34m\u001b[0m\u001b[0m\n\u001b[0m\u001b[1;32m    300\u001b[0m \u001b[0;34m\u001b[0m\u001b[0m\n\u001b[1;32m    301\u001b[0m     \u001b[0;32mdef\u001b[0m \u001b[0m_encode_json\u001b[0m\u001b[0;34m(\u001b[0m\u001b[0mself\u001b[0m\u001b[0;34m,\u001b[0m \u001b[0mvalue\u001b[0m\u001b[0;34m)\u001b[0m\u001b[0;34m:\u001b[0m\u001b[0;34m\u001b[0m\u001b[0m\n",
      "\u001b[0;31mElasticHttpError\u001b[0m: (400, 'parsing_exception')"
     ]
    }
   ],
   "source": [
    "query = {\n",
    "     'query': {\n",
    "         'filtered': {\n",
    "             'query': {\n",
    "                 'query_string': {'query': 'name:tester'}\n",
    "             },\n",
    "             'filter': {\n",
    "                 'range': {\n",
    "                     'age': {\n",
    "                         'from': 27,\n",
    "                         'to': 37,\n",
    "                     },\n",
    "                 },\n",
    "             },\n",
    "         },\n",
    "     },\n",
    "}\n",
    "es.search(index='contacts', query=query)"
   ]
  },
  {
   "cell_type": "code",
   "execution_count": 27,
   "metadata": {},
   "outputs": [
    {
     "data": {
      "text/plain": [
       "{u'acknowledged': True}"
      ]
     },
     "execution_count": 27,
     "metadata": {},
     "output_type": "execute_result"
    }
   ],
   "source": [
    "es.delete_index('contacts')"
   ]
  },
  {
   "cell_type": "code",
   "execution_count": null,
   "metadata": {
    "collapsed": true
   },
   "outputs": [],
   "source": []
  },
  {
   "cell_type": "code",
   "execution_count": null,
   "metadata": {
    "collapsed": true
   },
   "outputs": [],
   "source": []
  },
  {
   "cell_type": "code",
   "execution_count": null,
   "metadata": {
    "collapsed": true
   },
   "outputs": [],
   "source": []
  },
  {
   "cell_type": "code",
   "execution_count": null,
   "metadata": {
    "collapsed": true
   },
   "outputs": [],
   "source": []
  },
  {
   "cell_type": "code",
   "execution_count": null,
   "metadata": {
    "collapsed": true
   },
   "outputs": [],
   "source": [
    "import elasticsearch\n",
    "\n",
    "host = 'YOURHOST.us-east-1.es.amazonaws.com'\n",
    "awsauth = AWS4Auth(your_access_key, your_secret_key, region, 'es')\n",
    "\n",
    "es = elasticsearch.Elasticsearch(\n",
    "    hosts=[{'host': host, 'port': 443}],\n",
    "    http_auth=awsauth,\n",
    "    use_ssl=True,\n",
    "    verify_certs=True,\n",
    "    connection_class=elasticsearch.connection.RequestsHttpConnection\n",
    ")\n",
    "print(es.cluster.health())"
   ]
  },
  {
   "cell_type": "code",
   "execution_count": null,
   "metadata": {},
   "outputs": [],
   "source": []
  },
  {
   "cell_type": "code",
   "execution_count": 34,
   "metadata": {},
   "outputs": [
    {
     "name": "stderr",
     "output_type": "stream",
     "text": [
      "/usr/local/lib/python3.6/site-packages/elasticsearch/connection/http_urllib3.py:54: UserWarning: Connecting to search-test-vu2fwve5ykzm5tsjkut5q4idum.us-east-1.es.amazonaws.com using SSL with verify_certs=False is insecure.\n",
      "  'Connecting to %s using SSL with verify_certs=False is insecure.' % host)\n",
      "/usr/local/lib/python3.6/site-packages/urllib3/connectionpool.py:858: InsecureRequestWarning: Unverified HTTPS request is being made. Adding certificate verification is strongly advised. See: https://urllib3.readthedocs.io/en/latest/advanced-usage.html#ssl-warnings\n",
      "  InsecureRequestWarning)\n"
     ]
    }
   ],
   "source": [
    "from elasticsearch import Elasticsearch\n",
    "import json\n",
    "import requests\n",
    "from pyelasticsearch.client import ElasticSearch\n",
    "\n",
    "search_v1={ \n",
    "    'mapping':{\n",
    "        'blog':{\n",
    "            'properties':{\n",
    "                'blog_id':{'type':'integer'},\n",
    "                'title':{'type':'string','analyzer':'english'},\n",
    "                'author':{'type':'string','index':'not_analyzed'},\n",
    "                'abstract':{'type':'string','analyzer':'english'},\n",
    "                'date_created':{'type':'date'},\n",
    "                'publish_date':{'type':'date'},\n",
    "                'content':{'type':'string','analyzer':'english'}\n",
    "            }\n",
    "        }\n",
    "    }\n",
    "}\n",
    "\n",
    "\n",
    "\n",
    "if __name__ == '__main__':\n",
    "    config = json.load(open('../config/configsql.json', 'r'))\n",
    "    # TODO: Jing to populate some code from the notebook\n",
    "    user = config['dev']['mysql']['user']\n",
    "    password = config['dev']['mysql']['password']\n",
    "    host = config['dev']['mysql']['host']\n",
    "    port = config['dev']['mysql']['port']\n",
    "    dbname = config['dev']['mysql']['dbname']\n",
    "    aws_access_key_id=config['dev']['aws']['key']\n",
    "    aws_secret_access_key=config['dev']['aws']['secret']\n",
    "    bucketname=config['dev']['bucketname']['bucketname']\n",
    "    endpoint = 'https://search-test-vu2fwve5ykzm5tsjkut5q4idum.us-east-1.es.amazonaws.com'\n",
    "    client = Elasticsearch(endpoint, port=443)\n",
    "    client.indices.create(index='search_v1')\n",
    "   "
   ]
  },
  {
   "cell_type": "code",
   "execution_count": 31,
   "metadata": {},
   "outputs": [
    {
     "name": "stderr",
     "output_type": "stream",
     "text": [
      "/usr/local/lib/python3.6/site-packages/urllib3/connectionpool.py:858: InsecureRequestWarning: Unverified HTTPS request is being made. Adding certificate verification is strongly advised. See: https://urllib3.readthedocs.io/en/latest/advanced-usage.html#ssl-warnings\n",
      "  InsecureRequestWarning)\n"
     ]
    },
    {
     "data": {
      "text/plain": [
       "{'acknowledged': True}"
      ]
     },
     "execution_count": 31,
     "metadata": {},
     "output_type": "execute_result"
    }
   ],
   "source": [
    "client.indices.delete(index='search_v1')"
   ]
  },
  {
   "cell_type": "code",
   "execution_count": null,
   "metadata": {},
   "outputs": [],
   "source": [
    "successful_update = False\n",
    "#result = elastic_search_conn.delete(index=index_name,doc_type='blog',body='{\"query\":{\"match_all\":{}}}')\n",
    "doc = {\n",
    "    'blog_id'      : int(row['blog_id']),\n",
    "    'title'        : row['title'],\n",
    "    'author'       : row['author'],\n",
    "    'abstract'     : row['abstract'],\n",
    "    'date_created' : row['date_created'],\n",
    "    'publish_date' : row['publish_date'],\n",
    "    'content'      : html\n",
    "    }\n",
    "print(\"Going to update \" + row['title'])\n",
    "result2 = elastic_search_conn.create(index='search_v1',doc_type='blog',body=doc) "
   ]
  },
  {
   "cell_type": "code",
   "execution_count": 6,
   "metadata": {},
   "outputs": [
    {
     "data": {
      "text/plain": [
       "{'_id': '3',\n",
       " '_index': 'search_v1',\n",
       " '_source': {'abstract': 'In this episode we discuss the techniques and approaches to perform advertising attribution - the process of helping advertisers understand the impact all aspects of their marketing efforts contribute to their overall g',\n",
       "  'author': 'Kyle',\n",
       "  'blog_id': 3,\n",
       "  'content': '<h2>Advertising Attribution with Nathan Janos</h2>\\n<p>In this episode we discuss the techniques and approaches to perform advertising attribution - the process of helping advertisers understand the impact all aspects of their marketing efforts contribute to their overall gain.</p>\\n<h3>Links to things mentioned during the show:</h3>\\n<p><a href=\"http://longnow.org/\">The Long Now Foundation</a></p>\\n<p><a href=\"http://jeffjag.com/\">Jeff Jagunich, artist</a></p>\\n<p><a href=\"http://www.convertro.com/\">Convertro</a></p>',\n",
       "  'date_created': '2014-06-06T00:00:00',\n",
       "  'prettyname': '/episodes/2014/advertising-attribution-with-nathan-janos',\n",
       "  'publish_date': '2014-06-06T00:00:00',\n",
       "  'title': 'Advertising Attribution with Nathan Janos'},\n",
       " '_type': 'blog',\n",
       " '_version': 13,\n",
       " 'found': True}"
      ]
     },
     "execution_count": 6,
     "metadata": {},
     "output_type": "execute_result"
    }
   ],
   "source": [
    "es.get('search_v1', 'blog', 3)"
   ]
  },
  {
   "cell_type": "code",
   "execution_count": 7,
   "metadata": {},
   "outputs": [
    {
     "data": {
      "text/plain": [
       "{'_id': '1',\n",
       " '_index': 'search_v1',\n",
       " '_source': {'abstract': 'The Data Skeptic Podcast features conversations with topics related to data science, statistics, machine learning, artificial intelligence and the like, all from the perspective of applying critical thinking and the scientific method to evaluate the veracity of claims and efficacy of approac',\n",
       "  'author': 'Kyle',\n",
       "  'blog_id': 1,\n",
       "  'content': '<h2>Introduction</h2>\\n<p>The Data Skeptic Podcast features conversations with topics related to data science, statistics, machine learning, artificial intelligence and the like, all from the perspective of applying critical thinking and the scientific method to evaluate the veracity of claims and efficacy of approaches.</p>',\n",
       "  'date_created': '2014-05-23T00:00:00',\n",
       "  'prettyname': '/episodes/2014/introduction',\n",
       "  'publish_date': '2014-05-23T00:00:00',\n",
       "  'title': 'Introduction'},\n",
       " '_type': 'blog',\n",
       " '_version': 20,\n",
       " 'found': True}"
      ]
     },
     "execution_count": 7,
     "metadata": {},
     "output_type": "execute_result"
    }
   ],
   "source": [
    "es.get('search_v1', 'blog', 1)"
   ]
  },
  {
   "cell_type": "code",
   "execution_count": 10,
   "metadata": {},
   "outputs": [
    {
     "data": {
      "text/plain": [
       "{'_shards': {'failed': 0, 'successful': 5, 'total': 5},\n",
       " 'hits': {'hits': [{'_id': '336',\n",
       "    '_index': 'search_v1',\n",
       "    '_score': 3.598687,\n",
       "    '_source': {'abstract': 'For some interactive clustering, check out the presentation given at the Oktoberfest 2017 RLadies Chicago meetup or the Shiny app built from the same data',\n",
       "     'blog_id': 336,\n",
       "     'prettyname': '/projects/2018/beer-in-hand-data-science',\n",
       "     'publish_date': '2099-01-01T00:00:00',\n",
       "     'title': 'Beer-in-Hand Data Science'},\n",
       "    '_type': 'blog'},\n",
       "   {'_id': '335',\n",
       "    '_index': 'search_v1',\n",
       "    '_score': 2.6939664,\n",
       "    '_source': {'abstract': 'For some interactive clustering, check out the presentation given at the Oktoberfest 2017 RLadies Chicago meetup or the Shiny app built from the same data',\n",
       "     'blog_id': 335,\n",
       "     'prettyname': '/projects/2018/beer-in-hand-data-science',\n",
       "     'publish_date': '2018-02-04T00:00:00',\n",
       "     'title': 'Beer-in-Hand Data Science'},\n",
       "    '_type': 'blog'},\n",
       "   {'_id': '338',\n",
       "    '_index': 'search_v1',\n",
       "    '_score': 2.6939664,\n",
       "    '_source': {'abstract': 'The main question this analysis is meant to tackle is: are beer styles actually indicative of shared attributes of the beers within that style? Or are style boundaries more or less arbitrary? Is an IPA an IPA because it\\x92s really distinguishable as such from other beers, or is it an IPA because that\\x92s what it says on the label? I took two approaches to answer this question: unsupervised clustering and supervised prediction.',\n",
       "     'blog_id': 338,\n",
       "     'prettyname': '/projects/2018/beer-in-hand-data-science',\n",
       "     'publish_date': '2018-02-05T00:00:00',\n",
       "     'title': 'Beer-in-Hand Data Science'},\n",
       "    '_type': 'blog'},\n",
       "   {'_id': '24',\n",
       "    '_index': 'search_v1',\n",
       "    '_score': 2.3662293,\n",
       "    '_source': {'abstract': \"This week I'm joined by Karl Mamer to discuss the data behind three well known urban legends.  \\nDid a large blackout in New York and surrounding areas result in a baby boom nine months later?  \\nDo subliminal messages affect our behavior?  Is placing beer alongside diapers a recipe for \\ngenerating more revenue than these products in separate locations?  Listen as Karl and I explore \\nthese cla\",\n",
       "     'blog_id': 24,\n",
       "     'prettyname': '/episodes/2014/urban-legends-with-karl-mamer',\n",
       "     'publish_date': '2014-10-10T00:00:00',\n",
       "     'title': 'Urban Legends with Karl Mamer'},\n",
       "    '_type': 'blog'}],\n",
       "  'max_score': 3.598687,\n",
       "  'total': 4},\n",
       " 'timed_out': False,\n",
       " 'took': 21}"
      ]
     },
     "execution_count": 10,
     "metadata": {},
     "output_type": "execute_result"
    }
   ],
   "source": [
    "es.search(index='search_v1',\n",
    "\t\t\t\t\tquery={\n",
    "\t\t\t\t\t  \"query\": {\n",
    "\t\t\t\t\t    \"multi_match\": {\n",
    "\t\t\t\t\t      \"query\": 'beer',\n",
    "\t\t\t\t\t      \"fields\": [\n",
    "\t\t\t\t\t        \"title\",\n",
    "\t\t\t\t\t        \"abstract\"\n",
    "\t\t\t\t\t      ]\n",
    "\t\t\t\t\t    }\n",
    "\t\t\t\t\t  },\n",
    "\t\t\t\t\t  \"_source\": {\n",
    "\t\t\t\t\t    \"includes\": [\n",
    "\t\t\t\t\t      \"blog_id\",\n",
    "\t\t\t\t\t      \"title\",\n",
    "\t\t\t\t\t      \"abstract\",\n",
    "\t\t\t\t\t      \"prettyname\",\n",
    "\t\t\t\t\t      \"publish_date\"\n",
    "\t\t\t\t\t    ]\n",
    "\t\t\t\t\t  }\n",
    "\t\t\t\t\t})"
   ]
  },
  {
   "cell_type": "code",
   "execution_count": null,
   "metadata": {},
   "outputs": [],
   "source": []
  },
  {
   "cell_type": "code",
   "execution_count": null,
   "metadata": {},
   "outputs": [],
   "source": []
  },
  {
   "cell_type": "code",
   "execution_count": null,
   "metadata": {},
   "outputs": [],
   "source": []
  },
  {
   "cell_type": "code",
   "execution_count": null,
   "metadata": {},
   "outputs": [],
   "source": []
  },
  {
   "cell_type": "code",
   "execution_count": null,
   "metadata": {},
   "outputs": [],
   "source": []
  }
 ],
 "metadata": {
  "kernelspec": {
   "display_name": "Python 3",
   "language": "python",
   "name": "python3"
  },
  "language_info": {
   "codemirror_mode": {
    "name": "ipython",
    "version": 3
   },
   "file_extension": ".py",
   "mimetype": "text/x-python",
   "name": "python",
   "nbconvert_exporter": "python",
   "pygments_lexer": "ipython3",
   "version": "3.6.4"
  }
 },
 "nbformat": 4,
 "nbformat_minor": 2
}
