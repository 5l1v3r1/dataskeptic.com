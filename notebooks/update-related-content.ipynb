{
 "cells": [
  {
   "cell_type": "code",
   "execution_count": 1,
   "metadata": {},
   "outputs": [],
   "source": [
    "import pandas as pd\n",
    "import numpy as np\n",
    "import json\n",
    "import requests\n",
    "import xmltodict\n",
    "import time\n",
    "import pickle\n",
    "import os\n",
    "import sqlalchemy\n",
    "import urllib.request\n",
    "from mutagen.mp3 import MP3"
   ]
  },
  {
   "cell_type": "code",
   "execution_count": 2,
   "metadata": {},
   "outputs": [],
   "source": [
    "config = json.load(open('../config.json', 'r'))"
   ]
  },
  {
   "cell_type": "code",
   "execution_count": 3,
   "metadata": {},
   "outputs": [],
   "source": [
    "user = config['db']['username']\n",
    "password = config['db']['password']\n",
    "host = config['db']['host']\n",
    "port = config['db']['port']\n",
    "dbname = config['db']['dbname']"
   ]
  },
  {
   "cell_type": "code",
   "execution_count": 4,
   "metadata": {},
   "outputs": [],
   "source": [
    "template = \"mysql+pymysql://{user}:{password}@{host}:{port}/{dbname}\"\n",
    "connection_string = template.format(user=user, password=password, host=host, port=port, dbname=dbname)"
   ]
  },
  {
   "cell_type": "code",
   "execution_count": 5,
   "metadata": {},
   "outputs": [],
   "source": [
    "conn = sqlalchemy.create_engine(connection_string, pool_size=1)"
   ]
  },
  {
   "cell_type": "code",
   "execution_count": 6,
   "metadata": {},
   "outputs": [],
   "source": [
    "fname = 'feed.xml'"
   ]
  },
  {
   "cell_type": "code",
   "execution_count": 7,
   "metadata": {},
   "outputs": [],
   "source": [
    "if os.path.isfile(fname):\n",
    "    os.remove(fname)"
   ]
  },
  {
   "cell_type": "code",
   "execution_count": 8,
   "metadata": {},
   "outputs": [
    {
     "name": "stdout",
     "output_type": "stream",
     "text": [
      "fetching\n"
     ]
    }
   ],
   "source": [
    "url = 'http://dataskeptic.com/feed.rss'\n",
    "url = 'http://dataskeptic.libsyn.com/rss'\n",
    "\n",
    "if not(os.path.isfile(fname)):\n",
    "    print('fetching')\n",
    "    r = requests.get(url)\n",
    "    f = open(fname, 'wb')\n",
    "    f.write(r.text.encode('utf-8'))\n",
    "    f.close()\n",
    "\n",
    "with open(fname) as fd:\n",
    "    xml = xmltodict.parse(fd.read())"
   ]
  },
  {
   "cell_type": "code",
   "execution_count": 9,
   "metadata": {},
   "outputs": [],
   "source": [
    "emap = {}\n",
    "episodes = xml['rss']['channel']['item']\n",
    "for episode in episodes:\n",
    "    guid = episode['guid']['#text']\n",
    "    url = episode['enclosure']['@url']\n",
    "    emap[guid] = url"
   ]
  },
  {
   "cell_type": "code",
   "execution_count": 10,
   "metadata": {},
   "outputs": [
    {
     "data": {
      "text/plain": [
       "220"
      ]
     },
     "execution_count": 10,
     "metadata": {},
     "output_type": "execute_result"
    }
   ],
   "source": [
    "len(episodes)"
   ]
  },
  {
   "cell_type": "code",
   "execution_count": 13,
   "metadata": {},
   "outputs": [],
   "source": [
    "q = \"\"\"\n",
    "SELECT t1.blog_id, prettyname, guid\n",
    " , t2.content_id as mp3_content, t3.content_id as homepage_content\n",
    " , t1.title, t1.abstract\n",
    "FROM blog t1\n",
    "LEFT JOIN related_content t2\n",
    " on t1.blog_id = t2.blog_id\n",
    " and t2.type='mp3'\n",
    "LEFT JOIN related_content t3\n",
    " on t1.blog_id = t3.blog_id\n",
    " and t3.type='homepage-image'\n",
    "WHERE t1.prettyname like '/episodes/%%'\n",
    "AND (t2.blog_id is NULL or t3.blog_id is null)\n",
    "LIMIT 10\n",
    "\"\"\"\n",
    "df = pd.read_sql(q, conn)"
   ]
  },
  {
   "cell_type": "code",
   "execution_count": 14,
   "metadata": {},
   "outputs": [
    {
     "data": {
      "text/plain": [
       "(1, 7)"
      ]
     },
     "execution_count": 14,
     "metadata": {},
     "output_type": "execute_result"
    }
   ],
   "source": [
    "df.shape"
   ]
  },
  {
   "cell_type": "code",
   "execution_count": 15,
   "metadata": {},
   "outputs": [
    {
     "data": {
      "text/html": [
       "<div>\n",
       "<style scoped>\n",
       "    .dataframe tbody tr th:only-of-type {\n",
       "        vertical-align: middle;\n",
       "    }\n",
       "\n",
       "    .dataframe tbody tr th {\n",
       "        vertical-align: top;\n",
       "    }\n",
       "\n",
       "    .dataframe thead th {\n",
       "        text-align: right;\n",
       "    }\n",
       "</style>\n",
       "<table border=\"1\" class=\"dataframe\">\n",
       "  <thead>\n",
       "    <tr style=\"text-align: right;\">\n",
       "      <th></th>\n",
       "      <th>blog_id</th>\n",
       "      <th>prettyname</th>\n",
       "      <th>guid</th>\n",
       "      <th>mp3_content</th>\n",
       "      <th>homepage_content</th>\n",
       "      <th>title</th>\n",
       "      <th>abstract</th>\n",
       "    </tr>\n",
       "  </thead>\n",
       "  <tbody>\n",
       "    <tr>\n",
       "      <th>0</th>\n",
       "      <td>393</td>\n",
       "      <td>/episodes/2018/discovering-blind-spots-in-rein...</td>\n",
       "      <td>a8feaf4664e54744b24e9950b9da50a5</td>\n",
       "      <td>None</td>\n",
       "      <td>None</td>\n",
       "      <td>Discovering Blind Spots in Reinforcement Learning</td>\n",
       "      <td>An intelligent agent trained in a simulated en...</td>\n",
       "    </tr>\n",
       "  </tbody>\n",
       "</table>\n",
       "</div>"
      ],
      "text/plain": [
       "   blog_id                                         prettyname  \\\n",
       "0      393  /episodes/2018/discovering-blind-spots-in-rein...   \n",
       "\n",
       "                               guid mp3_content homepage_content  \\\n",
       "0  a8feaf4664e54744b24e9950b9da50a5        None             None   \n",
       "\n",
       "                                               title  \\\n",
       "0  Discovering Blind Spots in Reinforcement Learning   \n",
       "\n",
       "                                            abstract  \n",
       "0  An intelligent agent trained in a simulated en...  "
      ]
     },
     "execution_count": 15,
     "metadata": {},
     "output_type": "execute_result"
    }
   ],
   "source": [
    "df"
   ]
  },
  {
   "cell_type": "code",
   "execution_count": 16,
   "metadata": {},
   "outputs": [],
   "source": [
    "tpl = \"\"\"\n",
    "INSERT INTO related_content (blog_id, dest, type, title, body, duration) VALUES \n",
    "({blog_id}, '{dest}', '{type}', '{title}', '{body}', {duration})\n",
    "\"\"\""
   ]
  },
  {
   "cell_type": "code",
   "execution_count": 17,
   "metadata": {},
   "outputs": [],
   "source": [
    "for r in range(df.shape[0]):\n",
    "    row = df.iloc[r]\n",
    "    blog_id = row['blog_id']\n",
    "    guid = row['guid']\n",
    "    title = row['title'].replace(\"'\", \"\\\\'\")\n",
    "    body = row['abstract'].replace(\"'\", \"\\\\'\")\n",
    "    if guid in emap:\n",
    "        dest = emap[guid]\n",
    "        response = urllib.request.urlopen(dest)\n",
    "        data = response.read()\n",
    "        fname = 'temp.mp3'\n",
    "        f = open(fname, 'wb')\n",
    "        f.write(data)\n",
    "        f.close()\n",
    "        audio = MP3(fname)\n",
    "        duration = int(audio.info.length)\n",
    "        q1 = tpl.format(blog_id=blog_id, dest=dest, type='mp3', title=title, body=body, duration=duration)\n",
    "        r1 = conn.execute(q1)\n",
    "        dest = 'https://s3.amazonaws.com/dataskeptic.com/img/2018/ai-cover.png'\n",
    "        q2 = tpl.format(blog_id=blog_id, dest=dest, type='homepage-image', title=title, body=body, duration=-1)\n",
    "        r2 = conn.execute(q2)"
   ]
  },
  {
   "cell_type": "code",
   "execution_count": 18,
   "metadata": {},
   "outputs": [],
   "source": [
    "#conn.execute(\"delete from related_content where blog_id=382\")"
   ]
  },
  {
   "cell_type": "code",
   "execution_count": 23,
   "metadata": {},
   "outputs": [
    {
     "data": {
      "text/plain": [
       "'/episodes/2018/discovering-blind-spots-in-reinforcement-learning'"
      ]
     },
     "execution_count": 23,
     "metadata": {},
     "output_type": "execute_result"
    }
   ],
   "source": [
    "pd.read_sql(\"SELECT prettyname from blog order by blog_id desc limit 2\", conn).iloc[0]['prettyname']"
   ]
  },
  {
   "cell_type": "code",
   "execution_count": 19,
   "metadata": {},
   "outputs": [
    {
     "data": {
      "text/html": [
       "<div>\n",
       "<style scoped>\n",
       "    .dataframe tbody tr th:only-of-type {\n",
       "        vertical-align: middle;\n",
       "    }\n",
       "\n",
       "    .dataframe tbody tr th {\n",
       "        vertical-align: top;\n",
       "    }\n",
       "\n",
       "    .dataframe thead th {\n",
       "        text-align: right;\n",
       "    }\n",
       "</style>\n",
       "<table border=\"1\" class=\"dataframe\">\n",
       "  <thead>\n",
       "    <tr style=\"text-align: right;\">\n",
       "      <th></th>\n",
       "      <th>content_id</th>\n",
       "      <th>blog_id</th>\n",
       "      <th>dest</th>\n",
       "      <th>type</th>\n",
       "      <th>title</th>\n",
       "      <th>body</th>\n",
       "      <th>created_date</th>\n",
       "      <th>blog_id2</th>\n",
       "      <th>duration</th>\n",
       "    </tr>\n",
       "  </thead>\n",
       "  <tbody>\n",
       "    <tr>\n",
       "      <th>0</th>\n",
       "      <td>684</td>\n",
       "      <td>393</td>\n",
       "      <td>https://s3.amazonaws.com/dataskeptic.com/img/2...</td>\n",
       "      <td>homepage-image</td>\n",
       "      <td>Discovering Blind Spots in Reinforcement Learning</td>\n",
       "      <td>An intelligent agent trained in a simulated en...</td>\n",
       "      <td>2018-06-29 15:36:18</td>\n",
       "      <td>NaN</td>\n",
       "      <td>-1.0</td>\n",
       "    </tr>\n",
       "    <tr>\n",
       "      <th>1</th>\n",
       "      <td>683</td>\n",
       "      <td>393</td>\n",
       "      <td>http://traffic.libsyn.com/dataskeptic/blind-sp...</td>\n",
       "      <td>mp3</td>\n",
       "      <td>Discovering Blind Spots in Reinforcement Learning</td>\n",
       "      <td>An intelligent agent trained in a simulated en...</td>\n",
       "      <td>2018-06-29 15:36:18</td>\n",
       "      <td>NaN</td>\n",
       "      <td>1654.0</td>\n",
       "    </tr>\n",
       "    <tr>\n",
       "      <th>2</th>\n",
       "      <td>682</td>\n",
       "      <td>390</td>\n",
       "      <td>https://s3.amazonaws.com/dataskeptic.com/guest...</td>\n",
       "      <td>person</td>\n",
       "      <td>Gokula Krishnan Santhanam</td>\n",
       "      <td>Gokula Krishnan Santhanam is currently a maste...</td>\n",
       "      <td>2018-06-22 16:39:54</td>\n",
       "      <td>-1.0</td>\n",
       "      <td>NaN</td>\n",
       "    </tr>\n",
       "    <tr>\n",
       "      <th>3</th>\n",
       "      <td>681</td>\n",
       "      <td>390</td>\n",
       "      <td>https://s3.amazonaws.com/dataskeptic.com/img/2...</td>\n",
       "      <td>homepage-image</td>\n",
       "      <td>Defending Against Adversarial Attacks</td>\n",
       "      <td>In this weeks episode, our host Kyle intervie...</td>\n",
       "      <td>2018-06-22 16:29:59</td>\n",
       "      <td>NaN</td>\n",
       "      <td>-1.0</td>\n",
       "    </tr>\n",
       "    <tr>\n",
       "      <th>4</th>\n",
       "      <td>680</td>\n",
       "      <td>390</td>\n",
       "      <td>http://traffic.libsyn.com/dataskeptic/defendin...</td>\n",
       "      <td>mp3</td>\n",
       "      <td>Defending Against Adversarial Attacks</td>\n",
       "      <td>In this weeks episode, our host Kyle intervie...</td>\n",
       "      <td>2018-06-22 16:29:59</td>\n",
       "      <td>NaN</td>\n",
       "      <td>1888.0</td>\n",
       "    </tr>\n",
       "    <tr>\n",
       "      <th>5</th>\n",
       "      <td>679</td>\n",
       "      <td>392</td>\n",
       "      <td>https://s3.amazonaws.com/dataskeptic.com/img/2...</td>\n",
       "      <td>homepage-image</td>\n",
       "      <td>Transfer Learning</td>\n",
       "      <td>On a long car ride, Linhda and Kyle record a s...</td>\n",
       "      <td>2018-06-15 15:24:03</td>\n",
       "      <td>NaN</td>\n",
       "      <td>-1.0</td>\n",
       "    </tr>\n",
       "    <tr>\n",
       "      <th>6</th>\n",
       "      <td>678</td>\n",
       "      <td>392</td>\n",
       "      <td>http://traffic.libsyn.com/dataskeptic/transfer...</td>\n",
       "      <td>mp3</td>\n",
       "      <td>Transfer Learning</td>\n",
       "      <td>On a long car ride, Linhda and Kyle record a s...</td>\n",
       "      <td>2018-06-15 15:24:02</td>\n",
       "      <td>NaN</td>\n",
       "      <td>1083.0</td>\n",
       "    </tr>\n",
       "    <tr>\n",
       "      <th>7</th>\n",
       "      <td>677</td>\n",
       "      <td>391</td>\n",
       "      <td>https://s3.amazonaws.com/dataskeptic.com/img/2...</td>\n",
       "      <td>homepage-image</td>\n",
       "      <td>Medical Imaging Training Techniques</td>\n",
       "      <td>Medical imaging is a highly effective tool use...</td>\n",
       "      <td>2018-06-08 17:39:12</td>\n",
       "      <td>NaN</td>\n",
       "      <td>-1.0</td>\n",
       "    </tr>\n",
       "    <tr>\n",
       "      <th>8</th>\n",
       "      <td>676</td>\n",
       "      <td>391</td>\n",
       "      <td>http://traffic.libsyn.com/dataskeptic/medical-...</td>\n",
       "      <td>mp3</td>\n",
       "      <td>Medical Imaging Training Techniques</td>\n",
       "      <td>Medical imaging is a highly effective tool use...</td>\n",
       "      <td>2018-06-08 17:39:12</td>\n",
       "      <td>NaN</td>\n",
       "      <td>1520.0</td>\n",
       "    </tr>\n",
       "    <tr>\n",
       "      <th>9</th>\n",
       "      <td>675</td>\n",
       "      <td>391</td>\n",
       "      <td>https://s3.amazonaws.com/dataskeptic.com/guest...</td>\n",
       "      <td>person</td>\n",
       "      <td>Gabriel Maicas</td>\n",
       "      <td>Gabriel Maicas is currently a Ph.D. candidate ...</td>\n",
       "      <td>2018-06-08 16:37:21</td>\n",
       "      <td>-1.0</td>\n",
       "      <td>NaN</td>\n",
       "    </tr>\n",
       "  </tbody>\n",
       "</table>\n",
       "</div>"
      ],
      "text/plain": [
       "   content_id  blog_id                                               dest  \\\n",
       "0         684      393  https://s3.amazonaws.com/dataskeptic.com/img/2...   \n",
       "1         683      393  http://traffic.libsyn.com/dataskeptic/blind-sp...   \n",
       "2         682      390  https://s3.amazonaws.com/dataskeptic.com/guest...   \n",
       "3         681      390  https://s3.amazonaws.com/dataskeptic.com/img/2...   \n",
       "4         680      390  http://traffic.libsyn.com/dataskeptic/defendin...   \n",
       "5         679      392  https://s3.amazonaws.com/dataskeptic.com/img/2...   \n",
       "6         678      392  http://traffic.libsyn.com/dataskeptic/transfer...   \n",
       "7         677      391  https://s3.amazonaws.com/dataskeptic.com/img/2...   \n",
       "8         676      391  http://traffic.libsyn.com/dataskeptic/medical-...   \n",
       "9         675      391  https://s3.amazonaws.com/dataskeptic.com/guest...   \n",
       "\n",
       "             type                                              title  \\\n",
       "0  homepage-image  Discovering Blind Spots in Reinforcement Learning   \n",
       "1             mp3  Discovering Blind Spots in Reinforcement Learning   \n",
       "2          person                          Gokula Krishnan Santhanam   \n",
       "3  homepage-image              Defending Against Adversarial Attacks   \n",
       "4             mp3              Defending Against Adversarial Attacks   \n",
       "5  homepage-image                                  Transfer Learning   \n",
       "6             mp3                                  Transfer Learning   \n",
       "7  homepage-image                Medical Imaging Training Techniques   \n",
       "8             mp3                Medical Imaging Training Techniques   \n",
       "9          person                                     Gabriel Maicas   \n",
       "\n",
       "                                                body        created_date  \\\n",
       "0  An intelligent agent trained in a simulated en... 2018-06-29 15:36:18   \n",
       "1  An intelligent agent trained in a simulated en... 2018-06-29 15:36:18   \n",
       "2  Gokula Krishnan Santhanam is currently a maste... 2018-06-22 16:39:54   \n",
       "3  In this weeks episode, our host Kyle intervie... 2018-06-22 16:29:59   \n",
       "4  In this weeks episode, our host Kyle intervie... 2018-06-22 16:29:59   \n",
       "5  On a long car ride, Linhda and Kyle record a s... 2018-06-15 15:24:03   \n",
       "6  On a long car ride, Linhda and Kyle record a s... 2018-06-15 15:24:02   \n",
       "7  Medical imaging is a highly effective tool use... 2018-06-08 17:39:12   \n",
       "8  Medical imaging is a highly effective tool use... 2018-06-08 17:39:12   \n",
       "9  Gabriel Maicas is currently a Ph.D. candidate ... 2018-06-08 16:37:21   \n",
       "\n",
       "   blog_id2  duration  \n",
       "0       NaN      -1.0  \n",
       "1       NaN    1654.0  \n",
       "2      -1.0       NaN  \n",
       "3       NaN      -1.0  \n",
       "4       NaN    1888.0  \n",
       "5       NaN      -1.0  \n",
       "6       NaN    1083.0  \n",
       "7       NaN      -1.0  \n",
       "8       NaN    1520.0  \n",
       "9      -1.0       NaN  "
      ]
     },
     "execution_count": 19,
     "metadata": {},
     "output_type": "execute_result"
    }
   ],
   "source": [
    "pd.read_sql(\"SELECT * from related_content order by content_id desc limit 10\", conn)"
   ]
  },
  {
   "cell_type": "code",
   "execution_count": null,
   "metadata": {},
   "outputs": [],
   "source": []
  }
 ],
 "metadata": {
  "kernelspec": {
   "display_name": "Python 3",
   "language": "python",
   "name": "python3"
  },
  "language_info": {
   "codemirror_mode": {
    "name": "ipython",
    "version": 3
   },
   "file_extension": ".py",
   "mimetype": "text/x-python",
   "name": "python",
   "nbconvert_exporter": "python",
   "pygments_lexer": "ipython3",
   "version": "3.6.5"
  }
 },
 "nbformat": 4,
 "nbformat_minor": 2
}
