{
 "cells": [
  {
   "cell_type": "code",
   "execution_count": 4,
   "metadata": {},
   "outputs": [],
   "source": [
    "import pandas as pd\n",
    "import numpy as np\n",
    "import json\n",
    "import requests\n",
    "import xmltodict\n",
    "import time\n",
    "import pickle\n",
    "import os\n",
    "import sqlalchemy\n",
    "import urllib.request\n",
    "from mutagen.mp3 import MP3"
   ]
  },
  {
   "cell_type": "code",
   "execution_count": 5,
   "metadata": {},
   "outputs": [],
   "source": [
    "config = json.load(open('../config.json', 'r'))"
   ]
  },
  {
   "cell_type": "code",
   "execution_count": 6,
   "metadata": {},
   "outputs": [],
   "source": [
    "user = config['db']['username']\n",
    "password = config['db']['password']\n",
    "host = config['db']['host']\n",
    "port = config['db']['port']\n",
    "dbname = config['db']['dbname']"
   ]
  },
  {
   "cell_type": "code",
   "execution_count": 7,
   "metadata": {},
   "outputs": [],
   "source": [
    "template = \"mysql+pymysql://{user}:{password}@{host}:{port}/{dbname}\"\n",
    "connection_string = template.format(user=user, password=password, host=host, port=port, dbname=dbname)"
   ]
  },
  {
   "cell_type": "code",
   "execution_count": 8,
   "metadata": {},
   "outputs": [],
   "source": [
    "conn = sqlalchemy.create_engine(connection_string, pool_size=1)"
   ]
  },
  {
   "cell_type": "code",
   "execution_count": 21,
   "metadata": {},
   "outputs": [],
   "source": [
    "if os.path.isfile(fname):\n",
    "    os.remove(fname)"
   ]
  },
  {
   "cell_type": "code",
   "execution_count": 22,
   "metadata": {},
   "outputs": [
    {
     "name": "stdout",
     "output_type": "stream",
     "text": [
      "fetching\n"
     ]
    }
   ],
   "source": [
    "fname = 'feed.xml'\n",
    "url = 'http://dataskeptic.com/feed.rss'\n",
    "\n",
    "if not(os.path.isfile(fname)):\n",
    "    print('fetching')\n",
    "    r = requests.get(url)\n",
    "    f = open(fname, 'wb')\n",
    "    f.write(r.text.encode('utf-8'))\n",
    "    f.close()\n",
    "\n",
    "with open(fname) as fd:\n",
    "    xml = xmltodict.parse(fd.read())"
   ]
  },
  {
   "cell_type": "code",
   "execution_count": 23,
   "metadata": {},
   "outputs": [],
   "source": [
    "emap = {}\n",
    "episodes = xml['rss']['channel']['item']\n",
    "for episode in episodes:\n",
    "    guid = episode['guid']['#text']\n",
    "    url = episode['enclosure']['@url']\n",
    "    emap[guid] = url"
   ]
  },
  {
   "cell_type": "code",
   "execution_count": 31,
   "metadata": {},
   "outputs": [],
   "source": [
    "q = \"\"\"\n",
    "SELECT t1.blog_id, prettyname, guid\n",
    " , t2.content_id as mp3_content, t3.content_id as homepage_content\n",
    " , t1.title, t1.abstract\n",
    "FROM blog t1\n",
    "LEFT JOIN related_content t2\n",
    " on t1.blog_id = t2.blog_id\n",
    " and t2.type='mp3'\n",
    "LEFT JOIN related_content t3\n",
    " on t1.blog_id = t3.blog_id\n",
    " and t3.type='homepage-image'\n",
    "WHERE t1.prettyname like '/episodes/%%'\n",
    "AND (t2.blog_id is NULL or t3.blog_id is null)\n",
    "LIMIT 10\n",
    "\"\"\"\n",
    "df = pd.read_sql(q, conn)"
   ]
  },
  {
   "cell_type": "code",
   "execution_count": 32,
   "metadata": {},
   "outputs": [
    {
     "data": {
      "text/plain": [
       "(1, 7)"
      ]
     },
     "execution_count": 32,
     "metadata": {},
     "output_type": "execute_result"
    }
   ],
   "source": [
    "df.shape"
   ]
  },
  {
   "cell_type": "code",
   "execution_count": 28,
   "metadata": {},
   "outputs": [],
   "source": [
    "tpl = \"\"\"\n",
    "INSERT INTO related_content (blog_id, dest, type, title, body, duration) VALUES \n",
    "({blog_id}, '{dest}', '{type}', '{title}', '{body}', {duration})\n",
    "\"\"\""
   ]
  },
  {
   "cell_type": "code",
   "execution_count": 34,
   "metadata": {},
   "outputs": [
    {
     "data": {
      "text/plain": [
       "'http://traffic.libsyn.com/dataskeptic/ai-in-games-master.mp3?dest-id=201630'"
      ]
     },
     "execution_count": 34,
     "metadata": {},
     "output_type": "execute_result"
    }
   ],
   "source": [
    "dest"
   ]
  },
  {
   "cell_type": "code",
   "execution_count": 35,
   "metadata": {},
   "outputs": [],
   "source": [
    "for r in range(df.shape[0]):\n",
    "    row = df.iloc[r]\n",
    "    blog_id = row['blog_id']\n",
    "    guid = row['guid']\n",
    "    title = row['title'].replace(\"'\", \"\\\\'\")\n",
    "    body = row['abstract'].replace(\"'\", \"\\\\'\")\n",
    "    dest = emap[guid]\n",
    "    response = urllib.request.urlopen(dest)\n",
    "    data = response.read()\n",
    "    fname = 'temp.mp3'\n",
    "    f = open(fname, 'wb')\n",
    "    f.write(data)\n",
    "    f.close()\n",
    "    audio = MP3(fname)\n",
    "    duration = int(audio.info.length)\n",
    "    q1 = tpl.format(blog_id=blog_id, dest=dest, type='mp3', title=title, body=body, duration=duration)\n",
    "    r1 = conn.execute(q1)\n",
    "    dest = 'https://s3.amazonaws.com/dataskeptic.com/img/2018/ai-cover.png'\n",
    "    q2 = tpl.format(blog_id=blog_id, dest=dest, type='homepage-image', title=title, body=body, duration=-1)\n",
    "    r2 = conn.execute(q2)"
   ]
  },
  {
   "cell_type": "code",
   "execution_count": 54,
   "metadata": {},
   "outputs": [],
   "source": [
    "#conn.execute(\"delete from related_content where blog_id=382\")"
   ]
  },
  {
   "cell_type": "code",
   "execution_count": 36,
   "metadata": {},
   "outputs": [
    {
     "data": {
      "text/html": [
       "<div>\n",
       "<style scoped>\n",
       "    .dataframe tbody tr th:only-of-type {\n",
       "        vertical-align: middle;\n",
       "    }\n",
       "\n",
       "    .dataframe tbody tr th {\n",
       "        vertical-align: top;\n",
       "    }\n",
       "\n",
       "    .dataframe thead th {\n",
       "        text-align: right;\n",
       "    }\n",
       "</style>\n",
       "<table border=\"1\" class=\"dataframe\">\n",
       "  <thead>\n",
       "    <tr style=\"text-align: right;\">\n",
       "      <th></th>\n",
       "      <th>content_id</th>\n",
       "      <th>blog_id</th>\n",
       "      <th>dest</th>\n",
       "      <th>type</th>\n",
       "      <th>title</th>\n",
       "      <th>body</th>\n",
       "      <th>created_date</th>\n",
       "      <th>blog_id2</th>\n",
       "      <th>duration</th>\n",
       "    </tr>\n",
       "  </thead>\n",
       "  <tbody>\n",
       "    <tr>\n",
       "      <th>0</th>\n",
       "      <td>664</td>\n",
       "      <td>385</td>\n",
       "      <td>https://s3.amazonaws.com/dataskeptic.com/img/2...</td>\n",
       "      <td>homepage-image</td>\n",
       "      <td>AI in Games</td>\n",
       "      <td>Today's interview is with the authors of the t...</td>\n",
       "      <td>2018-05-18 13:09:38</td>\n",
       "      <td>NaN</td>\n",
       "      <td>-1.0</td>\n",
       "    </tr>\n",
       "    <tr>\n",
       "      <th>1</th>\n",
       "      <td>663</td>\n",
       "      <td>385</td>\n",
       "      <td>http://traffic.libsyn.com/dataskeptic/ai-in-ga...</td>\n",
       "      <td>mp3</td>\n",
       "      <td>AI in Games</td>\n",
       "      <td>Today's interview is with the authors of the t...</td>\n",
       "      <td>2018-05-18 13:09:35</td>\n",
       "      <td>NaN</td>\n",
       "      <td>1557.0</td>\n",
       "    </tr>\n",
       "    <tr>\n",
       "      <th>2</th>\n",
       "      <td>662</td>\n",
       "      <td>384</td>\n",
       "      <td>https://s3.amazonaws.com/dataskeptic.com/img/2...</td>\n",
       "      <td>homepage-image</td>\n",
       "      <td>Game Theory</td>\n",
       "      <td>This week's episode is a short primer on game ...</td>\n",
       "      <td>2018-05-11 18:38:35</td>\n",
       "      <td>NaN</td>\n",
       "      <td>-1.0</td>\n",
       "    </tr>\n",
       "    <tr>\n",
       "      <th>3</th>\n",
       "      <td>661</td>\n",
       "      <td>384</td>\n",
       "      <td>http://traffic.libsyn.com/dataskeptic/game-the...</td>\n",
       "      <td>mp3</td>\n",
       "      <td>Game Theory</td>\n",
       "      <td>This week's episode is a short primer on game ...</td>\n",
       "      <td>2018-05-11 18:38:34</td>\n",
       "      <td>NaN</td>\n",
       "      <td>1450.0</td>\n",
       "    </tr>\n",
       "    <tr>\n",
       "      <th>4</th>\n",
       "      <td>660</td>\n",
       "      <td>383</td>\n",
       "      <td>https://s3.amazonaws.com/dataskeptic.com/img/2...</td>\n",
       "      <td>homepage-image</td>\n",
       "      <td>Ethical AI at Microsoft Build 2018</td>\n",
       "      <td></td>\n",
       "      <td>2018-05-07 17:31:12</td>\n",
       "      <td>-1.0</td>\n",
       "      <td>NaN</td>\n",
       "    </tr>\n",
       "    <tr>\n",
       "      <th>5</th>\n",
       "      <td>659</td>\n",
       "      <td>382</td>\n",
       "      <td>https://s3.amazonaws.com/dataskeptic.com/img/2...</td>\n",
       "      <td>homepage-image</td>\n",
       "      <td>The Experimental Design of Paranormal Claims</td>\n",
       "      <td>In this episode of Data Skeptic, Kyle chats wi...</td>\n",
       "      <td>2018-05-04 16:36:31</td>\n",
       "      <td>NaN</td>\n",
       "      <td>-1.0</td>\n",
       "    </tr>\n",
       "    <tr>\n",
       "      <th>6</th>\n",
       "      <td>658</td>\n",
       "      <td>382</td>\n",
       "      <td>http://traffic.libsyn.com/dataskeptic/the-expe...</td>\n",
       "      <td>mp3</td>\n",
       "      <td>The Experimental Design of Paranormal Claims</td>\n",
       "      <td>In this episode of Data Skeptic, Kyle chats wi...</td>\n",
       "      <td>2018-05-04 16:36:31</td>\n",
       "      <td>NaN</td>\n",
       "      <td>1651.0</td>\n",
       "    </tr>\n",
       "    <tr>\n",
       "      <th>7</th>\n",
       "      <td>653</td>\n",
       "      <td>370</td>\n",
       "      <td></td>\n",
       "      <td>internal-link</td>\n",
       "      <td>Part 2</td>\n",
       "      <td>Listen to the next segment!</td>\n",
       "      <td>2018-05-03 00:03:34</td>\n",
       "      <td>371.0</td>\n",
       "      <td>NaN</td>\n",
       "    </tr>\n",
       "    <tr>\n",
       "      <th>8</th>\n",
       "      <td>652</td>\n",
       "      <td>380</td>\n",
       "      <td>https://s3.amazonaws.com/dataskeptic.com/guest...</td>\n",
       "      <td>person</td>\n",
       "      <td>Hector Levesque</td>\n",
       "      <td>Hector Levesque holds a PhD in computer scienc...</td>\n",
       "      <td>2018-04-30 03:17:17</td>\n",
       "      <td>-1.0</td>\n",
       "      <td>NaN</td>\n",
       "    </tr>\n",
       "    <tr>\n",
       "      <th>9</th>\n",
       "      <td>651</td>\n",
       "      <td>381</td>\n",
       "      <td>https://s3.amazonaws.com/dataskeptic.com/img/2...</td>\n",
       "      <td>homepage-image</td>\n",
       "      <td>Table tennis robot trained with reinforcement ...</td>\n",
       "      <td></td>\n",
       "      <td>2018-04-30 01:57:53</td>\n",
       "      <td>-1.0</td>\n",
       "      <td>NaN</td>\n",
       "    </tr>\n",
       "  </tbody>\n",
       "</table>\n",
       "</div>"
      ],
      "text/plain": [
       "   content_id  blog_id                                               dest  \\\n",
       "0         664      385  https://s3.amazonaws.com/dataskeptic.com/img/2...   \n",
       "1         663      385  http://traffic.libsyn.com/dataskeptic/ai-in-ga...   \n",
       "2         662      384  https://s3.amazonaws.com/dataskeptic.com/img/2...   \n",
       "3         661      384  http://traffic.libsyn.com/dataskeptic/game-the...   \n",
       "4         660      383  https://s3.amazonaws.com/dataskeptic.com/img/2...   \n",
       "5         659      382  https://s3.amazonaws.com/dataskeptic.com/img/2...   \n",
       "6         658      382  http://traffic.libsyn.com/dataskeptic/the-expe...   \n",
       "7         653      370                                                      \n",
       "8         652      380  https://s3.amazonaws.com/dataskeptic.com/guest...   \n",
       "9         651      381  https://s3.amazonaws.com/dataskeptic.com/img/2...   \n",
       "\n",
       "             type                                              title  \\\n",
       "0  homepage-image                                        AI in Games   \n",
       "1             mp3                                        AI in Games   \n",
       "2  homepage-image                                        Game Theory   \n",
       "3             mp3                                        Game Theory   \n",
       "4  homepage-image                 Ethical AI at Microsoft Build 2018   \n",
       "5  homepage-image       The Experimental Design of Paranormal Claims   \n",
       "6             mp3       The Experimental Design of Paranormal Claims   \n",
       "7   internal-link                                             Part 2   \n",
       "8          person                                    Hector Levesque   \n",
       "9  homepage-image  Table tennis robot trained with reinforcement ...   \n",
       "\n",
       "                                                body        created_date  \\\n",
       "0  Today's interview is with the authors of the t... 2018-05-18 13:09:38   \n",
       "1  Today's interview is with the authors of the t... 2018-05-18 13:09:35   \n",
       "2  This week's episode is a short primer on game ... 2018-05-11 18:38:35   \n",
       "3  This week's episode is a short primer on game ... 2018-05-11 18:38:34   \n",
       "4                                                    2018-05-07 17:31:12   \n",
       "5  In this episode of Data Skeptic, Kyle chats wi... 2018-05-04 16:36:31   \n",
       "6  In this episode of Data Skeptic, Kyle chats wi... 2018-05-04 16:36:31   \n",
       "7                        Listen to the next segment! 2018-05-03 00:03:34   \n",
       "8  Hector Levesque holds a PhD in computer scienc... 2018-04-30 03:17:17   \n",
       "9                                                    2018-04-30 01:57:53   \n",
       "\n",
       "   blog_id2  duration  \n",
       "0       NaN      -1.0  \n",
       "1       NaN    1557.0  \n",
       "2       NaN      -1.0  \n",
       "3       NaN    1450.0  \n",
       "4      -1.0       NaN  \n",
       "5       NaN      -1.0  \n",
       "6       NaN    1651.0  \n",
       "7     371.0       NaN  \n",
       "8      -1.0       NaN  \n",
       "9      -1.0       NaN  "
      ]
     },
     "execution_count": 36,
     "metadata": {},
     "output_type": "execute_result"
    }
   ],
   "source": [
    "pd.read_sql(\"SELECT * from related_content order by content_id desc limit 10\", conn)"
   ]
  }
 ],
 "metadata": {
  "kernelspec": {
   "display_name": "Python 3",
   "language": "python",
   "name": "python3"
  },
  "language_info": {
   "codemirror_mode": {
    "name": "ipython",
    "version": 3
   },
   "file_extension": ".py",
   "mimetype": "text/x-python",
   "name": "python",
   "nbconvert_exporter": "python",
   "pygments_lexer": "ipython3",
   "version": "3.6.5"
  }
 },
 "nbformat": 4,
 "nbformat_minor": 2
}
