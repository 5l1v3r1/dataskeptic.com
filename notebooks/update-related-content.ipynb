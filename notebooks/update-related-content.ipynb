{
 "cells": [
  {
   "cell_type": "code",
   "execution_count": 60,
   "metadata": {},
   "outputs": [],
   "source": [
    "import pandas as pd\n",
    "import numpy as np\n",
    "import json\n",
    "import requests\n",
    "import xmltodict\n",
    "import time\n",
    "import pickle\n",
    "import os\n",
    "import sqlalchemy\n",
    "import urllib.request\n",
    "from mutagen.mp3 import MP3"
   ]
  },
  {
   "cell_type": "code",
   "execution_count": 9,
   "metadata": {},
   "outputs": [],
   "source": [
    "config = json.load(open('config.json', 'r'))"
   ]
  },
  {
   "cell_type": "code",
   "execution_count": 12,
   "metadata": {},
   "outputs": [],
   "source": [
    "user = config['db']['username']\n",
    "password = config['db']['password']\n",
    "host = config['db']['host']\n",
    "port = config['db']['port']\n",
    "dbname = config['db']['dbname']"
   ]
  },
  {
   "cell_type": "code",
   "execution_count": 13,
   "metadata": {},
   "outputs": [],
   "source": [
    "template = \"mysql+pymysql://{user}:{password}@{host}:{port}/{dbname}\"\n",
    "connection_string = template.format(user=user, password=password, host=host, port=port, dbname=dbname)"
   ]
  },
  {
   "cell_type": "code",
   "execution_count": 15,
   "metadata": {},
   "outputs": [],
   "source": [
    "conn = sqlalchemy.create_engine(connection_string, pool_size=1)"
   ]
  },
  {
   "cell_type": "code",
   "execution_count": 19,
   "metadata": {},
   "outputs": [
    {
     "name": "stdout",
     "output_type": "stream",
     "text": [
      "fetching\n"
     ]
    }
   ],
   "source": [
    "fname = 'feed.xml'\n",
    "url = 'http://dataskeptic.com/feed.rss'\n",
    "\n",
    "if not(os.path.isfile(fname)):\n",
    "    print('fetching')\n",
    "    r = requests.get(url)\n",
    "    f = open(fname, 'wb')\n",
    "    f.write(r.text.encode('utf-8'))\n",
    "    f.close()\n",
    "\n",
    "with open(fname) as fd:\n",
    "    xml = xmltodict.parse(fd.read())"
   ]
  },
  {
   "cell_type": "code",
   "execution_count": 52,
   "metadata": {},
   "outputs": [],
   "source": [
    "emap = {}\n",
    "episodes = xml['rss']['channel']['item']\n",
    "for episode in episodes:\n",
    "    guid = episode['guid']['#text']\n",
    "    url = episode['enclosure']['@url']\n",
    "    emap[guid] = url"
   ]
  },
  {
   "cell_type": "code",
   "execution_count": 47,
   "metadata": {},
   "outputs": [],
   "source": [
    "q = \"\"\"\n",
    "SELECT t1.blog_id, prettyname, guid\n",
    " , t2.content_id as mp3_content, t3.content_id as homepage_content\n",
    " , t1.title, t1.abstract\n",
    "FROM blog t1\n",
    "LEFT JOIN related_content t2\n",
    " on t1.blog_id = t2.blog_id\n",
    " and t2.type='mp3'\n",
    "LEFT JOIN related_content t3\n",
    " on t1.blog_id = t3.blog_id\n",
    " and t3.type='homepage-image'\n",
    "WHERE t1.prettyname like '/episodes/%%'\n",
    "AND (t2.blog_id is NULL or t3.blog_id is null)\n",
    "LIMIT 10\n",
    "\"\"\"\n",
    "df = pd.read_sql(q, conn)"
   ]
  },
  {
   "cell_type": "code",
   "execution_count": 61,
   "metadata": {},
   "outputs": [],
   "source": [
    "response = urllib.request.urlopen(dest)"
   ]
  },
  {
   "cell_type": "code",
   "execution_count": 63,
   "metadata": {},
   "outputs": [],
   "source": [
    "for r in range(df.shape[0]):\n",
    "    row = df.iloc[r]\n",
    "    blog_id = row['blog_id']\n",
    "    guid = row['guid']\n",
    "    title = row['title']\n",
    "    body = row['abstract']\n",
    "    dest = emap[guid]\n",
    "    response = urllib.request.urlopen(dest)\n",
    "    data = response.read()\n",
    "    fname = 'temp.mp3'\n",
    "    f = open(fname, 'wb')\n",
    "    f.write(data)\n",
    "    f.close()\n",
    "    audio = MP3(fname)\n",
    "    duration = int(audio.info.length)\n",
    "    q1 = tpl.format(blog_id=blog_id, dest=dest, type='mp3', title=title, body=body, duration=duration)\n",
    "    conn.execute(q1)\n",
    "    dest = 'https://s3.amazonaws.com/dataskeptic.com/img/2018/ai-cover.png'\n",
    "    q2 = tpl.format(blog_id=blog_id, dest=dest, type='homepage-image', title=title, body=body, duration=-1)\n",
    "    conn.execute(q2)"
   ]
  },
  {
   "cell_type": "code",
   "execution_count": null,
   "metadata": {},
   "outputs": [],
   "source": []
  }
 ],
 "metadata": {
  "kernelspec": {
   "display_name": "Python 3",
   "language": "python",
   "name": "python3"
  },
  "language_info": {
   "codemirror_mode": {
    "name": "ipython",
    "version": 3
   },
   "file_extension": ".py",
   "mimetype": "text/x-python",
   "name": "python",
   "nbconvert_exporter": "python",
   "pygments_lexer": "ipython3",
   "version": "3.6.4"
  }
 },
 "nbformat": 4,
 "nbformat_minor": 2
}
