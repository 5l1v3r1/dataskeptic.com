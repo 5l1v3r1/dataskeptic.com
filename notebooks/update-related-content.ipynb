{
 "cells": [
  {
   "cell_type": "code",
   "execution_count": 1,
   "metadata": {},
   "outputs": [],
   "source": [
    "import pandas as pd\n",
    "import numpy as np\n",
    "import json\n",
    "import requests\n",
    "import xmltodict\n",
    "import time\n",
    "import pickle\n",
    "import os\n",
    "import sqlalchemy\n",
    "import urllib.request\n",
    "from mutagen.mp3 import MP3"
   ]
  },
  {
   "cell_type": "code",
   "execution_count": 2,
   "metadata": {},
   "outputs": [],
   "source": [
    "config = json.load(open('../config.json', 'r'))"
   ]
  },
  {
   "cell_type": "code",
   "execution_count": 3,
   "metadata": {},
   "outputs": [],
   "source": [
    "user = config['db']['username']\n",
    "password = config['db']['password']\n",
    "host = config['db']['host']\n",
    "port = config['db']['port']\n",
    "dbname = config['db']['dbname']"
   ]
  },
  {
   "cell_type": "code",
   "execution_count": 4,
   "metadata": {},
   "outputs": [],
   "source": [
    "template = \"mysql+pymysql://{user}:{password}@{host}:{port}/{dbname}\"\n",
    "connection_string = template.format(user=user, password=password, host=host, port=port, dbname=dbname)"
   ]
  },
  {
   "cell_type": "code",
   "execution_count": 5,
   "metadata": {},
   "outputs": [],
   "source": [
    "conn = sqlalchemy.create_engine(connection_string, pool_size=1)"
   ]
  },
  {
   "cell_type": "code",
   "execution_count": 29,
   "metadata": {},
   "outputs": [],
   "source": [
    "if os.path.isfile(fname):\n",
    "    os.remove(fname)"
   ]
  },
  {
   "cell_type": "code",
   "execution_count": 30,
   "metadata": {},
   "outputs": [
    {
     "name": "stdout",
     "output_type": "stream",
     "text": [
      "fetching\n"
     ]
    }
   ],
   "source": [
    "fname = 'feed.xml'\n",
    "url = 'http://dataskeptic.com/feed.rss'\n",
    "url = 'http://dataskeptic.libsyn.com/rss'\n",
    "\n",
    "if not(os.path.isfile(fname)):\n",
    "    print('fetching')\n",
    "    r = requests.get(url)\n",
    "    f = open(fname, 'wb')\n",
    "    f.write(r.text.encode('utf-8'))\n",
    "    f.close()\n",
    "\n",
    "with open(fname) as fd:\n",
    "    xml = xmltodict.parse(fd.read())"
   ]
  },
  {
   "cell_type": "code",
   "execution_count": null,
   "metadata": {},
   "outputs": [],
   "source": []
  },
  {
   "cell_type": "code",
   "execution_count": null,
   "metadata": {},
   "outputs": [],
   "source": []
  },
  {
   "cell_type": "code",
   "execution_count": null,
   "metadata": {},
   "outputs": [],
   "source": []
  },
  {
   "cell_type": "code",
   "execution_count": null,
   "metadata": {},
   "outputs": [],
   "source": []
  },
  {
   "cell_type": "code",
   "execution_count": 31,
   "metadata": {},
   "outputs": [
    {
     "data": {
      "text/plain": [
       "<sqlalchemy.engine.result.ResultProxy at 0x111fb5358>"
      ]
     },
     "execution_count": 31,
     "metadata": {},
     "output_type": "execute_result"
    }
   ],
   "source": [
    "conn.execute(\"UPDATE blog set publish_Date=NoW() where blog_id=389\")"
   ]
  },
  {
   "cell_type": "code",
   "execution_count": 32,
   "metadata": {},
   "outputs": [],
   "source": [
    "emap = {}\n",
    "episodes = xml['rss']['channel']['item']\n",
    "for episode in episodes:\n",
    "    guid = episode['guid']['#text']\n",
    "    url = episode['enclosure']['@url']\n",
    "    emap[guid] = url"
   ]
  },
  {
   "cell_type": "code",
   "execution_count": 40,
   "metadata": {},
   "outputs": [],
   "source": [
    "q = \"\"\"\n",
    "SELECT t1.blog_id, prettyname, guid\n",
    " , t2.content_id as mp3_content, t3.content_id as homepage_content\n",
    " , t1.title, t1.abstract\n",
    "FROM blog t1\n",
    "LEFT JOIN related_content t2\n",
    " on t1.blog_id = t2.blog_id\n",
    " and t2.type='mp3'\n",
    "LEFT JOIN related_content t3\n",
    " on t1.blog_id = t3.blog_id\n",
    " and t3.type='homepage-image'\n",
    "WHERE t1.prettyname like '/episodes/%%'\n",
    "AND (t2.blog_id is NULL or t3.blog_id is null)\n",
    "LIMIT 10\n",
    "\"\"\"\n",
    "df = pd.read_sql(q, conn)"
   ]
  },
  {
   "cell_type": "code",
   "execution_count": 41,
   "metadata": {},
   "outputs": [
    {
     "data": {
      "text/plain": [
       "(0, 7)"
      ]
     },
     "execution_count": 41,
     "metadata": {},
     "output_type": "execute_result"
    }
   ],
   "source": [
    "df.shape"
   ]
  },
  {
   "cell_type": "code",
   "execution_count": 35,
   "metadata": {},
   "outputs": [],
   "source": [
    "tpl = \"\"\"\n",
    "INSERT INTO related_content (blog_id, dest, type, title, body, duration) VALUES \n",
    "({blog_id}, '{dest}', '{type}', '{title}', '{body}', {duration})\n",
    "\"\"\""
   ]
  },
  {
   "cell_type": "code",
   "execution_count": 36,
   "metadata": {},
   "outputs": [
    {
     "ename": "NameError",
     "evalue": "name 'dest' is not defined",
     "output_type": "error",
     "traceback": [
      "\u001b[0;31m---------------------------------------------------------------------------\u001b[0m",
      "\u001b[0;31mNameError\u001b[0m                                 Traceback (most recent call last)",
      "\u001b[0;32m<ipython-input-36-ce9fa00c204e>\u001b[0m in \u001b[0;36m<module>\u001b[0;34m()\u001b[0m\n\u001b[0;32m----> 1\u001b[0;31m \u001b[0mdest\u001b[0m\u001b[0;34m\u001b[0m\u001b[0m\n\u001b[0m",
      "\u001b[0;31mNameError\u001b[0m: name 'dest' is not defined"
     ]
    }
   ],
   "source": [
    "dest"
   ]
  },
  {
   "cell_type": "code",
   "execution_count": 37,
   "metadata": {},
   "outputs": [],
   "source": [
    "for r in range(df.shape[0]):\n",
    "    row = df.iloc[r]\n",
    "    blog_id = row['blog_id']\n",
    "    guid = row['guid']\n",
    "    title = row['title'].replace(\"'\", \"\\\\'\")\n",
    "    body = row['abstract'].replace(\"'\", \"\\\\'\")\n",
    "    dest = emap[guid]\n",
    "    response = urllib.request.urlopen(dest)\n",
    "    data = response.read()\n",
    "    fname = 'temp.mp3'\n",
    "    f = open(fname, 'wb')\n",
    "    f.write(data)\n",
    "    f.close()\n",
    "    audio = MP3(fname)\n",
    "    duration = int(audio.info.length)\n",
    "    q1 = tpl.format(blog_id=blog_id, dest=dest, type='mp3', title=title, body=body, duration=duration)\n",
    "    r1 = conn.execute(q1)\n",
    "    dest = 'https://s3.amazonaws.com/dataskeptic.com/img/2018/ai-cover.png'\n",
    "    q2 = tpl.format(blog_id=blog_id, dest=dest, type='homepage-image', title=title, body=body, duration=-1)\n",
    "    r2 = conn.execute(q2)"
   ]
  },
  {
   "cell_type": "code",
   "execution_count": 38,
   "metadata": {},
   "outputs": [],
   "source": [
    "#conn.execute(\"delete from related_content where blog_id=382\")"
   ]
  },
  {
   "cell_type": "code",
   "execution_count": 39,
   "metadata": {},
   "outputs": [
    {
     "data": {
      "text/html": [
       "<div>\n",
       "<style scoped>\n",
       "    .dataframe tbody tr th:only-of-type {\n",
       "        vertical-align: middle;\n",
       "    }\n",
       "\n",
       "    .dataframe tbody tr th {\n",
       "        vertical-align: top;\n",
       "    }\n",
       "\n",
       "    .dataframe thead th {\n",
       "        text-align: right;\n",
       "    }\n",
       "</style>\n",
       "<table border=\"1\" class=\"dataframe\">\n",
       "  <thead>\n",
       "    <tr style=\"text-align: right;\">\n",
       "      <th></th>\n",
       "      <th>content_id</th>\n",
       "      <th>blog_id</th>\n",
       "      <th>dest</th>\n",
       "      <th>type</th>\n",
       "      <th>title</th>\n",
       "      <th>body</th>\n",
       "      <th>created_date</th>\n",
       "      <th>blog_id2</th>\n",
       "      <th>duration</th>\n",
       "    </tr>\n",
       "  </thead>\n",
       "  <tbody>\n",
       "    <tr>\n",
       "      <th>0</th>\n",
       "      <td>674</td>\n",
       "      <td>389</td>\n",
       "      <td>https://s3.amazonaws.com/dataskeptic.com/img/2...</td>\n",
       "      <td>homepage-image</td>\n",
       "      <td>Kalman Filters</td>\n",
       "      <td>A Kalman Filter is a technique for taking a se...</td>\n",
       "      <td>2018-06-01 14:02:58</td>\n",
       "      <td>NaN</td>\n",
       "      <td>-1.0</td>\n",
       "    </tr>\n",
       "    <tr>\n",
       "      <th>1</th>\n",
       "      <td>673</td>\n",
       "      <td>389</td>\n",
       "      <td>http://traffic.libsyn.com/dataskeptic/kalman-f...</td>\n",
       "      <td>mp3</td>\n",
       "      <td>Kalman Filters</td>\n",
       "      <td>A Kalman Filter is a technique for taking a se...</td>\n",
       "      <td>2018-06-01 14:02:58</td>\n",
       "      <td>NaN</td>\n",
       "      <td>1291.0</td>\n",
       "    </tr>\n",
       "    <tr>\n",
       "      <th>2</th>\n",
       "      <td>672</td>\n",
       "      <td>388</td>\n",
       "      <td>https://s3.amazonaws.com/dataskeptic.com/img/2...</td>\n",
       "      <td>homepage-image</td>\n",
       "      <td>ELO</td>\n",
       "      <td></td>\n",
       "      <td>2018-05-28 19:00:07</td>\n",
       "      <td>NaN</td>\n",
       "      <td>NaN</td>\n",
       "    </tr>\n",
       "    <tr>\n",
       "      <th>3</th>\n",
       "      <td>671</td>\n",
       "      <td>387</td>\n",
       "      <td>https://s3.amazonaws.com/dataskeptic.com/img/2...</td>\n",
       "      <td>homepage-image</td>\n",
       "      <td>AI in Industry</td>\n",
       "      <td>This episode recaps some of the AI news from M...</td>\n",
       "      <td>2018-05-25 15:06:48</td>\n",
       "      <td>NaN</td>\n",
       "      <td>-1.0</td>\n",
       "    </tr>\n",
       "    <tr>\n",
       "      <th>4</th>\n",
       "      <td>670</td>\n",
       "      <td>387</td>\n",
       "      <td>http://traffic.libsyn.com/dataskeptic/ms-ai.mp...</td>\n",
       "      <td>mp3</td>\n",
       "      <td>AI in Industry</td>\n",
       "      <td>This episode recaps some of the AI news from M...</td>\n",
       "      <td>2018-05-25 15:06:47</td>\n",
       "      <td>NaN</td>\n",
       "      <td>2582.0</td>\n",
       "    </tr>\n",
       "    <tr>\n",
       "      <th>5</th>\n",
       "      <td>669</td>\n",
       "      <td>387</td>\n",
       "      <td>https://s3.amazonaws.com/dataskeptic.com/guest...</td>\n",
       "      <td>person</td>\n",
       "      <td>Carlos Pessoa</td>\n",
       "      <td>Carlos Pessoa is the Principal Software Engine...</td>\n",
       "      <td>2018-05-25 06:14:46</td>\n",
       "      <td>-1.0</td>\n",
       "      <td>NaN</td>\n",
       "    </tr>\n",
       "    <tr>\n",
       "      <th>6</th>\n",
       "      <td>668</td>\n",
       "      <td>387</td>\n",
       "      <td>https://s3.amazonaws.com/dataskeptic.com/guest...</td>\n",
       "      <td>person</td>\n",
       "      <td>Steve Guggenheimer</td>\n",
       "      <td>Steve Guggenheimer is the corporate vice presi...</td>\n",
       "      <td>2018-05-25 06:14:12</td>\n",
       "      <td>-1.0</td>\n",
       "      <td>NaN</td>\n",
       "    </tr>\n",
       "    <tr>\n",
       "      <th>7</th>\n",
       "      <td>667</td>\n",
       "      <td>386</td>\n",
       "      <td>https://s3.amazonaws.com/dataskeptic.com/img/2...</td>\n",
       "      <td>homepage-image</td>\n",
       "      <td></td>\n",
       "      <td></td>\n",
       "      <td>2018-05-21 15:46:16</td>\n",
       "      <td>-1.0</td>\n",
       "      <td>NaN</td>\n",
       "    </tr>\n",
       "    <tr>\n",
       "      <th>8</th>\n",
       "      <td>666</td>\n",
       "      <td>385</td>\n",
       "      <td>https://s3.amazonaws.com/dataskeptic.com/guest...</td>\n",
       "      <td>person</td>\n",
       "      <td>Julian Togelius</td>\n",
       "      <td>Julian Togelius is an associate professor of C...</td>\n",
       "      <td>2018-05-18 17:10:09</td>\n",
       "      <td>-1.0</td>\n",
       "      <td>NaN</td>\n",
       "    </tr>\n",
       "    <tr>\n",
       "      <th>9</th>\n",
       "      <td>665</td>\n",
       "      <td>385</td>\n",
       "      <td>https://s3.amazonaws.com/dataskeptic.com/guest...</td>\n",
       "      <td>person</td>\n",
       "      <td>Georgios Yannakakis</td>\n",
       "      <td>Georgios Yannakakis is a professor and directo...</td>\n",
       "      <td>2018-05-18 17:06:26</td>\n",
       "      <td>-1.0</td>\n",
       "      <td>NaN</td>\n",
       "    </tr>\n",
       "  </tbody>\n",
       "</table>\n",
       "</div>"
      ],
      "text/plain": [
       "   content_id  blog_id                                               dest  \\\n",
       "0         674      389  https://s3.amazonaws.com/dataskeptic.com/img/2...   \n",
       "1         673      389  http://traffic.libsyn.com/dataskeptic/kalman-f...   \n",
       "2         672      388  https://s3.amazonaws.com/dataskeptic.com/img/2...   \n",
       "3         671      387  https://s3.amazonaws.com/dataskeptic.com/img/2...   \n",
       "4         670      387  http://traffic.libsyn.com/dataskeptic/ms-ai.mp...   \n",
       "5         669      387  https://s3.amazonaws.com/dataskeptic.com/guest...   \n",
       "6         668      387  https://s3.amazonaws.com/dataskeptic.com/guest...   \n",
       "7         667      386  https://s3.amazonaws.com/dataskeptic.com/img/2...   \n",
       "8         666      385  https://s3.amazonaws.com/dataskeptic.com/guest...   \n",
       "9         665      385  https://s3.amazonaws.com/dataskeptic.com/guest...   \n",
       "\n",
       "             type                title  \\\n",
       "0  homepage-image       Kalman Filters   \n",
       "1             mp3       Kalman Filters   \n",
       "2  homepage-image                  ELO   \n",
       "3  homepage-image       AI in Industry   \n",
       "4             mp3       AI in Industry   \n",
       "5          person        Carlos Pessoa   \n",
       "6          person   Steve Guggenheimer   \n",
       "7  homepage-image                        \n",
       "8          person      Julian Togelius   \n",
       "9          person  Georgios Yannakakis   \n",
       "\n",
       "                                                body        created_date  \\\n",
       "0  A Kalman Filter is a technique for taking a se... 2018-06-01 14:02:58   \n",
       "1  A Kalman Filter is a technique for taking a se... 2018-06-01 14:02:58   \n",
       "2                                                    2018-05-28 19:00:07   \n",
       "3  This episode recaps some of the AI news from M... 2018-05-25 15:06:48   \n",
       "4  This episode recaps some of the AI news from M... 2018-05-25 15:06:47   \n",
       "5  Carlos Pessoa is the Principal Software Engine... 2018-05-25 06:14:46   \n",
       "6  Steve Guggenheimer is the corporate vice presi... 2018-05-25 06:14:12   \n",
       "7                                                    2018-05-21 15:46:16   \n",
       "8  Julian Togelius is an associate professor of C... 2018-05-18 17:10:09   \n",
       "9  Georgios Yannakakis is a professor and directo... 2018-05-18 17:06:26   \n",
       "\n",
       "   blog_id2  duration  \n",
       "0       NaN      -1.0  \n",
       "1       NaN    1291.0  \n",
       "2       NaN       NaN  \n",
       "3       NaN      -1.0  \n",
       "4       NaN    2582.0  \n",
       "5      -1.0       NaN  \n",
       "6      -1.0       NaN  \n",
       "7      -1.0       NaN  \n",
       "8      -1.0       NaN  \n",
       "9      -1.0       NaN  "
      ]
     },
     "execution_count": 39,
     "metadata": {},
     "output_type": "execute_result"
    }
   ],
   "source": [
    "pd.read_sql(\"SELECT * from related_content order by content_id desc limit 10\", conn)"
   ]
  },
  {
   "cell_type": "code",
   "execution_count": null,
   "metadata": {},
   "outputs": [],
   "source": []
  }
 ],
 "metadata": {
  "kernelspec": {
   "display_name": "Python 3",
   "language": "python",
   "name": "python3"
  },
  "language_info": {
   "codemirror_mode": {
    "name": "ipython",
    "version": 3
   },
   "file_extension": ".py",
   "mimetype": "text/x-python",
   "name": "python",
   "nbconvert_exporter": "python",
   "pygments_lexer": "ipython3",
   "version": "3.6.5"
  }
 },
 "nbformat": 4,
 "nbformat_minor": 2
}
