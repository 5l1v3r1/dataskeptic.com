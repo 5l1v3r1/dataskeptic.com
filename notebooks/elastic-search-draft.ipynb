{
 "cells": [
  {
   "cell_type": "markdown",
   "metadata": {},
   "source": [
    "Some details found here:\n",
    "\n",
    "http://elasticsearch-py.readthedocs.io/en/master/"
   ]
  },
  {
   "cell_type": "code",
   "execution_count": 1,
   "metadata": {},
   "outputs": [],
   "source": [
    "\n",
    "from pyelasticsearch.client import ElasticSearch"
   ]
  },
  {
   "cell_type": "code",
   "execution_count": 2,
   "metadata": {},
   "outputs": [],
   "source": [
    "endpoint = 'https://search-test-vu2fwve5ykzm5tsjkut5q4idum.us-east-1.es.amazonaws.com'"
   ]
  },
  {
   "cell_type": "code",
   "execution_count": 3,
   "metadata": {},
   "outputs": [],
   "source": [
    "es = ElasticSearch(endpoint, port=443)"
   ]
  },
  {
   "cell_type": "code",
   "execution_count": 4,
   "metadata": {},
   "outputs": [
    {
     "data": {
      "text/plain": [
       "{'_id': '6',\n",
       " '_index': 'contacts',\n",
       " '_shards': {'failed': 0, 'successful': 1, 'total': 2},\n",
       " '_type': 'person',\n",
       " '_version': 4,\n",
       " 'created': False,\n",
       " 'result': 'updated'}"
      ]
     },
     "execution_count": 4,
     "metadata": {},
     "output_type": "execute_result"
    }
   ],
   "source": [
    "es.index('contacts',\n",
    "          'person',\n",
    "          {'name': 'Jing', 'age': 25, 'title': 'QA Master'},\n",
    "           id=6)"
   ]
  },
  {
   "cell_type": "code",
   "execution_count": 5,
   "metadata": {},
   "outputs": [
    {
     "data": {
      "text/plain": [
       "{'errors': False,\n",
       " 'items': [{'index': {'_id': '2',\n",
       "    '_index': 'contacts',\n",
       "    '_shards': {'failed': 0, 'successful': 1, 'total': 2},\n",
       "    '_type': 'person',\n",
       "    '_version': 2,\n",
       "    'created': False,\n",
       "    'result': 'updated',\n",
       "    'status': 200}},\n",
       "  {'index': {'_id': '3',\n",
       "    '_index': 'contacts',\n",
       "    '_shards': {'failed': 0, 'successful': 1, 'total': 2},\n",
       "    '_type': 'person',\n",
       "    '_version': 2,\n",
       "    'created': False,\n",
       "    'result': 'updated',\n",
       "    'status': 200}}],\n",
       " 'took': 14}"
      ]
     },
     "execution_count": 5,
     "metadata": {},
     "output_type": "execute_result"
    }
   ],
   "source": [
    "docs = [{'id': 2, 'name': 'Jessica Coder', 'age': 32, 'title': 'Programmer'},\n",
    "          {'id': 3, 'name': 'Freddy Tester', 'age': 29, 'title': 'Office Assistant'}]\n",
    "es.bulk((es.index_op(doc, id=doc.pop('id')) for doc in docs),\n",
    "          index='contacts',\n",
    "          doc_type='person')"
   ]
  },
  {
   "cell_type": "code",
   "execution_count": 1,
   "metadata": {},
   "outputs": [
    {
     "ename": "NameError",
     "evalue": "name 'es' is not defined",
     "output_type": "error",
     "traceback": [
      "\u001b[0;31m---------------------------------------------------------------------------\u001b[0m",
      "\u001b[0;31mNameError\u001b[0m                                 Traceback (most recent call last)",
      "\u001b[0;32m<ipython-input-1-c2ff4e971634>\u001b[0m in \u001b[0;36m<module>\u001b[0;34m()\u001b[0m\n\u001b[0;32m----> 1\u001b[0;31m \u001b[0mes\u001b[0m\u001b[0;34m.\u001b[0m\u001b[0mrefresh\u001b[0m\u001b[0;34m(\u001b[0m\u001b[0;34m'contacts'\u001b[0m\u001b[0;34m)\u001b[0m\u001b[0;34m\u001b[0m\u001b[0m\n\u001b[0m",
      "\u001b[0;31mNameError\u001b[0m: name 'es' is not defined"
     ]
    }
   ],
   "source": [
    "es.refresh('contacts')"
   ]
  },
  {
   "cell_type": "code",
   "execution_count": 17,
   "metadata": {},
   "outputs": [
    {
     "data": {
      "text/plain": [
       "{'_id': '3',\n",
       " '_index': 'contacts',\n",
       " '_source': {'age': 29, 'name': 'Freddy Tester', 'title': 'Office Assistant'},\n",
       " '_type': 'person',\n",
       " '_version': 3,\n",
       " 'found': True}"
      ]
     },
     "execution_count": 17,
     "metadata": {},
     "output_type": "execute_result"
    }
   ],
   "source": [
    "es.get('contacts', 'person', 3)"
   ]
  },
  {
   "cell_type": "code",
   "execution_count": 19,
   "metadata": {},
   "outputs": [
    {
     "data": {
      "text/plain": [
       "{'_shards': {'failed': 0, 'successful': 5, 'total': 5},\n",
       " 'hits': {'hits': [{'_id': '1',\n",
       "    '_index': 'contacts',\n",
       "    '_score': 0.25811607,\n",
       "    '_source': {'age': 25, 'name': 'Joe Tester', 'title': 'QA Master'},\n",
       "    '_type': 'person'},\n",
       "   {'_id': '3',\n",
       "    '_index': 'contacts',\n",
       "    '_score': 0.25811607,\n",
       "    '_source': {'age': 29,\n",
       "     'name': 'Freddy Tester',\n",
       "     'title': 'Office Assistant'},\n",
       "    '_type': 'person'}],\n",
       "  'max_score': 0.25811607,\n",
       "  'total': 2},\n",
       " 'timed_out': False,\n",
       " 'took': 2}"
      ]
     },
     "execution_count": 19,
     "metadata": {},
     "output_type": "execute_result"
    }
   ],
   "source": [
    "es.search('name:joe OR name:freddy', index='contacts')"
   ]
  },
  {
   "cell_type": "code",
   "execution_count": null,
   "metadata": {},
   "outputs": [],
   "source": [
    "es.search(index='search_v1', query={\"query\": {\"range\": {\"publish_date\":{\"gte\": \"2018-02-23\",\n",
    "                                                                       \"lte\": \"2018-02-28\"}}},\n",
    "                                   })\n",
    "                                                       "
   ]
  },
  {
   "cell_type": "code",
   "execution_count": 12,
   "metadata": {},
   "outputs": [],
   "source": [
    "#es.search(index='search_v1', query={\"query\": {\"match\": {\"title\": \"AI\"}}})"
   ]
  },
  {
   "cell_type": "code",
   "execution_count": null,
   "metadata": {},
   "outputs": [],
   "source": []
  },
  {
   "cell_type": "code",
   "execution_count": 107,
   "metadata": {},
   "outputs": [
    {
     "data": {
      "text/plain": [
       "{'acknowledged': True}"
      ]
     },
     "execution_count": 107,
     "metadata": {},
     "output_type": "execute_result"
    }
   ],
   "source": [
    "es.delete_index('candidates_cv')"
   ]
  },
  {
   "cell_type": "code",
   "execution_count": null,
   "metadata": {
    "collapsed": true
   },
   "outputs": [],
   "source": [
    "import elasticsearch\n",
    "\n",
    "host = 'YOURHOST.us-east-1.es.amazonaws.com'\n",
    "awsauth = AWS4Auth(your_access_key, your_secret_key, region, 'es')\n",
    "\n",
    "es = elasticsearch.Elasticsearch(\n",
    "    hosts=[{'host': host, 'port': 443}],\n",
    "    http_auth=awsauth,\n",
    "    use_ssl=True,\n",
    "    verify_certs=True,\n",
    "    connection_class=elasticsearch.connection.RequestsHttpConnection\n",
    ")\n",
    "print(es.cluster.health())"
   ]
  },
  {
   "cell_type": "code",
   "execution_count": 34,
   "metadata": {},
   "outputs": [
    {
     "name": "stderr",
     "output_type": "stream",
     "text": [
      "/usr/local/lib/python3.6/site-packages/elasticsearch/connection/http_urllib3.py:54: UserWarning: Connecting to search-test-vu2fwve5ykzm5tsjkut5q4idum.us-east-1.es.amazonaws.com using SSL with verify_certs=False is insecure.\n",
      "  'Connecting to %s using SSL with verify_certs=False is insecure.' % host)\n",
      "/usr/local/lib/python3.6/site-packages/urllib3/connectionpool.py:858: InsecureRequestWarning: Unverified HTTPS request is being made. Adding certificate verification is strongly advised. See: https://urllib3.readthedocs.io/en/latest/advanced-usage.html#ssl-warnings\n",
      "  InsecureRequestWarning)\n"
     ]
    }
   ],
   "source": [
    "from elasticsearch import Elasticsearch\n",
    "import json\n",
    "import requests\n",
    "from pyelasticsearch.client import ElasticSearch\n",
    "\n",
    "search_v1={ \n",
    "    'mapping':{\n",
    "        'blog':{\n",
    "            'properties':{\n",
    "                'blog_id':{'type':'integer'},\n",
    "                'title':{'type':'string','analyzer':'english'},\n",
    "                'author':{'type':'string','index':'not_analyzed'},\n",
    "                'abstract':{'type':'string','analyzer':'english'},\n",
    "                'date_created':{'type':'date'},\n",
    "                'publish_date':{'type':'date'},\n",
    "                'content':{'type':'string','analyzer':'english'}\n",
    "            }\n",
    "        }\n",
    "    }\n",
    "}\n",
    "\n",
    "\n",
    "\n",
    "if __name__ == '__main__':\n",
    "    config = json.load(open('../config/configsql.json', 'r'))\n",
    "    # TODO: Jing to populate some code from the notebook\n",
    "    user = config['dev']['mysql']['user']\n",
    "    password = config['dev']['mysql']['password']\n",
    "    host = config['dev']['mysql']['host']\n",
    "    port = config['dev']['mysql']['port']\n",
    "    dbname = config['dev']['mysql']['dbname']\n",
    "    aws_access_key_id=config['dev']['aws']['key']\n",
    "    aws_secret_access_key=config['dev']['aws']['secret']\n",
    "    bucketname=config['dev']['bucketname']['bucketname']\n",
    "    endpoint = 'https://search-test-vu2fwve5ykzm5tsjkut5q4idum.us-east-1.es.amazonaws.com'\n",
    "    client = Elasticsearch(endpoint, port=443)\n",
    "    client.indices.create(index='search_v1')\n",
    "   "
   ]
  },
  {
   "cell_type": "code",
   "execution_count": 31,
   "metadata": {},
   "outputs": [
    {
     "name": "stderr",
     "output_type": "stream",
     "text": [
      "/usr/local/lib/python3.6/site-packages/urllib3/connectionpool.py:858: InsecureRequestWarning: Unverified HTTPS request is being made. Adding certificate verification is strongly advised. See: https://urllib3.readthedocs.io/en/latest/advanced-usage.html#ssl-warnings\n",
      "  InsecureRequestWarning)\n"
     ]
    },
    {
     "data": {
      "text/plain": [
       "{'acknowledged': True}"
      ]
     },
     "execution_count": 31,
     "metadata": {},
     "output_type": "execute_result"
    }
   ],
   "source": [
    "client.indices.delete(index='search_v1')"
   ]
  },
  {
   "cell_type": "code",
   "execution_count": null,
   "metadata": {},
   "outputs": [],
   "source": [
    "successful_update = False\n",
    "#result = elastic_search_conn.delete(index=index_name,doc_type='blog',body='{\"query\":{\"match_all\":{}}}')\n",
    "doc = {\n",
    "    'blog_id'      : int(row['blog_id']),\n",
    "    'title'        : row['title'],\n",
    "    'author'       : row['author'],\n",
    "    'abstract'     : row['abstract'],\n",
    "    'date_created' : row['date_created'],\n",
    "    'publish_date' : row['publish_date'],\n",
    "    'content'      : html\n",
    "    }\n",
    "print(\"Going to update \" + row['title'])\n",
    "result2 = elastic_search_conn.create(index='search_v1',doc_type='blog',body=doc) "
   ]
  },
  {
   "cell_type": "code",
   "execution_count": 6,
   "metadata": {},
   "outputs": [
    {
     "data": {
      "text/plain": [
       "{'_id': '3',\n",
       " '_index': 'search_v1',\n",
       " '_source': {'abstract': 'In this episode we discuss the techniques and approaches to perform advertising attribution - the process of helping advertisers understand the impact all aspects of their marketing efforts contribute to their overall g',\n",
       "  'author': 'Kyle',\n",
       "  'blog_id': 3,\n",
       "  'content': '<h2>Advertising Attribution with Nathan Janos</h2>\\n<p>In this episode we discuss the techniques and approaches to perform advertising attribution - the process of helping advertisers understand the impact all aspects of their marketing efforts contribute to their overall gain.</p>\\n<h3>Links to things mentioned during the show:</h3>\\n<p><a href=\"http://longnow.org/\">The Long Now Foundation</a></p>\\n<p><a href=\"http://jeffjag.com/\">Jeff Jagunich, artist</a></p>\\n<p><a href=\"http://www.convertro.com/\">Convertro</a></p>',\n",
       "  'date_created': '2014-06-06T00:00:00',\n",
       "  'prettyname': '/episodes/2014/advertising-attribution-with-nathan-janos',\n",
       "  'publish_date': '2014-06-06T00:00:00',\n",
       "  'title': 'Advertising Attribution with Nathan Janos'},\n",
       " '_type': 'blog',\n",
       " '_version': 13,\n",
       " 'found': True}"
      ]
     },
     "execution_count": 6,
     "metadata": {},
     "output_type": "execute_result"
    }
   ],
   "source": [
    "es.get('search_v1', 'blog', 3)"
   ]
  },
  {
   "cell_type": "code",
   "execution_count": 7,
   "metadata": {},
   "outputs": [
    {
     "data": {
      "text/plain": [
       "{'_id': '1',\n",
       " '_index': 'search_v1',\n",
       " '_source': {'abstract': 'The Data Skeptic Podcast features conversations with topics related to data science, statistics, machine learning, artificial intelligence and the like, all from the perspective of applying critical thinking and the scientific method to evaluate the veracity of claims and efficacy of approac',\n",
       "  'author': 'Kyle',\n",
       "  'blog_id': 1,\n",
       "  'content': '<h2>Introduction</h2>\\n<p>The Data Skeptic Podcast features conversations with topics related to data science, statistics, machine learning, artificial intelligence and the like, all from the perspective of applying critical thinking and the scientific method to evaluate the veracity of claims and efficacy of approaches.</p>',\n",
       "  'date_created': '2014-05-23T00:00:00',\n",
       "  'prettyname': '/episodes/2014/introduction',\n",
       "  'publish_date': '2014-05-23T00:00:00',\n",
       "  'title': 'Introduction'},\n",
       " '_type': 'blog',\n",
       " '_version': 20,\n",
       " 'found': True}"
      ]
     },
     "execution_count": 7,
     "metadata": {},
     "output_type": "execute_result"
    }
   ],
   "source": [
    "es.get('search_v1', 'blog', 1)"
   ]
  },
  {
   "cell_type": "code",
   "execution_count": null,
   "metadata": {},
   "outputs": [],
   "source": [
    "es.search(index='search_v1',\n",
    "\t\t\t\t\tquery={\n",
    "\t\t\t\t\t  \"query\": {\n",
    "\t\t\t\t\t    \"multi_match\": {\n",
    "\t\t\t\t\t      \"query\": 'beer',\n",
    "\t\t\t\t\t      \"fields\": [\n",
    "\t\t\t\t\t        \"title\",\n",
    "\t\t\t\t\t        \"abstract\"\n",
    "\t\t\t\t\t      ]\n",
    "\t\t\t\t\t    }\n",
    "\t\t\t\t\t  },\n",
    "\t\t\t\t\t  \"_source\": {\n",
    "\t\t\t\t\t    \"includes\": [\n",
    "\t\t\t\t\t      \"blog_id\",\n",
    "\t\t\t\t\t      \"title\",\n",
    "\t\t\t\t\t      \"abstract\",\n",
    "\t\t\t\t\t      \"prettyname\",\n",
    "\t\t\t\t\t      \"publish_date\"\n",
    "\t\t\t\t\t    ]\n",
    "\t\t\t\t\t  }\n",
    "\t\t\t\t\t})"
   ]
  },
  {
   "cell_type": "markdown",
   "metadata": {},
   "source": [
    "# Delete record"
   ]
  },
  {
   "cell_type": "code",
   "execution_count": 12,
   "metadata": {},
   "outputs": [
    {
     "data": {
      "text/plain": [
       "{'_id': '037fa17c-1e48-11e8-9be6-29a2d796edb1',\n",
       " '_index': 'github_jobs',\n",
       " '_shards': {'failed': 0, 'successful': 1, 'total': 2},\n",
       " '_type': 'jobs',\n",
       " '_version': 13,\n",
       " 'found': True,\n",
       " 'result': 'deleted'}"
      ]
     },
     "execution_count": 12,
     "metadata": {},
     "output_type": "execute_result"
    }
   ],
   "source": [
    "es.delete(index=\"github_jobs\",doc_type='jobs',id='037fa17c-1e48-11e8-9be6-29a2d796edb1')"
   ]
  },
  {
   "cell_type": "code",
   "execution_count": 14,
   "metadata": {},
   "outputs": [
    {
     "data": {
      "text/plain": [
       "{'_shards': {'failed': 0, 'successful': 5, 'total': 5},\n",
       " 'hits': {'hits': [], 'max_score': None, 'total': 0},\n",
       " 'timed_out': False,\n",
       " 'took': 1}"
      ]
     },
     "execution_count": 14,
     "metadata": {},
     "output_type": "execute_result"
    }
   ],
   "source": [
    "\n",
    "#####\n",
    "es.search(index='github_jobs',\n",
    "query={\n",
    "  \"query\": {\n",
    "    \"bool\": {\n",
    "      \"must\": [\n",
    "        {\n",
    "          \"multi_match\": {\n",
    "            \"query\": \"data\",\n",
    "            \"fields\": [\n",
    "              \"title\",\n",
    "              \"description\"\n",
    "            ]\n",
    "          }\n",
    "        },\n",
    "        {\n",
    "          \"multi_match\": {\n",
    "            \"query\": \"los angeles\",\n",
    "            \"fields\": \"location*\"\n",
    "          }\n",
    "        }\n",
    "      ],\n",
    "      \"filter\": {\n",
    "        \"range\": {\n",
    "          \"created_at\": {\n",
    "            \"gte\": \"2018-03-01\"\n",
    "          }\n",
    "        }\n",
    "      }\n",
    "    }\n",
    "  }\n",
    "})"
   ]
  },
  {
   "cell_type": "code",
   "execution_count": null,
   "metadata": {},
   "outputs": [],
   "source": [
    "es.search(index='github_jobs',\n",
    "query={\n",
    "  \"query\": {\n",
    "    \"function_score\": {\n",
    "      \"query\": {\n",
    "        \"multi_match\": {\n",
    "          \"query\": \"data\",\n",
    "          \"fields\": [\n",
    "            \"title\",\n",
    "            \"description\"\n",
    "          ],\n",
    "          \"query\": \"new york\",\n",
    "          \"fields\": [\n",
    "            \"location\"\n",
    "          ]\n",
    "        }\n",
    "      },\n",
    "      \"functions\": [\n",
    "        {\n",
    "          \"gauss\": {\n",
    "            \"created_at\": {\n",
    "              \"origin\": \"now-3d/d\",\n",
    "              \"scale\": \"3d\",\n",
    "              \"offset\": \"3d\",\n",
    "              \"decay\": 0.3\n",
    "            }\n",
    "          }\n",
    "        }\n",
    "      ]\n",
    "    }\n",
    "  }\n",
    "})"
   ]
  },
  {
   "cell_type": "code",
   "execution_count": null,
   "metadata": {},
   "outputs": [],
   "source": [
    "es.search(index='github_jobs',\n",
    "query={\n",
    "  \"query\": {\n",
    "    \"function_score\": {\n",
    "      \"query\": {\n",
    "        \"bool\": {\n",
    "          \"must\": [\n",
    "            {\n",
    "              \"multi_match\": {\n",
    "                \"query\": \"data\",\n",
    "                \"fields\": [\n",
    "                  \"title\",\n",
    "                  \"description\"\n",
    "                ]\n",
    "              }\n",
    "            },\n",
    "            {\n",
    "              \"multi_match\": {\n",
    "                \"query\": \"new york\",\n",
    "                \"fields\": [\n",
    "                  \"location\"\n",
    "                ]\n",
    "              }\n",
    "            }\n",
    "          ]\n",
    "        }\n",
    "      },\n",
    "      \"functions\": [\n",
    "        {\n",
    "          \"gauss\": {\n",
    "            \"created_at\": {\n",
    "              \"origin\": \"now-3d/d\",\n",
    "              \"scale\": \"3d\",\n",
    "              \"offset\": \"3d\",\n",
    "              \"decay\": 0.3\n",
    "            }\n",
    "          }\n",
    "        }\n",
    "      ]\n",
    "    }\n",
    "  }\n",
    "})"
   ]
  },
  {
   "cell_type": "code",
   "execution_count": null,
   "metadata": {},
   "outputs": [],
   "source": [
    "es.search(index='github_jobs',\n",
    "query={\n",
    "  \"query\": {\n",
    "    \"function_score\": {\n",
    "      \"query\": {\n",
    "        \"bool\": {\n",
    "          \"must\": [\n",
    "            {\n",
    "              \"multi_match\": {\n",
    "                \"query\": \"data\",\n",
    "                \"fields\": [\n",
    "                  \"title\",\n",
    "                  \"description\"\n",
    "                ]\n",
    "              }\n",
    "            },\n",
    "            {\n",
    "              \"multi_match\": {\n",
    "                \"query\": \"new york\",\n",
    "                \"fields\": [\n",
    "                  \"location\"\n",
    "                ]\n",
    "              }\n",
    "            }\n",
    "          ],\n",
    "            \"filter\": {\n",
    "          \"range\": {\n",
    "              \"created_at\": {\n",
    "                \"gte\": \"2018-02-01\"\n",
    "                \n",
    "            }\n",
    "            }\n",
    "            }\n",
    "        }\n",
    "      },\n",
    "      \"functions\": [\n",
    "        {\n",
    "          \"gauss\": {\n",
    "            \"created_at\": {\n",
    "              \"origin\": \"now-3d/d\",\n",
    "              \"scale\": \"3d\",\n",
    "              \"offset\": \"3d\",\n",
    "              \"decay\": 0.\n",
    "            }\n",
    "          }\n",
    "        }\n",
    "      ]\n",
    "    }\n",
    "  }\n",
    "})"
   ]
  },
  {
   "cell_type": "code",
   "execution_count": null,
   "metadata": {},
   "outputs": [],
   "source": [
    "es.search(index='github_jobs',\n",
    "query={\n",
    "  \"query\": {\n",
    "    \"function_score\": {\n",
    "      \"query\": {\n",
    "        \"bool\": {\n",
    "          \"must\": [\n",
    "            {\n",
    "              \"multi_match\": {\n",
    "                \"query\": \"data\",\n",
    "                \"fields\": [\n",
    "                  \"title\",\n",
    "                  \"description\"\n",
    "                ]\n",
    "              }\n",
    "            },\n",
    "            {\n",
    "              \"multi_match\": {\n",
    "                \"query\": \"new york\",\n",
    "                \"fields\": [\n",
    "                  \"location\"\n",
    "                ]\n",
    "              }\n",
    "            }\n",
    "          ],\n",
    "            \"filter\": {\n",
    "          \"range\": {\n",
    "              \"created_at\": {\n",
    "                \"gte\": \"2018-02-01\"\n",
    "                \n",
    "            }\n",
    "            }\n",
    "            }\n",
    "        }\n",
    "      },\n",
    "      \"functions\": [\n",
    "        {\n",
    "          \"gauss\": {\n",
    "            \"created_at\": {\n",
    "              \"origin\": \"now-7d/d\",\n",
    "              \"scale\": \"3d\",\n",
    "              \"offset\": \"15d\",\n",
    "              \"decay\": 0.1\n",
    "            }\n",
    "          }\n",
    "        }\n",
    "      ]\n",
    "    }\n",
    "  }\n",
    "})"
   ]
  },
  {
   "cell_type": "code",
   "execution_count": 1449,
   "metadata": {},
   "outputs": [],
   "source": [
    "#print('2012 Billy Jones Graduate Award, Top Physics Department Award, Simon Fraser University\\n2011 Graduate International Research & Travel Award, Simon Fraser University\\n2010 Physics Breakthrough of the Year 2010 in Connection With the ALPHA Collaboration, Nominated by\\nUK Institute of Physics (e-version: click here)\\n2006 \"Brilliant Talent\" Honor, Ministry of Science and Technology, Iran\\nINVITED TALKS\\n2014 Numerical Modeling of Microwave Spectroscopy of Magnetically Confined Antihydrogen\\nAtoms, MIT, Cambridge MA, USA.\\n2014 Antihydrogen Physics in Project ALPHA, Amherst College, Amherst MA, USA.\\n2013 Microwave Driven Quantum Transitions in Trapped Antihydrogen Atoms, TRIUMF, Annual\\nGroup Meeting, Vancouver BC, Canada.\\nTALKS\\nUpcoming Quasi Real Time Cruise Deployment Guidance to Coherent Regions Using Lagrangian Methods,\\nOcean Sciences Meeting, New Orleans LA, USA.\\n2015 Lagrangian Analysis and Prediction of Coastal and Ocean Dynamics, Winter Harbor ME, USA.\\n2013 Microwave Spectroscopy of Magnetically Trapped Antihydrogen, Atomic Physics-Gordon Confer-\\nence, Newport RI, USA.\\n2012 Microwave Spectroscopy of Trapped Antihydrogen, Canadian Association of Physicists Conference,\\nCalgary AB, Canada.\\n2011 Progress Towards Microwave Spectroscopy of Trapped Antihydrogen, 10th International Confer-\\nence on Low Energy Antiproton Physics, Vancouver BC, Canada.\\n2010 Progress Towards Microwave Spectroscopy of Trapped Antihydrogen, 48th Winter Nuclear and\\nParticle Physics Conference, Banff AB, Canada.\\nSELECTED PUBLICATIONS\\nTo see the full list of publications and citations please visit my scholar account (e-version: click here).\\n2015 \"Observation of Tunneling-Assisted Highly Forbidden Single-Photon Transitions in a Ni4 Single-Molecule\\nMagnet\", Y. Chen, M.D. Ashkezari, R.A. Allao Cassaro, P.M. Lahti, J.R. Friedman arXiv:1510.03109\\n2014 \"An Experimental Limit On The Charge Of Antihydrogen\", C. Amole, M.D. Ashkezari, et al. (the\\nALPHA Collaboration) Nature Communications 5, 3955 (2014)\\n2014 \"In Situ Electromagnetic Field Diagnostics With An Electron Plasma In A Penning-Malmberg Trap\", C.\\nAmole, M.D. Ashkezari, et al. (the ALPHA Collaboration) New Journal of Physics 16, 013037, (2014)\\n3/4\\n2013 \"Description and First Application of a New Technique to Measure the Gravitational Mass of Antihy-\\ndrogen\", C. Amole, M.D. Ashkezari, et al. (the ALPHA Collaboration) Nature Communications 4,\\n1785 (2013)\\n2013 \"Experimental and Computational Study of the Injection of Antiprotons into a Positron Plasma for\\nAntihydrogen Production\", C. Amole, M.D. Ashkezari, et al. (the ALPHA Collaboration), Physics of\\nPlasmas 20, 043510 (2013)\\n2012 \"Progress Towards Microwave Spectroscopy of Trapped Antihydrogen\", M.D. Ashkezari, G.B. Andresen,\\net al. (the ALPHA Collaboration) Hyperfine Interactions 212, 81 (2012)\\n2012 \"Resonant Quantum Transitions in Trapped Antihydrogen Atoms\", C. Amole, M.D. Ashkezari, et al.\\n(the ALPHA Collaboration) Nature 483, 439 (2012)\\n2012 \"Discriminating Between Antihydrogen And Mirror-Trapped Antiprotons In A Minimum-B Trap\", C.\\nAmole, M.D. Ashkezari, et al. (the ALPHA Collaboration) New Journal of Physics 14, 015010, (2012)\\n2011 \"Confinement Of Antihydrogen for 1,000 Seconds\", G.B. Andresen, M.D. Ashkezari, et al. (the ALPHA\\nCollaboration) Nature Physics 7, 558 (2011)\\n2011 \"Centrifugal Separation and Equilibration Dynamics in an Electron-Antiproton Plasma\", G.B. Andresen,\\nM.D. Ashkezari, et al. (the ALPHA Collaboration), Phys. Rev. Lett. 106, 145001 (2011)\\n2011 \"Autoresonant Excitation of Antiproton Plasmas\", G.B. Andresen, M.D. Ashkezari, et al. (the ALPHA\\nCollaboration), Phys. Rev. Lett. 106, 025002 (2011)\\n2011 \"Search for Trapped Antihydrogen\", G.B. Andresen, M.D. Ashkezari, et al. (the ALPHA Collaboration),\\nPhys. Lett. B 695, 95 (2011)\\n2010 \"Trapped Antihydrogen\", G.B. Andresen, M.D. Ashkezari, et al. (the ALPHA Collaboration), Nature\\n468, 673 (2010)\\n2010 \"Evaporative Cooling of Antiprotons to Cryogenic Temperatures\", G.B. Andresen, M.D. Ashkezari, et\\nal. (the ALPHA Collaboration), Phys. Rev. Lett. 105, 013003 (2010)')"
   ]
  },
  {
   "cell_type": "code",
   "execution_count": 1447,
   "metadata": {},
   "outputs": [],
   "source": [
    "#print('Postdoctoral Massachusetts Institute of Technology (MIT), USA, 2014 Present.\\nPh.D. Physics CERN (The European Organization for Nuclear Research) in collaboration with Simon Fraser\\nUniversity (Canada), Switzerland, 2008 2014.\\nM.Sc. Physics Sharif University of Technology, Iran, 2006 2008.\\nB.Sc. Physics University of Tehran, Iran, 2002 2006.')"
   ]
  },
  {
   "cell_type": "code",
   "execution_count": 1448,
   "metadata": {},
   "outputs": [],
   "source": [
    "#print('2014 Present Postdoctoral Associate at MIT:\\nPioneered a novel machine learning approach to identify turbulent features of a flow field and predict\\ntheir lifetime. This method was applied on a large data set of the oceans surface flow fields collected\\nby satellites (see SELECTED NUMERICAL PROJECTS).\\nLed developing an open source numerical package to identify and predict turbulent structures in the\\noceans using real-time NASA satellite altimetric data (see SELECTED NUMERICAL PROJECTS).\\nCollaboration with SCOPE project, a large ocean ecology experiment, in order to pinpoint a highly\\ncoherent region in the North Pacific Ocean, and guide the deployment of two expedition cruises\\nwith 60 scientists on board. I used my numerical package to predict the location. The cruises\\nwere deployed in August 2015 to the designated location to perform the field measurements and the\\npredicted region remained coherent over the course of measurements.\\nDesign and fabrication of a 3 degree-of-freedom underwater robot, an observation-class Remotely\\nOperated Vehicle (ROV). It features Ethernet telemetry, live video stream, and a sensory module\\nthat involves accelerometer, gyroscope, magnetometer, depth, and temperature sensors. This is a\\nproject at its final stages and is expected to deliver low-cost underwater observational robots to the\\noceanography field experiments.\\n1/4\\n2009 2014 Research Assistant at CERN (European Organization for Nuclear Research):\\nCollaborated with ALPHA experiment at CERN, a world-class physics laboratory in Switzerland.\\nApplied pioneering techniques to measure the quantum states of antihydrogen atom using microwave\\nradiation, a historic measurement for the first time in physics.\\nDeveloped a numerical model simulating the interaction of antihydrogen atoms with microwaves; a\\nprocess that involves numerical PDE algorithms, non-deterministic algorithms, and test statistics (see\\nSELECTED NUMERICAL PROJECTS).\\nOur cutting-edge achievements led to multiple publications in the prestigious journal of Nature,\\nnominated as the \"physics breakthrough of the year\", and received world-wide media attention\\n(e-version, click here: BBC documentary, CNN, CBC, BBC ... ).\\n2007 2014 Lead Software Developer at Mahya ITS and Alvan ComTronic, Iran:\\nLed development of a sophisticated software solution for urban traffic management through an\\nintegrated network of LED displays across the country. The package involves various front-end\\napplications, database layer, and services (see SELECTED SOFTWARE PROJECTS section).\\nCurrently, the software package is under heavy use at the traffic control centers of the major cities\\nacross the country.\\nSELECTED NUMERICAL PROJECTS:\\nPython Machine Learning & Fluid Dynamics: A series of novel machine learning solutions that detect\\nturbulent structures and predict their lifetime. This method models a given flow field as a superposition\\nof simple harmonic oscillators, and is trained to classify patterns of the turbulent features of the flow\\nfield. Lifetime of the detected features is then predicted using a non-linear regression model. The model\\nis trained and validated using a significantly large dataset of surface flow fields of the oceans measured\\nby satellites (23-years of global and daily flow fields). This package is currently in use at MIT, EAPS\\ndepartment.\\nMatlab/Python Finite Size/Time Lyapunov Exponent (FSLE/FTLE): A Lagrangian numerical package to charac-\\nterize the transport properties of turbulent fluids, such as those of the ocean surface, and to identify the\\ncoherent structures. It translates the real-time altimetric data provided by NASA satellites into flow\\nfields and then analyze them using Lagrangian algorithms. A grid of tracer particles is initialized over\\nthe domain of interest. The flow map is then approximated by integrating particle trajectories. The\\ndispersion of these trajectories shed light on the flow characteristics. This package is currently in use at\\nMIT, EAPS department.\\nMatlab/Python Eddy (Vortex) Identification: A post-processing tool for MITgcm (a non-hydrostatic finite-volume\\nnumerical model of the Earth\\'s atmosphere and oceans, e-version: click here). It employs an Eulerian\\napproach to compute the normal and shear components of the strain, and reveals the relative dominance\\nof vorticity and deformation at turbulent fluids. This package is currently in use at MIT, EAPS\\ndepartment.\\nDelphi/Matlab Dipole Interaction of Confined Atoms in Magnetic Traps and Interactions With Microwave\\nRadiation: An adaptive stepsize Runge-Kutta algorithm was developed to model the dynamics of\\nantihydrogen atoms confined in the magnetic well constructed in the ALPHA apparatus (at CERN).\\nThese atoms are then exposed to microwave radiation and their quantum transitions are modeled using\\nLandau-Zener approximation (see Nature 483, 439 (2012), and Ph.D Thesis, e-version: click here and\\nhere).\\nDelphi/Matlab Statistical Modeling of the Interaction of Microwave Radiation With Atomic Systems: A com-\\nbination of Monte-Carlo and test statistic (Likelihood Ratio) algorithms was developed to model the\\nstatistical behavior of an ensemble of antihydrogen atoms after resonant interactions with microwave\\nradiation (Ph.D Thesis, e-version: click here).\\nCOMSOL Cavity Resonator: Design and Modeling of a Dielectric Loaded RF Cavity Resonator Tuned at 115 GHz\\n(Ph.D Thesis).\\nCOMSOL & Superconductor Resonator: Design and Modeling of a High-Q Superconductor (Niobium) /2 Mi-\\nANSYS HFSS crostrip Line Resonator (Ph.D Thesis).\\n2/4\\nSELECTED SOFTWARE PROJECTS:\\nDelphi/ eLog: A central electronic log-book that stores and shares the experiments, data files and analysis of\\nMySQL the personnel of a research laboratory. It also provides an environment for on-line discussions regarding\\nthe experiments. This application is currently in use at the Friedman Lab in Amherst College, MA, USA.\\nDelphi/ Arena: A software suite containing several services and applications to control and maintain an urban\\nC# .net/ network of electronic traffic signs and full-color LED displays. It is designed to automatically generate\\nSQL Server content for the LED displays across the city, according to the traffic level. It also involves multi-media\\nfeatures such as filters, effects, transitions, and subtitles to generate video files. These files are then\\ntransmitted to the LED displays using different communication methods (TCP/IP, GPRS). Currently\\nthis package is in heavy use at the traffic control center of the city of Tehran, Iran (e-version: click here\\nand here).\\nDelphi/ vSign: A service application that sits on the LED displays and can communicate with Arena over the\\nC# .net network. It receives the files from Arena and then displays them on the LED display. It also connects to\\nthe network of urban cameras and can capture and display the camera streams in real-time. Currently,\\nthis application is in heavy use for electronic traffic signs and full-color LED displays in the city of Tehran,\\nIran.\\nSELECTED AWARDS\\n2012 Billy Jones Graduate Award, Top Physics Department Award, Simon Fraser University\\n2011 Graduate International Research & Travel Award, Simon Fraser University\\n2010 Physics Breakthrough of the Year 2010 in Connection With the ALPHA Collaboration, Nominated by\\nUK Institute of Physics (e-version: click here)\\n2006 \"Brilliant Talent\" Honor, Ministry of Science and Technology, Iran\\nINVITED TALKS\\n2014 Numerical Modeling of Microwave Spectroscopy of Magnetically Confined Antihydrogen\\nAtoms, MIT, Cambridge MA, USA.\\n2014 Antihydrogen Physics in Project ALPHA, Amherst College, Amherst MA, USA.\\n2013 Microwave Driven Quantum Transitions in Trapped Antihydrogen Atoms, TRIUMF, Annual\\nGroup Meeting, Vancouver BC, Canada.\\nTALKS\\nUpcoming Quasi Real Time Cruise Deployment Guidance to Coherent Regions Using Lagrangian Methods,\\nOcean Sciences Meeting, New Orleans LA, USA.\\n2015 Lagrangian Analysis and Prediction of Coastal and Ocean Dynamics, Winter Harbor ME, USA.\\n2013 Microwave Spectroscopy of Magnetically Trapped Antihydrogen, Atomic Physics-Gordon Confer-\\nence, Newport RI, USA.\\n2012 Microwave Spectroscopy of Trapped Antihydrogen, Canadian Association of Physicists Conference,\\nCalgary AB, Canada.\\n2011 Progress Towards Microwave Spectroscopy of Trapped Antihydrogen, 10th International Confer-\\nence on Low Energy Antiproton Physics, Vancouver BC, Canada.\\n2010 Progress Towards Microwave Spectroscopy of Trapped Antihydrogen, 48th Winter Nuclear and\\nParticle Physics Conference, Banff AB, Canada.\\nSELECTED PUBLICATIONS\\nTo see the full list of publications and citations please visit my scholar account (e-version: click here).\\n2015 \"Observation of Tunneling-Assisted Highly Forbidden Single-Photon Transitions in a Ni4 Single-Molecule\\nMagnet\", Y. Chen, M.D. Ashkezari, R.A. Allao Cassaro, P.M. Lahti, J.R. Friedman arXiv:1510.03109\\n2014 \"An Experimental Limit On The Charge Of Antihydrogen\", C. Amole, M.D. Ashkezari, et al. (the\\nALPHA Collaboration) Nature Communications 5, 3955 (2014)\\n2014 \"In Situ Electromagnetic Field Diagnostics With An Electron Plasma In A Penning-Malmberg Trap\", C.\\nAmole, M.D. Ashkezari, et al. (the ALPHA Collaboration) New Journal of Physics 16, 013037, (2014)\\n3/4\\n2013 \"Description and First Application of a New Technique to Measure the Gravitational Mass of Antihy-\\ndrogen\", C. Amole, M.D. Ashkezari, et al. (the ALPHA Collaboration) Nature Communications 4,\\n1785 (2013)\\n2013 \"Experimental and Computational Study of the Injection of Antiprotons into a Positron Plasma for\\nAntihydrogen Production\", C. Amole, M.D. Ashkezari, et al. (the ALPHA Collaboration), Physics of\\nPlasmas 20, 043510 (2013)\\n2012 \"Progress Towards Microwave Spectroscopy of Trapped Antihydrogen\", M.D. Ashkezari, G.B. Andresen,\\net al. (the ALPHA Collaboration) Hyperfine Interactions 212, 81 (2012)\\n2012 \"Resonant Quantum Transitions in Trapped Antihydrogen Atoms\", C. Amole, M.D. Ashkezari, et al.\\n(the ALPHA Collaboration) Nature 483, 439 (2012)\\n2012 \"Discriminating Between Antihydrogen And Mirror-Trapped Antiprotons In A Minimum-B Trap\", C.\\nAmole, M.D. Ashkezari, et al. (the ALPHA Collaboration) New Journal of Physics 14, 015010, (2012)\\n2011 \"Confinement Of Antihydrogen for 1,000 Seconds\", G.B. Andresen, M.D. Ashkezari, et al. (the ALPHA\\nCollaboration) Nature Physics 7, 558 (2011)\\n2011 \"Centrifugal Separation and Equilibration Dynamics in an Electron-Antiproton Plasma\", G.B. Andresen,\\nM.D. Ashkezari, et al. (the ALPHA Collaboration), Phys. Rev. Lett. 106, 145001 (2011)\\n2011 \"Autoresonant Excitation of Antiproton Plasmas\", G.B. Andresen, M.D. Ashkezari, et al. (the ALPHA\\nCollaboration), Phys. Rev. Lett. 106, 025002 (2011)\\n2011 \"Search for Trapped Antihydrogen\", G.B. Andresen, M.D. Ashkezari, et al. (the ALPHA Collaboration),\\nPhys. Lett. B 695, 95 (2011)\\n2010 \"Trapped Antihydrogen\", G.B. Andresen, M.D. Ashkezari, et al. (the ALPHA Collaboration), Nature\\n468, 673 (2010)\\n2010 \"Evaporative Cooling of Antiprotons to Cryogenic Temperatures\", G.B. Andresen, M.D. Ashkezari, et\\nal. (the ALPHA Collaboration), Phys. Rev. Lett. 105, 013003 (2010)')"
   ]
  },
  {
   "cell_type": "code",
   "execution_count": 1446,
   "metadata": {},
   "outputs": [],
   "source": [
    "#es.search(index='candidates_cv', query={\"query\": {\"match\": {\"name\": \"Hao Wang\"}}})"
   ]
  },
  {
   "cell_type": "code",
   "execution_count": null,
   "metadata": {},
   "outputs": [],
   "source": [
    "es.search(index='candidates_cv', query={\"_source\" : [\"education\"],\n",
    "                                           \"query\": {\"match_all\": {}}})"
   ]
  },
  {
   "cell_type": "code",
   "execution_count": null,
   "metadata": {},
   "outputs": [],
   "source": [
    "es.search(index='candidates_cv', query={\"_source\" : [\"name\",\"education\"],\n",
    "                                           \"query\": {\"term\": {\"education\":\"university\"}}})"
   ]
  },
  {
   "cell_type": "code",
   "execution_count": null,
   "metadata": {},
   "outputs": [],
   "source": [
    "es.search(index='candidates_cv', query={\"_source\" : [\"name\",\"education\"],\n",
    "                                           \"query\": {\"term\": {\"education\":\"college\"}}})"
   ]
  },
  {
   "cell_type": "code",
   "execution_count": null,
   "metadata": {},
   "outputs": [],
   "source": [
    "# phd\n",
    "es.search(index='candidates_cv',\n",
    "                    query={\n",
    "                      \"query\": {\n",
    "                        \"bool\": {\n",
    "                          \"must\": {\n",
    "                            \"match\": {\n",
    "                              \"education\": \"phd\"\n",
    "                            }\n",
    "                          },\n",
    "                          \"filter\": {\n",
    "                            \"term\": {\n",
    "                              \"education\": \"university\"\n",
    "                            }\n",
    "                          }\n",
    "                        }\n",
    "                      }\n",
    "                    })\n",
    "                   "
   ]
  },
  {
   "cell_type": "code",
   "execution_count": null,
   "metadata": {},
   "outputs": [],
   "source": [
    "# phd\n",
    "es.search(index='candidates_cv',\n",
    "                    query={\n",
    "                      \"query\": {\n",
    "                        \"bool\": {\n",
    "                          \"must\": {\n",
    "                            \"match\": {\n",
    "                              \"education\": \"master\"\n",
    "                            }\n",
    "                          },\n",
    "                           \"must_not\":{\n",
    "                               \"match\": {\n",
    "                              \"education\": \"phd\"\n",
    "                            }\n",
    "                           },\n",
    "                          \"filter\": {\n",
    "                            \"term\": {\n",
    "                              \"education\": \"university\"\n",
    "                            }\n",
    "                          }\n",
    "                        }\n",
    "                      }\n",
    "                    })"
   ]
  },
  {
   "cell_type": "code",
   "execution_count": null,
   "metadata": {},
   "outputs": [],
   "source": [
    "es.search(index='candidates_cv', query={\"_source\" : [\"name\",\"education\"],\n",
    "                                           \"query\": {\"bool\": {\"must_not\": {\"education\":\"college\"}}}})"
   ]
  },
  {
   "cell_type": "code",
   "execution_count": null,
   "metadata": {},
   "outputs": [],
   "source": [
    "es.search(index='candidates_cv', query={\"_source\" : [\"name\",\"education\"],\n",
    "                                           \"query\":{\"filter\": {\"not\": {\"term\" :{\"education\":\"master\"}}}}})"
   ]
  },
  {
   "cell_type": "code",
   "execution_count": null,
   "metadata": {},
   "outputs": [],
   "source": [
    "es.search(index='candidates_cv', query={\"_source\" : [\"education\"],\n",
    "                                           \"query\": {\"match_all\": {}}})"
   ]
  },
  {
   "cell_type": "code",
   "execution_count": 76,
   "metadata": {},
   "outputs": [
    {
     "data": {
      "text/plain": [
       "622"
      ]
     },
     "execution_count": 76,
     "metadata": {},
     "output_type": "execute_result"
    }
   ],
   "source": [
    "d_education['hits']['total']"
   ]
  },
  {
   "cell_type": "code",
   "execution_count": 122,
   "metadata": {},
   "outputs": [
    {
     "data": {
      "text/plain": [
       "10"
      ]
     },
     "execution_count": 122,
     "metadata": {},
     "output_type": "execute_result"
    }
   ],
   "source": [
    "len(aa['hits']['hits'])"
   ]
  },
  {
   "cell_type": "code",
   "execution_count": 125,
   "metadata": {},
   "outputs": [
    {
     "data": {
      "text/plain": [
       "range(0, 10)"
      ]
     },
     "execution_count": 125,
     "metadata": {},
     "output_type": "execute_result"
    }
   ],
   "source": [
    "range(len(aa['hits']['hits']))"
   ]
  },
  {
   "cell_type": "code",
   "execution_count": 124,
   "metadata": {},
   "outputs": [
    {
     "ename": "TypeError",
     "evalue": "list indices must be integers or slices, not str",
     "output_type": "error",
     "traceback": [
      "\u001b[0;31m---------------------------------------------------------------------------\u001b[0m",
      "\u001b[0;31mTypeError\u001b[0m                                 Traceback (most recent call last)",
      "\u001b[0;32m<ipython-input-124-784849dfe301>\u001b[0m in \u001b[0;36m<module>\u001b[0;34m()\u001b[0m\n\u001b[1;32m      1\u001b[0m \u001b[0;32mfor\u001b[0m \u001b[0memail\u001b[0m \u001b[0;32min\u001b[0m \u001b[0mrange\u001b[0m\u001b[0;34m(\u001b[0m\u001b[0mlen\u001b[0m\u001b[0;34m(\u001b[0m\u001b[0maa\u001b[0m\u001b[0;34m[\u001b[0m\u001b[0;34m'hits'\u001b[0m\u001b[0;34m]\u001b[0m\u001b[0;34m[\u001b[0m\u001b[0;34m'hits'\u001b[0m\u001b[0;34m]\u001b[0m\u001b[0;34m)\u001b[0m\u001b[0;34m)\u001b[0m\u001b[0;34m:\u001b[0m\u001b[0;34m\u001b[0m\u001b[0m\n\u001b[0;32m----> 2\u001b[0;31m     \u001b[0memail\u001b[0m \u001b[0;34m=\u001b[0m \u001b[0maa\u001b[0m\u001b[0;34m[\u001b[0m\u001b[0;34m'hits'\u001b[0m\u001b[0;34m]\u001b[0m\u001b[0;34m[\u001b[0m\u001b[0;34m'hits'\u001b[0m\u001b[0;34m]\u001b[0m\u001b[0;34m[\u001b[0m\u001b[0mi\u001b[0m\u001b[0;34m]\u001b[0m\u001b[0;34m[\u001b[0m\u001b[0;34m'_source'\u001b[0m\u001b[0;34m]\u001b[0m\u001b[0;34m\u001b[0m\u001b[0m\n\u001b[0m",
      "\u001b[0;31mTypeError\u001b[0m: list indices must be integers or slices, not str"
     ]
    }
   ],
   "source": [
    "for email in range(len(aa['hits']['hits'])):\n",
    "    email = aa['hits']['hits'][i]['_source']"
   ]
  },
  {
   "cell_type": "code",
   "execution_count": 99,
   "metadata": {},
   "outputs": [],
   "source": [
    "aa = es.search(index='candidates_cv', query={\"_source\" : [\"email\"],\n",
    "                                           \"query\": {\"match_all\": {}}})"
   ]
  },
  {
   "cell_type": "code",
   "execution_count": null,
   "metadata": {},
   "outputs": [],
   "source": [
    "es.search(index='candidates_cv', query={\"query\": {\"match_all\": {}}})"
   ]
  },
  {
   "cell_type": "code",
   "execution_count": 209,
   "metadata": {},
   "outputs": [],
   "source": [
    "d = es.search(index='candidates_cv', query={\"_source\" : [\"education\"],\n",
    "                                        \"query\": {\"match_all\": {}},\n",
    "                                        \"size\":  622})"
   ]
  },
  {
   "cell_type": "code",
   "execution_count": 210,
   "metadata": {},
   "outputs": [
    {
     "data": {
      "text/plain": [
       "{'education': 'UNIVERSITY OF CALIFORNIA IRVINE, IRVINE, CA {C% Gd aC*bGY *CGlY G*d*\\n8 F\\nUNIVERSITY OF CALIFORNIA IRVINE, IRVINE, CA a Gd GG\\n8 F\\nGRINNELL COLLEGE, GRINNELL, IA Gd aC*bG\\nc : F'}"
      ]
     },
     "execution_count": 210,
     "metadata": {},
     "output_type": "execute_result"
    }
   ],
   "source": [
    "educations[0]"
   ]
  },
  {
   "cell_type": "code",
   "execution_count": 211,
   "metadata": {},
   "outputs": [
    {
     "data": {
      "text/plain": [
       "622"
      ]
     },
     "execution_count": 211,
     "metadata": {},
     "output_type": "execute_result"
    }
   ],
   "source": [
    "len(d['hits']['hits'])"
   ]
  },
  {
   "cell_type": "code",
   "execution_count": 212,
   "metadata": {},
   "outputs": [],
   "source": [
    "educations = []\n",
    "for i in range(len(d['hits']['hits'])):\n",
    "    education = d['hits']['hits'][i]['_source']\n",
    "    educations.append(education)"
   ]
  },
  {
   "cell_type": "code",
   "execution_count": 213,
   "metadata": {},
   "outputs": [
    {
     "data": {
      "text/plain": [
       "622"
      ]
     },
     "execution_count": 213,
     "metadata": {},
     "output_type": "execute_result"
    }
   ],
   "source": [
    "len(educations)"
   ]
  },
  {
   "cell_type": "code",
   "execution_count": 215,
   "metadata": {},
   "outputs": [
    {
     "data": {
      "text/plain": [
       "[{'education': 'UNIVERSITY OF CALIFORNIA IRVINE, IRVINE, CA {C% Gd aC*bGY *CGlY G*d*\\n8 F\\nUNIVERSITY OF CALIFORNIA IRVINE, IRVINE, CA a Gd GG\\n8 F\\nGRINNELL COLLEGE, GRINNELL, IA Gd aC*bG\\nc : F'},\n",
       " {}]"
      ]
     },
     "execution_count": 215,
     "metadata": {},
     "output_type": "execute_result"
    }
   ],
   "source": [
    "educations[0:2]"
   ]
  },
  {
   "cell_type": "code",
   "execution_count": 216,
   "metadata": {},
   "outputs": [],
   "source": [
    "edu_list = []\n",
    "for edu in educations:\n",
    "    key = 'education'\n",
    "    count = 1\n",
    "    if key in edu:\n",
    "        education = edu[key]\n",
    "    else:\n",
    "        count -= 1\n",
    "    edu_list.append(count)"
   ]
  },
  {
   "cell_type": "code",
   "execution_count": 218,
   "metadata": {},
   "outputs": [
    {
     "data": {
      "text/plain": [
       "622"
      ]
     },
     "execution_count": 218,
     "metadata": {},
     "output_type": "execute_result"
    }
   ],
   "source": [
    "len(edu_list)"
   ]
  },
  {
   "cell_type": "code",
   "execution_count": 217,
   "metadata": {},
   "outputs": [
    {
     "data": {
      "text/plain": [
       "97"
      ]
     },
     "execution_count": 217,
     "metadata": {},
     "output_type": "execute_result"
    }
   ],
   "source": [
    "edu_list.count(0)"
   ]
  },
  {
   "cell_type": "code",
   "execution_count": 222,
   "metadata": {},
   "outputs": [
    {
     "data": {
      "text/plain": [
       "0.8440514469453376"
      ]
     },
     "execution_count": 222,
     "metadata": {},
     "output_type": "execute_result"
    }
   ],
   "source": [
    "edu_percent = (622-97)/622\n",
    "edu_percent"
   ]
  },
  {
   "cell_type": "markdown",
   "metadata": {},
   "source": [
    "# summary"
   ]
  },
  {
   "cell_type": "code",
   "execution_count": 236,
   "metadata": {},
   "outputs": [],
   "source": [
    "d = es.search(index='candidates_cv', query={\"_source\" : [\"summary\"],\n",
    "                                        \"query\": {\"match_all\": {}},\n",
    "                                        \"size\":  622})"
   ]
  },
  {
   "cell_type": "code",
   "execution_count": 237,
   "metadata": {},
   "outputs": [],
   "source": [
    "summarys = []\n",
    "for i in range(len(d['hits']['hits'])):\n",
    "    summary = d['hits']['hits'][i]['_source']\n",
    "    summarys.append(summary)"
   ]
  },
  {
   "cell_type": "code",
   "execution_count": 238,
   "metadata": {},
   "outputs": [],
   "source": [
    "sum_list = []\n",
    "for summ in summarys:\n",
    "    key = 'summary'\n",
    "    count = 1\n",
    "    if key in summ:\n",
    "        summary = summ[key]\n",
    "    else:\n",
    "        count -= 1\n",
    "    sum_list.append(count)"
   ]
  },
  {
   "cell_type": "code",
   "execution_count": 243,
   "metadata": {},
   "outputs": [
    {
     "name": "stdout",
     "output_type": "stream",
     "text": [
      "0.18810289389067525\n"
     ]
    }
   ],
   "source": [
    "sum_list.count(0)\n",
    "print((622-505)/622)"
   ]
  },
  {
   "cell_type": "code",
   "execution_count": 278,
   "metadata": {},
   "outputs": [],
   "source": [
    "d = es.search(index='candidates_cv', query={\"_source\" : [\"phone\"],\n",
    "                                        \"query\": {\"match_all\": {}},\n",
    "                                        \"size\":  622})\n",
    "\n",
    "ss = []\n",
    "for i in range(len(d['hits']['hits'])):\n",
    "    s = d['hits']['hits'][i]['_source']\n",
    "    ss.append(s)\n",
    "\n",
    "s_list = []\n",
    "for i in ss:\n",
    "    key = 'phone'\n",
    "    count = 1\n",
    "    if key in i:\n",
    "        s = i[key]\n",
    "    else:\n",
    "        count -= 1\n",
    "    s_list.append(count)"
   ]
  },
  {
   "cell_type": "code",
   "execution_count": 279,
   "metadata": {},
   "outputs": [
    {
     "name": "stdout",
     "output_type": "stream",
     "text": [
      "0.860128617363344\n"
     ]
    }
   ],
   "source": [
    "missing = s_list.count(0)\n",
    "print((622-missing)/622)"
   ]
  },
  {
   "cell_type": "code",
   "execution_count": 5,
   "metadata": {},
   "outputs": [
    {
     "data": {
      "text/plain": [
       "{'_shards': {'failed': 0, 'successful': 5, 'total': 5},\n",
       " 'hits': {'hits': [{'_id': 'https://s3.amazonaws.com/careers.dataskeptic.com/resumes/unsourced/text/resumes_unsourced_B. TolgaOztanResume.pdf.txt',\n",
       "    '_index': 'candidates_cv',\n",
       "    '_score': 1.0,\n",
       "    '_source': {'education': 'UNIVERSITY OF CALIFORNIA IRVINE, IRVINE, CA {C% Gd aC*bGY *CGlY G*d*\\n8 F\\nUNIVERSITY OF CALIFORNIA IRVINE, IRVINE, CA a Gd GG\\n8 F\\nGRINNELL COLLEGE, GRINNELL, IA Gd aC*bG\\nc : F',\n",
       "     'experience': 'INSIGHT DATA SCIENCE 8*YYl\\nI { Y c c\\nDesigned and developed a web-app (www.polytweet.com) to predict political party allegiances from twitter content.\\nCollected twitter data from the twitter API, cleaned data and created features using Natural Language Processing methods\\nsuch as tokenization, stop-word removal and n-grams and fit a Logistic Regression model with L1 regularization.\\nDesigned a front-end web application using flask and bootstrap.\\nUNIVERSITY OF CALIFORNIA IRVINE :&* **C*\\nI F\\nConducted a cross-cultural study of kin avoidance behavior and implemented lagged network regression and phylogenetic\\ntree models to address the issue of correlated data points.\\nSANTA FE INSTITUTE COMPLEX SYSTEMS SUMMER SCHOOL {GG\"d\\nI I 8 ca\\nDetermined the number of topics for a dynamic topics analysis project on speeches of UK politicians using both domain\\nknowledge as well as cross-validation on a log-likelihood metric.\\nLearned the current state of a varying range of fields such as non-linear dynamics, statistics, agent-based simulations,\\ncomplex networks, entropy and ecology, epidemiology, computational biology, evolution, cultural evolution.\\nUC IRVINE MEDICAL CENTER ldYd\\nk c\\nDetermined the effects of change in the Thyroid-stimulating hormone (TSH) on mortality in kidney disease patients as a\\nstatistical consultant.\\nCleaned and merged data to reduce the 280,000 patient dataset down to 20,000 patient cohort in which the patients were\\nhypothyroid, hemodialysis users of 18 years of age or older.\\nFit a Cox proportional hazards ratio model to study the effect of the slope of TSH after patients start undergoing dialysis on\\npatient mortality and showed that lower and higher slopes of TSH are associated with higher mortality.\\nRELEVANT SKILLS\\nPROGRAMMING AND LANGUAGE DATA ANALYSIS\\nR (glm, ggplot) Machine Learning\\nPython (Pandas, scikit-learn, NLTK) Bayesian Statistics\\nMATLAB, SAS, SPSS Statistical Methods I, II, III\\nmySQL Time Series\\nTableau, Gephi, Pajek, ArcGIS Network Theory\\nLATEX, Linux/Unix, Mac\\nEnglish (Proficient), Turkish (Native), Swedish (Beginner)',\n",
       "     'name': 'Bahattin Tolga'},\n",
       "    '_type': 'candidate'},\n",
       "   {'_id': 'https://s3.amazonaws.com/careers.dataskeptic.com/resumes/unsourced/text/resumes_unsourced_MarkoBokulic_resume.pdf.txt',\n",
       "    '_index': 'candidates_cv',\n",
       "    '_score': 1.0,\n",
       "    '_source': {'email': 'bokmarko@gmail.com',\n",
       "     'experience': 'product scientist at Sizely Jun2015 - May2016\\nEarly stage team member in Sizely, a Croatian startup that leverages machine learning and\\ncomputer vision to detect shoes of shoppers entering stores and processing the images to gather\\nuseful information. Worked during the prototype stage while the startup was seeking funding.\\nsuccessfully filled the role that our small team was missing, needed to learn a lot of Python\\nprogramming\\nwas the glue between our engineers and the sales / design part of the company\\nmy jobs included: backend work (database, server scripts), creating GUIs for image dataset\\npreparation, testing image classification algorithms, producing the MTurk pipeline for image\\ndataset enrichment and managing our cloud services on Amazon. Mostly Python work,\\nsome MySQL and R.\\nscientist and product manager at Monolith Oct2013 - May2015\\nWorked during fund raising and then the 3rd employee in a Croatian/Dutch startup Monolith.\\nMonolith provided fashion retailers with data on in-store shopper behaviors. Initial proof of concept\\nwas done by heavy use of field research, whereas later the company focused on using sensors\\nand image processing algorithms.\\nMy ideas informed the core of our business, where I brought scientific rigor and statistical\\nknowledge to the team.\\ndeveloped a field, in-store methodology for measuring and interpreting behaviors of\\nshoppers in stores\\ndesigned a dashboard displaying shopper behavior\\nas the only employee with data science knowledge, I did jobs like testing the precision of\\nalgorithms, adjusting existing data sources for our purposes and developing data\\nvisualizations\\ntook many organizational tasks, especially when having to communicate to engineers\\nresearch assistant at the Univ. of Regensburg Dec2011 Sep2013\\nEmployed as a research assistant at the \"Chair for Social, Work, Organizational and Economic\\nPsychology\". Worked in the field of Social Experimental Psychology, more specifically in Social\\nCognition and Judgment and Decision Making.\\nmost success with a series of experiments on motor cognition: on how bodily movement\\ninfluences judgments\\nreceived great feedback from students for my seminar \"Consumer Judgment and Decision\\nMaking\"\\neducation\\nMaster\\'s in Psychology at the Univ. of Zagreb Sep2005-Aug2008\\nBachelor\\'s in Psychology at the Univ. of Zagreb Sep2008-Oct2011\\nskills\\ndata science\\nR: Using R for various data science tasks: data munging (plyr, data.table, reshape, stringr),\\nmodelling (caret, hiernet), data visualization (ggplot2) and reporting (R Markdown, Jupyter\\nnotebook).\\ndata analysis: My formal education has biased my knowledge towards interpretable predictive\\nmodels such as regression as well cluster analysis, factor analysis and analysis of variance. I\\'ve\\nlearned about the more broad machine learning field by self-educating on Coursera, Udacity,\\nStanford Online or various books on the topic.\\nD3: I recently started learning this so that I can create visualizations on the web in a more native\\nformat and also to be able to create more flexible and interactive visualizations.\\nprogramming\\nPython: Experience in using Python for communicating with databases (SQLAlchemy ORM)\\ndeveloping GUIs with Tkinter, communicating with APIs (boto for AWS and MTurk). Knowledgeable\\nof OOP. I haven\\'t yet used Python for a lot of data science tasks.\\nMySQL: Basic knowledge of creating and querying databases as well as programming stored\\nprocedures.\\nAWS: Used the cloud computing provider to set up web servers, relational databases and store\\ndata in S3.\\nJavascript: for now just basics that I need for d3 and manipulating HTML and CSS.',\n",
       "     'name': 'Marko Bokulic'},\n",
       "    '_type': 'candidate'},\n",
       "   {'_id': 'https://s3.amazonaws.com/careers.dataskeptic.com/resumes/unsourced/text/resumes_unsourced_CV.pdf.txt',\n",
       "    '_index': 'candidates_cv',\n",
       "    '_score': 1.0,\n",
       "    '_source': {'awards': '2012 Billy Jones Graduate Award, Top Physics Department Award, Simon Fraser University\\n2011 Graduate International Research & Travel Award, Simon Fraser University\\n2010 Physics Breakthrough of the Year 2010 in Connection With the ALPHA Collaboration, Nominated by\\nUK Institute of Physics (e-version: click here)\\n2006 \"Brilliant Talent\" Honor, Ministry of Science and Technology, Iran\\nINVITED TALKS\\n2014 Numerical Modeling of Microwave Spectroscopy of Magnetically Confined Antihydrogen\\nAtoms, MIT, Cambridge MA, USA.\\n2014 Antihydrogen Physics in Project ALPHA, Amherst College, Amherst MA, USA.\\n2013 Microwave Driven Quantum Transitions in Trapped Antihydrogen Atoms, TRIUMF, Annual\\nGroup Meeting, Vancouver BC, Canada.\\nTALKS\\nUpcoming Quasi Real Time Cruise Deployment Guidance to Coherent Regions Using Lagrangian Methods,\\nOcean Sciences Meeting, New Orleans LA, USA.\\n2015 Lagrangian Analysis and Prediction of Coastal and Ocean Dynamics, Winter Harbor ME, USA.\\n2013 Microwave Spectroscopy of Magnetically Trapped Antihydrogen, Atomic Physics-Gordon Confer-\\nence, Newport RI, USA.\\n2012 Microwave Spectroscopy of Trapped Antihydrogen, Canadian Association of Physicists Conference,\\nCalgary AB, Canada.\\n2011 Progress Towards Microwave Spectroscopy of Trapped Antihydrogen, 10th International Confer-\\nence on Low Energy Antiproton Physics, Vancouver BC, Canada.\\n2010 Progress Towards Microwave Spectroscopy of Trapped Antihydrogen, 48th Winter Nuclear and\\nParticle Physics Conference, Banff AB, Canada.\\nSELECTED PUBLICATIONS\\nTo see the full list of publications and citations please visit my scholar account (e-version: click here).\\n2015 \"Observation of Tunneling-Assisted Highly Forbidden Single-Photon Transitions in a Ni4 Single-Molecule\\nMagnet\", Y. Chen, M.D. Ashkezari, R.A. Allao Cassaro, P.M. Lahti, J.R. Friedman arXiv:1510.03109\\n2014 \"An Experimental Limit On The Charge Of Antihydrogen\", C. Amole, M.D. Ashkezari, et al. (the\\nALPHA Collaboration) Nature Communications 5, 3955 (2014)\\n2014 \"In Situ Electromagnetic Field Diagnostics With An Electron Plasma In A Penning-Malmberg Trap\", C.\\nAmole, M.D. Ashkezari, et al. (the ALPHA Collaboration) New Journal of Physics 16, 013037, (2014)\\n3/4\\n2013 \"Description and First Application of a New Technique to Measure the Gravitational Mass of Antihy-\\ndrogen\", C. Amole, M.D. Ashkezari, et al. (the ALPHA Collaboration) Nature Communications 4,\\n1785 (2013)\\n2013 \"Experimental and Computational Study of the Injection of Antiprotons into a Positron Plasma for\\nAntihydrogen Production\", C. Amole, M.D. Ashkezari, et al. (the ALPHA Collaboration), Physics of\\nPlasmas 20, 043510 (2013)\\n2012 \"Progress Towards Microwave Spectroscopy of Trapped Antihydrogen\", M.D. Ashkezari, G.B. Andresen,\\net al. (the ALPHA Collaboration) Hyperfine Interactions 212, 81 (2012)\\n2012 \"Resonant Quantum Transitions in Trapped Antihydrogen Atoms\", C. Amole, M.D. Ashkezari, et al.\\n(the ALPHA Collaboration) Nature 483, 439 (2012)\\n2012 \"Discriminating Between Antihydrogen And Mirror-Trapped Antiprotons In A Minimum-B Trap\", C.\\nAmole, M.D. Ashkezari, et al. (the ALPHA Collaboration) New Journal of Physics 14, 015010, (2012)\\n2011 \"Confinement Of Antihydrogen for 1,000 Seconds\", G.B. Andresen, M.D. Ashkezari, et al. (the ALPHA\\nCollaboration) Nature Physics 7, 558 (2011)\\n2011 \"Centrifugal Separation and Equilibration Dynamics in an Electron-Antiproton Plasma\", G.B. Andresen,\\nM.D. Ashkezari, et al. (the ALPHA Collaboration), Phys. Rev. Lett. 106, 145001 (2011)\\n2011 \"Autoresonant Excitation of Antiproton Plasmas\", G.B. Andresen, M.D. Ashkezari, et al. (the ALPHA\\nCollaboration), Phys. Rev. Lett. 106, 025002 (2011)\\n2011 \"Search for Trapped Antihydrogen\", G.B. Andresen, M.D. Ashkezari, et al. (the ALPHA Collaboration),\\nPhys. Lett. B 695, 95 (2011)\\n2010 \"Trapped Antihydrogen\", G.B. Andresen, M.D. Ashkezari, et al. (the ALPHA Collaboration), Nature\\n468, 673 (2010)\\n2010 \"Evaporative Cooling of Antiprotons to Cryogenic Temperatures\", G.B. Andresen, M.D. Ashkezari, et\\nal. (the ALPHA Collaboration), Phys. Rev. Lett. 105, 013003 (2010)',\n",
       "     'education': 'Postdoctoral Massachusetts Institute of Technology (MIT), USA, 2014 Present.\\nPh.D. Physics CERN (The European Organization for Nuclear Research) in collaboration with Simon Fraser\\nUniversity (Canada), Switzerland, 2008 2014.\\nM.Sc. Physics Sharif University of Technology, Iran, 2006 2008.\\nB.Sc. Physics University of Tehran, Iran, 2002 2006.',\n",
       "     'email': 'o@mit.edu',\n",
       "     'experience': '2014 Present Postdoctoral Associate at MIT:\\nPioneered a novel machine learning approach to identify turbulent features of a flow field and predict\\ntheir lifetime. This method was applied on a large data set of the oceans surface flow fields collected\\nby satellites (see SELECTED NUMERICAL PROJECTS).\\nLed developing an open source numerical package to identify and predict turbulent structures in the\\noceans using real-time NASA satellite altimetric data (see SELECTED NUMERICAL PROJECTS).\\nCollaboration with SCOPE project, a large ocean ecology experiment, in order to pinpoint a highly\\ncoherent region in the North Pacific Ocean, and guide the deployment of two expedition cruises\\nwith 60 scientists on board. I used my numerical package to predict the location. The cruises\\nwere deployed in August 2015 to the designated location to perform the field measurements and the\\npredicted region remained coherent over the course of measurements.\\nDesign and fabrication of a 3 degree-of-freedom underwater robot, an observation-class Remotely\\nOperated Vehicle (ROV). It features Ethernet telemetry, live video stream, and a sensory module\\nthat involves accelerometer, gyroscope, magnetometer, depth, and temperature sensors. This is a\\nproject at its final stages and is expected to deliver low-cost underwater observational robots to the\\noceanography field experiments.\\n1/4\\n2009 2014 Research Assistant at CERN (European Organization for Nuclear Research):\\nCollaborated with ALPHA experiment at CERN, a world-class physics laboratory in Switzerland.\\nApplied pioneering techniques to measure the quantum states of antihydrogen atom using microwave\\nradiation, a historic measurement for the first time in physics.\\nDeveloped a numerical model simulating the interaction of antihydrogen atoms with microwaves; a\\nprocess that involves numerical PDE algorithms, non-deterministic algorithms, and test statistics (see\\nSELECTED NUMERICAL PROJECTS).\\nOur cutting-edge achievements led to multiple publications in the prestigious journal of Nature,\\nnominated as the \"physics breakthrough of the year\", and received world-wide media attention\\n(e-version, click here: BBC documentary, CNN, CBC, BBC ... ).\\n2007 2014 Lead Software Developer at Mahya ITS and Alvan ComTronic, Iran:\\nLed development of a sophisticated software solution for urban traffic management through an\\nintegrated network of LED displays across the country. The package involves various front-end\\napplications, database layer, and services (see SELECTED SOFTWARE PROJECTS section).\\nCurrently, the software package is under heavy use at the traffic control centers of the major cities\\nacross the country.\\nSELECTED NUMERICAL PROJECTS:\\nPython Machine Learning & Fluid Dynamics: A series of novel machine learning solutions that detect\\nturbulent structures and predict their lifetime. This method models a given flow field as a superposition\\nof simple harmonic oscillators, and is trained to classify patterns of the turbulent features of the flow\\nfield. Lifetime of the detected features is then predicted using a non-linear regression model. The model\\nis trained and validated using a significantly large dataset of surface flow fields of the oceans measured\\nby satellites (23-years of global and daily flow fields). This package is currently in use at MIT, EAPS\\ndepartment.\\nMatlab/Python Finite Size/Time Lyapunov Exponent (FSLE/FTLE): A Lagrangian numerical package to charac-\\nterize the transport properties of turbulent fluids, such as those of the ocean surface, and to identify the\\ncoherent structures. It translates the real-time altimetric data provided by NASA satellites into flow\\nfields and then analyze them using Lagrangian algorithms. A grid of tracer particles is initialized over\\nthe domain of interest. The flow map is then approximated by integrating particle trajectories. The\\ndispersion of these trajectories shed light on the flow characteristics. This package is currently in use at\\nMIT, EAPS department.\\nMatlab/Python Eddy (Vortex) Identification: A post-processing tool for MITgcm (a non-hydrostatic finite-volume\\nnumerical model of the Earth\\'s atmosphere and oceans, e-version: click here). It employs an Eulerian\\napproach to compute the normal and shear components of the strain, and reveals the relative dominance\\nof vorticity and deformation at turbulent fluids. This package is currently in use at MIT, EAPS\\ndepartment.\\nDelphi/Matlab Dipole Interaction of Confined Atoms in Magnetic Traps and Interactions With Microwave\\nRadiation: An adaptive stepsize Runge-Kutta algorithm was developed to model the dynamics of\\nantihydrogen atoms confined in the magnetic well constructed in the ALPHA apparatus (at CERN).\\nThese atoms are then exposed to microwave radiation and their quantum transitions are modeled using\\nLandau-Zener approximation (see Nature 483, 439 (2012), and Ph.D Thesis, e-version: click here and\\nhere).\\nDelphi/Matlab Statistical Modeling of the Interaction of Microwave Radiation With Atomic Systems: A com-\\nbination of Monte-Carlo and test statistic (Likelihood Ratio) algorithms was developed to model the\\nstatistical behavior of an ensemble of antihydrogen atoms after resonant interactions with microwave\\nradiation (Ph.D Thesis, e-version: click here).\\nCOMSOL Cavity Resonator: Design and Modeling of a Dielectric Loaded RF Cavity Resonator Tuned at 115 GHz\\n(Ph.D Thesis).\\nCOMSOL & Superconductor Resonator: Design and Modeling of a High-Q Superconductor (Niobium) /2 Mi-\\nANSYS HFSS crostrip Line Resonator (Ph.D Thesis).\\n2/4\\nSELECTED SOFTWARE PROJECTS:\\nDelphi/ eLog: A central electronic log-book that stores and shares the experiments, data files and analysis of\\nMySQL the personnel of a research laboratory. It also provides an environment for on-line discussions regarding\\nthe experiments. This application is currently in use at the Friedman Lab in Amherst College, MA, USA.\\nDelphi/ Arena: A software suite containing several services and applications to control and maintain an urban\\nC# .net/ network of electronic traffic signs and full-color LED displays. It is designed to automatically generate\\nSQL Server content for the LED displays across the city, according to the traffic level. It also involves multi-media\\nfeatures such as filters, effects, transitions, and subtitles to generate video files. These files are then\\ntransmitted to the LED displays using different communication methods (TCP/IP, GPRS). Currently\\nthis package is in heavy use at the traffic control center of the city of Tehran, Iran (e-version: click here\\nand here).\\nDelphi/ vSign: A service application that sits on the LED displays and can communicate with Arena over the\\nC# .net network. It receives the files from Arena and then displays them on the LED display. It also connects to\\nthe network of urban cameras and can capture and display the camera streams in real-time. Currently,\\nthis application is in heavy use for electronic traffic signs and full-color LED displays in the city of Tehran,\\nIran.\\nSELECTED AWARDS\\n2012 Billy Jones Graduate Award, Top Physics Department Award, Simon Fraser University\\n2011 Graduate International Research & Travel Award, Simon Fraser University\\n2010 Physics Breakthrough of the Year 2010 in Connection With the ALPHA Collaboration, Nominated by\\nUK Institute of Physics (e-version: click here)\\n2006 \"Brilliant Talent\" Honor, Ministry of Science and Technology, Iran\\nINVITED TALKS\\n2014 Numerical Modeling of Microwave Spectroscopy of Magnetically Confined Antihydrogen\\nAtoms, MIT, Cambridge MA, USA.\\n2014 Antihydrogen Physics in Project ALPHA, Amherst College, Amherst MA, USA.\\n2013 Microwave Driven Quantum Transitions in Trapped Antihydrogen Atoms, TRIUMF, Annual\\nGroup Meeting, Vancouver BC, Canada.\\nTALKS\\nUpcoming Quasi Real Time Cruise Deployment Guidance to Coherent Regions Using Lagrangian Methods,\\nOcean Sciences Meeting, New Orleans LA, USA.\\n2015 Lagrangian Analysis and Prediction of Coastal and Ocean Dynamics, Winter Harbor ME, USA.\\n2013 Microwave Spectroscopy of Magnetically Trapped Antihydrogen, Atomic Physics-Gordon Confer-\\nence, Newport RI, USA.\\n2012 Microwave Spectroscopy of Trapped Antihydrogen, Canadian Association of Physicists Conference,\\nCalgary AB, Canada.\\n2011 Progress Towards Microwave Spectroscopy of Trapped Antihydrogen, 10th International Confer-\\nence on Low Energy Antiproton Physics, Vancouver BC, Canada.\\n2010 Progress Towards Microwave Spectroscopy of Trapped Antihydrogen, 48th Winter Nuclear and\\nParticle Physics Conference, Banff AB, Canada.\\nSELECTED PUBLICATIONS\\nTo see the full list of publications and citations please visit my scholar account (e-version: click here).\\n2015 \"Observation of Tunneling-Assisted Highly Forbidden Single-Photon Transitions in a Ni4 Single-Molecule\\nMagnet\", Y. Chen, M.D. Ashkezari, R.A. Allao Cassaro, P.M. Lahti, J.R. Friedman arXiv:1510.03109\\n2014 \"An Experimental Limit On The Charge Of Antihydrogen\", C. Amole, M.D. Ashkezari, et al. (the\\nALPHA Collaboration) Nature Communications 5, 3955 (2014)\\n2014 \"In Situ Electromagnetic Field Diagnostics With An Electron Plasma In A Penning-Malmberg Trap\", C.\\nAmole, M.D. Ashkezari, et al. (the ALPHA Collaboration) New Journal of Physics 16, 013037, (2014)\\n3/4\\n2013 \"Description and First Application of a New Technique to Measure the Gravitational Mass of Antihy-\\ndrogen\", C. Amole, M.D. Ashkezari, et al. (the ALPHA Collaboration) Nature Communications 4,\\n1785 (2013)\\n2013 \"Experimental and Computational Study of the Injection of Antiprotons into a Positron Plasma for\\nAntihydrogen Production\", C. Amole, M.D. Ashkezari, et al. (the ALPHA Collaboration), Physics of\\nPlasmas 20, 043510 (2013)\\n2012 \"Progress Towards Microwave Spectroscopy of Trapped Antihydrogen\", M.D. Ashkezari, G.B. Andresen,\\net al. (the ALPHA Collaboration) Hyperfine Interactions 212, 81 (2012)\\n2012 \"Resonant Quantum Transitions in Trapped Antihydrogen Atoms\", C. Amole, M.D. Ashkezari, et al.\\n(the ALPHA Collaboration) Nature 483, 439 (2012)\\n2012 \"Discriminating Between Antihydrogen And Mirror-Trapped Antiprotons In A Minimum-B Trap\", C.\\nAmole, M.D. Ashkezari, et al. (the ALPHA Collaboration) New Journal of Physics 14, 015010, (2012)\\n2011 \"Confinement Of Antihydrogen for 1,000 Seconds\", G.B. Andresen, M.D. Ashkezari, et al. (the ALPHA\\nCollaboration) Nature Physics 7, 558 (2011)\\n2011 \"Centrifugal Separation and Equilibration Dynamics in an Electron-Antiproton Plasma\", G.B. Andresen,\\nM.D. Ashkezari, et al. (the ALPHA Collaboration), Phys. Rev. Lett. 106, 145001 (2011)\\n2011 \"Autoresonant Excitation of Antiproton Plasmas\", G.B. Andresen, M.D. Ashkezari, et al. (the ALPHA\\nCollaboration), Phys. Rev. Lett. 106, 025002 (2011)\\n2011 \"Search for Trapped Antihydrogen\", G.B. Andresen, M.D. Ashkezari, et al. (the ALPHA Collaboration),\\nPhys. Lett. B 695, 95 (2011)\\n2010 \"Trapped Antihydrogen\", G.B. Andresen, M.D. Ashkezari, et al. (the ALPHA Collaboration), Nature\\n468, 673 (2010)\\n2010 \"Evaporative Cooling of Antiprotons to Cryogenic Temperatures\", G.B. Andresen, M.D. Ashkezari, et\\nal. (the ALPHA Collaboration), Phys. Rev. Lett. 105, 013003 (2010)',\n",
       "     'name': 'Mohammad De',\n",
       "     'phone': '(617) 710 6683',\n",
       "     'projects': ').\\nOur cutting-edge achievements led to multiple publications in the prestigious journal of Nature,\\nnominated as the \"physics breakthrough of the year\", and received world-wide media attention\\n(e-version, click here: BBC documentary, CNN, CBC, BBC ... ).\\n2007 2014 Lead Software Developer at Mahya ITS and Alvan ComTronic, Iran:\\nLed development of a sophisticated software solution for urban traffic management through an\\nintegrated network of LED displays across the country. The package involves various front-end\\napplications, database layer, and services (see SELECTED SOFTWARE PROJECTS section).\\nCurrently, the software package is under heavy use at the traffic control centers of the major cities\\nacross the country.\\nSELECTED NUMERICAL PROJECTS:\\nPython Machine Learning & Fluid Dynamics: A series of novel machine learning solutions that detect\\nturbulent structures and predict their lifetime. This method models a given flow field as a superposition\\nof simple harmonic oscillators, and is trained to classify patterns of the turbulent features of the flow\\nfield. Lifetime of the detected features is then predicted using a non-linear regression model. The model\\nis trained and validated using a significantly large dataset of surface flow fields of the oceans measured\\nby satellites (23-years of global and daily flow fields). This package is currently in use at MIT, EAPS\\ndepartment.\\nMatlab/Python Finite Size/Time Lyapunov Exponent (FSLE/FTLE): A Lagrangian numerical package to charac-\\nterize the transport properties of turbulent fluids, such as those of the ocean surface, and to identify the\\ncoherent structures. It translates the real-time altimetric data provided by NASA satellites into flow\\nfields and then analyze them using Lagrangian algorithms. A grid of tracer particles is initialized over\\nthe domain of interest. The flow map is then approximated by integrating particle trajectories. The\\ndispersion of these trajectories shed light on the flow characteristics. This package is currently in use at\\nMIT, EAPS department.\\nMatlab/Python Eddy (Vortex) Identification: A post-processing tool for MITgcm (a non-hydrostatic finite-volume\\nnumerical model of the Earth\\'s atmosphere and oceans, e-version: click here). It employs an Eulerian\\napproach to compute the normal and shear components of the strain, and reveals the relative dominance\\nof vorticity and deformation at turbulent fluids. This package is currently in use at MIT, EAPS\\ndepartment.\\nDelphi/Matlab Dipole Interaction of Confined Atoms in Magnetic Traps and Interactions With Microwave\\nRadiation: An adaptive stepsize Runge-Kutta algorithm was developed to model the dynamics of\\nantihydrogen atoms confined in the magnetic well constructed in the ALPHA apparatus (at CERN).\\nThese atoms are then exposed to microwave radiation and their quantum transitions are modeled using\\nLandau-Zener approximation (see Nature 483, 439 (2012), and Ph.D Thesis, e-version: click here and\\nhere).\\nDelphi/Matlab Statistical Modeling of the Interaction of Microwave Radiation With Atomic Systems: A com-\\nbination of Monte-Carlo and test statistic (Likelihood Ratio) algorithms was developed to model the\\nstatistical behavior of an ensemble of antihydrogen atoms after resonant interactions with microwave\\nradiation (Ph.D Thesis, e-version: click here).\\nCOMSOL Cavity Resonator: Design and Modeling of a Dielectric Loaded RF Cavity Resonator Tuned at 115 GHz\\n(Ph.D Thesis).\\nCOMSOL & Superconductor Resonator: Design and Modeling of a High-Q Superconductor (Niobium) /2 Mi-\\nANSYS HFSS crostrip Line Resonator (Ph.D Thesis).\\n2/4\\nSELECTED SOFTWARE PROJECTS:\\nDelphi/ eLog: A central electronic log-book that stores and shares the experiments, data files and analysis of\\nMySQL the personnel of a research laboratory. It also provides an environment for on-line discussions regarding\\nthe experiments. This application is currently in use at the Friedman Lab in Amherst College, MA, USA.\\nDelphi/ Arena: A software suite containing several services and applications to control and maintain an urban\\nC# .net/ network of electronic traffic signs and full-color LED displays. It is designed to automatically generate\\nSQL Server content for the LED displays across the city, according to the traffic level. It also involves multi-media\\nfeatures such as filters, effects, transitions, and subtitles to generate video files. These files are then\\ntransmitted to the LED displays using different communication methods (TCP/IP, GPRS). Currently\\nthis package is in heavy use at the traffic control center of the city of Tehran, Iran (e-version: click here\\nand here).\\nDelphi/ vSign: A service application that sits on the LED displays and can communicate with Arena over the\\nC# .net network. It receives the files from Arena and then displays them on the LED display. It also connects to\\nthe network of urban cameras and can capture and display the camera streams in real-time. Currently,\\nthis application is in heavy use for electronic traffic signs and full-color LED displays in the city of Tehran,\\nIran.\\nSELECTED AWARDS\\n2012 Billy Jones Graduate Award, Top Physics Department Award, Simon Fraser University\\n2011 Graduate International Research & Travel Award, Simon Fraser University\\n2010 Physics Breakthrough of the Year 2010 in Connection With the ALPHA Collaboration, Nominated by\\nUK Institute of Physics (e-version: click here)\\n2006 \"Brilliant Talent\" Honor, Ministry of Science and Technology, Iran\\nINVITED TALKS\\n2014 Numerical Modeling of Microwave Spectroscopy of Magnetically Confined Antihydrogen\\nAtoms, MIT, Cambridge MA, USA.\\n2014 Antihydrogen Physics in Project ALPHA, Amherst College, Amherst MA, USA.\\n2013 Microwave Driven Quantum Transitions in Trapped Antihydrogen Atoms, TRIUMF, Annual\\nGroup Meeting, Vancouver BC, Canada.\\nTALKS\\nUpcoming Quasi Real Time Cruise Deployment Guidance to Coherent Regions Using Lagrangian Methods,\\nOcean Sciences Meeting, New Orleans LA, USA.\\n2015 Lagrangian Analysis and Prediction of Coastal and Ocean Dynamics, Winter Harbor ME, USA.\\n2013 Microwave Spectroscopy of Magnetically Trapped Antihydrogen, Atomic Physics-Gordon Confer-\\nence, Newport RI, USA.\\n2012 Microwave Spectroscopy of Trapped Antihydrogen, Canadian Association of Physicists Conference,\\nCalgary AB, Canada.\\n2011 Progress Towards Microwave Spectroscopy of Trapped Antihydrogen, 10th International Confer-\\nence on Low Energy Antiproton Physics, Vancouver BC, Canada.\\n2010 Progress Towards Microwave Spectroscopy of Trapped Antihydrogen, 48th Winter Nuclear and\\nParticle Physics Conference, Banff AB, Canada.\\nSELECTED PUBLICATIONS\\nTo see the full list of publications and citations please visit my scholar account (e-version: click here).\\n2015 \"Observation of Tunneling-Assisted Highly Forbidden Single-Photon Transitions in a Ni4 Single-Molecule\\nMagnet\", Y. Chen, M.D. Ashkezari, R.A. Allao Cassaro, P.M. Lahti, J.R. Friedman arXiv:1510.03109\\n2014 \"An Experimental Limit On The Charge Of Antihydrogen\", C. Amole, M.D. Ashkezari, et al. (the\\nALPHA Collaboration) Nature Communications 5, 3955 (2014)\\n2014 \"In Situ Electromagnetic Field Diagnostics With An Electron Plasma In A Penning-Malmberg Trap\", C.\\nAmole, M.D. Ashkezari, et al. (the ALPHA Collaboration) New Journal of Physics 16, 013037, (2014)\\n3/4\\n2013 \"Description and First Application of a New Technique to Measure the Gravitational Mass of Antihy-\\ndrogen\", C. Amole, M.D. Ashkezari, et al. (the ALPHA Collaboration) Nature Communications 4,\\n1785 (2013)\\n2013 \"Experimental and Computational Study of the Injection of Antiprotons into a Positron Plasma for\\nAntihydrogen Production\", C. Amole, M.D. Ashkezari, et al. (the ALPHA Collaboration), Physics of\\nPlasmas 20, 043510 (2013)\\n2012 \"Progress Towards Microwave Spectroscopy of Trapped Antihydrogen\", M.D. Ashkezari, G.B. Andresen,\\net al. (the ALPHA Collaboration) Hyperfine Interactions 212, 81 (2012)\\n2012 \"Resonant Quantum Transitions in Trapped Antihydrogen Atoms\", C. Amole, M.D. Ashkezari, et al.\\n(the ALPHA Collaboration) Nature 483, 439 (2012)\\n2012 \"Discriminating Between Antihydrogen And Mirror-Trapped Antiprotons In A Minimum-B Trap\", C.\\nAmole, M.D. Ashkezari, et al. (the ALPHA Collaboration) New Journal of Physics 14, 015010, (2012)\\n2011 \"Confinement Of Antihydrogen for 1,000 Seconds\", G.B. Andresen, M.D. Ashkezari, et al. (the ALPHA\\nCollaboration) Nature Physics 7, 558 (2011)\\n2011 \"Centrifugal Separation and Equilibration Dynamics in an Electron-Antiproton Plasma\", G.B. Andresen,\\nM.D. Ashkezari, et al. (the ALPHA Collaboration), Phys. Rev. Lett. 106, 145001 (2011)\\n2011 \"Autoresonant Excitation of Antiproton Plasmas\", G.B. Andresen, M.D. Ashkezari, et al. (the ALPHA\\nCollaboration), Phys. Rev. Lett. 106, 025002 (2011)\\n2011 \"Search for Trapped Antihydrogen\", G.B. Andresen, M.D. Ashkezari, et al. (the ALPHA Collaboration),\\nPhys. Lett. B 695, 95 (2011)\\n2010 \"Trapped Antihydrogen\", G.B. Andresen, M.D. Ashkezari, et al. (the ALPHA Collaboration), Nature\\n468, 673 (2010)\\n2010 \"Evaporative Cooling of Antiprotons to Cryogenic Temperatures\", G.B. Andresen, M.D. Ashkezari, et\\nal. (the ALPHA Collaboration), Phys. Rev. Lett. 105, 013003 (2010):\\nPython Machine Learning & Fluid Dynamics: A series of novel machine learning solutions that detect\\nturbulent structures and predict their lifetime. This method models a given flow field as a superposition\\nof simple harmonic oscillators, and is trained to classify patterns of the turbulent features of the flow\\nfield. Lifetime of the detected features is then predicted using a non-linear regression model. The model\\nis trained and validated using a significantly large dataset of surface flow fields of the oceans measured\\nby satellites (23-years of global and daily flow fields). This package is currently in use at MIT, EAPS\\ndepartment.\\nMatlab/Python Finite Size/Time Lyapunov Exponent (FSLE/FTLE): A Lagrangian numerical package to charac-\\nterize the transport properties of turbulent fluids, such as those of the ocean surface, and to identify the\\ncoherent structures. It translates the real-time altimetric data provided by NASA satellites into flow\\nfields and then analyze them using Lagrangian algorithms. A grid of tracer particles is initialized over\\nthe domain of interest. The flow map is then approximated by integrating particle trajectories. The\\ndispersion of these trajectories shed light on the flow characteristics. This package is currently in use at\\nMIT, EAPS department.\\nMatlab/Python Eddy (Vortex) Identification: A post-processing tool for MITgcm (a non-hydrostatic finite-volume\\nnumerical model of the Earth\\'s atmosphere and oceans, e-version: click here). It employs an Eulerian\\napproach to compute the normal and shear components of the strain, and reveals the relative dominance\\nof vorticity and deformation at turbulent fluids. This package is currently in use at MIT, EAPS\\ndepartment.\\nDelphi/Matlab Dipole Interaction of Confined Atoms in Magnetic Traps and Interactions With Microwave\\nRadiation: An adaptive stepsize Runge-Kutta algorithm was developed to model the dynamics of\\nantihydrogen atoms confined in the magnetic well constructed in the ALPHA apparatus (at CERN).\\nThese atoms are then exposed to microwave radiation and their quantum transitions are modeled using\\nLandau-Zener approximation (see Nature 483, 439 (2012), and Ph.D Thesis, e-version: click here and\\nhere).\\nDelphi/Matlab Statistical Modeling of the Interaction of Microwave Radiation With Atomic Systems: A com-\\nbination of Monte-Carlo and test statistic (Likelihood Ratio) algorithms was developed to model the\\nstatistical behavior of an ensemble of antihydrogen atoms after resonant interactions with microwave\\nradiation (Ph.D Thesis, e-version: click here).\\nCOMSOL Cavity Resonator: Design and Modeling of a Dielectric Loaded RF Cavity Resonator Tuned at 115 GHz\\n(Ph.D Thesis).\\nCOMSOL & Superconductor Resonator: Design and Modeling of a High-Q Superconductor (Niobium) /2 Mi-\\nANSYS HFSS crostrip Line Resonator (Ph.D Thesis).\\n2/4\\nSELECTED SOFTWARE PROJECTS:\\nDelphi/ eLog: A central electronic log-book that stores and shares the experiments, data files and analysis of\\nMySQL the personnel of a research laboratory. It also provides an environment for on-line discussions regarding\\nthe experiments. This application is currently in use at the Friedman Lab in Amherst College, MA, USA.\\nDelphi/ Arena: A software suite containing several services and applications to control and maintain an urban\\nC# .net/ network of electronic traffic signs and full-color LED displays. It is designed to automatically generate\\nSQL Server content for the LED displays across the city, according to the traffic level. It also involves multi-media\\nfeatures such as filters, effects, transitions, and subtitles to generate video files. These files are then\\ntransmitted to the LED displays using different communication methods (TCP/IP, GPRS). Currently\\nthis package is in heavy use at the traffic control center of the city of Tehran, Iran (e-version: click here\\nand here).\\nDelphi/ vSign: A service application that sits on the LED displays and can communicate with Arena over the\\nC# .net network. It receives the files from Arena and then displays them on the LED display. It also connects to\\nthe network of urban cameras and can capture and display the camera streams in real-time. Currently,\\nthis application is in heavy use for electronic traffic signs and full-color LED displays in the city of Tehran,\\nIran.\\nSELECTED AWARDS\\n2012 Billy Jones Graduate Award, Top Physics Department Award, Simon Fraser University\\n2011 Graduate International Research & Travel Award, Simon Fraser University\\n2010 Physics Breakthrough of the Year 2010 in Connection With the ALPHA Collaboration, Nominated by\\nUK Institute of Physics (e-version: click here)\\n2006 \"Brilliant Talent\" Honor, Ministry of Science and Technology, Iran\\nINVITED TALKS\\n2014 Numerical Modeling of Microwave Spectroscopy of Magnetically Confined Antihydrogen\\nAtoms, MIT, Cambridge MA, USA.\\n2014 Antihydrogen Physics in Project ALPHA, Amherst College, Amherst MA, USA.\\n2013 Microwave Driven Quantum Transitions in Trapped Antihydrogen Atoms, TRIUMF, Annual\\nGroup Meeting, Vancouver BC, Canada.\\nTALKS\\nUpcoming Quasi Real Time Cruise Deployment Guidance to Coherent Regions Using Lagrangian Methods,\\nOcean Sciences Meeting, New Orleans LA, USA.\\n2015 Lagrangian Analysis and Prediction of Coastal and Ocean Dynamics, Winter Harbor ME, USA.\\n2013 Microwave Spectroscopy of Magnetically Trapped Antihydrogen, Atomic Physics-Gordon Confer-\\nence, Newport RI, USA.\\n2012 Microwave Spectroscopy of Trapped Antihydrogen, Canadian Association of Physicists Conference,\\nCalgary AB, Canada.\\n2011 Progress Towards Microwave Spectroscopy of Trapped Antihydrogen, 10th International Confer-\\nence on Low Energy Antiproton Physics, Vancouver BC, Canada.\\n2010 Progress Towards Microwave Spectroscopy of Trapped Antihydrogen, 48th Winter Nuclear and\\nParticle Physics Conference, Banff AB, Canada.\\nSELECTED PUBLICATIONS\\nTo see the full list of publications and citations please visit my scholar account (e-version: click here).\\n2015 \"Observation of Tunneling-Assisted Highly Forbidden Single-Photon Transitions in a Ni4 Single-Molecule\\nMagnet\", Y. Chen, M.D. Ashkezari, R.A. Allao Cassaro, P.M. Lahti, J.R. Friedman arXiv:1510.03109\\n2014 \"An Experimental Limit On The Charge Of Antihydrogen\", C. Amole, M.D. Ashkezari, et al. (the\\nALPHA Collaboration) Nature Communications 5, 3955 (2014)\\n2014 \"In Situ Electromagnetic Field Diagnostics With An Electron Plasma In A Penning-Malmberg Trap\", C.\\nAmole, M.D. Ashkezari, et al. (the ALPHA Collaboration) New Journal of Physics 16, 013037, (2014)\\n3/4\\n2013 \"Description and First Application of a New Technique to Measure the Gravitational Mass of Antihy-\\ndrogen\", C. Amole, M.D. Ashkezari, et al. (the ALPHA Collaboration) Nature Communications 4,\\n1785 (2013)\\n2013 \"Experimental and Computational Study of the Injection of Antiprotons into a Positron Plasma for\\nAntihydrogen Production\", C. Amole, M.D. Ashkezari, et al. (the ALPHA Collaboration), Physics of\\nPlasmas 20, 043510 (2013)\\n2012 \"Progress Towards Microwave Spectroscopy of Trapped Antihydrogen\", M.D. Ashkezari, G.B. Andresen,\\net al. (the ALPHA Collaboration) Hyperfine Interactions 212, 81 (2012)\\n2012 \"Resonant Quantum Transitions in Trapped Antihydrogen Atoms\", C. Amole, M.D. Ashkezari, et al.\\n(the ALPHA Collaboration) Nature 483, 439 (2012)\\n2012 \"Discriminating Between Antihydrogen And Mirror-Trapped Antiprotons In A Minimum-B Trap\", C.\\nAmole, M.D. Ashkezari, et al. (the ALPHA Collaboration) New Journal of Physics 14, 015010, (2012)\\n2011 \"Confinement Of Antihydrogen for 1,000 Seconds\", G.B. Andresen, M.D. Ashkezari, et al. (the ALPHA\\nCollaboration) Nature Physics 7, 558 (2011)\\n2011 \"Centrifugal Separation and Equilibration Dynamics in an Electron-Antiproton Plasma\", G.B. Andresen,\\nM.D. Ashkezari, et al. (the ALPHA Collaboration), Phys. Rev. Lett. 106, 145001 (2011)\\n2011 \"Autoresonant Excitation of Antiproton Plasmas\", G.B. Andresen, M.D. Ashkezari, et al. (the ALPHA\\nCollaboration), Phys. Rev. Lett. 106, 025002 (2011)\\n2011 \"Search for Trapped Antihydrogen\", G.B. Andresen, M.D. Ashkezari, et al. (the ALPHA Collaboration),\\nPhys. Lett. B 695, 95 (2011)\\n2010 \"Trapped Antihydrogen\", G.B. Andresen, M.D. Ashkezari, et al. (the ALPHA Collaboration), Nature\\n468, 673 (2010)\\n2010 \"Evaporative Cooling of Antiprotons to Cryogenic Temperatures\", G.B. Andresen, M.D. Ashkezari, et\\nal. (the ALPHA Collaboration), Phys. Rev. Lett. 105, 013003 (2010):\\nDelphi/ eLog: A central electronic log-book that stores and shares the experiments, data files and analysis of\\nMySQL the personnel of a research laboratory. It also provides an environment for on-line discussions regarding\\nthe experiments. This application is currently in use at the Friedman Lab in Amherst College, MA, USA.\\nDelphi/ Arena: A software suite containing several services and applications to control and maintain an urban\\nC# .net/ network of electronic traffic signs and full-color LED displays. It is designed to automatically generate\\nSQL Server content for the LED displays across the city, according to the traffic level. It also involves multi-media\\nfeatures such as filters, effects, transitions, and subtitles to generate video files. These files are then\\ntransmitted to the LED displays using different communication methods (TCP/IP, GPRS). Currently\\nthis package is in heavy use at the traffic control center of the city of Tehran, Iran (e-version: click here\\nand here).\\nDelphi/ vSign: A service application that sits on the LED displays and can communicate with Arena over the\\nC# .net network. It receives the files from Arena and then displays them on the LED display. It also connects to\\nthe network of urban cameras and can capture and display the camera streams in real-time. Currently,\\nthis application is in heavy use for electronic traffic signs and full-color LED displays in the city of Tehran,\\nIran.\\nSELECTED AWARDS\\n2012 Billy Jones Graduate Award, Top Physics Department Award, Simon Fraser University\\n2011 Graduate International Research & Travel Award, Simon Fraser University\\n2010 Physics Breakthrough of the Year 2010 in Connection With the ALPHA Collaboration, Nominated by\\nUK Institute of Physics (e-version: click here)\\n2006 \"Brilliant Talent\" Honor, Ministry of Science and Technology, Iran\\nINVITED TALKS\\n2014 Numerical Modeling of Microwave Spectroscopy of Magnetically Confined Antihydrogen\\nAtoms, MIT, Cambridge MA, USA.\\n2014 Antihydrogen Physics in Project ALPHA, Amherst College, Amherst MA, USA.\\n2013 Microwave Driven Quantum Transitions in Trapped Antihydrogen Atoms, TRIUMF, Annual\\nGroup Meeting, Vancouver BC, Canada.\\nTALKS\\nUpcoming Quasi Real Time Cruise Deployment Guidance to Coherent Regions Using Lagrangian Methods,\\nOcean Sciences Meeting, New Orleans LA, USA.\\n2015 Lagrangian Analysis and Prediction of Coastal and Ocean Dynamics, Winter Harbor ME, USA.\\n2013 Microwave Spectroscopy of Magnetically Trapped Antihydrogen, Atomic Physics-Gordon Confer-\\nence, Newport RI, USA.\\n2012 Microwave Spectroscopy of Trapped Antihydrogen, Canadian Association of Physicists Conference,\\nCalgary AB, Canada.\\n2011 Progress Towards Microwave Spectroscopy of Trapped Antihydrogen, 10th International Confer-\\nence on Low Energy Antiproton Physics, Vancouver BC, Canada.\\n2010 Progress Towards Microwave Spectroscopy of Trapped Antihydrogen, 48th Winter Nuclear and\\nParticle Physics Conference, Banff AB, Canada.\\nSELECTED PUBLICATIONS\\nTo see the full list of publications and citations please visit my scholar account (e-version: click here).\\n2015 \"Observation of Tunneling-Assisted Highly Forbidden Single-Photon Transitions in a Ni4 Single-Molecule\\nMagnet\", Y. Chen, M.D. Ashkezari, R.A. Allao Cassaro, P.M. Lahti, J.R. Friedman arXiv:1510.03109\\n2014 \"An Experimental Limit On The Charge Of Antihydrogen\", C. Amole, M.D. Ashkezari, et al. (the\\nALPHA Collaboration) Nature Communications 5, 3955 (2014)\\n2014 \"In Situ Electromagnetic Field Diagnostics With An Electron Plasma In A Penning-Malmberg Trap\", C.\\nAmole, M.D. Ashkezari, et al. (the ALPHA Collaboration) New Journal of Physics 16, 013037, (2014)\\n3/4\\n2013 \"Description and First Application of a New Technique to Measure the Gravitational Mass of Antihy-\\ndrogen\", C. Amole, M.D. Ashkezari, et al. (the ALPHA Collaboration) Nature Communications 4,\\n1785 (2013)\\n2013 \"Experimental and Computational Study of the Injection of Antiprotons into a Positron Plasma for\\nAntihydrogen Production\", C. Amole, M.D. Ashkezari, et al. (the ALPHA Collaboration), Physics of\\nPlasmas 20, 043510 (2013)\\n2012 \"Progress Towards Microwave Spectroscopy of Trapped Antihydrogen\", M.D. Ashkezari, G.B. Andresen,\\net al. (the ALPHA Collaboration) Hyperfine Interactions 212, 81 (2012)\\n2012 \"Resonant Quantum Transitions in Trapped Antihydrogen Atoms\", C. Amole, M.D. Ashkezari, et al.\\n(the ALPHA Collaboration) Nature 483, 439 (2012)\\n2012 \"Discriminating Between Antihydrogen And Mirror-Trapped Antiprotons In A Minimum-B Trap\", C.\\nAmole, M.D. Ashkezari, et al. (the ALPHA Collaboration) New Journal of Physics 14, 015010, (2012)\\n2011 \"Confinement Of Antihydrogen for 1,000 Seconds\", G.B. Andresen, M.D. Ashkezari, et al. (the ALPHA\\nCollaboration) Nature Physics 7, 558 (2011)\\n2011 \"Centrifugal Separation and Equilibration Dynamics in an Electron-Antiproton Plasma\", G.B. Andresen,\\nM.D. Ashkezari, et al. (the ALPHA Collaboration), Phys. Rev. Lett. 106, 145001 (2011)\\n2011 \"Autoresonant Excitation of Antiproton Plasmas\", G.B. Andresen, M.D. Ashkezari, et al. (the ALPHA\\nCollaboration), Phys. Rev. Lett. 106, 025002 (2011)\\n2011 \"Search for Trapped Antihydrogen\", G.B. Andresen, M.D. Ashkezari, et al. (the ALPHA Collaboration),\\nPhys. Lett. B 695, 95 (2011)\\n2010 \"Trapped Antihydrogen\", G.B. Andresen, M.D. Ashkezari, et al. (the ALPHA Collaboration), Nature\\n468, 673 (2010)\\n2010 \"Evaporative Cooling of Antiprotons to Cryogenic Temperatures\", G.B. Andresen, M.D. Ashkezari, et\\nal. (the ALPHA Collaboration), Phys. Rev. Lett. 105, 013003 (2010)',\n",
       "     'summary': 'PROFILE\\nPostdoctoral associate in computational fluid dynamics and statistical modeling at Massachusetts Institute\\nof Technology (MIT). Proven track record of publishing multiple significant research articles in the\\njournal of Nature. Strong ability to collaborate and work on interdisciplinary projects. Solid background\\nin numerical calculations, machine learning methods, and software development (see EXPERIENCE\\nsection).\\nSpecialty Computational Physics, Statistics & Machine Learning, Computational Fluid Dynamics, Software\\nDevelopment'},\n",
       "    '_type': 'candidate'},\n",
       "   {'_id': 'https://s3.amazonaws.com/careers.dataskeptic.com/resumes/unsourced/text/resumes_unsourced_Prasuna_Duggirela_Resume.pdf.txt',\n",
       "    '_index': 'candidates_cv',\n",
       "    '_score': 1.0,\n",
       "    '_source': {'education': \"al Qualifications:\\nMaster of Science in Management Information Systems (Expected Summer'16)\\nUniversity of South Florida, Tampa, FL, GPA-3.78/4.0\\nBachelor of Technology (Electrical & Electronics Engineering) Summer`11\\nJawaharlal Nehru Technological University, Hyderabad, India. GPA-3.6/4.0\\nTechnical Skills :\\nProgramming Language: C, C++, JAVA, Python, SQL, and PL/SQL.\\nDatabase & Tools: Oracle 11g, SQL server, MS access, DB2, Aqua Data Studio.\\nTools: Visual Studio, MATLAB, IBM RAD, Eclipse, Net beans, R Studio, Weka, SAS Enterprise Miner, SSRS\\nand SPSS.\\nWeb Development: HTML, XML, CSS5, Java Script.\",\n",
       "     'email': 'duggirela@mail.usf.edu',\n",
       "     'experience': ':\\nAssociate Software Engineer -Nissan North America (April 2013- November 2014)\\nCreated UNIX scripts for maintaining synchronized data between database and mainframe for Parts application.\\nCreated tables, indexes, views, stored procedures and triggers using SQL and IBM/DB2.\\nWorked on data extraction, processing, organizing the business information and conducting the statistical analysis\\non Nissan Parts and Pricing data.\\nPlayed an important role in the development of Warranty Call center application.\\nLead a team of 5 from offshore that delivered business and technical related KPIs.\\nReporting Analyst ï¿½ Nissan North America (October 2012- March 2013)\\nPerformed requirement gathering, data cleansing and transformation of data.\\nPerformed Tableau solution design, development, data visualization and implementation.\\nPrepared business insight dashboards and Presentations for senior management using Tableau.\\nConducted ongoing performance tracking and success metrics for Nissan Parts and Services domain.\\nRelated coursework and academic projects:\\nPropensity of Quote Conversion Model: Analyzed real time data of a reputed insurance company and built a\\nmodel which details the behavior of quotes converting in to a policy using SAS.\\nPredictive Modeling for determining the sales of weather sensitive products: Analyzed the data of products\\nwhose sales might be affected by various weather conditions across different locations and applied advanced data\\nmining techniques using R to gain actionable business insights.\\nPredicting Diabetes based on HbA1c result: Analyzed the dataset of patients collected from 130 US hospitals\\nto predict the patients prone to diabetes based on the result of HbA1C (hyperglycemia) measurement using SAS\\nminer and Weka tools.\\nAirline Reservation Database: Created a common database using Oracle 11g which facilitates various features\\nlike managing all information related to flight, passengers, passenger contact details, reservation, transactions,\\nschedule publishing, airfare payments etc..\\nAchievements: Pat on Back Award for suggesting the Root Cause Analysis of an application failure and restoring the\\nNissan Parts Pricing system.',\n",
       "     'name': 'A D',\n",
       "     'phone': '+1 (813-203-8135',\n",
       "     'summary': 'of Qualifications:\\n2.5 years of experience as a techno functional application analyst.\\nSound knowledge of Predictive Modeling, Hypothesis Testing, Regression Analysis, ANOVA, Time series\\nAnalysis, Logistic Models, Decision Trees, SVM Models and Neural Networks.\\nProficient in using statistical tools such as SAS Enterprise Miner, R studio and Weka.\\nProficient with SQL-database design, querying, database management, indexing, transaction processing, parallel\\ndatabases, distributed and NoSQL databases and database programming.'},\n",
       "    '_type': 'candidate'},\n",
       "   {'_id': 'https://s3.amazonaws.com/careers.dataskeptic.com/resumes/unsourced/text/resumes_unsourced_Karan Kapoor - Data Science - Carnegie Mellon University.pdf.txt',\n",
       "    '_index': 'candidates_cv',\n",
       "    '_score': 1.0,\n",
       "    '_source': {'email': 'karankap@andrew.cmu.edu',\n",
       "     'experience': \"PAYPAL INC.\\n2015 Analytics Intern, Express Checkout Product Team SAN JOSE, CA\\nBig Data Analytics Risk Optimization\\nAnalyzed transaction-level data for Express Checkout to identify user behavior for transaction times using Teradata;\\nHighlighted device related differences between mobile and web transactions to optimize risk decline rate\\nCross Device Attribution Modeling\\nIdentified cross-device user movement for e-commerce transactions based on user-level transaction data;\\nSuggested changes to the de-duplication logic for identifying duplicate transactions on multiple devices from users\\nProduct Benchmarking\\nBenchmarked PayPal Express Checkout's technical and UI features against Apple Pay and Android Pay;\\nProposed new UI features for PayPal mobile experience for iOS and Android devices based on conversion trends\\nTATA MOTORS LIMITED\\n2013 2014 Territory Sales Manager, Medium and Heavy Commercial Vehicles Group BHUBANESWAR, INDIA\\nSales and Channel Management\\nForecasted monthly sales and optimized channel inventory using historical data to manage channel sales;\\nAchieved annual sales of $26 million, increased market share by 3% and reduced inventory costs by $800K\\n2012 2013 Post Graduate Management Trainee, Marketing and Sales Group NEW DELHI/BENGALURU, INDIA\\nMarketing Analytics\\nAnalyzed past sales and customer demographics data to identify geographical clusters with high sales potential;\\nImproved sales conversion ratio by 100% through targeted marketing activities in the geographical clusters\\nEVALUESERVE\\n2009 2010 Research Analyst, Intellectual Property Rights Group GURGAON, INDIA\\nStatistical Modelling\\nDevised a statistical patent ranking model using Analytic Hierarchy Process to automate work-flow processes;\\nReduced project timelines by 30% through the removal of redundant human efforts\",\n",
       "     'name': 'N K',\n",
       "     'phone': '919-599-6742'},\n",
       "    '_type': 'candidate'},\n",
       "   {'_id': 'https://s3.amazonaws.com/careers.dataskeptic.com/resumes/unsourced/text/resumes_unsourced_Data Science, Inc..pdf.txt',\n",
       "    '_index': 'candidates_cv',\n",
       "    '_score': 1.0,\n",
       "    '_source': {'email': 'ashish-kumar-1@uiowa.edu', 'name': 'Human Resource'},\n",
       "    '_type': 'candidate'},\n",
       "   {'_id': 'https://s3.amazonaws.com/careers.dataskeptic.com/resumes/unsourced/text/resumes_unsourced_Bo_Peng.pdf.txt',\n",
       "    '_index': 'candidates_cv',\n",
       "    '_score': 1.0,\n",
       "    '_source': {'education': \"Master of Science in Data Science\\nUniversity of Indiana - Bloomington, IN\\nAugust 2015 to May 2017\\nMaster's\\nIowa State University - Ames, IA\",\n",
       "     'email': 'bopeng.ia@gmail.com',\n",
       "     'experience': \"Graduate Speech Analytics Intern II\\nCBE Companies - Cedar Falls, IA - September 2015 to March 2016\\nWorked on Natural Language Processing (NLP) and analysis of a text problem for a debt collection company.\\nCustom built a large Natural Language word and phrase bank using Regular expression and call to text\\nprocessing software Eureka.\\nUsed machine learning techniques in python such as gradient boosting machines (GBM) and random forest\\nto do analysis and predictive modeling on call data.\\nWe were trying to use NLP to build a predictive modeling metric to try to correlate a collector's collection\\ndollars amount by what behaviors or words the collector would say in his call transcripts.\\nAlso used Nutonian's Machine intelligence automated predictive modeling software to do some preliminary\\nanalysis.\\nUsed scikit-learn, numpy, pandas and matplotlib in python for analysis and visualization.\\nTicket Sales\\nOnline Merchandise Sales - Decorah, IA - March 2014 to August 2015\\nBought and sold large quantities of tickets to various events\\nTraveled to Brazil twice in 2014 to buy and resell World Cup tickets for over $10,000 Profit\\nBought and sold exclusive merchandise in bulk for resale\\nGraduate Student\\nIowa State University - Ames, IA - August 2013 to March 2014\\nI took graduate courses in Statistics at Iowa State University planning on completing an MS in Statistics. Wasn't\\nthe right fit for me at that time.\\nHome Preservation Specialist\\nWells Fargo Home Equity - Des Moines, IA - November 2012 to June 2013\\nConducted Analysis and Relational preservation to lead borrowers in Refinance/HAMP and Private\\nModification/Short Sale/Deed in Lieu/Settlement/Payout/Reinstatement resolutions\\nHighest Tier 10/10 Bonus level and Top month end performer every month after burn in period\\nRanked # 1 performer in all of Foreclosure Save/Matured/End of Draw Department of over 60 people from\\nFebruary - April\\nRetail Deficiency Analyst\\nWells Fargo Home Mortgage - Des Moines, IA - July 2012 to September 2012\\nWorked as a Retail Deficiency Analyst in the Post-Closing department of WFHM\\nHandled Conventional, FHA and VA loans making sure they met salability compliance\",\n",
       "     'name': 'Bo Peng',\n",
       "     'phone': '515-520-8569'},\n",
       "    '_type': 'candidate'},\n",
       "   {'_id': 'https://s3.amazonaws.com/careers.dataskeptic.com/resumes/unsourced/text/resumes_unsourced_Resume.pdf.txt',\n",
       "    '_index': 'candidates_cv',\n",
       "    '_score': 1.0,\n",
       "    '_source': {'education': 'Master of Science in Computer Science (Data Science). May 16\\nUniversity of Southern California, Los Angeles, CA, USA. GPA: 3.53\\nRelevant Coursework: Database Systems - Analysis of Algorithms - Applied Probability - Data Mining -\\nApplications of NLP - Machine Learning - Advanced data stores\\nB.Tech in Computer Science, SRM University, Chennai, India. Jun 13\\nGPA: 8.6/10\\nTECHNICAL SKILLS\\nProgramming Languages : Python(Proficient), Java(Proficient), C, R(basic), Matlab , SQL\\nWeb Technology : NodeJS, Javascript, HTML, CSS, REST APIs, Flask(Python)\\nDatabase : MYSQL, Oracle 11G, CouchDB, MongoDB\\nApplications : Eclipse,Netbeans,MySQL Workbench, SQL Developer, Git',\n",
       "     'email': 'singhss@usc.edu',\n",
       "     'experience': 'Software Intern, Applied Data Finance, San Diego May 15 Aug 15\\nWorked on parsing data feeds formatted with XML, JSON , working with data scientist to manage\\ndata, building tools to support robust testing of application, building tools to support on-demand\\naccess to cloud development resources.\\nSoftware Engineer, Global Analytics, India Oct 13 May 14\\nDeveloped python modules to automate manual processes using python packages.\\nOptimized SQL queries to improve their run time performance using various optimization techniques.\\nACADEMIC PROJECTS AND REPORTS\\nCouchDB based social application Oct 15\\nImplemented a CouchDB based social application involving actions like add friends, view profile etc. in\\nJava. Used BG benchmarking to test the performance of CouchDB\\nBcache enabled MongoDB Nov 15\\nImplemented a TPCC based database system using MongoDB\\nThe system was tested with and without bcache to measure the relative improvement in MongoDB\\nperformance when bcache is added to the system.\\nPredicting rainfall II Nov 15\\nImplemented gradient descent boosting algorithm using scikit learn package in python.\\nUsed K fold validation and GridCV in scikit learn to hypertune the parameters required for the model.\\nAchieved a rank of 220 out of more than 600 teams on the competition.\\nDocument Server July 15\\nBuilt a document server to view and edit documents online in the browser.\\nUsed Javascript, NodeJS and python to build the application. Integrated Git in the application\\nto view and edit all the different versions of a file in the browser itself.\\nData Simulator May 15\\nBuilt a Data simulator to mimic the behavior of data vendors who provide bank data for customers.\\nUsed python and MySQL to automate the process of generating data and responding to calls from the\\nmain decision engine.\\nAutomatic Text Summarizer May 15\\nImplemented an Automatic Text summarizer system based on three approaches, K-Medoid, LSA &\\nLexRank. Achieved a F-score of over 0.60 beating regular Microsoft word summarizer.\\nCollaborative filtering based recommender system. Mar 15\\nDeveloped user based collaborative filtering recommender system to predict unknown movie ratings\\nfor users. It found the similarity weights between users, which were then used to get the weighted\\naverage of the known ratings of highly similar users to predict the unknown rating.\\nMining Frequent Itemset using A-priori & PCY Algorithm. Jan 15\\nImplemented A-Priori & PCY algorithms on customer transaction dataset to find frequently occurring\\nitemsets that could be used by the recommender system to recommend new items to the users.',\n",
       "     'name': 'Shashank S',\n",
       "     'phone': '(213) 379-4962',\n",
       "     'profiles': 'www.linkedin.com/pub/shashank-singh/7a/53/197/https://github.com/shanky-259',\n",
       "     'projects': 'AND REPORTS\\nCouchDB based social application Oct 15\\nImplemented a CouchDB based social application involving actions like add friends, view profile etc. in\\nJava. Used BG benchmarking to test the performance of CouchDB\\nBcache enabled MongoDB Nov 15\\nImplemented a TPCC based database system using MongoDB\\nThe system was tested with and without bcache to measure the relative improvement in MongoDB\\nperformance when bcache is added to the system.\\nPredicting rainfall II Nov 15\\nImplemented gradient descent boosting algorithm using scikit learn package in python.\\nUsed K fold validation and GridCV in scikit learn to hypertune the parameters required for the model.\\nAchieved a rank of 220 out of more than 600 teams on the competition.\\nDocument Server July 15\\nBuilt a document server to view and edit documents online in the browser.\\nUsed Javascript, NodeJS and python to build the application. Integrated Git in the application\\nto view and edit all the different versions of a file in the browser itself.\\nData Simulator May 15\\nBuilt a Data simulator to mimic the behavior of data vendors who provide bank data for customers.\\nUsed python and MySQL to automate the process of generating data and responding to calls from the\\nmain decision engine.\\nAutomatic Text Summarizer May 15\\nImplemented an Automatic Text summarizer system based on three approaches, K-Medoid, LSA &\\nLexRank. Achieved a F-score of over 0.60 beating regular Microsoft word summarizer.\\nCollaborative filtering based recommender system. Mar 15\\nDeveloped user based collaborative filtering recommender system to predict unknown movie ratings\\nfor users. It found the similarity weights between users, which were then used to get the weighted\\naverage of the known ratings of highly similar users to predict the unknown rating.\\nMining Frequent Itemset using A-priori & PCY Algorithm. Jan 15\\nImplemented A-Priori & PCY algorithms on customer transaction dataset to find frequently occurring\\nitemsets that could be used by the recommender system to recommend new items to the users.'},\n",
       "    '_type': 'candidate'},\n",
       "   {'_id': 'https://s3.amazonaws.com/careers.dataskeptic.com/resumes/unsourced/text/resumes_unsourced_Arun Varghese Resume 2-15.pdf.txt',\n",
       "    '_index': 'candidates_cv',\n",
       "    '_score': 1.0,\n",
       "    '_source': {'education': ':\\nUniversity of Michigan, Ann Arbor 2014 - 2016\\nM.S., Information Science\\n- Specialization in Data Science\\n- Activities: Graduate Student Instructor, Senior Research Assistant at Ross School of Business, UM\\nDepartment of Economics and School of Information\\nUniversity of California at Santa Cruz 2008 - 2012\\nB.A., Mathematics & Economics, summa cum laude\\n- Coursework in pure mathematics, statistics, econometrics, experimental economics, game theory,\\nevolutionary game theory\\n- Activities: Research Assistant at UChicago Becker Friedman Institute (summer 2012), Purdue\\nUniversity Summer Research Scholar (summer 2011), Teaching Assistant and tutor in economics and\\nmathematics',\n",
       "     'email': 'arunv@umich.edu',\n",
       "     'experience': \":\\nUniversity of Michigan, Programmer/Research Assistant Dec 2015 ï¿½ Present\\nAnn Arbor, MI\\n- Assist in various aspects of a computational social science research project examining the effects of\\ncompetition on users of a popular dating website\\n- Program and help guide empirical strategy\\n- Built predictive models of message response\\n- Constructed social network features to enrich predictive model\\nGiveDirectly, Data and Analytics Intern Summer 2015\\nKisumu, Kenya\\n- GiveDirectly (GD) is a Google.org and Good Ventures-backed tech non-profit that is revolutionizing\\neffectiveness and transparency in the charitable giving sector\\n- Selected as the sole intern to work out of GD's western Kenya office\\n- Worked one-on-one with a senior director to design, implement and quantitatively evaluate a major\\noverhauling of GD's operating model\\n- As a part of this overhaul, built a predictive model to help identify GD beneficiaries\\n- Made operational recommendations following internship that GD subsequently instituted\\n- Hired on as a part-time contractor following internship to continue providing analytics support\\nAuction Technologies / Alvarez & Marsal, Associate 2012 - 2014\\nSan Francisco, CA\\n- Youngest ever hired to the Associate role at an economics and applied game theory consulting firm\\n- Auction Technologies (ATI) provided bidder advisory services to clients during their participation in\\nspectrum auctions\\n- Analyzed data from mathematical models and simulations and synthesized information into bid\\nstrategy recommendations for clients\\n- Joined Alvarez & Marsal (A&M) with team from ATI to begin A&M's auctions practice\",\n",
       "     'name': 'Arun Varghese',\n",
       "     'phone': '(916) 388-4326'},\n",
       "    '_type': 'candidate'},\n",
       "   {'_id': 'https://s3.amazonaws.com/careers.dataskeptic.com/resumes/unsourced/text/resumes_unsourced_Resume 2016 Joyce Dong April.pdf.txt',\n",
       "    '_index': 'candidates_cv',\n",
       "    '_score': 1.0,\n",
       "    '_source': {'education': 'University of Illinois at Urbana-Champaign May 2014\\nMaster of Science, Statistics GPA: 3.74/4.00\\nSun Yat-sen University (SYSU), Guangzhou, P.R. China June 2012\\nBachelor of Science, Information and Computational Science GPA: 3.54/4.00\\nPROJECT EXPERIENCE\\nKaggle Competition: Recognize Users of Mobile Devices from Accelerometer Data 11/2013 - 12/2013\\nCorrectly determined whether the 90,000 accelerometer recordings belong to the proposed 387 devices by classification\\nmodels and the accuracy is up to 75%\\nImplemented KNN, Naï¿½ve Bayes, Random Forest algorithms on 1 GB training data, efficiently reduced computation\\ncost by performing sampling techniques\\nStatistical Consulting: Survey Design Based on Statistical Analysis 02/2014 - 04/2014\\nDetected 10% irrelevant and 15% highly similar questions from 78 survey questions by Factor Analysis and\\nHierarchical Clustering Analysis, presented findings and delivered interpretation documents to clients\\nData Mining: Role Discovery in Information Network 03/2013 - 05/2013\\nAutomatically discovered the most important citation for a proposed paper, mined the association between 1.57 million\\npaper and its citations with meta-path algorithm, improve predict accuracy from 33% to 67%, conducted data extraction,\\ndatabases querying and large-scale matrix computation on Matlab and MySql\\nPROFESSIONAL SKILLS\\nTools: SAS Advanced Programming Certificate, SAS Forecast Studio, SAS Enterprise Miner, SAS Visual Analytics,\\nJMP, R, MATLAB, Microsoft Excel\\nProgramming Languages: C/C++(26 months), SQL',\n",
       "     'email': 'ydong26@illinois.edu',\n",
       "     'experience': \"________________________________________\\nSteelcase Inc, Advanced Analytics, Grand Rapids, MI\\nAdvanced Analytics Modeler 07/2014 - Present\\nDevelop and maintain an 18-month forecast for manufactory plants human resource, reduced operation cost and\\nincreased reliability in manpower planning for seasonal aspects, the final accuracies are above 85%\\nDevelop large-scale top-down hierarchical forecast models for weekly Sales & Operation Planning (SOP), over 10,000\\nmodels at the lowest level, build models such as ARIMAX , Seasonal Exponential Smoothing models, provide data\\ninsight for demand and supply balance\\nSwift ability to extract, manipulate, visualize and communicate upon large datasets, developed fully-automated\\nmonthly production models using SAS Stored Process and web-based visualizations using SAS Visual Analytics\\nEnergetic self-starter with strong communication skills: provided analytic guidance and assess clients' need as an\\ninternal statistical consultant, gave project presentations to IT leaders, provided clear assignments to interns as a mentor\\nAnheuser-Busch InBev, Bud Analytics Lab, Champaign, IL\\nData Analytics Intern 01/2014 ï¿½ 07/2014\\nCaptured potential lost sales, detected root cause of out-of stock and provided solutions for model improvement by\\nanalyzing predictions vs. actual sales patterns and evaluating the accuracy of the existing models\\nBuilding daily sales predictive model for over 100 products, 4000 stores in North America for better avoiding\\nout-of-stock and raising sales revenue, final predict accuracy was up to 78%\\nGraduate School of Library and Information Science, University of Illinois at Urbana-Champaign\\nResearch Assistant 06/2013 - 08/2013\\nConducted data pre-processing in SAS, developed numerous variables creating programs to reach a final data\\nGenerated quantitative tables and descriptive plots for Community Informatics Analysis researchKaggle Competition: Recognize Users of Mobile Devices from Accelerometer Data 11/2013 - 12/2013\\nCorrectly determined whether the 90,000 accelerometer recordings belong to the proposed 387 devices by classification\\nmodels and the accuracy is up to 75%\\nImplemented KNN, Naï¿½ve Bayes, Random Forest algorithms on 1 GB training data, efficiently reduced computation\\ncost by performing sampling techniques\\nStatistical Consulting: Survey Design Based on Statistical Analysis 02/2014 - 04/2014\\nDetected 10% irrelevant and 15% highly similar questions from 78 survey questions by Factor Analysis and\\nHierarchical Clustering Analysis, presented findings and delivered interpretation documents to clients\\nData Mining: Role Discovery in Information Network 03/2013 - 05/2013\\nAutomatically discovered the most important citation for a proposed paper, mined the association between 1.57 million\\npaper and its citations with meta-path algorithm, improve predict accuracy from 33% to 67%, conducted data extraction,\\ndatabases querying and large-scale matrix computation on Matlab and MySql\\nPROFESSIONAL SKILLS\\nTools: SAS Advanced Programming Certificate, SAS Forecast Studio, SAS Enterprise Miner, SAS Visual Analytics,\\nJMP, R, MATLAB, Microsoft Excel\\nProgramming Languages: C/C++(26 months), SQL\",\n",
       "     'name': 'Joyce Yuqiao',\n",
       "     'phone': '217-281-2176'},\n",
       "    '_type': 'candidate'}],\n",
       "  'max_score': 1.0,\n",
       "  'total': 622},\n",
       " 'timed_out': False,\n",
       " 'took': 0}"
      ]
     },
     "execution_count": 5,
     "metadata": {},
     "output_type": "execute_result"
    }
   ],
   "source": [
    "es.search(index='candidates_cv', query={\"query\": {\"match_all\": {}}})"
   ]
  },
  {
   "cell_type": "code",
   "execution_count": null,
   "metadata": {},
   "outputs": [],
   "source": [
    "\n",
    " "
   ]
  },
  {
   "cell_type": "code",
   "execution_count": null,
   "metadata": {},
   "outputs": [],
   "source": [
    "es.search(index = 'candidates_cv', query =\n",
    "{\n",
    "    \"aggs\" : {\n",
    "        \"sources_count\" : { \"value_count\" : { \"field\" : \"source\" } }\n",
    "    }\n",
    "})"
   ]
  },
  {
   "cell_type": "code",
   "execution_count": null,
   "metadata": {},
   "outputs": [],
   "source": []
  },
  {
   "cell_type": "code",
   "execution_count": null,
   "metadata": {},
   "outputs": [],
   "source": [
    "es.search(index = 'candidates_cv', query =\n",
    "                                    { \"_source\" : [\"name\"],\n",
    "                                        \"aggs\": { \n",
    "                                            \"field\": { \n",
    "                                                \"terms\": { \"field\": \"source\" }\n",
    "                                             \n",
    "                                                } \n",
    "                                                }\n",
    "                                                })"
   ]
  },
  {
   "cell_type": "code",
   "execution_count": null,
   "metadata": {},
   "outputs": [],
   "source": [
    "es.search(index = 'candidates_cv', query =\n",
    "{ \"_source\" : ['phone'],\n",
    "    \"aggs\" : {\n",
    "        \"without_phone\" : {\n",
    "            \"missing\" : { \"field\" : 'source' }\n",
    "        }\n",
    "    }\n",
    "})\n"
   ]
  },
  {
   "cell_type": "code",
   "execution_count": null,
   "metadata": {},
   "outputs": [],
   "source": [
    "es.search(index = 'candidates_cv', query =\n",
    "{ \"_source\": \"phone\",\n",
    "          \"aggs\": {\n",
    "            \"Field names\": {\n",
    "              \"terms\": {\n",
    "                \"field\": \"source\", \n",
    "                \"size\": 10\n",
    "              }\n",
    "            }\n",
    "          }\n",
    "        })"
   ]
  },
  {
   "cell_type": "code",
   "execution_count": null,
   "metadata": {},
   "outputs": [],
   "source": [
    "es.search(index = 'candidates_cv', query =\n",
    "{  '_source':'phone'\n",
    "    \"aggs\" : {\n",
    "        \"phone\" : {\n",
    "            \"terms\" : { \"field\" : \"['_source']['phone']\" }\n",
    "        }\n",
    "    }\n",
    "})"
   ]
  },
  {
   "cell_type": "code",
   "execution_count": 453,
   "metadata": {},
   "outputs": [
    {
     "data": {
      "text/plain": [
       "{'_shards': {'failed': 0, 'successful': 5, 'total': 5},\n",
       " 'hits': {'hits': [], 'max_score': None, 'total': 0},\n",
       " 'timed_out': False,\n",
       " 'took': 0}"
      ]
     },
     "execution_count": 453,
     "metadata": {},
     "output_type": "execute_result"
    }
   ],
   "source": [
    "es.search(index = 'candidates_cv', query =\n",
    "{ \n",
    "    \"query\" : {\n",
    "        \"term\" : { \"phone\" : \"217-281-2176\" }\n",
    "    }\n",
    "})"
   ]
  },
  {
   "cell_type": "code",
   "execution_count": 556,
   "metadata": {},
   "outputs": [],
   "source": [
    "var = ['name','phone','email','projects','awards','certification','summary','experience','education','objective']"
   ]
  },
  {
   "cell_type": "code",
   "execution_count": 557,
   "metadata": {},
   "outputs": [],
   "source": [
    "totals = []\n",
    "for i in var :\n",
    "    result = es.search(index='candidates_cv', query= \n",
    "            {\n",
    "                \"query\": {\n",
    "                    \"exists\" : { \"field\" : i }\n",
    "                }\n",
    "            })\n",
    "    total = result['hits']['total']\n",
    "    totals.append(total)"
   ]
  },
  {
   "cell_type": "code",
   "execution_count": 558,
   "metadata": {},
   "outputs": [
    {
     "name": "stdout",
     "output_type": "stream",
     "text": [
      "name 620\n",
      "phone 535\n",
      "email 595\n",
      "projects 229\n",
      "awards 121\n",
      "certification 78\n",
      "summary 117\n",
      "experience 534\n",
      "education 525\n",
      "objective 46\n"
     ]
    }
   ],
   "source": [
    "for x,y in zip(var,totals):\n",
    "    print (x,y) \n",
    "          "
   ]
  },
  {
   "cell_type": "code",
   "execution_count": 518,
   "metadata": {},
   "outputs": [
    {
     "data": {
      "text/plain": [
       "595"
      ]
     },
     "execution_count": 518,
     "metadata": {},
     "output_type": "execute_result"
    }
   ],
   "source": [
    "result['hits']['total']"
   ]
  },
  {
   "cell_type": "code",
   "execution_count": null,
   "metadata": {},
   "outputs": [],
   "source": [
    "es.search(index='candidates_cv', query= \n",
    "{\n",
    "    \"query\": {\n",
    "        \"exists\" : { \"field\" : \"phone\" }\n",
    "    }\n",
    "})"
   ]
  },
  {
   "cell_type": "code",
   "execution_count": null,
   "metadata": {},
   "outputs": [],
   "source": [
    "es.search(index='candidates_cv', query= \n",
    "{\n",
    "    \"query\": {\n",
    "        \"bool\": {\n",
    "            \"must\": [{\n",
    "                \"exists\": {\n",
    "                    \"field\": \"phone\"\n",
    "                }\n",
    "            },\n",
    "            {\n",
    "                \"exists\": {\n",
    "                    \"field\": \"projects\"\n",
    "                }\n",
    "            }\n",
    "            ]\n",
    "        }\n",
    "    }\n",
    "})"
   ]
  },
  {
   "cell_type": "markdown",
   "metadata": {},
   "source": [
    "# EDUCATION and NAME DICT"
   ]
  },
  {
   "cell_type": "code",
   "execution_count": 1885,
   "metadata": {},
   "outputs": [],
   "source": [
    "d_all = es.search(index='candidates_cv', query={\n",
    "                                        \"query\": {\"match_all\": {}},\n",
    "                                        \"size\":  622\n",
    "                                        })"
   ]
  },
  {
   "cell_type": "code",
   "execution_count": 1886,
   "metadata": {},
   "outputs": [],
   "source": [
    "all_l = []\n",
    "for i in range(len(d_all['hits']['hits'])):\n",
    "    l = d_all['hits']['hits'][i]['_source']\n",
    "    all_l.append(l)"
   ]
  },
  {
   "cell_type": "code",
   "execution_count": 678,
   "metadata": {},
   "outputs": [
    {
     "data": {
      "text/plain": [
       "'UNIVERSITY OF CALIFORNIA IRVINE, IRVINE, CA {C% Gd aC*bGY *CGlY G*d*\\n8 F\\nUNIVERSITY OF CALIFORNIA IRVINE, IRVINE, CA a Gd GG\\n8 F\\nGRINNELL COLLEGE, GRINNELL, IA Gd aC*bG\\nc : F'"
      ]
     },
     "execution_count": 678,
     "metadata": {},
     "output_type": "execute_result"
    }
   ],
   "source": [
    "edu_list = []\n",
    "for edu in all_l:\n",
    "    key = 'education'\n",
    "    if key in edu:\n",
    "        educations = edu[key]\n",
    "    else:\n",
    "        educations = \"\"\n",
    "    edu_list.append(educations)\n",
    "edu_list[0]"
   ]
  },
  {
   "cell_type": "code",
   "execution_count": null,
   "metadata": {},
   "outputs": [],
   "source": [
    "edu_list = []\n",
    "for edu in all_l:\n",
    "    key = 'education'\n",
    "    if key in edu:\n",
    "        educations = edu[key]\n",
    "    else:\n",
    "        educations = \"\"\n",
    "    edu_list.append(educations)\n",
    "edu_list[0]"
   ]
  },
  {
   "cell_type": "code",
   "execution_count": 677,
   "metadata": {},
   "outputs": [
    {
     "data": {
      "text/plain": [
       "'Bahattin Tolga'"
      ]
     },
     "execution_count": 677,
     "metadata": {},
     "output_type": "execute_result"
    }
   ],
   "source": [
    "name_list = []\n",
    "for name in all_l:\n",
    "    key = 'name'\n",
    "    if key in name:\n",
    "        names = name[key]\n",
    "    else:\n",
    "        names = \"\"\n",
    "    name_list.append(names)\n",
    "name_list[0]"
   ]
  },
  {
   "cell_type": "code",
   "execution_count": 1332,
   "metadata": {},
   "outputs": [
    {
     "data": {
      "text/plain": [
       "''"
      ]
     },
     "execution_count": 1332,
     "metadata": {},
     "output_type": "execute_result"
    }
   ],
   "source": [
    "summary_list = []\n",
    "for summ in all_l:\n",
    "    key = 'summary'\n",
    "    if key in summ:\n",
    "        summarys = summ[key]\n",
    "    else:\n",
    "        summarys = \"\"\n",
    "    summary_list.append(summarys)\n",
    "summary_list[8]\n"
   ]
  },
  {
   "cell_type": "code",
   "execution_count": 634,
   "metadata": {},
   "outputs": [],
   "source": [
    "#d_edu = dict(zip(name_list, edu_list))"
   ]
  },
  {
   "cell_type": "code",
   "execution_count": 640,
   "metadata": {},
   "outputs": [
    {
     "data": {
      "text/plain": [
       "['this']"
      ]
     },
     "execution_count": 640,
     "metadata": {},
     "output_type": "execute_result"
    }
   ],
   "source": [
    "import re\n",
    "regex = re.compile('th.s')\n",
    "l = ['this', 'is', 'just', 'a', 'test']\n",
    "[string for string in l if re.match(regex, string)]"
   ]
  },
  {
   "cell_type": "code",
   "execution_count": 660,
   "metadata": {},
   "outputs": [
    {
     "data": {
      "text/plain": [
       "[]"
      ]
     },
     "execution_count": 660,
     "metadata": {},
     "output_type": "execute_result"
    }
   ],
   "source": [
    "import re\n",
    "regex = re.compile('')\n",
    "[string for string in edu_list[3] if re.match(regex, string)]"
   ]
  },
  {
   "cell_type": "code",
   "execution_count": 704,
   "metadata": {},
   "outputs": [
    {
     "data": {
      "text/plain": [
       "'University of Illinois at Urbana-Champaign May 2014\\nMaster of Science, Statistics GPA: 3.74/4.00\\nSun Yat-sen University (SYSU), Guangzhou, P.R. China June 2012\\nBachelor of Science, Information and Computational Science GPA: 3.54/4.00\\nPROJECT EXPERIENCE\\nKaggle Competition: Recognize Users of Mobile Devices from Accelerometer Data 11/2013 - 12/2013\\nCorrectly determined whether the 90,000 accelerometer recordings belong to the proposed 387 devices by classification\\nmodels and the accuracy is up to 75%\\nImplemented KNN, Naï¿½ve Bayes, Random Forest algorithms on 1 GB training data, efficiently reduced computation\\ncost by performing sampling techniques\\nStatistical Consulting: Survey Design Based on Statistical Analysis 02/2014 - 04/2014\\nDetected 10% irrelevant and 15% highly similar questions from 78 survey questions by Factor Analysis and\\nHierarchical Clustering Analysis, presented findings and delivered interpretation documents to clients\\nData Mining: Role Discovery in Information Network 03/2013 - 05/2013\\nAutomatically discovered the most important citation for a proposed paper, mined the association between 1.57 million\\npaper and its citations with meta-path algorithm, improve predict accuracy from 33% to 67%, conducted data extraction,\\ndatabases querying and large-scale matrix computation on Matlab and MySql\\nPROFESSIONAL SKILLS\\nTools: SAS Advanced Programming Certificate, SAS Forecast Studio, SAS Enterprise Miner, SAS Visual Analytics,\\nJMP, R, MATLAB, Microsoft Excel\\nProgramming Languages: C/C++(26 months), SQL'"
      ]
     },
     "execution_count": 704,
     "metadata": {},
     "output_type": "execute_result"
    }
   ],
   "source": [
    "edu_list[-1]"
   ]
  },
  {
   "cell_type": "code",
   "execution_count": 698,
   "metadata": {},
   "outputs": [
    {
     "name": "stdout",
     "output_type": "stream",
     "text": [
      "['the', 'angry', 'bear', 'chased', 'the', 'frightened', 'fish']\n"
     ]
    }
   ],
   "source": [
    "words = 'the angry bear chased the frightened fish'\n",
    "tokens = [i for i in words.split()]\n",
    "print(tokens)"
   ]
  },
  {
   "cell_type": "code",
   "execution_count": 703,
   "metadata": {},
   "outputs": [
    {
     "name": "stdout",
     "output_type": "stream",
     "text": [
      "python\n",
      "python\n",
      "python\n",
      "C\n",
      "R\n",
      "r programm\n",
      "c+\n"
     ]
    }
   ],
   "source": [
    "from nltk.stem import PorterStemmer\n",
    "from nltk.tokenize import word_tokenize\n",
    "ps = PorterStemmer()\n",
    "words = ['python','PYTHON','PyThoN','C','R','R PROGRAMM','c+']\n",
    "for w in words:\n",
    "    print(ps.stem(w))"
   ]
  },
  {
   "cell_type": "code",
   "execution_count": 1450,
   "metadata": {},
   "outputs": [],
   "source": [
    "words = edu_list[-1].lower()\n",
    "tokens = [i for i in words.split()]\n"
   ]
  },
  {
   "cell_type": "code",
   "execution_count": 1451,
   "metadata": {},
   "outputs": [],
   "source": [
    "# remove non alpha word\n",
    "words = [word for word in tokens if word.isalpha()]\n",
    "# remove stop word\n",
    "stop_words = set(stopwords.words('english'))\n",
    "words = [w for w in words if not w in stop_words]\n",
    "# stemming word\n",
    "from nltk.stem.porter import PorterStemmer\n",
    "porter = PorterStemmer()\n",
    "stemmed = [porter.stem(word) for word in words]\n"
   ]
  },
  {
   "cell_type": "code",
   "execution_count": 1045,
   "metadata": {},
   "outputs": [],
   "source": [
    "skills = {  \n",
    "        \"R\" :[\n",
    "              \"r programming\",\n",
    "              \"r lanaguage\"\n",
    "              \"dplyr\",\n",
    "              \"ggplot\",\n",
    "              \"r\"\n",
    "        ],\n",
    "        \"python\" :[\n",
    "                   \"python\",\n",
    "                   \"padans\"\n",
    "        ],\n",
    "        \"spark\" :[\n",
    "                  \"spark\",\n",
    "                  \"mllib\"\n",
    "        ]\n",
    "}"
   ]
  },
  {
   "cell_type": "code",
   "execution_count": 1046,
   "metadata": {},
   "outputs": [
    {
     "data": {
      "text/plain": [
       "{'R': ['r programming', 'r lanaguagedplyr', 'ggplot', 'r'],\n",
       " 'python': ['python', 'padans'],\n",
       " 'spark': ['spark', 'mllib']}"
      ]
     },
     "execution_count": 1046,
     "metadata": {},
     "output_type": "execute_result"
    }
   ],
   "source": [
    "skills"
   ]
  },
  {
   "cell_type": "code",
   "execution_count": null,
   "metadata": {},
   "outputs": [],
   "source": [
    "for user in users:\n",
    "    user_skills = []\n",
    "    for skill in skills:\n",
    "        for item in skill."
   ]
  },
  {
   "cell_type": "code",
   "execution_count": 890,
   "metadata": {},
   "outputs": [
    {
     "data": {
      "text/plain": [
       "'master of science in computer science (data science). may 16\\nuniversity of southern california, los angeles, ca, usa. gpa: 3.53\\nrelevant coursework: database systems - analysis of algorithms - applied probability - data mining -\\napplications of nlp - machine learning - advanced data stores\\nb.tech in computer science, srm university, chennai, india. jun 13\\ngpa: 8.6/10\\ntechnical skills\\nprogramming languages : python(proficient), java(proficient), c, r(basic), matlab , sql\\nweb technology : nodejs, javascript, html, css, rest apis, flask(python)\\ndatabase : mysql, oracle 11g, couchdb, mongodb\\napplications : eclipse,netbeans,mysql workbench, sql developer, git'"
      ]
     },
     "execution_count": 890,
     "metadata": {},
     "output_type": "execute_result"
    }
   ],
   "source": [
    "edu_list[-3].lower()"
   ]
  },
  {
   "cell_type": "code",
   "execution_count": 830,
   "metadata": {},
   "outputs": [],
   "source": [
    "def is_in (kw):\n",
    "    if kw in edu_list:\n",
    "        return kw\n",
    "    else:\n",
    "        print('no')"
   ]
  },
  {
   "cell_type": "code",
   "execution_count": 1044,
   "metadata": {},
   "outputs": [
    {
     "data": {
      "text/plain": [
       "'University of Illinois at Urbana-Champaign May 2014\\nMaster of Science, Statistics GPA: 3.74/4.00\\nSun Yat-sen University (SYSU), Guangzhou, P.R. China June 2012\\nBachelor of Science, Information and Computational Science GPA: 3.54/4.00\\nPROJECT EXPERIENCE\\nKaggle Competition: Recognize Users of Mobile Devices from Accelerometer Data 11/2013 - 12/2013\\nCorrectly determined whether the 90,000 accelerometer recordings belong to the proposed 387 devices by classification\\nmodels and the accuracy is up to 75%\\nImplemented KNN, Naï¿½ve Bayes, Random Forest algorithms on 1 GB training data, efficiently reduced computation\\ncost by performing sampling techniques\\nStatistical Consulting: Survey Design Based on Statistical Analysis 02/2014 - 04/2014\\nDetected 10% irrelevant and 15% highly similar questions from 78 survey questions by Factor Analysis and\\nHierarchical Clustering Analysis, presented findings and delivered interpretation documents to clients\\nData Mining: Role Discovery in Information Network 03/2013 - 05/2013\\nAutomatically discovered the most important citation for a proposed paper, mined the association between 1.57 million\\npaper and its citations with meta-path algorithm, improve predict accuracy from 33% to 67%, conducted data extraction,\\ndatabases querying and large-scale matrix computation on Matlab and MySql\\nPROFESSIONAL SKILLS\\nTools: SAS Advanced Programming Certificate, SAS Forecast Studio, SAS Enterprise Miner, SAS Visual Analytics,\\nJMP, R, MATLAB, Microsoft Excel\\nProgramming Languages: C/C++(26 months), SQL'"
      ]
     },
     "execution_count": 1044,
     "metadata": {},
     "output_type": "execute_result"
    }
   ],
   "source": [
    "edu_list[9]"
   ]
  },
  {
   "cell_type": "code",
   "execution_count": 967,
   "metadata": {},
   "outputs": [],
   "source": [
    "words = []\n",
    "word = 'r'\n",
    "def is_in(word):\n",
    "    if word in edu_list[-3].lower(): \n",
    "        return word\n",
    "words.append(word)"
   ]
  },
  {
   "cell_type": "code",
   "execution_count": 968,
   "metadata": {},
   "outputs": [
    {
     "data": {
      "text/plain": [
       "'r'"
      ]
     },
     "execution_count": 968,
     "metadata": {},
     "output_type": "execute_result"
    }
   ],
   "source": [
    "is_in(word)"
   ]
  },
  {
   "cell_type": "markdown",
   "metadata": {},
   "source": [
    "# check if value in dict is in resume for 1 record"
   ]
  },
  {
   "cell_type": "code",
   "execution_count": 1580,
   "metadata": {},
   "outputs": [
    {
     "data": {
      "text/plain": [
       "\"al Qualifications:\\nMaster of Science in Management Information Systems (Expected Summer'16)\\nUniversity of South Florida, Tampa, FL, GPA-3.78/4.0\\nBachelor of Technology (Electrical & Electronics Engineering) Summer`11\\nJawaharlal Nehru Technological University, Hyderabad, India. GPA-3.6/4.0\\nTechnical Skills :\\nProgramming Language: C, C++, JAVA, Python, SQL, and PL/SQL.\\nDatabase & Tools: Oracle 11g, SQL server, MS access, DB2, Aqua Data Studio.\\nTools: Visual Studio, MATLAB, IBM RAD, Eclipse, Net beans, R Studio, Weka, SAS Enterprise Miner, SSRS\\nand SPSS.\\nWeb Development: HTML, XML, CSS5, Java Script.\""
      ]
     },
     "execution_count": 1580,
     "metadata": {},
     "output_type": "execute_result"
    }
   ],
   "source": [
    "doc['education']"
   ]
  },
  {
   "cell_type": "code",
   "execution_count": 1558,
   "metadata": {},
   "outputs": [],
   "source": [
    "def prepare_key_phrase_request(education_elem,i):\n",
    "    text = edu_list[i]\n",
    "    return text\n",
    "     "
   ]
  },
  {
   "cell_type": "code",
   "execution_count": 1593,
   "metadata": {},
   "outputs": [
    {
     "data": {
      "text/plain": [
       "'Postdoctoral Massachusetts Institute of Technology (MIT), USA, 2014 Present.\\nPh.D. Physics CERN (The European Organization for Nuclear Research) in collaboration with Simon Fraser\\nUniversity (Canada), Switzerland, 2008 2014.\\nM.Sc. Physics Sharif University of Technology, Iran, 2006 2008.\\nB.Sc. Physics University of Tehran, Iran, 2002 2006.'"
      ]
     },
     "execution_count": 1593,
     "metadata": {},
     "output_type": "execute_result"
    }
   ],
   "source": [
    "text = prepare_key_phrase_request(edu_list,2)\n",
    "text"
   ]
  },
  {
   "cell_type": "code",
   "execution_count": 1452,
   "metadata": {},
   "outputs": [],
   "source": [
    "def prepare_key_phrase_request(education_elem):\n",
    "    # TODO : convert edu_list[0] to format show above\n",
    "    return req"
   ]
  },
  {
   "cell_type": "code",
   "execution_count": 1316,
   "metadata": {},
   "outputs": [],
   "source": [
    "def extract_information(user_record):\n",
    "    # TODO: for each element in teh user_record\n",
    "    # TODO: call to amazon service\n",
    "    for element in ['education', 'summary', 'projects', 'experience']:\n",
    "        pass\n",
    "    boto3\n",
    "    amz_resp  = {\n",
    "        \"education\": { \"entities\": {}, \"keywords\": {} },\n",
    "        \"summary\": { \"entities\": {}, \"keywords\": {} },\n",
    "        \"projects\": { \"entities\": {}, \"keywords\": {} },\n",
    "        \"experience\": { \"entities\": {}, \"keywords\": {} }\n",
    "    }\n",
    "    return amz_resp"
   ]
  },
  {
   "cell_type": "code",
   "execution_count": 1317,
   "metadata": {},
   "outputs": [
    {
     "data": {
      "text/plain": [
       "{'entities': {}, 'keywords': {}, 'language': {}}"
      ]
     },
     "execution_count": 1317,
     "metadata": {},
     "output_type": "execute_result"
    }
   ],
   "source": [
    "extract_information(?)"
   ]
  },
  {
   "cell_type": "code",
   "execution_count": 1474,
   "metadata": {},
   "outputs": [],
   "source": [
    "config = json.load(open('../config/configsql.json', 'r'))\n",
    "aws_access_key_id=config['dev']['aws']['key']\n",
    "aws_secret_access_key=config['dev']['aws']['secret']\n",
    "region = 'us-east-1'"
   ]
  },
  {
   "cell_type": "code",
   "execution_count": null,
   "metadata": {},
   "outputs": [],
   "source": [
    "import boto3\n",
    "import json\n",
    "\n",
    "comprehend = boto3.client(service_name='comprehend',aws_access_key_id=aws_access_key_id, aws_secret_access_key=aws_secret_access_key,region_name = region)\n",
    "\n",
    "\n",
    "print('Calling DetectEntities')\n",
    "print(json.dumps(comprehend.detect_entities(Text=text, LanguageCode='en'), sort_keys=True, indent=4))\n",
    "print('End of DetectEntities\\n')"
   ]
  },
  {
   "cell_type": "code",
   "execution_count": 1607,
   "metadata": {},
   "outputs": [],
   "source": [
    "import boto3\n",
    "import json\n",
    "\n",
    "comprehend = boto3.client(service_name='comprehend',aws_access_key_id=aws_access_key_id, aws_secret_access_key=aws_secret_access_key,region_name = region)\n",
    "\n",
    "\n",
    "\n",
    "a =comprehend.detect_entities(Text=text, LanguageCode='en')\n",
    "b = comprehend.detect_key_phrases(Text=text, LanguageCode='en')"
   ]
  },
  {
   "cell_type": "code",
   "execution_count": 1666,
   "metadata": {},
   "outputs": [],
   "source": [
    "def extract_information(user_record):\n",
    "    resp = {}\n",
    "    for element in ['education', 'summary', 'projects', 'experience']:\n",
    "        if element in user_record:\n",
    "            text = user_record[element]\n",
    "            response_e = comprehend.detect_entities(Text=text, LanguageCode='en')\n",
    "            response_k = comprehend.detect_key_phrases(Text=text, LanguageCode='en')\n",
    "            entities = response_e['Entities'][0]['Text']\n",
    "            keywords = response_k['KeyPhrases'][0]['Text']\n",
    "        else:\n",
    "            entities = {}\n",
    "            keywords = {}\n",
    "        resp[element] = {\"entities\": entities, \"keywords\": keywords}\n",
    "    return resp"
   ]
  },
  {
   "cell_type": "code",
   "execution_count": 1681,
   "metadata": {},
   "outputs": [],
   "source": [
    "def extract_information(user_record):\n",
    "    resp = {}\n",
    "    for element in ['education', 'summary', 'projects', 'experience']:\n",
    "        if element in user_record:\n",
    "            text = user_record[element]\n",
    "            entity = comprehend.detect_entities(Text=text, LanguageCode='en')\n",
    "            keyword = comprehend.detect_key_phrases(Text=text, LanguageCode='en')\n",
    "        else:\n",
    "            entity = {}\n",
    "            keyword = {}\n",
    "        resp[element] = {\"entities\": entity, \"keywords\": keyword}\n",
    "    return resp"
   ]
  },
  {
   "cell_type": "code",
   "execution_count": 1682,
   "metadata": {},
   "outputs": [],
   "source": [
    "resp = extract_information(user_re)"
   ]
  },
  {
   "cell_type": "code",
   "execution_count": 1599,
   "metadata": {},
   "outputs": [
    {
     "name": "stdout",
     "output_type": "stream",
     "text": [
      "name\n",
      "email\n",
      "phone\n",
      "education\n",
      "experience\n",
      "summary\n"
     ]
    }
   ],
   "source": [
    "for element in user_re:\n",
    "    print(element)"
   ]
  },
  {
   "cell_type": "code",
   "execution_count": 1598,
   "metadata": {},
   "outputs": [
    {
     "data": {
      "text/plain": [
       "\"al Qualifications:\\nMaster of Science in Management Information Systems (Expected Summer'16)\\nUniversity of South Florida, Tampa, FL, GPA-3.78/4.0\\nBachelor of Technology (Electrical & Electronics Engineering) Summer`11\\nJawaharlal Nehru Technological University, Hyderabad, India. GPA-3.6/4.0\\nTechnical Skills :\\nProgramming Language: C, C++, JAVA, Python, SQL, and PL/SQL.\\nDatabase & Tools: Oracle 11g, SQL server, MS access, DB2, Aqua Data Studio.\\nTools: Visual Studio, MATLAB, IBM RAD, Eclipse, Net beans, R Studio, Weka, SAS Enterprise Miner, SSRS\\nand SPSS.\\nWeb Development: HTML, XML, CSS5, Java Script.\""
      ]
     },
     "execution_count": 1598,
     "metadata": {},
     "output_type": "execute_result"
    }
   ],
   "source": [
    "user_re['education']"
   ]
  },
  {
   "cell_type": "code",
   "execution_count": 1589,
   "metadata": {},
   "outputs": [
    {
     "data": {
      "text/plain": [
       "'A D'"
      ]
     },
     "execution_count": 1589,
     "metadata": {},
     "output_type": "execute_result"
    }
   ],
   "source": [
    "user_re['name']"
   ]
  },
  {
   "cell_type": "code",
   "execution_count": 1658,
   "metadata": {},
   "outputs": [],
   "source": [
    "entity = []\n",
    "for i in range(len(a['Entities'])):\n",
    "    entities = a['Entities'][i]['Text']\n",
    "    entity.append(entities)\n"
   ]
  },
  {
   "cell_type": "code",
   "execution_count": 1686,
   "metadata": {},
   "outputs": [],
   "source": [
    "keyword = []\n",
    "for i in range(len(b['KeyPhrases'])):\n",
    "    keywords = b['KeyPhrases'][i]['Text']\n",
    "    keyword.append(keywords)"
   ]
  },
  {
   "cell_type": "code",
   "execution_count": 1583,
   "metadata": {},
   "outputs": [
    {
     "name": "stdout",
     "output_type": "stream",
     "text": [
      "r programming\n",
      "r lanaguagedplyr\n",
      "ggplot\n",
      "r\n",
      "python\n",
      "padans\n",
      "spark\n",
      "mllib\n"
     ]
    }
   ],
   "source": [
    "for k in skills:\n",
    "    for v in skills[k]:\n",
    "        print(v)"
   ]
  },
  {
   "cell_type": "code",
   "execution_count": 1219,
   "metadata": {},
   "outputs": [],
   "source": [
    "def is_in(word):\n",
    "    if word in edu_list[7].lower(): \n",
    "        return word"
   ]
  },
  {
   "cell_type": "code",
   "execution_count": 1220,
   "metadata": {},
   "outputs": [],
   "source": [
    "user_skills = []\n",
    "for k in skills:\n",
    "    for v in skills[k]:\n",
    "        if is_in(v):\n",
    "            user_skills.append(k)"
   ]
  },
  {
   "cell_type": "code",
   "execution_count": 1221,
   "metadata": {},
   "outputs": [
    {
     "data": {
      "text/plain": [
       "['R', 'python']"
      ]
     },
     "execution_count": 1221,
     "metadata": {},
     "output_type": "execute_result"
    }
   ],
   "source": [
    "user_skills"
   ]
  },
  {
   "cell_type": "markdown",
   "metadata": {},
   "source": [
    "# parsed resume"
   ]
  },
  {
   "cell_type": "code",
   "execution_count": null,
   "metadata": {},
   "outputs": [],
   "source": []
  },
  {
   "cell_type": "code",
   "execution_count": 2005,
   "metadata": {},
   "outputs": [],
   "source": [
    "def extract_information(user_record):\n",
    "    resp = {}\n",
    "    for element in ['education', 'summary', 'projects', 'experience']:\n",
    "        if element in user_record:\n",
    "            text = user_record[element]\n",
    "            #print(element,len(text))\n",
    "            entity = comprehend.detect_entities(Text=text, LanguageCode='en')\n",
    "            keyword = comprehend.detect_key_phrases(Text=text, LanguageCode='en')\n",
    "        else:\n",
    "            entity = {}\n",
    "            keyword = {}\n",
    "        resp[element] = {\"entities\": entity, \"keywords\": keyword}\n",
    "    return resp"
   ]
  },
  {
   "cell_type": "code",
   "execution_count": 2006,
   "metadata": {},
   "outputs": [],
   "source": [
    "l = all_l"
   ]
  },
  {
   "cell_type": "code",
   "execution_count": 2002,
   "metadata": {},
   "outputs": [],
   "source": [
    "#print(i['experience'])"
   ]
  },
  {
   "cell_type": "code",
   "execution_count": 2014,
   "metadata": {},
   "outputs": [],
   "source": [
    "resp_all = []\n",
    "for i in l:\n",
    "    for key in i.keys():\n",
    "        i[key] = ASCII(i[key])\n",
    "        if len(i[key]) > 5000:\n",
    "            i[key] = i[key][0:5000]\n",
    "    result = extract_information(i)\n",
    "    resp_all.append(result)"
   ]
  },
  {
   "cell_type": "code",
   "execution_count": 1984,
   "metadata": {},
   "outputs": [
    {
     "name": "stdout",
     "output_type": "stream",
     "text": [
      "401   416.\n"
     ]
    }
   ],
   "source": [
    "print(i['experience'][3420:3430])"
   ]
  },
  {
   "cell_type": "code",
   "execution_count": 1985,
   "metadata": {},
   "outputs": [
    {
     "name": "stdout",
     "output_type": "stream",
     "text": [
      "401   416.\n"
     ]
    }
   ],
   "source": [
    "print(ASCII(i['experience'][3420:3430]))"
   ]
  },
  {
   "cell_type": "code",
   "execution_count": 1999,
   "metadata": {},
   "outputs": [],
   "source": [
    "def ASCII(s):\n",
    "    if s is None:\n",
    "        return ''\n",
    "    s2 = ''\n",
    "    for i in range(len(s)):\n",
    "        x = ord(s[i])\n",
    "        if x >= 32 and x < 128:\n",
    "            s2 += s[i]\n",
    "        else:\n",
    "            s2 += ' '\n",
    "    return s2"
   ]
  },
  {
   "cell_type": "code",
   "execution_count": 1909,
   "metadata": {},
   "outputs": [
    {
     "data": {
      "text/plain": [
       "dict_keys(['name', 'email', 'phone', 'education', 'experience', 'profiles', 'projects'])"
      ]
     },
     "execution_count": 1909,
     "metadata": {},
     "output_type": "execute_result"
    }
   ],
   "source": [
    "i.keys()"
   ]
  },
  {
   "cell_type": "code",
   "execution_count": null,
   "metadata": {},
   "outputs": [],
   "source": []
  },
  {
   "cell_type": "code",
   "execution_count": 1865,
   "metadata": {},
   "outputs": [],
   "source": [
    "resp_ = []\n",
    "for i in l:\n",
    "    result = extract_information(i)\n",
    "    resp_.append(result)\n",
    "\n",
    "for key in i.keys():\n",
    "print(key, len(i[key]))"
   ]
  },
  {
   "cell_type": "code",
   "execution_count": 1872,
   "metadata": {},
   "outputs": [
    {
     "name": "stdout",
     "output_type": "stream",
     "text": [
      "name 11\n",
      "email 14\n",
      "phone 14\n",
      "education 436\n",
      "experience 561\n",
      "profiles 39\n",
      "awards 35\n"
     ]
    }
   ],
   "source": [
    "for key in i.keys():\n",
    "    print(key, len(i[key]))"
   ]
  },
  {
   "cell_type": "code",
   "execution_count": 2037,
   "metadata": {},
   "outputs": [
    {
     "data": {
      "text/plain": [
       "622"
      ]
     },
     "execution_count": 2037,
     "metadata": {},
     "output_type": "execute_result"
    }
   ],
   "source": [
    "len(resp_all)"
   ]
  },
  {
   "cell_type": "markdown",
   "metadata": {},
   "source": [
    "# update to elasticsearch"
   ]
  },
  {
   "cell_type": "code",
   "execution_count": null,
   "metadata": {},
   "outputs": [],
   "source": [
    "from elasticsearch import Elasticsearch\n",
    "import json\n",
    "import requests"
   ]
  },
  {
   "cell_type": "code",
   "execution_count": null,
   "metadata": {},
   "outputs": [],
   "source": [
    "elastic_search_conn = Elasticsearch(endpoint, port=443)\n",
    "endpoint = config['dev']['endpoint']\n",
    "index_name = 'parsed_resume'"
   ]
  },
  {
   "cell_type": "code",
   "execution_count": null,
   "metadata": {},
   "outputs": [],
   "source": [
    "for resp in resp_all:\n",
    "    result = es.index(index_name,'resp_all',resp, id = )"
   ]
  },
  {
   "cell_type": "code",
   "execution_count": null,
   "metadata": {},
   "outputs": [],
   "source": [
    "d_all = es.search(index='candidates_cv', query={\n",
    "                                        \"query\": {\"match_all\": {}},\n",
    "                                        \"size\":  622\n",
    "                                        })"
   ]
  },
  {
   "cell_type": "code",
   "execution_count": 2033,
   "metadata": {},
   "outputs": [
    {
     "data": {
      "text/plain": [
       "'https://s3.amazonaws.com/careers.dataskeptic.com/resumes/unsourced/text/resumes_unsourced_MarkoBokulic_resume.pdf.txt'"
      ]
     },
     "execution_count": 2033,
     "metadata": {},
     "output_type": "execute_result"
    }
   ],
   "source": [
    "d_all['hits']['hits'][1]['_id']"
   ]
  },
  {
   "cell_type": "code",
   "execution_count": null,
   "metadata": {},
   "outputs": [],
   "source": [
    "all_l = []\n",
    "for i in range(len(d_all['hits']['hits'])):\n",
    "    l = d_all['hits']['hits'][i]['_source']\n",
    "    all_l.append(l)"
   ]
  },
  {
   "cell_type": "code",
   "execution_count": null,
   "metadata": {},
   "outputs": [],
   "source": []
  },
  {
   "cell_type": "code",
   "execution_count": null,
   "metadata": {},
   "outputs": [],
   "source": [
    "all_id = []\n",
    "for i in range(len(d_all['hits']['hits'])):\n",
    "    ids = d_all['hits']['hits'][i]['_id']\n",
    "    all_id.append(ids)"
   ]
  },
  {
   "cell_type": "code",
   "execution_count": null,
   "metadata": {},
   "outputs": [],
   "source": []
  },
  {
   "cell_type": "code",
   "execution_count": null,
   "metadata": {},
   "outputs": [],
   "source": []
  },
  {
   "cell_type": "code",
   "execution_count": null,
   "metadata": {},
   "outputs": [],
   "source": []
  },
  {
   "cell_type": "code",
   "execution_count": null,
   "metadata": {},
   "outputs": [],
   "source": []
  },
  {
   "cell_type": "code",
   "execution_count": null,
   "metadata": {},
   "outputs": [],
   "source": []
  },
  {
   "cell_type": "code",
   "execution_count": null,
   "metadata": {},
   "outputs": [],
   "source": []
  },
  {
   "cell_type": "code",
   "execution_count": null,
   "metadata": {},
   "outputs": [],
   "source": []
  }
 ],
 "metadata": {
  "kernelspec": {
   "display_name": "Python 3",
   "language": "python",
   "name": "python3"
  },
  "language_info": {
   "codemirror_mode": {
    "name": "ipython",
    "version": 3
   },
   "file_extension": ".py",
   "mimetype": "text/x-python",
   "name": "python",
   "nbconvert_exporter": "python",
   "pygments_lexer": "ipython3",
   "version": "3.6.4"
  }
 },
 "nbformat": 4,
 "nbformat_minor": 2
}
