{
 "cells": [
  {
   "cell_type": "code",
   "execution_count": 1,
   "metadata": {},
   "outputs": [],
   "source": [
    "from pyelasticsearch.client import ElasticSearch\n",
    "import json\n",
    "import requests\n",
    "import pandas as pd\n",
    "import math\n",
    "import numpy as np\n",
    "import boto3\n",
    "import re\n",
    "import collections\n",
    "from collections import defaultdict\n",
    "from dateutil import parser\n",
    "from datetime import datetime\n",
    "from difflib import SequenceMatcher\n",
    "from fuzzywuzzy import fuzz\n",
    "import csv\n",
    "import re"
   ]
  },
  {
   "cell_type": "code",
   "execution_count": 2,
   "metadata": {},
   "outputs": [],
   "source": [
    "config = json.load(open('../config/configsql.json', 'r'))\n",
    "aws_access_key_id=config['dev']['aws']['key']\n",
    "aws_secret_access_key=config['dev']['aws']['secret']\n",
    "region = 'us-east-1'\n",
    "endpoint = config['dev']['endpoint']\n",
    "bucketname=config['dev']['bucketname']['bucketname']\n",
    "s3r = boto3.resource('s3', aws_access_key_id=aws_access_key_id, aws_secret_access_key=aws_secret_access_key)\n",
    "s3c = boto3.client('s3',aws_access_key_id = aws_access_key_id, aws_secret_access_key = aws_secret_access_key)\n",
    "index_name1 = 'candidates_cv'\n",
    "index_name2 = 'parsed_resume'\n",
    "es = ElasticSearch(endpoint, port=443)"
   ]
  },
  {
   "cell_type": "code",
   "execution_count": 32,
   "metadata": {},
   "outputs": [],
   "source": [
    "d_all = es.search(index = index_name2, query={\n",
    "                                     \"query\": {\"match_all\": {}},\n",
    "                                     \"size\":  4\n",
    "                                     })"
   ]
  },
  {
   "cell_type": "code",
   "execution_count": 26,
   "metadata": {},
   "outputs": [],
   "source": [
    "def run_test(es, validation_csv_filename):\n",
    "    tdf = pd.read_csv(validation_csv_filename).head(50) #    tdf = tdf.head(100)\n",
    "    tdf.columns = [i.lower() for i in tdf.columns]\n",
    "    if tdf.shape[0] == 0:\n",
    "        return 0.0\n",
    "    tdf.sort_values('id', inplace=True)\n",
    "    failures = []\n",
    "    success_count = 0\n",
    "    for r in range(tdf.shape[0]):\n",
    "        row = tdf.iloc[r].to_dict()\n",
    "        id = row['id']\n",
    "        print(id)\n",
    "        user_record = es.search(index=index_name2,query={\"query\" : {\"match\":{\"_id\": id}}})\n",
    "        if len(user_record['hits']['hits']) > 0:\n",
    "            user = user_record['hits']['hits'][0]\n",
    "            is_valid = validation_check(user,row)\n",
    "            if is_valid:\n",
    "                success_count += 1\n",
    "            else:\n",
    "                failures.append({\"correct\": row, \"user_record\": get_educations(user)})\n",
    "    return success_count / tdf.shape[0], failures"
   ]
  },
  {
   "cell_type": "code",
   "execution_count": null,
   "metadata": {},
   "outputs": [],
   "source": [
    "def validation_check(user,row):\n",
    "    educations = get_educations(user)\n",
    "    match_any = False\n",
    "    for edu in educations:\n",
    "        success = True\n",
    "        for value in [\"institution\"]:#, \"degree_type\", \"years_low\", \"years_high\"]: \n",
    "            resume_value = str(edu[value]).lower()\n",
    "            validation_value = str(row[value]).lower()\n",
    "            print(resume_value+'----'+validation_value)\n",
    "            print(fuzz.ratio(resume_value,validation_value))\n",
    "            fuzz_score = fuzz.ratio(resume_value,validation_value)\n",
    "            if fuzz_score < 70:\n",
    "                success = False\n",
    "        if success:\n",
    "            match_any = True\n",
    "        if success:\n",
    "            return True\n",
    "        else:\n",
    "            return False"
   ]
  },
  {
   "cell_type": "code",
   "execution_count": 27,
   "metadata": {},
   "outputs": [
    {
     "name": "stdout",
     "output_type": "stream",
     "text": [
      "https://s3.amazonaws.com/careers.dataskeptic.com/resumes/career_page1/2018-04text/resumes_career_page1_2018-04_adityarputra@gmail.com_ECV2_Aditya-Rachman-Putra_EN.pdf.txt\n",
      "https://s3.amazonaws.com/careers.dataskeptic.com/resumes/career_page1/2018-04text/resumes_career_page1_2018-04_brenthauer@gmail.com_Brent Hauer Resume 2017.pdf.txt\n",
      "lawrence university----belmont university – nashville, tn\n",
      "49\n",
      "https://s3.amazonaws.com/careers.dataskeptic.com/resumes/career_page1/2018-04text/resumes_career_page1_2018-04_brenthauer@gmail.com_Brent Hauer Resume 2017.pdf.txt\n",
      "lawrence university----lawrence university – appleton, wi\n",
      "72\n",
      "https://s3.amazonaws.com/careers.dataskeptic.com/resumes/career_page1/2018-04text/resumes_career_page1_2018-04_bryanwnonni@gmail.com_Bryan Nonni March 18.pdf.txt\n",
      "https://s3.amazonaws.com/careers.dataskeptic.com/resumes/career_page1/2018-04text/resumes_career_page1_2018-04_bryanwnonni@gmail.com_Bryan Nonni March 18.pdf.txt\n",
      "https://s3.amazonaws.com/careers.dataskeptic.com/resumes/career_page1/2018-04text/resumes_career_page1_2018-04_m+ds@romanabashin.com_Roman-Abashin_CV_v4.pdf.txt\n",
      "https://s3.amazonaws.com/careers.dataskeptic.com/resumes/unsourced/text/resumes_unsourced_Vishal_Joshi.pdf.txt\n",
      "university of pune - pune----california state university\n",
      "38\n",
      "https://s3.amazonaws.com/careers.dataskeptic.com/resumes/unsourced/text/resumes_unsourced_Vishal_Joshi.pdf.txt\n",
      "university of pune - pune----university of pune - pune, maharashtra\n",
      "79\n",
      "https://s3.amazonaws.com/careers.dataskeptic.com/resumes/unsourced/text/resumes_unsourced_Vivian Mccombs Resume _v8.pdf.txt\n",
      "university of texas----rice university\n",
      "59\n",
      "https://s3.amazonaws.com/careers.dataskeptic.com/resumes/unsourced/text/resumes_unsourced_Vivian Mccombs Resume _v8.pdf.txt\n",
      "university of texas----the university of texas at austin\n",
      "73\n",
      "https://s3.amazonaws.com/careers.dataskeptic.com/resumes/unsourced/text/resumes_unsourced_Wei Wang's Resume(Data Scientist).pdf.txt\n",
      "cornell university----cornell university\n",
      "100\n",
      "https://s3.amazonaws.com/careers.dataskeptic.com/resumes/unsourced/text/resumes_unsourced_Wei Wang's Resume(Data Scientist).pdf.txt\n",
      "cornell university----eastern washington university\n",
      "55\n",
      "https://s3.amazonaws.com/careers.dataskeptic.com/resumes/unsourced/text/resumes_unsourced_Wentao's Resume.pdf.txt\n",
      "https://s3.amazonaws.com/careers.dataskeptic.com/resumes/unsourced/text/resumes_unsourced_Wentao's Resume.pdf.txt\n",
      "https://s3.amazonaws.com/careers.dataskeptic.com/resumes/unsourced/text/resumes_unsourced_Wentao's Resume.pdf.txt\n",
      "https://s3.amazonaws.com/careers.dataskeptic.com/resumes/unsourced/text/resumes_unsourced_XSS_resume.pdf.txt\n",
      "https://s3.amazonaws.com/careers.dataskeptic.com/resumes/unsourced/text/resumes_unsourced_XSS_resume.pdf.txt\n",
      "https://s3.amazonaws.com/careers.dataskeptic.com/resumes/unsourced/text/resumes_unsourced_Xi Wang resume.pdf.txt\n",
      "https://s3.amazonaws.com/careers.dataskeptic.com/resumes/unsourced/text/resumes_unsourced_Xi Wang resume.pdf.txt\n",
      "https://s3.amazonaws.com/careers.dataskeptic.com/resumes/unsourced/text/resumes_unsourced_XiaoangZhang_Resume_F.pdf.txt\n",
      "anhui medical university----anhui medical university, hefei, china\n",
      "77\n",
      "https://s3.amazonaws.com/careers.dataskeptic.com/resumes/unsourced/text/resumes_unsourced_XiaoangZhang_Resume_F.pdf.txt\n",
      "anhui medical university----university of science and technology of china, hefei, china\n",
      "27\n",
      "https://s3.amazonaws.com/careers.dataskeptic.com/resumes/unsourced/text/resumes_unsourced_XiaoangZhang_Resume_F.pdf.txt\n",
      "anhui medical university----illinois institute of technology, chicago\n",
      "28\n",
      "https://s3.amazonaws.com/careers.dataskeptic.com/resumes/unsourced/text/resumes_unsourced_XiaokeFeiResume.pdf.txt\n",
      "jilin university changchun----stony brook university\n",
      "50\n",
      "https://s3.amazonaws.com/careers.dataskeptic.com/resumes/unsourced/text/resumes_unsourced_XiaokeFeiResume.pdf.txt\n",
      "jilin university changchun----jilin university\n",
      "76\n",
      "https://s3.amazonaws.com/careers.dataskeptic.com/resumes/unsourced/text/resumes_unsourced_XiaokeFeiResume.pdf.txt\n",
      "jilin university changchun----central university of finance and economics\n",
      "52\n",
      "https://s3.amazonaws.com/careers.dataskeptic.com/resumes/unsourced/text/resumes_unsourced_Xiaoxi_Xie.pdf.txt\n",
      "university of california----university of california, los angeles, los angeles, ca\n",
      "62\n",
      "https://s3.amazonaws.com/careers.dataskeptic.com/resumes/unsourced/text/resumes_unsourced_Xie He Resume_10_15_objective_data_mining.pdf.txt\n",
      "michigan state university----michigan state university, east lansing, mi\n",
      "74\n",
      "https://s3.amazonaws.com/careers.dataskeptic.com/resumes/unsourced/text/resumes_unsourced_Xie He Resume_10_15_objective_data_mining.pdf.txt\n",
      "michigan state university----michigan state university, east lansing, mi\n",
      "74\n",
      "https://s3.amazonaws.com/careers.dataskeptic.com/resumes/unsourced/text/resumes_unsourced_YM_PARK_RESUME.pdf.txt\n",
      "university of wisconsin----university of wisconsin-madison\n",
      "85\n",
      "https://s3.amazonaws.com/careers.dataskeptic.com/resumes/unsourced/text/resumes_unsourced_YM_PARK_RESUME.pdf.txt\n",
      "university of wisconsin----sogang university\n",
      "50\n",
      "https://s3.amazonaws.com/careers.dataskeptic.com/resumes/unsourced/text/resumes_unsourced_Yan.Gao.Resume.pdf.txt\n",
      "university of science and technology of china----university of science and technology of china\n",
      "100\n",
      "https://s3.amazonaws.com/careers.dataskeptic.com/resumes/unsourced/text/resumes_unsourced_Yan.Gao.Resume.pdf.txt\n",
      "university of science and technology of china----brown university\n",
      "33\n",
      "https://s3.amazonaws.com/careers.dataskeptic.com/resumes/unsourced/text/resumes_unsourced_YanbinLu.pdf.txt\n",
      "huazhong university of science and technology----huazhong university of science and technology\n",
      "100\n",
      "https://s3.amazonaws.com/careers.dataskeptic.com/resumes/unsourced/text/resumes_unsourced_YanbinLu.pdf.txt\n",
      "huazhong university of science and technology----university of houston, houston\n",
      "53\n",
      "https://s3.amazonaws.com/careers.dataskeptic.com/resumes/unsourced/text/resumes_unsourced_Yibing Qi Resume.pdf.txt\n",
      "university of virginia----university of iowa\n",
      "80\n",
      "https://s3.amazonaws.com/careers.dataskeptic.com/resumes/unsourced/text/resumes_unsourced_Yibing Qi Resume.pdf.txt\n",
      "university of virginia----university of virginia\n",
      "100\n",
      "https://s3.amazonaws.com/careers.dataskeptic.com/resumes/unsourced/text/resumes_unsourced_YijiaDingResume.pdf.txt\n",
      "cornell university----cornell university\n",
      "100\n",
      "https://s3.amazonaws.com/careers.dataskeptic.com/resumes/unsourced/text/resumes_unsourced_YijiaDingResume.pdf.txt\n",
      "cornell university----the ohio state university\n",
      "60\n",
      "https://s3.amazonaws.com/careers.dataskeptic.com/resumes/unsourced/text/resumes_unsourced_Yingnan (April) Xu DS.pdf.txt\n",
      "hong kong university of science and technology bachelor of science in mathematics----hong kong university of science and technology\n",
      "72\n",
      "https://s3.amazonaws.com/careers.dataskeptic.com/resumes/unsourced/text/resumes_unsourced_Yingnan (April) Xu DS.pdf.txt\n",
      "hong kong university of science and technology bachelor of science in mathematics----columbia university\n",
      "24\n",
      "https://s3.amazonaws.com/careers.dataskeptic.com/resumes/unsourced/text/resumes_unsourced_YossofEshaqResume.pdf.txt\n",
      "https://s3.amazonaws.com/careers.dataskeptic.com/resumes/unsourced/text/resumes_unsourced_YossofEshaqResume.pdf.txt\n",
      "https://s3.amazonaws.com/careers.dataskeptic.com/resumes/unsourced/text/resumes_unsourced_Young Suk Cho CV_151014.pdf.txt\n",
      "ohio state university----handong global university, pohang, korea\n",
      "49\n",
      "https://s3.amazonaws.com/careers.dataskeptic.com/resumes/unsourced/text/resumes_unsourced_Young Suk Cho CV_151014.pdf.txt\n",
      "ohio state university----georgia institute of technology, atlanta \n",
      "32\n",
      "https://s3.amazonaws.com/careers.dataskeptic.com/resumes/unsourced/text/resumes_unsourced_Young Suk Cho CV_151014.pdf.txt\n",
      "ohio state university----the ohio state university,columbus \n",
      "75\n",
      "https://s3.amazonaws.com/careers.dataskeptic.com/resumes/unsourced/text/resumes_unsourced_xie_wanyan_resume.pdf.txt\n",
      "https://s3.amazonaws.com/careers.dataskeptic.com/resumes/unsourced/text/resumes_unsourced_xie_wanyan_resume.pdf.txt\n",
      "https://s3.amazonaws.com/careers.dataskeptic.com/resumes/unsourced/text/resumes_unsourced_xie_wanyan_resume.pdf.txt\n",
      "https://s3.amazonaws.com/careers.dataskeptic.com/resumes/unsourced/text/resumes_unsourced_yingcanliu_resume_2016_V2.pdf.txt\n",
      "https://s3.amazonaws.com/careers.dataskeptic.com/resumes/unsourced/text/resumes_unsourced_yingcanliu_resume_2016_V2.pdf.txt\n",
      "0.32\n"
     ]
    }
   ],
   "source": [
    "success, failures = run_test(es, 'Validations.csv')\n",
    "print(success)"
   ]
  },
  {
   "cell_type": "code",
   "execution_count": 74,
   "metadata": {},
   "outputs": [
    {
     "name": "stdout",
     "output_type": "stream",
     "text": [
      "None\n",
      "{'institution': 'University of Pune', 'degree_type': 'BS', 'years_low': '2008', 'years_high': '2015'}\n",
      "None\n",
      "None\n",
      "None\n",
      "None\n",
      "None\n",
      "None\n",
      "None\n",
      "None\n",
      "None\n",
      "None\n",
      "None\n",
      "None\n",
      "None\n",
      "{'institution': 'University of Washington', 'degree_type': 'BS', 'years_low': '2008', 'years_high': '2015'}\n",
      "None\n",
      "None\n",
      "None\n",
      "None\n",
      "None\n",
      "None\n",
      "None\n",
      "None\n",
      "None\n",
      "None\n"
     ]
    },
    {
     "data": {
      "text/plain": [
       "[{'degree_type': 'BS',\n",
       "  'institution': 'University of Pune',\n",
       "  'years_high': '2015',\n",
       "  'years_low': '2008'},\n",
       " {'degree_type': 'BS',\n",
       "  'institution': 'University of Washington',\n",
       "  'years_high': '2015',\n",
       "  'years_low': '2008'}]"
      ]
     },
     "execution_count": 74,
     "metadata": {},
     "output_type": "execute_result"
    }
   ],
   "source": [
    "get_educations(p_s)"
   ]
  },
  {
   "cell_type": "code",
   "execution_count": 71,
   "metadata": {},
   "outputs": [],
   "source": [
    "def get_educations(parsed_resume):\n",
    "    educations = []\n",
    "    education = parsed_resume['_source']['education']\n",
    "    id = parsed_resume['_id']\n",
    "    user_record = es.search(index=index_name1,query={\"query\" : {\"match\":{\"_id\": id}}})\n",
    "    user_record_degree = user_record['hits']['hits'][0]['_source']\n",
    "    if len(parsed_resume['_source']['education']['entities']) > 0:\n",
    "        text = [i['Text'] for i in parsed_resume['_source']['education']['entities']['Entities']]\n",
    "        type = [i['Type'] for i in parsed_resume['_source']['education']['entities']['Entities']]\n",
    "        start_pos = [i['BeginOffset'] for i in parsed_resume['_source']['education']['entities']['Entities']]\n",
    "        pos_d = dict(zip(text, start_pos))\n",
    "        my_dict = defaultdict(list)\n",
    "        for k, v in zip(type, text):\n",
    "            my_dict[k].append(v)\n",
    "        organizations = list(set(my_dict['ORGANIZATION']))\n",
    "        for organization in organizations:\n",
    "            school_details = get_school_details(organization, pos_d, user_record_degree, my_dict)\n",
    "            print(school_details)\n",
    "            if school_details is not None:\n",
    "                educations.append(school_details)\n",
    "    return  educations"
   ]
  },
  {
   "cell_type": "code",
   "execution_count": 7,
   "metadata": {},
   "outputs": [],
   "source": [
    "def parse_date(s):\n",
    "    result = \"\"\n",
    "    for ch in s:\n",
    "        if ch.isdigit():\n",
    "            result += ch\n",
    "    return result"
   ]
  },
  {
   "cell_type": "code",
   "execution_count": 73,
   "metadata": {},
   "outputs": [],
   "source": [
    "def get_school_details(orgname, pos_d, user_record_degree, my_dict):\n",
    "    org_pos = pos_d[orgname]\n",
    "    if orgname.lower().find('university') != -1:\n",
    "        years = my_dict['DATE']\n",
    "        years = [parse_date(i) for i in years]\n",
    "        years_low = -1\n",
    "        years_high = -1\n",
    "        if len(years) > 0:\n",
    "            years_low = min(years)\n",
    "            years_high = max(years)\n",
    "        degree_type = find_degree_type(org_pos,user_record_degree)\n",
    "        edu_info = {\"institution\": orgname,\"degree_type\":degree_type, \"years_low\":years_low,\"years_high\":years_high}\n",
    "        return edu_info\n",
    "    else: \n",
    "        return None"
   ]
  },
  {
   "cell_type": "code",
   "execution_count": 79,
   "metadata": {},
   "outputs": [],
   "source": [
    "def find_degree_type(univ_pos,user_record):\n",
    "    values = {\"bachelor\":'BS',\"master\":'MS','phd':'phD','B.S.':'BS'}\n",
    "    for k in user_record:\n",
    "        if 'education' in k:\n",
    "            degree_d = {}\n",
    "            for key in values.keys():\n",
    "                degree_pos = user_record['education'].lower().find(key)\n",
    "                degree_d[degree_pos] = key\n",
    "            degree_type = degree_d.get(univ_pos, degree_d[min(degree_d.keys(), key=lambda k: abs(k-univ_pos))])\n",
    "            abbr_degree = values[degree_type]\n",
    "    return abbr_degree"
   ]
  },
  {
   "cell_type": "code",
   "execution_count": 94,
   "metadata": {},
   "outputs": [
    {
     "data": {
      "text/plain": [
       "\"university of washington, information school, seattle, wa sep 2014 may 2016\\nmaster of science in information management (focus: data science & analytics) (gpa: 3.76) jul 2008 jun 2012\\nuniversity of pune, india\\nbachelors of engineering in electronics (grade first class with distinction)\\nemployment\\ndata solutions analytics intern at the walt disney company, seattle, wa aug 2015 ongoing\\nworking with youtube api to programmatically collect disney's youtube channel owners' data, and perform marketing analysis &\\nvisualization, to facilitate business decisions by higher management.\\ndeveloping code in java and mysql to automate sweepstakes for espn, abc, disney on ice, honda, dior etc.\\nsoftware developer intern (big data) at bank of america, charlotte, nc jun 2015 aug 2015\\nworking on agile with systems engineering team understanding the hadoop stack, and developing logging framework for hive and pig\\nhands on experience on hdfs, hadoop map reduce framework, pig macro, java udf, hive, pig, impala, oozie, sqoop.\\nworking on building a cloudera hadoop data warehouse that sources, processes and publishes retail data after executing value added\\nprocesses and transformations to support and drive basel ii regulatory requirements\\nassociate software engineer at accenture, bangalore, india feb 2013 may 2014\\nclient: state farm insurance\\nweb service development as a part of icp (integration of customer platform) team working on crm integration of web services,\\nintegrating sfdc with different mainframes or other internal web services.\\nindependently handled major web services carrying out requirement analysis, design, development, testing and support phases.\\nhands-on experience of complete software development cycle using agile methodology.\\nproduct implementation consultant at icreate, bangalore, india jul 2012 feb 2013\\nclient: societe generale\\nintegrating bank's core banking system (finacle & market) by developing end-to-end etl and implementing the same.\\nhands on experience in etl, data modeling, database maintenance, performance tuning of etl processes/databases.\\nextensive knowledge on informatica mappings, mapplets, workflows, worklets, etc.\\nawarded spot award for exemplary contribution to the company.\\nacademic projects\\nbanking investment analytics, uw\\neffort to find out bank profitability from various products provided by different branches of a bank, helping them to optimize investment in\\nthe future\\ndoing market analysis on which mode of media is responsible for attracting most customers to a particular branch and hence, elucidating\\ninvestment strategies on advertisement\\nbuilding oltp databases with thousands of user data, dimensional data marts, etl using ssis, generating reports using ssrs/tableau\\npredicting business future using trends, uw\\ntrying to answer the simple question: can we predict which coffee joint, restaurant or bar in seattle will close in the near future?\\nextracting 6 month of social data of such businesses from yelp, analyzing their trend and correlating this study to predict business\\nfuture.\""
      ]
     },
     "execution_count": 94,
     "metadata": {},
     "output_type": "execute_result"
    }
   ],
   "source": [
    "user_record_degree['education'].lower()"
   ]
  },
  {
   "cell_type": "code",
   "execution_count": 99,
   "metadata": {},
   "outputs": [
    {
     "data": {
      "text/plain": [
       "76"
      ]
     },
     "execution_count": 99,
     "metadata": {},
     "output_type": "execute_result"
    }
   ],
   "source": [
    "user_record_degree['education'].lower().find('master')"
   ]
  },
  {
   "cell_type": "code",
   "execution_count": 113,
   "metadata": {},
   "outputs": [
    {
     "data": {
      "text/plain": [
       "'in electronics (grade first class with distinction)'"
      ]
     },
     "execution_count": 113,
     "metadata": {},
     "output_type": "execute_result"
    }
   ],
   "source": [
    "i = user_record_degree['education'].lower().find('bachelors')\n",
    "j = user_record_degree['education'].lower().find('in ', i)\n",
    "k = user_record_degree['education'].lower().find('\\n', j)\n",
    "user_record_degree['education'].lower()[j:k]"
   ]
  },
  {
   "cell_type": "code",
   "execution_count": 330,
   "metadata": {},
   "outputs": [],
   "source": [
    "def find_major_type(user_record_degree):\n",
    "    values = {\"bachelor\":'BS',\"master\":'MS','ph.d':'phD','b.s.':'BS','m.s':'MS'}\n",
    "    for k in user_record_degree:\n",
    "        if 'education' in k:\n",
    "            degree_d = {}\n",
    "            for key in values.keys():\n",
    "                degree_pos = user_record_degree['education'].lower().find(key) \n",
    "                degree_d[key] = degree_pos \n",
    "                degree_d = {k: v for k, v in degree_d.items() if v >= 0}\n",
    "            for key,value in degree_d.items():\n",
    "                j = user_record_degree['education'].lower().find('in ', value)\n",
    "                k = user_record_degree['education'].lower().find('\\n', j)\n",
    "                major = user_record_degree['education'].lower()[j+3:k]\n",
    "                degree_d[key] = major\n",
    "            return degree_d"
   ]
  },
  {
   "cell_type": "code",
   "execution_count": 331,
   "metadata": {},
   "outputs": [
    {
     "data": {
      "text/plain": [
       "{'b.s.': 'chemical physics, university of science and technology of china sept 2006 - jun 2010',\n",
       " 'ph.d': 'physical chemistry, brown university sept 2010 - jan 2016'}"
      ]
     },
     "execution_count": 331,
     "metadata": {},
     "output_type": "execute_result"
    }
   ],
   "source": [
    "find_major_type(user_record_degree)"
   ]
  },
  {
   "cell_type": "code",
   "execution_count": 327,
   "metadata": {},
   "outputs": [
    {
     "data": {
      "text/plain": [
       "134"
      ]
     },
     "execution_count": 327,
     "metadata": {},
     "output_type": "execute_result"
    }
   ],
   "source": [
    "user_record_degree['education'].lower().find('b.s.')"
   ]
  },
  {
   "cell_type": "code",
   "execution_count": 310,
   "metadata": {},
   "outputs": [],
   "source": [
    "user_record = es.search(index=index_name1,query={\"query\" : {\"match\":{\"_id\": 'https://s3.amazonaws.com/careers.dataskeptic.com/resumes/unsourced/text/resumes_unsourced_Yan.Gao.Resume.pdf.txt'}}})"
   ]
  },
  {
   "cell_type": "code",
   "execution_count": 311,
   "metadata": {},
   "outputs": [],
   "source": [
    "user_record_degree = user_record['hits']['hits'][0]['_source']"
   ]
  },
  {
   "cell_type": "code",
   "execution_count": 314,
   "metadata": {},
   "outputs": [
    {
     "data": {
      "text/plain": [
       "{'awards': 'Published six papers on reputable journals and gave presentations on one national conference.\\nBrown University: Graduate Travel Fellowship (2013), Graduate Fellowship (2011).\\nUSTC: Outstanding student fellowship, three times (2006 - 2009).',\n",
       " 'education': \"Ph.D. in Physical Chemistry, Brown University Sept 2010 - Jan 2016\\nSelected coursework: Computation Chemistry, Statistical Mechanics.\\nB.S. in Chemical Physics, University of Science and Technology of China Sept 2006 - Jun 2010\\nSelected coursework: Calculus I & II, Linear Algebra, Probability Theory and Mathematical Statistics,\\nFunction of Complex Variables, Mathematical Physics Equations, Computation Methods.\\nData Science Certificate, Coursera May 2015 - Dec 2015\\nSelected coursework: Machine Learning, R language, The Data Scientist's Toolbox, Statistical Inference,\\nExploratory Data Analysis, Regression Model.\\nProfessional Skills\\nProgramming Languages: Proficient: Python Matlab Familiar: SQL R Scala\\nWeb Development: HTML/CSS/JavaScript Flask Systems: Linux Mac OS Windows\\nAnalysis Tools: Pandas Numpy Scipy Matplotlib Scikit-Learn NLP NetworkX Spark\\nRelevant Projects\\nNYC Inspection Records Analysis: Extracted statistics about inspection grades and violations from\\n530,000 NYC restaurant inspection records across various locations and cuisines using SQL.\\nSocial Network Analysis: Crawled over 220,000 photo captions from New York social blogs to analyze\\nthe popularity and connections among 110,000 people using BeautifulSoup and NetworkX.\\nStatistics behind Wiki: Wrote Python MapReduce scripts and ran on AWS to analyze word frequency,\\nentropy of extracted words, n-gram and page-link statistics of Wikipedia articles.\\nTime Series Analysis of Temperature in US Cities: Carried out Fourier analysis of 12-year historical\\nweather data in major US cities; predicted temperature with linear regression model.\\nYelp Rating Prediction: Created predictive models for Yelp ratings using various machine learning\\nalgorithms based on category and geolocation, or reviews processed after Natural Language Processing.\\nStackoverflow User Activity Analysis: Analyzed StackOverflow data (>15G) using Spark to predict the\\nlikelihood of a question to be answered and investigate factors influencing a user's reputation and activity.\",\n",
       " 'email': 'ygao87@gmail.com',\n",
       " 'experience': \"Fellow, Data Incubator, New York Jan 2016 - Present\\nParticipated in a highly selective (2% with more than 3000 applicants) and intensive 8-week training\\nfellowship, which bridges the gap between academia and data science.\\nStored and retrieved around 10,000,000 of Citi Bike's rides data and processed the data using SQL and\\nPython; predicted the rider distribution with KNeighbors regression to reflect the entire population\\ndistribution in Manhattan.\\nBuilt a web app to visualize the prediction result. (https://nycrider.herokuapp.com/)\\nResearch Assistant, Brown University Aug 2010 - Jan 2016\\nConducted time-resolved experiments to study ultrafast chemical dynamics.\\nAnalyzed data, developed algorithm and built models for complicated dynamics using MATLAB.\\nCarried out high-level theoretical quantum calculations using Python.\\nProject Leader, Brown University Feb 2011 - Dec 2012\\nTook charge of purchasing a half-million femtosecond laser system and accessories; cooperated and\\nnegotiated with engineers and salesmen.\\nManaged rebuilding the lab, making work schedules and assigning jobs; coordinated with people from\\ndifferent sectors such as lab members, laser engineers, mechanical staffs and purchasing managers.\\nUndergraduate Research Assistant, USTC Jan 2009 - Jul 2010\\nParticipated in the laser cooling system design and setup; carried out atomic trap trace analysis.\\nSimulated the cooling process using Mathematica to optimize the experimental parameters.\\nAchievements and Awards\\nPublished six papers on reputable journals and gave presentations on one national conference.\\nBrown University: Graduate Travel Fellowship (2013), Graduate Fellowship (2011).\\nUSTC: Outstanding student fellowship, three times (2006 - 2009).\",\n",
       " 'name': 'Yan Gao',\n",
       " 'phone': '(401) 339-9517',\n",
       " 'projects': \"NYC Inspection Records Analysis: Extracted statistics about inspection grades and violations from\\n530,000 NYC restaurant inspection records across various locations and cuisines using SQL.\\nSocial Network Analysis: Crawled over 220,000 photo captions from New York social blogs to analyze\\nthe popularity and connections among 110,000 people using BeautifulSoup and NetworkX.\\nStatistics behind Wiki: Wrote Python MapReduce scripts and ran on AWS to analyze word frequency,\\nentropy of extracted words, n-gram and page-link statistics of Wikipedia articles.\\nTime Series Analysis of Temperature in US Cities: Carried out Fourier analysis of 12-year historical\\nweather data in major US cities; predicted temperature with linear regression model.\\nYelp Rating Prediction: Created predictive models for Yelp ratings using various machine learning\\nalgorithms based on category and geolocation, or reviews processed after Natural Language Processing.\\nStackoverflow User Activity Analysis: Analyzed StackOverflow data (>15G) using Spark to predict the\\nlikelihood of a question to be answered and investigate factors influencing a user's reputation and activity.\"}"
      ]
     },
     "execution_count": 314,
     "metadata": {},
     "output_type": "execute_result"
    }
   ],
   "source": [
    "user_record_degree"
   ]
  },
  {
   "cell_type": "code",
   "execution_count": null,
   "metadata": {},
   "outputs": [],
   "source": []
  },
  {
   "cell_type": "code",
   "execution_count": 162,
   "metadata": {},
   "outputs": [],
   "source": [
    "d = {'bachelor': 210, 'master': 76}"
   ]
  },
  {
   "cell_type": "code",
   "execution_count": null,
   "metadata": {},
   "outputs": [],
   "source": []
  },
  {
   "cell_type": "code",
   "execution_count": null,
   "metadata": {},
   "outputs": [],
   "source": []
  },
  {
   "cell_type": "code",
   "execution_count": null,
   "metadata": {},
   "outputs": [],
   "source": []
  },
  {
   "cell_type": "code",
   "execution_count": 184,
   "metadata": {},
   "outputs": [
    {
     "name": "stdout",
     "output_type": "stream",
     "text": [
      "bachelor\n",
      "master\n"
     ]
    }
   ],
   "source": [
    "for i in d.keys():\n",
    "    print(i)"
   ]
  },
  {
   "cell_type": "code",
   "execution_count": 301,
   "metadata": {},
   "outputs": [
    {
     "data": {
      "text/plain": [
       "'university of wisconsin-madison fall 2013 spring 2016\\nmaster of science in statistics & master of science in computer sciences, may 2016\\ncoursework\\n- statistics: mathematical statistics, regression analysis & anova, financial statistics, biostatistics\\n- computer sciences: machine learning, optimization theory (linear & nonlinear), data structure\\nsogang university spring 2007 spring 2013\\nbachelor of science in chemistry & bachelor of science in economics, august 2013\\nhighest ranked student in the graduating class of chemistry department'"
      ]
     },
     "execution_count": 301,
     "metadata": {},
     "output_type": "execute_result"
    }
   ],
   "source": [
    "user_record_degree['education'].lower()"
   ]
  },
  {
   "cell_type": "code",
   "execution_count": null,
   "metadata": {},
   "outputs": [],
   "source": []
  },
  {
   "cell_type": "code",
   "execution_count": null,
   "metadata": {},
   "outputs": [],
   "source": []
  },
  {
   "cell_type": "code",
   "execution_count": null,
   "metadata": {},
   "outputs": [],
   "source": []
  },
  {
   "cell_type": "code",
   "execution_count": null,
   "metadata": {},
   "outputs": [],
   "source": []
  },
  {
   "cell_type": "code",
   "execution_count": null,
   "metadata": {},
   "outputs": [],
   "source": []
  },
  {
   "cell_type": "code",
   "execution_count": null,
   "metadata": {},
   "outputs": [],
   "source": []
  },
  {
   "cell_type": "code",
   "execution_count": null,
   "metadata": {},
   "outputs": [],
   "source": []
  },
  {
   "cell_type": "code",
   "execution_count": null,
   "metadata": {},
   "outputs": [],
   "source": []
  },
  {
   "cell_type": "code",
   "execution_count": null,
   "metadata": {},
   "outputs": [],
   "source": []
  },
  {
   "cell_type": "code",
   "execution_count": null,
   "metadata": {},
   "outputs": [],
   "source": []
  },
  {
   "cell_type": "code",
   "execution_count": 10,
   "metadata": {},
   "outputs": [],
   "source": [
    "tdf = pd.read_csv('Validations.csv')"
   ]
  },
  {
   "cell_type": "code",
   "execution_count": 28,
   "metadata": {},
   "outputs": [
    {
     "data": {
      "text/html": [
       "<div>\n",
       "<style scoped>\n",
       "    .dataframe tbody tr th:only-of-type {\n",
       "        vertical-align: middle;\n",
       "    }\n",
       "\n",
       "    .dataframe tbody tr th {\n",
       "        vertical-align: top;\n",
       "    }\n",
       "\n",
       "    .dataframe thead th {\n",
       "        text-align: right;\n",
       "    }\n",
       "</style>\n",
       "<table border=\"1\" class=\"dataframe\">\n",
       "  <thead>\n",
       "    <tr style=\"text-align: right;\">\n",
       "      <th></th>\n",
       "      <th>id</th>\n",
       "      <th>S3 key</th>\n",
       "      <th>Institution</th>\n",
       "      <th>Degree Type</th>\n",
       "      <th>Degree Level</th>\n",
       "      <th>Years low</th>\n",
       "      <th>Year high</th>\n",
       "    </tr>\n",
       "  </thead>\n",
       "  <tbody>\n",
       "    <tr>\n",
       "      <th>0</th>\n",
       "      <td>https://s3.amazonaws.com/careers.dataskeptic.c...</td>\n",
       "      <td>resumes/unsourced/text/resumes_unsourced_Young...</td>\n",
       "      <td>The Ohio State University,Columbus</td>\n",
       "      <td>Computer Science &amp; Engineering</td>\n",
       "      <td>Ph.D</td>\n",
       "      <td>2013</td>\n",
       "      <td>Present</td>\n",
       "    </tr>\n",
       "    <tr>\n",
       "      <th>1</th>\n",
       "      <td>https://s3.amazonaws.com/careers.dataskeptic.c...</td>\n",
       "      <td>resumes/unsourced/text/resumes_unsourced_Young...</td>\n",
       "      <td>Georgia Institute of Technology, Atlanta</td>\n",
       "      <td>Computer Science</td>\n",
       "      <td>MS</td>\n",
       "      <td>2009</td>\n",
       "      <td>2011</td>\n",
       "    </tr>\n",
       "    <tr>\n",
       "      <th>2</th>\n",
       "      <td>https://s3.amazonaws.com/careers.dataskeptic.c...</td>\n",
       "      <td>resumes/unsourced/text/resumes_unsourced_Young...</td>\n",
       "      <td>Handong Global University, Pohang, Korea</td>\n",
       "      <td>Computer Science &amp; Electronic Engineering</td>\n",
       "      <td>BS</td>\n",
       "      <td>2001</td>\n",
       "      <td>2009</td>\n",
       "    </tr>\n",
       "    <tr>\n",
       "      <th>3</th>\n",
       "      <td>https://s3.amazonaws.com/careers.dataskeptic.c...</td>\n",
       "      <td>resumes/unsourced/text/resumes_unsourced_Yosso...</td>\n",
       "      <td>University of Rochester</td>\n",
       "      <td>Physics</td>\n",
       "      <td>Ph.D</td>\n",
       "      <td>2008</td>\n",
       "      <td>2014</td>\n",
       "    </tr>\n",
       "    <tr>\n",
       "      <th>4</th>\n",
       "      <td>https://s3.amazonaws.com/careers.dataskeptic.c...</td>\n",
       "      <td>resumes/unsourced/text/resumes_unsourced_Yosso...</td>\n",
       "      <td>The University of California, San Diego</td>\n",
       "      <td>Physics</td>\n",
       "      <td>BS</td>\n",
       "      <td>2003</td>\n",
       "      <td>2007</td>\n",
       "    </tr>\n",
       "  </tbody>\n",
       "</table>\n",
       "</div>"
      ],
      "text/plain": [
       "                                                  id  \\\n",
       "0  https://s3.amazonaws.com/careers.dataskeptic.c...   \n",
       "1  https://s3.amazonaws.com/careers.dataskeptic.c...   \n",
       "2  https://s3.amazonaws.com/careers.dataskeptic.c...   \n",
       "3  https://s3.amazonaws.com/careers.dataskeptic.c...   \n",
       "4  https://s3.amazonaws.com/careers.dataskeptic.c...   \n",
       "\n",
       "                                              S3 key  \\\n",
       "0  resumes/unsourced/text/resumes_unsourced_Young...   \n",
       "1  resumes/unsourced/text/resumes_unsourced_Young...   \n",
       "2  resumes/unsourced/text/resumes_unsourced_Young...   \n",
       "3  resumes/unsourced/text/resumes_unsourced_Yosso...   \n",
       "4  resumes/unsourced/text/resumes_unsourced_Yosso...   \n",
       "\n",
       "                                 Institution  \\\n",
       "0        The Ohio State University,Columbus    \n",
       "1  Georgia Institute of Technology, Atlanta    \n",
       "2   Handong Global University, Pohang, Korea   \n",
       "3                    University of Rochester   \n",
       "4    The University of California, San Diego   \n",
       "\n",
       "                                 Degree Type Degree Level Years low Year high  \n",
       "0             Computer Science & Engineering         Ph.D      2013   Present  \n",
       "1                           Computer Science           MS      2009      2011  \n",
       "2  Computer Science & Electronic Engineering           BS      2001      2009  \n",
       "3                                    Physics         Ph.D      2008      2014  \n",
       "4                                    Physics           BS      2003      2007  "
      ]
     },
     "execution_count": 28,
     "metadata": {},
     "output_type": "execute_result"
    }
   ],
   "source": [
    "tdf.head()"
   ]
  },
  {
   "cell_type": "code",
   "execution_count": 12,
   "metadata": {},
   "outputs": [],
   "source": [
    "url = 'https://raw.githubusercontent.com/endSly/world-universities-csv/master/world-universities.csv'\n",
    "import pandas as pd\n",
    "data = pd.read_csv(url)\n",
    "data.columns = ['country','school','web']\n",
    "data = data[['school']]\n",
    "data['school'] = [i.lower() for i in data['school']]"
   ]
  },
  {
   "cell_type": "code",
   "execution_count": 15,
   "metadata": {},
   "outputs": [],
   "source": [
    "user_record_degree=es.search(index=index_name1,query={\"query\" : {\"match\":{\"_id\": 'https://s3.amazonaws.com/careers.dataskeptic.com/resumes/career_page1/2018-03text/resumes_career_page1_2018-03_christian.muise@ibm.com_CV.pdf.txt'}}})['hits']['hits'][0]['_source']"
   ]
  },
  {
   "cell_type": "code",
   "execution_count": 16,
   "metadata": {},
   "outputs": [],
   "source": [
    "def get_school_name(user_record_degree):\n",
    "    content1 = user_record_degree['education'].lower()\n",
    "    content2 = re.sub('&', 'and', content1)\n",
    "    content3 = remove_spe_chara(content2)\n",
    "    matches = []\n",
    "    for school in data['school']:\n",
    "        match = content3.find(school)\n",
    "        leng = len(school)\n",
    "        matches.append(match)\n",
    "    indexes = [n for n,i in enumerate(matches) if i>-1]\n",
    "    univ_pos = [i for i in matches if i != -1]\n",
    "    schools = []\n",
    "    length = []\n",
    "    for idx in indexes:\n",
    "        leng = int(len(data.iloc[idx]['school']))\n",
    "        length.append(leng)\n",
    "    for i , pos in zip(range(len(length)),univ_pos):\n",
    "        school_name = content3[pos:pos+length[i]]\n",
    "        schools.append(school_name)\n",
    "    return schools "
   ]
  },
  {
   "cell_type": "code",
   "execution_count": 18,
   "metadata": {},
   "outputs": [],
   "source": [
    "#a = data.loc[data['school'].apply(lambda x: x.find('wisconsin') >=0)]"
   ]
  },
  {
   "cell_type": "code",
   "execution_count": 19,
   "metadata": {},
   "outputs": [],
   "source": [
    "def remove_spe_chara(string):\n",
    "    return re.sub(r'\\W+', ' ', string)"
   ]
  },
  {
   "cell_type": "code",
   "execution_count": 20,
   "metadata": {},
   "outputs": [],
   "source": [
    "#data.loc[data['school'].apply(lambda x: x.find('university of science and technology') >=0)]"
   ]
  },
  {
   "cell_type": "code",
   "execution_count": 21,
   "metadata": {},
   "outputs": [],
   "source": [
    "data['school']=[re.sub('&', 'and', i) for i in data['school']]"
   ]
  },
  {
   "cell_type": "code",
   "execution_count": 22,
   "metadata": {},
   "outputs": [],
   "source": [
    "data['school'] = data['school'].apply(lambda x: remove_spe_chara(x).lower())"
   ]
  },
  {
   "cell_type": "code",
   "execution_count": 23,
   "metadata": {},
   "outputs": [],
   "source": [
    "data.drop_duplicates(inplace = True)"
   ]
  },
  {
   "cell_type": "code",
   "execution_count": 24,
   "metadata": {},
   "outputs": [
    {
     "data": {
      "text/html": [
       "<div>\n",
       "<style scoped>\n",
       "    .dataframe tbody tr th:only-of-type {\n",
       "        vertical-align: middle;\n",
       "    }\n",
       "\n",
       "    .dataframe tbody tr th {\n",
       "        vertical-align: top;\n",
       "    }\n",
       "\n",
       "    .dataframe thead th {\n",
       "        text-align: right;\n",
       "    }\n",
       "</style>\n",
       "<table border=\"1\" class=\"dataframe\">\n",
       "  <thead>\n",
       "    <tr style=\"text-align: right;\">\n",
       "      <th></th>\n",
       "      <th>school</th>\n",
       "    </tr>\n",
       "  </thead>\n",
       "  <tbody>\n",
       "    <tr>\n",
       "      <th>0</th>\n",
       "      <td>abu dhabi university</td>\n",
       "    </tr>\n",
       "    <tr>\n",
       "      <th>1</th>\n",
       "      <td>ajman university of science and technology</td>\n",
       "    </tr>\n",
       "    <tr>\n",
       "      <th>2</th>\n",
       "      <td>alain university of science and technology</td>\n",
       "    </tr>\n",
       "    <tr>\n",
       "      <th>3</th>\n",
       "      <td>al ghurair university</td>\n",
       "    </tr>\n",
       "    <tr>\n",
       "      <th>4</th>\n",
       "      <td>alhosn university</td>\n",
       "    </tr>\n",
       "  </tbody>\n",
       "</table>\n",
       "</div>"
      ],
      "text/plain": [
       "                                       school\n",
       "0                        abu dhabi university\n",
       "1  ajman university of science and technology\n",
       "2  alain university of science and technology\n",
       "3                       al ghurair university\n",
       "4                           alhosn university"
      ]
     },
     "execution_count": 24,
     "metadata": {},
     "output_type": "execute_result"
    }
   ],
   "source": [
    "data.head()"
   ]
  },
  {
   "cell_type": "code",
   "execution_count": null,
   "metadata": {},
   "outputs": [],
   "source": []
  },
  {
   "cell_type": "code",
   "execution_count": 25,
   "metadata": {},
   "outputs": [
    {
     "data": {
      "text/plain": [
       "{'awards': ', Grants, and Honours\\nWinner of the International Competition on Knowledge Engineering for Planning and\\nScheduling (ICKEPS) . . . . . . . . . . . . . . . . . . . . . . . . . . . . . . . . . . . . . . . . 2016\\nBest System Demo at the International Conference on Automated Planning and Scheduling 2016\\nNational Sciences and Engineering Research Council (NSERC) Postdoctoral Fellowship . 2016-17\\nSelected Participant for the Heidelberg Laureate Forum . . . . . . . . . . . . . . . . . . . . . 2015\\nBest dissertation award at the International Conference on Automated Planning and\\nScheduling . . . . . . . . . . . . . . . . . . . . . . . . . . . . . . . . . . . . . . . . . . . . . . 2015\\nFirst place in the Time Track, and runner up in the Quality and Coverage tracks at the\\nCompetition of Distributed and Multiagent Planners . . . . . . . . . . . . . . . . . . . . . . 2015\\nGoogle Places API Developer Challenge Judge\\'s Choice Award . . . . . . . . . . . . . . . . . 2013\\nTop submission for the Graduate Student Symposium of the Canadian AI Conference . . . . 2012\\nBell Graduate Scholarship . . . . . . . . . . . . . . . . . . . . . . . . . . . . . . . . . . . . . 2012\\nRay Reiter Graduate Award . . . . . . . . . . . . . . . . . . . . . . . . . . . . . . . . . . . . 2012\\nRandom Hacks of Kindness Best Toronto Project Award for \"TABS on Toronto\" . . . . . . 2012\\nRandom Hacks of Kindness Best Toronto Project Award for \"Hermes Message Carrier\" . . . 2011\\nNational Sciences and Engineering Research Council (NSERC) Canada Graduate\\nScholarship (CGS) . . . . . . . . . . . . . . . . . . . . . . . . . . . . . . . . . . . . . . . . 2007-11\\nNSERC Alexander Graham Bell Scholarship . . . . . . . . . . . . . . . . . . . . . . . . . . . 2011\\nUniversity Medal for graduating at the top of my undergraduate class . . . . . . . . . . . . . 2007\\nNSERC Undergraduate Student Research Award: Carleton Computational Geometry Group 2007\\nNSERC Undergraduate Student Research Award: D-Wave Systems . . . . . . . . . . . . . . 2006\\nNortel Networks Scholarship for Carleton University . . . . . . . . . . . . . . . . . . . . . . . 2002\\nCV 2/9 Christian Muise\\nTeaching Experience\\nGuest Lecturer 2016\\nMassachusetts Institute of Technology 16.412: Cognitive Robotics 2014,2015\\nUniversity of Melbourne, COMP90054: Software Agents\\nCreated a series of lectures on non-deterministic planning\\nPresented material to class sizes of roughly 20-30 students\\nAssisted with the creation of a class assignment on modling in planning\\nCourse Tutor Sep 2014 - Aug 2015\\nUniversity of Melbourne Melbourne, Australia\\nPresented weekly lectures on project management and software development\\nGuided 14 teams in completing a large-scale semester-long project\\nCo-developed the grading scheme, and graded all of the teams in the course\\nTeaching Assistant Sep 2007 - Dec 2013\\nUniversity of Toronto Toronto, Canada\\nAssisted with courses ranging from undergraduate introductory Computer Science topics to\\ngraduate-level topics in Artificial Intelligence\\nTaught tutorials and lectures on a regular basis\\nConstructed and marked several assignments, exams, and class activities\\nWorked with roughly 5 students to extend their course-work for larger research projects\\nAdvisory Experience\\nNikhil Bhargava Feb 2017 - Oct 2017\\nDoctoral Student Massachusetts Institute of Technology\\nProject: Multi-agent communication for joint temporal execution\\nRole: Guided research and monitored progress\\nPrimary Supervisor: Brian Williams\\nYuening Zhang Feb 2017 - Oct 2017\\nDoctoral Student Massachusetts Institute of Technology\\nProject: Preference-based decompositions for multi-agent scheduling\\nRole: Guided research and monitored progress\\nPrimary Supervisor: Brian Williams\\nJingkai Chen Sep 2016 - Oct 2017\\nDoctoral Student Massachusetts Institute of Technology\\nProject: EdgeCT Optimizing Network Communication Strategies\\nRole: Guided research and monitored progress\\nPrimary Supervisor: Brian Williams\\nSteven Levine Jul 2016 - Oct 2017\\nDoctoral Student Massachusetts Institute of Technology\\nProject: Temporal Execution Monitoring\\nRole: Guided research and monitored progress\\nPrimary Supervisor: Brian Williams\\nCV 3/9 Christian Muise\\nSimon Fang Sep 2016 - Feb 2017\\nDoctoral Student Massachusetts Institute of Technology\\nProject: EdgeCT Optimizing Network Communication Strategies\\nRole: Monitored project progress\\nPrimary Supervisor: Brian Williams\\nAndrew Wang Jul 2016 - Feb 2017\\nDoctoral Student Massachusetts Institute of Technology\\nProject: Dynamic Controllability\\nRole: Guided research and monitored progress\\nPrimary Supervisor: Brian Williams\\nPeng Yu May 2016 - Sep 2016\\nDoctoral Student Massachusetts Institute of Technology\\nProject: Collaborative Diagnosis of Over-Subscribed Temporal Plans\\nRole: Guided research and served as official reader for thesis\\nPrimary Supervisor: Brian Williams\\nAlberto Camacho Sep 2014 - Present\\nDoctoral Student University of Toronto\\nProject: Probabilistic Planning Solving MAXPROB With FOND\\nRole: Guided research and advised student on career objectives\\nPrimary Supervisor: Sheila McIlraith\\nRehan Aziz Jun 2014 - Aug 2015\\nDoctoral Student University of Melbourne\\nProject: Knowledge Compilation With Projected Variables\\nRole: Guided research\\nPrimary Supervisor: Peter Stuckey\\nAkshay Ganesh May 2013 - Dec 2013\\nUndergraduate Student University of Toronto\\nProject: Probabilistic Planning Using FOND\\nRole: Lead research agenda and monitored progress\\nPrimary Supervisor: Sheila McIlraith\\nDaniel Katz May 2013 - Sep 2013\\nUndergraduate Student University of Toronto\\nProject: Frameworks for Planning With Partial Observability\\nRole: Lead research agenda and monitored progress\\nPrimary Supervisor: Sheila McIlraith\\nCV 4/9 Christian Muise\\nLeadership and Outreach Experience\\nFounder and Lead Developer 2014 - Present\\nPlanning.Domains Virtual Collaboration\\nStarted an initiative for researchers to work with benchmark problems in Automated Planning\\nDeveloped a series of online services in support of the initiative:\\nProgrammatic access to every benchmark problem\\nhttp://api.planning.domains/\\nRemote solver technology as a service\\nhttp://solver.planning.domains/\\nOnline modeling interface for planning\\nhttp://editor.planning.domains/\\nSecured funding for the initiative\\'s online services from the ICAPS international organization\\nFormed a multi-institutional team to continue the development of the services for the community\\nDeveloped and delivered a tutorial on the initiative at the 2016 ICAPS conference\\nCo-Founder and Organizer 2016\\nUnsolvability International Planning Competition Co-located with ICAPS\\'16\\nCreated the inaugural international contest for detecting unsolvable planning instances\\nRecruited 12 international teams to develop a planner and enter the contest\\nDeveloped the infrastructure to run and evaluate all of the planners\\nPresented the results and insights that were found during the contest at the ICAPS conference\\nTechnical Lead 2012 - 2013\\nToronto Public Spaces Initiative TABS on Toronto Project Toronto, Canada\\nDeveloped an online portal to alert Toronto citizens of upcoming City Hall agenda items\\nWorked with initiatives from the US and India to help bring similar technology to their own locales\\nResearch Visits and Invited Talks\\nInvited lecture at the Dagstuhl seminar of Planning and Operations Research . . . . . . . . 2018\\nInvited keynote at the Workshop on Knowledge Engineering for Planning and Scheduling . . 2017\\nInvited lecture at the University of New Hampshire\\'s CS Department . . . . . . . . . . . . . 2016\\nInvited lecture at MIT\\'s Learning and Intelligent Systems Group . . . . . . . . . . . . . . . 2016\\nInvited lecture at MIT\\'s Interactive Robotics Laboratory . . . . . . . . . . . . . . . . . . . . 2016\\nTwo guest lectures for MIT\\'s 16.412: Cognitive Robotics . . . . . . . . . . . . . . . . . . . . 2016\\nInvited to a Lorentz Symposium to present my research . . . . . . . . . . . . . . . . . . . . . 2015\\nResearch visit to (NICTA): Australia\\'s Information and Communications Technology\\nResearch Centre of Excellence . . . . . . . . . . . . . . . . . . . . . . . . . . . . . . . . . . . 2015\\nResearch visits to the University of Toronto . . . . . . . . . . . . . . . . . . . . . . . . 2014,2015\\nGuest lecture for Melbourne University\\'s COMP90054: Software Agents . . . . . . . . 2014,2015\\nTwo invited lectures at the Melbourne AgentsVic research group . . . . . . . . . . . . . . . . 2014\\nPresented PhD research at the Research In Action showcase . . . . . . . . . . . . . . . 2012,2013\\nStudied with the planning group at the University of Strathclyde, Glasgow, Scotland . . . . 2009\\nTrain-IT Exchange Program to Royal Institute of Technology, Stockholm, Sweden . . . . . . 2004\\nCV 5/9 Christian Muise\\nAcademic Service\\nOrganizing Committee\\nWorkshop on Heuristics and Search for Domain-independent Planning (HSDIP) . . . . 2016,2018\\nWorkshop on Planning, Search, and Optimization (PlanSOpt) . . . . . . . . . . . . . . . . . 2017\\nPlanning.Domains Tutorial at the International Conference on Automated Planning\\nand Scheduling (ICAPS) . . . . . . . . . . . . . . . . . . . . . . . . . . . . . . . . . . . . . . 2016\\nInternational Conference on Automated Planning and Scheduling: Publicity Chair . . . . . . 2016\\nInternational Planning Competition on Unsolvable Planning Instances . . . . . . . . . . . . . 2016\\nTidel Operations Research Challenge, Toronto, ON. (TORCH) . . . . . . . . . . . 2011,2012,2013\\nDCS Symposium on Trends in Computing, Toronto, ON. . . . . . . . . . . . . . . . . . . . . 2010\\nProgram Committee\\nInternational Conference on Automated Planning and Scheduling (ICAPS) . 2015,2016,2017,2018\\nInternational Joint Conference on Artificial Intelligence (IJCAI) . . . . . . . 2011,2015,2016,2018\\nWorkshop on Generalized Planning (GenPlan) . . . . . . . . . . . . . . . . . . . . . . . . . . 2017\\nSymposium On Combinatorial Search (SoCS) . . . . . . . . . . . . . . . . . . . . . . . . . . 2016\\nAAAI Conference on Artificial Intelligence (AAAI) . . . . . . . . . . . . . . . . . . . . . . . 2015\\nEuropean Conference on Artificial Intelligence (ECAI) . . . . . . . . . . . . . . . . . . . . . 2014\\nICAPS Workshop on Planning in Games . . . . . . . . . . . . . . . . . . . . . . . . . . . . . 2013\\nAAAI Workshop on Problem Solving using Classical Planners . . . . . . . . . . . . . . . . . 2012\\nNorth Eastern Student Colloquium on Artificial Intelligence (NESCAI) . . . . . . . . . . . . 2010\\nReviewer\\nJournal of Artificial Intelligence Research (JAIR) . . . . . . . . . . . . . . . . . . 2013,2014,2018\\nNational Science Foundation (NSF) Proposal Review Panel . . . . . . . . . . . . . . . . . . . 2016\\nArtificial Intelligence Journal (AIJ) . . . . . . . . . . . . . . . . . . . . . . . . . . . . . 2015,2016\\nInternational Conference on Automated Planning and Scheduling (ICAPS) . . . . 2010,2013,2014\\nCanadian Conference on Artificial Intelligence (CAI) . . . . . . . . . . . . . . . . . . . 2010,2014\\nConference on Principles of Knowledge Representation and Reasoning (KR) . . . . . . . . . 2014\\nInternational Conference on Autonomous Agents and Multiagent Systems (AAMAS) . . . . 2014\\nReferences williams@mit.edu\\n(617) 253-2739\\nProf. Brian Williams\\nMassachusetts Institute of Technology adrianrp@unimelb.edu.au\\n+61 3 8344 1399\\nProf. Adrian Pearce\\nUniversity of Melbourne sheila@cs.toronto.edu\\n(416) 946-8484\\nProf. Sheila McIlraith\\nUniversity of Toronto malte.helmert@unibas.ch\\n+41 61 20 70548\\nProf. Malte Helmert\\nUniversity of Basel Christian Muise\\nCV 6/9\\nRefereed Publications\\n[1] Alberto Camacho, Jorge Baier, Christian Muise, and Sheila A. McIlraith. \"Bridging the Gap\\nBetween LTL Synthesis and Automated Planning\". In: Workshop on Generalized Planning\\n(GenPlan\\'17). 2017.\\n[2] Alberto Camacho, Eleni Triantafillou, Christian Muise, Jorge Baier, and Sheila A. McIlraith.\\n\"Non-Deterministic Planning with Temporally Extended Goals: LTL over finite and infinite traces\".\\nIn: The 31st AAAI Conference on Artificial Intelligence. 2017.\\n[3] Brent Mombourquette, Christian Muise, and Sheila McIlraith. \"Logical Filtering and Smoothing:\\nState Estimation in Partially Observable Domains\". In: The 31st AAAI Conference on Artificial\\nIntelligence. 2017.\\n[4] Alberto Camacho, Christian Muise, and Sheila A. McIlraith. \"From FOND to Robust\\nProbabilistic Planning: Computing compact policies that bypass avoidable deadends\". In: The 26th\\nInternational Conference on Automated Planning and Scheduling. 2016.\\n[5] Alberto Camacho, Eleni Triantafillou, Christian Muise, Jorge Baier, and Sheila A. McIlraith.\\n\"LTL Synthesis for Non-Deterministic Systems on Finite and Infinite Traces\". In: Workshop on\\nHeuristic Search and Domain Independent Planning (HSDIP\\'16). 2016.\\n[6] Alberto Camacho, Eleni Triantafillou, Christian Muise, Jorge Baier, and Sheila A. McIlraith.\\n\"Non-Deterministic Planning with Temporally Extended Goals: Completing the story for finite and\\ninfinite LTL\". In: Workshop on Knowledge-based techniques for problem solving and reasoning\\n(KnowProS\\'16). 2016.\\n[7] Christian Muise. \"A Flow Shop Scheduler\". In: 500 Lines or Less. Ed. by Amy Brown and\\nMichael Dibernardo. Lulu.com, 2016. Chap. 9. url: http://aosabook.org/en/index.html.\\n[8] Christian Muise. \"Planning.Domains\". In: The 26th International Conference on Automated\\nPlanning and Scheduling - Demonstrations. 2016.\\n[9] Christian Muise, J. Christopher Beck, and Sheila A. McIlraith. \"Optimal Partial-Order Plan\\nRelaxation via MaxSAT\". In: Journal of Artificial Intelligence Research (2016).\\n[10] Christian Muise, Frank Dignum, Paolo Felli, Tim Miller, Adrian R. Pearce, and Liz Sonenberg.\\n\"Towards Team Formation via Automated Planning\". In: Lecture Notes in Computer Science 9628\\n(2016). Special Issue on Coordination, Organizations, Institutions, and Norms in Agent Systems\\nXI, pp. 282 299.\\n[11] Christian Muise, Paolo Felli, Tim Miller, Adrian R. Pearce, and Liz Sonenberg. \"Planning for a\\nSingle Agent in a Multi-Agent Environment Using FOND\". In: International Joint Conference On\\nArtificial Intelligence. 2016.\\n[12] Christian Muise, Sheila A. McIlraith, J. Christopher Beck, and Eric Hsu. \"DSHARP: Fast\\nd-DNNF Compilation with sharpSAT (Amended Version)\". In: AAAI-16 Workshop on Beyond NP.\\n2016.\\n[13] Nir Lipovetzky, Christian Muise, and Hector Geffner. \"Traps, Invariants, and Dead-Ends\". In:\\nThe 26th International Conference on Automated Planning and Scheduling. 2016.\\n[14] Tim Miller and Christian Muise. \"Belief Update for Proper Epistemic Knowledge Bases\". In:\\nInternational Joint Conference On Artificial Intelligence. 2016.\\n[15] Tim Miller, Christian Muise, Paolo Felli, Adrian R. Pearce, and Liz Sonenberg. \"\\'Knowing\\nWhether\\' in Proper Epistemic Knowledge Bases\". In: The 30th AAAI Conference on Artificial\\nIntelligence. 2016.\\nCV 7/9 Christian Muise\\n[16] Brent Mombourquette, Christian Muise, and Sheila A. McIlraith. \"Belief State Estimation for\\nPlanning via Approximate Logical Filtering and Smoothing\". In: Workshop on Knowledge-based\\ntechniques for problem solving and reasoning (KnowProS\\'16). 2016.\\n[17] Liz Sonenberg, Tim Miller, Adrian Pearce, Paolo Felli, Christian Muise, and Frank Dignum.\\n\"Social planning for social HRI\". In: 2nd Workshop on Cognitive Architectures for Social\\nHuman-Robot Interaction. 2016.\\n[18] Rehan Abdul Aziz, Geoffrey Chu, Christian Muise, and Peter Stuckey. \"Projected Model\\nCounting\". In: International Conference on Theory and Applications of Satisfiability Testing.\\nAustin, USA, 2015.\\n[19] Rehan Abdul Aziz, Geoffrey Chu, Christian Muise, and Peter Stuckey. \"Stable model counting\\nand its application in probabilistic logic programming\". In: The 29th AAAI Conference on\\nArtificial Intelligence. 2015.\\n[20] Alberto Camacho, Christian Muise, Akshay Ganeshen, and Sheila A. McIlraith. \"From FOND to\\nProbabilistic Planning: Guiding search for quality policies\". In: Workshop on Heuristic Search and\\nDomain Independent Planning (HSDIP\\'15). 2015.\\n[21] Christian Muise, Vaishak Belle, Paolo Felli, Sheila A. McIlraith, Tim Miller, Adrian R. Pearce,\\nand Liz Sonenberg. \"Planning Over Multi-Agent Epistemic States: A Classical Planning\\nApproach\". In: The 29th AAAI Conference on Artificial Intelligence. 2015.\\n[22] Christian Muise, Vaishak Belle, Paolo Felli, Sheila A. McIlraith, Tim Miller, Adrian R. Pearce,\\nand Liz Sonenberg. \"Planning Over Multi-Agent Epistemic States: A Classical Planning Approach\\n(Amended Version)\". In: Workshop on Distributed and Multi-Agent Planning (DMAP\\'15). 2015.\\n[23] Christian Muise, Frank Dignum, Paolo Felli, Tim Miller, Adrian R. Pearce, and Liz Sonenberg.\\n\"Towards Team Formation via Automated Planning\". In: International Workshop on Coordination,\\nOrganisation, Institutions and Norms in Multi-Agent Systems. 2015.\\n[24] Christian Muise, Paolo Felli, Tim Miller, Adrian R. Pearce, and Liz Sonenberg. \"Leveraging\\nFOND Planning Technology to Solve Multi-Agent Planning Problems\". In: Workshop on\\nDistributed and Multi-Agent Planning (DMAP\\'15). 2015.\\n[25] Christian Muise and Nir Lipovetzky. \"Unplannability IPC Track\". In: Workshop on the\\nInternational Planning Competition. 2015.\\n[26] Christian Muise, Nir Lipovetzky, and Miquel Ramirez. \"MAP-LAPKT: Omnipotent Multi-Agent\\nPlanning via Compilation to Classical Planning\". In: Competition of Distributed and Multiagent\\nPlanners. 2015.\\n[27] Christian Muise, Tim Miller, Paolo Felli, Adrian R. Pearce, and Liz Sonenberg. \"Efficient\\nReasoning With Consistent Proper Epistemic Knowledge Bases\". In: The International Conference\\non Autonomous Agents and Multiagent Systems. 2015.\\n[28] Paolo Felli, Tim Miller, Christian Muise, Adrian R. Pearce, and Liz Sonenberg. \"Computing\\nSocial Behaviours Using Agent Models\". In: International Joint Conference on Artificial\\nIntelligence, IJCAI 2015. 2015.\\n[29] Christian Muise, Vaishak Belle, and Sheila A. McIlraith. \"Computing Contingent Plans via Fully\\nObservable Non-Deterministic Planning\". In: The 28th AAAI Conference on Artificial Intelligence.\\n2014.\\n[30] Christian Muise, Sheila A. McIlraith, and Vaishak Belle. \"Non-Deterministic Planning With\\nConditional Effects\". In: The 24th International Conference on Automated Planning and\\nScheduling. 2014.\\n[31] Paolo Felli, Tim Miller, Christian Muise, Adrian R. Pearce, and Liz Sonenberg. \"Artificial social\\nreasoning: computational mechanisms for reasoning about others\". In: The International\\nConference on Social Robotics. 2014.\\nCV 8/9 Christian Muise\\n[32] Tim Miller, Adrian R. Pearce, Liz Sonenberg, Frank Dignum, Paolo Felli, and Christian Muise.\\n\"Foundations of Human-Agent Collaboration: Situation-Relevant Information Sharing\". In: The\\nAAAI 2014 Fall Symposium on AI for Human-Robot Interaction. Extended Abstract. 2014.\\n[33] Christian Muise, J. Christopher Beck, and Sheila A. McIlraith. \"Flexible Execution of Partial\\nOrder Plans With Temporal Constraints\". In: International Joint Conference On Artificial\\nIntelligence. 2013, pp. 2328 2335.\\n[34] Vladimir Klebanov, Norbert Manthey, and Christian Muise. \"SAT-based Analysis and\\nQuantification of Information Flow in Programs\". In: 10th International Conference on\\nQuantitative Evaluation of SysTems (QEST 2013). 2013, pp. 177 192.\\n[35] Christian Muise, Sheila A. McIlraith, and J. Christopher Beck. \"Improved Non-deterministic\\nPlanning by Exploiting State Relevance\". In: The 22nd International Conference on Automated\\nPlanning and Scheduling. The 22nd International Conference on Automated Planning and\\nScheduling. 2012.\\n[36] Christian Muise, Sheila A. McIlraith, J. Christopher Beck, and Eric Hsu. \"DSHARP: Fast\\nd-DNNF Compilation with sharpSAT\". In: Canadian Conference on Artificial Intelligence. 2012.\\n[37] Christian Muise, Sheila A. McIlratih, and J. Christopher Beck. \"Optimally Relaxing\\nPartial-order Plans With MaxSAT\". In: 22nd International Conference on Automated Planning and\\nScheduling. 2012.\\n[38] Giuseppe De Giacomo, Yves Lesperance, and Christian Muise. \"On supervising agents in\\nsituation-determined ConGolog\". In: Proceedings of the 11th International Conference on\\nAutonomous Agents and Multiagent Systems-Volume 2. International Foundation for Autonomous\\nAgents and Multiagent Systems. 2012, pp. 1031 1038.\\n[39] Christian Muise, Sheila A. McIlraith, and J. Christopher Beck. \"Monitoring the Execution of\\nPartial-Order Plans via Regression\". In: International Joint Conference On Artificial Intelligence.\\nInternational Joint Conference On Artificial Intelligence. 2011.\\n[40] Christian Muise, Sheila A. McIlratih, and J. Christopher Beck. \"Optimization of Partial-Order\\nPlans via MaxSAT\". In: Workshop on Constraint Satisfaction Techniques for Planning and\\nScheduling Problems (COPLAS\\'11). 2011.\\n[41] Giuseppe De Giacomo, Yves Lesperance, and Christian Muise. \"Agent Supervision in\\nSituation-Determined ConGolog\". In: Nonmonotonic Reasoning, Action and Change. 2011.\\n[42] Christian Muise, Sheila A. McIlraith, and J. Christopher Beck. \"Fast d-DNNF Compilation with\\nsharpSAT\". In: Workshop on Abstraction, Reformulation, and Approximation (AAAI-10). Atlanta,\\nGA, USA, 2010.\\n[43] Christian Muise, Sheila A. McIlraith, Jorge A. Baier, and Michael Reimer. \"Exploiting N-gram\\nAnalysis to Predict Operator Sequences\". In: 19th International Conference on Automated\\nPlanning and Scheduling. Thessaloniki, Greece, 2009.\\n[44] Eric I Hsu, Christian Muise, J. Christopher Beck, and Sheila A. McIlraith. \"Probabilistically\\nEstimating Backbones and Variable Bias: Experimental Overview\". In: Principles and Practice of\\nConstraint Programming, 14th International Conference. Sydney, Australia, 2008, pp. 613 617.\\nCV 9/9 Christian Muise',\n",
       " 'education': '2007 - 2009\\nPh.D., Computer Science Toronto, Canada\\nUniversity of Toronto\\nMasters, Computer Science 2002 - 2007\\nUniversity of Toronto Ottawa, Canada\\nBachelor of Computer Science, Minor in Mathematics\\nCarleton University\\nResearch Experience\\nResearch Staff Member Oct 2017 - Present\\nIBM Research AI Cambridge, USA\\nConducted research on goal oriented planning and learning for dialogue systems\\nLead a team of 5 researchers and engineers for our work in dialogue\\nTook an active role in hiring and recruitment for the growth of the lab\\nPostdoctoral Research Fellow Jan 2016 - Oct 2017\\nMassachusetts Institute of Technology Cambridge, USA\\nConducted research on plan synthesis in the presence of temporal uncertainty\\nDeveloped OR-based decision support system for network optimization in the EdgeCT project\\nfunded by DARPA\\nOrganized and ran graduate recruitment activities and orientation for several new researchers\\nLead the restructuring of the CSAIL MERS group operational policies to accommodate a 100%\\nincrease in the size of the group\\nSupervised several PhD students working on model based reasoning for planning and scheduling\\nPostdoctoral Research Fellow Oct 2013 - Oct 2015\\nUniversity of Melbourne Melbourne, Australia\\nConducted research for the project, \"Foundations of Human-Agent Collaboration:\\nSituation-Relevant Information Sharing\"\\' (Australian Research Council Grant DP130102825)\\nCo-authored funding applications for continuing the project\\'s research agenda\\nTutored the undergraduate course, COMP30022: IT Project\\nArranged reading groups for a range of topics including automated planning, game theory, and\\nmachine learning\\nOrganized a one week research visit for University of Melbourne researchers to visit and collaborate\\nwith researchers at the University of Toronto\\nOrganized a three day research visit for NICTA Canberra researchers to visit and collaborate with\\nresearchers at the University of Melbourne\\nGraduate Student Sep 2007 - Feb 2014\\nUniversity of Toronto Toronto, Canada\\nAdvisors: Professor Sheila A. McIlraith and Professor J. Christopher Beck\\nMasters Thesis: \"Exploiting Modern #SAT-Solving Techniques to Generate Implicants\"\\nPhD Thesis: \"Exploiting Relevance to Improve Robustness and Flexibility in Plan Generation and\\nExecution\"\\nCGPA of 11.50 / 12.00\\nServed as teaching assistant for various graduate and undergraduate courses annually\\nOrganized and ran several specialized reading groups for academic research\\nCollaborated with existing students and mentored newer students in the local research groups\\nUndergraduate Student Research Assistant (USRA) May 2007 - Aug 2007\\nCarleton Computational Geometry Group Ottawa, Canada\\nConducted fundamental research into the area of advanced data structures\\nHelped run local research meetings and disseminated research to colleagues\\nClosely collaborated with two professors in the group to develop new research topics\\nResearch Visits and Academic Exchanges Feb 2018\\nSchloss Dagstuhl, Dagstuhl, Germany Aug 2015\\nLorentz Center, Lorentz, Netherlands May 2009 - Aug 2009\\nUniversity of Strathclyde, Glasgow, Scotland Jan 2004 - May 2004\\nRoyal Institute of Technology (KTH), Stockholm, Sweden',\n",
       " 'email': 'cjmuise@mit.edu',\n",
       " 'experience': 'Research Staff Member Oct 2017 - Present\\nIBM Research AI Cambridge, USA\\nConducted research on goal oriented planning and learning for dialogue systems\\nLead a team of 5 researchers and engineers for our work in dialogue\\nTook an active role in hiring and recruitment for the growth of the lab\\nPostdoctoral Research Fellow Jan 2016 - Oct 2017\\nMassachusetts Institute of Technology Cambridge, USA\\nConducted research on plan synthesis in the presence of temporal uncertainty\\nDeveloped OR-based decision support system for network optimization in the EdgeCT project\\nfunded by DARPA\\nOrganized and ran graduate recruitment activities and orientation for several new researchers\\nLead the restructuring of the CSAIL MERS group operational policies to accommodate a 100%\\nincrease in the size of the group\\nSupervised several PhD students working on model based reasoning for planning and scheduling\\nPostdoctoral Research Fellow Oct 2013 - Oct 2015\\nUniversity of Melbourne Melbourne, Australia\\nConducted research for the project, \"Foundations of Human-Agent Collaboration:\\nSituation-Relevant Information Sharing\"\\' (Australian Research Council Grant DP130102825)\\nCo-authored funding applications for continuing the project\\'s research agenda\\nTutored the undergraduate course, COMP30022: IT Project\\nArranged reading groups for a range of topics including automated planning, game theory, and\\nmachine learning\\nOrganized a one week research visit for University of Melbourne researchers to visit and collaborate\\nwith researchers at the University of Toronto\\nOrganized a three day research visit for NICTA Canberra researchers to visit and collaborate with\\nresearchers at the University of Melbourne\\nGraduate Student Sep 2007 - Feb 2014\\nUniversity of Toronto Toronto, Canada\\nAdvisors: Professor Sheila A. McIlraith and Professor J. Christopher Beck\\nMasters Thesis: \"Exploiting Modern #SAT-Solving Techniques to Generate Implicants\"\\nPhD Thesis: \"Exploiting Relevance to Improve Robustness and Flexibility in Plan Generation and\\nExecution\"\\nCGPA of 11.50 / 12.00\\nServed as teaching assistant for various graduate and undergraduate courses annually\\nOrganized and ran several specialized reading groups for academic research\\nCollaborated with existing students and mentored newer students in the local research groups\\nUndergraduate Student Research Assistant (USRA) May 2007 - Aug 2007\\nCarleton Computational Geometry Group Ottawa, Canada\\nConducted fundamental research into the area of advanced data structures\\nHelped run local research meetings and disseminated research to colleagues\\nClosely collaborated with two professors in the group to develop new research topics\\nResearch Visits and Academic Exchanges Feb 2018\\nSchloss Dagstuhl, Dagstuhl, Germany Aug 2015\\nLorentz Center, Lorentz, Netherlands May 2009 - Aug 2009\\nUniversity of Strathclyde, Glasgow, Scotland Jan 2004 - May 2004\\nRoyal Institute of Technology (KTH), Stockholm, SwedenGuest Lecturer 2016\\nMassachusetts Institute of Technology 16.412: Cognitive Robotics 2014,2015\\nUniversity of Melbourne, COMP90054: Software Agents\\nCreated a series of lectures on non-deterministic planning\\nPresented material to class sizes of roughly 20-30 students\\nAssisted with the creation of a class assignment on modling in planning\\nCourse Tutor Sep 2014 - Aug 2015\\nUniversity of Melbourne Melbourne, Australia\\nPresented weekly lectures on project management and software development\\nGuided 14 teams in completing a large-scale semester-long project\\nCo-developed the grading scheme, and graded all of the teams in the course\\nTeaching Assistant Sep 2007 - Dec 2013\\nUniversity of Toronto Toronto, Canada\\nAssisted with courses ranging from undergraduate introductory Computer Science topics to\\ngraduate-level topics in Artificial Intelligence\\nTaught tutorials and lectures on a regular basis\\nConstructed and marked several assignments, exams, and class activities\\nWorked with roughly 5 students to extend their course-work for larger research projects\\nAdvisory Experience\\nNikhil Bhargava Feb 2017 - Oct 2017\\nDoctoral Student Massachusetts Institute of Technology\\nProject: Multi-agent communication for joint temporal execution\\nRole: Guided research and monitored progress\\nPrimary Supervisor: Brian Williams\\nYuening Zhang Feb 2017 - Oct 2017\\nDoctoral Student Massachusetts Institute of Technology\\nProject: Preference-based decompositions for multi-agent scheduling\\nRole: Guided research and monitored progress\\nPrimary Supervisor: Brian Williams\\nJingkai Chen Sep 2016 - Oct 2017\\nDoctoral Student Massachusetts Institute of Technology\\nProject: EdgeCT Optimizing Network Communication Strategies\\nRole: Guided research and monitored progress\\nPrimary Supervisor: Brian Williams\\nSteven Levine Jul 2016 - Oct 2017\\nDoctoral Student Massachusetts Institute of Technology\\nProject: Temporal Execution Monitoring\\nRole: Guided research and monitored progress\\nPrimary Supervisor: Brian Williams\\nCV 3/9 Christian Muise\\nSimon Fang Sep 2016 - Feb 2017\\nDoctoral Student Massachusetts Institute of Technology\\nProject: EdgeCT Optimizing Network Communication Strategies\\nRole: Monitored project progress\\nPrimary Supervisor: Brian Williams\\nAndrew Wang Jul 2016 - Feb 2017\\nDoctoral Student Massachusetts Institute of Technology\\nProject: Dynamic Controllability\\nRole: Guided research and monitored progress\\nPrimary Supervisor: Brian Williams\\nPeng Yu May 2016 - Sep 2016\\nDoctoral Student Massachusetts Institute of Technology\\nProject: Collaborative Diagnosis of Over-Subscribed Temporal Plans\\nRole: Guided research and served as official reader for thesis\\nPrimary Supervisor: Brian Williams\\nAlberto Camacho Sep 2014 - Present\\nDoctoral Student University of Toronto\\nProject: Probabilistic Planning Solving MAXPROB With FOND\\nRole: Guided research and advised student on career objectives\\nPrimary Supervisor: Sheila McIlraith\\nRehan Aziz Jun 2014 - Aug 2015\\nDoctoral Student University of Melbourne\\nProject: Knowledge Compilation With Projected Variables\\nRole: Guided research\\nPrimary Supervisor: Peter Stuckey\\nAkshay Ganesh May 2013 - Dec 2013\\nUndergraduate Student University of Toronto\\nProject: Probabilistic Planning Using FOND\\nRole: Lead research agenda and monitored progress\\nPrimary Supervisor: Sheila McIlraith\\nDaniel Katz May 2013 - Sep 2013\\nUndergraduate Student University of Toronto\\nProject: Frameworks for Planning With Partial Observability\\nRole: Lead research agenda and monitored progress\\nPrimary Supervisor: Sheila McIlraith\\nCV 4/9 Christian Muise\\nLeadership and Outreach Experience\\nFounder and Lead Developer 2014 - Present\\nPlanning.Domains Virtual Collaboration\\nStarted an initiative for researchers to work with benchmark problems in Automated Planning\\nDeveloped a series of online services in support of the initiative:\\nProgrammatic access to every benchmark problem\\nhttp://api.planning.domains/\\nRemote solver technology as a service\\nhttp://solver.planning.domains/\\nOnline modeling interface for planning\\nhttp://editor.planning.domains/\\nSecured funding for the initiative\\'s online services from the ICAPS international organization\\nFormed a multi-institutional team to continue the development of the services for the community\\nDeveloped and delivered a tutorial on the initiative at the 2016 ICAPS conference\\nCo-Founder and Organizer 2016\\nUnsolvability International Planning Competition Co-located with ICAPS\\'16\\nCreated the inaugural international contest for detecting unsolvable planning instances\\nRecruited 12 international teams to develop a planner and enter the contest\\nDeveloped the infrastructure to run and evaluate all of the planners\\nPresented the results and insights that were found during the contest at the ICAPS conference\\nTechnical Lead 2012 - 2013\\nToronto Public Spaces Initiative TABS on Toronto Project Toronto, Canada\\nDeveloped an online portal to alert Toronto citizens of upcoming City Hall agenda items\\nWorked with initiatives from the US and India to help bring similar technology to their own locales\\nResearch Visits and Invited Talks\\nInvited lecture at the Dagstuhl seminar of Planning and Operations Research . . . . . . . . 2018\\nInvited keynote at the Workshop on Knowledge Engineering for Planning and Scheduling . . 2017\\nInvited lecture at the University of New Hampshire\\'s CS Department . . . . . . . . . . . . . 2016\\nInvited lecture at MIT\\'s Learning and Intelligent Systems Group . . . . . . . . . . . . . . . 2016\\nInvited lecture at MIT\\'s Interactive Robotics Laboratory . . . . . . . . . . . . . . . . . . . . 2016\\nTwo guest lectures for MIT\\'s 16.412: Cognitive Robotics . . . . . . . . . . . . . . . . . . . . 2016\\nInvited to a Lorentz Symposium to present my research . . . . . . . . . . . . . . . . . . . . . 2015\\nResearch visit to (NICTA): Australia\\'s Information and Communications Technology\\nResearch Centre of Excellence . . . . . . . . . . . . . . . . . . . . . . . . . . . . . . . . . . . 2015\\nResearch visits to the University of Toronto . . . . . . . . . . . . . . . . . . . . . . . . 2014,2015\\nGuest lecture for Melbourne University\\'s COMP90054: Software Agents . . . . . . . . 2014,2015\\nTwo invited lectures at the Melbourne AgentsVic research group . . . . . . . . . . . . . . . . 2014\\nPresented PhD research at the Research In Action showcase . . . . . . . . . . . . . . . 2012,2013\\nStudied with the planning group at the University of Strathclyde, Glasgow, Scotland . . . . 2009\\nTrain-IT Exchange Program to Royal Institute of Technology, Stockholm, Sweden . . . . . . 2004\\nCV 5/9 Christian Muise\\nAcademic Service\\nOrganizing Committee\\nWorkshop on Heuristics and Search for Domain-independent Planning (HSDIP) . . . . 2016,2018\\nWorkshop on Planning, Search, and Optimization (PlanSOpt) . . . . . . . . . . . . . . . . . 2017\\nPlanning.Domains Tutorial at the International Conference on Automated Planning\\nand Scheduling (ICAPS) . . . . . . . . . . . . . . . . . . . . . . . . . . . . . . . . . . . . . . 2016\\nInternational Conference on Automated Planning and Scheduling: Publicity Chair . . . . . . 2016\\nInternational Planning Competition on Unsolvable Planning Instances . . . . . . . . . . . . . 2016\\nTidel Operations Research Challenge, Toronto, ON. (TORCH) . . . . . . . . . . . 2011,2012,2013\\nDCS Symposium on Trends in Computing, Toronto, ON. . . . . . . . . . . . . . . . . . . . . 2010\\nProgram Committee\\nInternational Conference on Automated Planning and Scheduling (ICAPS) . 2015,2016,2017,2018\\nInternational Joint Conference on Artificial Intelligence (IJCAI) . . . . . . . 2011,2015,2016,2018\\nWorkshop on Generalized Planning (GenPlan) . . . . . . . . . . . . . . . . . . . . . . . . . . 2017\\nSymposium On Combinatorial Search (SoCS) . . . . . . . . . . . . . . . . . . . . . . . . . . 2016\\nAAAI Conference on Artificial Intelligence (AAAI) . . . . . . . . . . . . . . . . . . . . . . . 2015\\nEuropean Conference on Artificial Intelligence (ECAI) . . . . . . . . . . . . . . . . . . . . . 2014\\nICAPS Workshop on Planning in Games . . . . . . . . . . . . . . . . . . . . . . . . . . . . . 2013\\nAAAI Workshop on Problem Solving using Classical Planners . . . . . . . . . . . . . . . . . 2012\\nNorth Eastern Student Colloquium on Artificial Intelligence (NESCAI) . . . . . . . . . . . . 2010\\nReviewer\\nJournal of Artificial Intelligence Research (JAIR) . . . . . . . . . . . . . . . . . . 2013,2014,2018\\nNational Science Foundation (NSF) Proposal Review Panel . . . . . . . . . . . . . . . . . . . 2016\\nArtificial Intelligence Journal (AIJ) . . . . . . . . . . . . . . . . . . . . . . . . . . . . . 2015,2016\\nInternational Conference on Automated Planning and Scheduling (ICAPS) . . . . 2010,2013,2014\\nCanadian Conference on Artificial Intelligence (CAI) . . . . . . . . . . . . . . . . . . . 2010,2014\\nConference on Principles of Knowledge Representation and Reasoning (KR) . . . . . . . . . 2014\\nInternational Conference on Autonomous Agents and Multiagent Systems (AAMAS) . . . . 2014\\nReferences williams@mit.edu\\n(617) 253-2739\\nProf. Brian Williams\\nMassachusetts Institute of Technology adrianrp@unimelb.edu.au\\n+61 3 8344 1399\\nProf. Adrian Pearce\\nUniversity of Melbourne sheila@cs.toronto.edu\\n(416) 946-8484\\nProf. Sheila McIlraith\\nUniversity of Toronto malte.helmert@unibas.ch\\n+41 61 20 70548\\nProf. Malte Helmert\\nUniversity of Basel Christian Muise\\nCV 6/9\\nRefereed Publications\\n[1] Alberto Camacho, Jorge Baier, Christian Muise, and Sheila A. McIlraith. \"Bridging the Gap\\nBetween LTL Synthesis and Automated Planning\". In: Workshop on Generalized Planning\\n(GenPlan\\'17). 2017.\\n[2] Alberto Camacho, Eleni Triantafillou, Christian Muise, Jorge Baier, and Sheila A. McIlraith.\\n\"Non-Deterministic Planning with Temporally Extended Goals: LTL over finite and infinite traces\".\\nIn: The 31st AAAI Conference on Artificial Intelligence. 2017.\\n[3] Brent Mombourquette, Christian Muise, and Sheila McIlraith. \"Logical Filtering and Smoothing:\\nState Estimation in Partially Observable Domains\". In: The 31st AAAI Conference on Artificial\\nIntelligence. 2017.\\n[4] Alberto Camacho, Christian Muise, and Sheila A. McIlraith. \"From FOND to Robust\\nProbabilistic Planning: Computing compact policies that bypass avoidable deadends\". In: The 26th\\nInternational Conference on Automated Planning and Scheduling. 2016.\\n[5] Alberto Camacho, Eleni Triantafillou, Christian Muise, Jorge Baier, and Sheila A. McIlraith.\\n\"LTL Synthesis for Non-Deterministic Systems on Finite and Infinite Traces\". In: Workshop on\\nHeuristic Search and Domain Independent Planning (HSDIP\\'16). 2016.\\n[6] Alberto Camacho, Eleni Triantafillou, Christian Muise, Jorge Baier, and Sheila A. McIlraith.\\n\"Non-Deterministic Planning with Temporally Extended Goals: Completing the story for finite and\\ninfinite LTL\". In: Workshop on Knowledge-based techniques for problem solving and reasoning\\n(KnowProS\\'16). 2016.\\n[7] Christian Muise. \"A Flow Shop Scheduler\". In: 500 Lines or Less. Ed. by Amy Brown and\\nMichael Dibernardo. Lulu.com, 2016. Chap. 9. url: http://aosabook.org/en/index.html.\\n[8] Christian Muise. \"Planning.Domains\". In: The 26th International Conference on Automated\\nPlanning and Scheduling - Demonstrations. 2016.\\n[9] Christian Muise, J. Christopher Beck, and Sheila A. McIlraith. \"Optimal Partial-Order Plan\\nRelaxation via MaxSAT\". In: Journal of Artificial Intelligence Research (2016).\\n[10] Christian Muise, Frank Dignum, Paolo Felli, Tim Miller, Adrian R. Pearce, and Liz Sonenberg.\\n\"Towards Team Formation via Automated Planning\". In: Lecture Notes in Computer Science 9628\\n(2016). Special Issue on Coordination, Organizations, Institutions, and Norms in Agent Systems\\nXI, pp. 282 299.\\n[11] Christian Muise, Paolo Felli, Tim Miller, Adrian R. Pearce, and Liz Sonenberg. \"Planning for a\\nSingle Agent in a Multi-Agent Environment Using FOND\". In: International Joint Conference On\\nArtificial Intelligence. 2016.\\n[12] Christian Muise, Sheila A. McIlraith, J. Christopher Beck, and Eric Hsu. \"DSHARP: Fast\\nd-DNNF Compilation with sharpSAT (Amended Version)\". In: AAAI-16 Workshop on Beyond NP.\\n2016.\\n[13] Nir Lipovetzky, Christian Muise, and Hector Geffner. \"Traps, Invariants, and Dead-Ends\". In:\\nThe 26th International Conference on Automated Planning and Scheduling. 2016.\\n[14] Tim Miller and Christian Muise. \"Belief Update for Proper Epistemic Knowledge Bases\". In:\\nInternational Joint Conference On Artificial Intelligence. 2016.\\n[15] Tim Miller, Christian Muise, Paolo Felli, Adrian R. Pearce, and Liz Sonenberg. \"\\'Knowing\\nWhether\\' in Proper Epistemic Knowledge Bases\". In: The 30th AAAI Conference on Artificial\\nIntelligence. 2016.\\nCV 7/9 Christian Muise\\n[16] Brent Mombourquette, Christian Muise, and Sheila A. McIlraith. \"Belief State Estimation for\\nPlanning via Approximate Logical Filtering and Smoothing\". In: Workshop on Knowledge-based\\ntechniques for problem solving and reasoning (KnowProS\\'16). 2016.\\n[17] Liz Sonenberg, Tim Miller, Adrian Pearce, Paolo Felli, Christian Muise, and Frank Dignum.\\n\"Social planning for social HRI\". In: 2nd Workshop on Cognitive Architectures for Social\\nHuman-Robot Interaction. 2016.\\n[18] Rehan Abdul Aziz, Geoffrey Chu, Christian Muise, and Peter Stuckey. \"Projected Model\\nCounting\". In: International Conference on Theory and Applications of Satisfiability Testing.\\nAustin, USA, 2015.\\n[19] Rehan Abdul Aziz, Geoffrey Chu, Christian Muise, and Peter Stuckey. \"Stable model counting\\nand its application in probabilistic logic programming\". In: The 29th AAAI Conference on\\nArtificial Intelligence. 2015.\\n[20] Alberto Camacho, Christian Muise, Akshay Ganeshen, and Sheila A. McIlraith. \"From FOND to\\nProbabilistic Planning: Guiding search for quality policies\". In: Workshop on Heuristic Search and\\nDomain Independent Planning (HSDIP\\'15). 2015.\\n[21] Christian Muise, Vaishak Belle, Paolo Felli, Sheila A. McIlraith, Tim Miller, Adrian R. Pearce,\\nand Liz Sonenberg. \"Planning Over Multi-Agent Epistemic States: A Classical Planning\\nApproach\". In: The 29th AAAI Conference on Artificial Intelligence. 2015.\\n[22] Christian Muise, Vaishak Belle, Paolo Felli, Sheila A. McIlraith, Tim Miller, Adrian R. Pearce,\\nand Liz Sonenberg. \"Planning Over Multi-Agent Epistemic States: A Classical Planning Approach\\n(Amended Version)\". In: Workshop on Distributed and Multi-Agent Planning (DMAP\\'15). 2015.\\n[23] Christian Muise, Frank Dignum, Paolo Felli, Tim Miller, Adrian R. Pearce, and Liz Sonenberg.\\n\"Towards Team Formation via Automated Planning\". In: International Workshop on Coordination,\\nOrganisation, Institutions and Norms in Multi-Agent Systems. 2015.\\n[24] Christian Muise, Paolo Felli, Tim Miller, Adrian R. Pearce, and Liz Sonenberg. \"Leveraging\\nFOND Planning Technology to Solve Multi-Agent Planning Problems\". In: Workshop on\\nDistributed and Multi-Agent Planning (DMAP\\'15). 2015.\\n[25] Christian Muise and Nir Lipovetzky. \"Unplannability IPC Track\". In: Workshop on the\\nInternational Planning Competition. 2015.\\n[26] Christian Muise, Nir Lipovetzky, and Miquel Ramirez. \"MAP-LAPKT: Omnipotent Multi-Agent\\nPlanning via Compilation to Classical Planning\". In: Competition of Distributed and Multiagent\\nPlanners. 2015.\\n[27] Christian Muise, Tim Miller, Paolo Felli, Adrian R. Pearce, and Liz Sonenberg. \"Efficient\\nReasoning With Consistent Proper Epistemic Knowledge Bases\". In: The International Conference\\non Autonomous Agents and Multiagent Systems. 2015.\\n[28] Paolo Felli, Tim Miller, Christian Muise, Adrian R. Pearce, and Liz Sonenberg. \"Computing\\nSocial Behaviours Using Agent Models\". In: International Joint Conference on Artificial\\nIntelligence, IJCAI 2015. 2015.\\n[29] Christian Muise, Vaishak Belle, and Sheila A. McIlraith. \"Computing Contingent Plans via Fully\\nObservable Non-Deterministic Planning\". In: The 28th AAAI Conference on Artificial Intelligence.\\n2014.\\n[30] Christian Muise, Sheila A. McIlraith, and Vaishak Belle. \"Non-Deterministic Planning With\\nConditional Effects\". In: The 24th International Conference on Automated Planning and\\nScheduling. 2014.\\n[31] Paolo Felli, Tim Miller, Christian Muise, Adrian R. Pearce, and Liz Sonenberg. \"Artificial social\\nreasoning: computational mechanisms for reasoning about others\". In: The International\\nConference on Social Robotics. 2014.\\nCV 8/9 Christian Muise\\n[32] Tim Miller, Adrian R. Pearce, Liz Sonenberg, Frank Dignum, Paolo Felli, and Christian Muise.\\n\"Foundations of Human-Agent Collaboration: Situation-Relevant Information Sharing\". In: The\\nAAAI 2014 Fall Symposium on AI for Human-Robot Interaction. Extended Abstract. 2014.\\n[33] Christian Muise, J. Christopher Beck, and Sheila A. McIlraith. \"Flexible Execution of Partial\\nOrder Plans With Temporal Constraints\". In: International Joint Conference On Artificial\\nIntelligence. 2013, pp. 2328 2335.\\n[34] Vladimir Klebanov, Norbert Manthey, and Christian Muise. \"SAT-based Analysis and\\nQuantification of Information Flow in Programs\". In: 10th International Conference on\\nQuantitative Evaluation of SysTems (QEST 2013). 2013, pp. 177 192.\\n[35] Christian Muise, Sheila A. McIlraith, and J. Christopher Beck. \"Improved Non-deterministic\\nPlanning by Exploiting State Relevance\". In: The 22nd International Conference on Automated\\nPlanning and Scheduling. The 22nd International Conference on Automated Planning and\\nScheduling. 2012.\\n[36] Christian Muise, Sheila A. McIlraith, J. Christopher Beck, and Eric Hsu. \"DSHARP: Fast\\nd-DNNF Compilation with sharpSAT\". In: Canadian Conference on Artificial Intelligence. 2012.\\n[37] Christian Muise, Sheila A. McIlratih, and J. Christopher Beck. \"Optimally Relaxing\\nPartial-order Plans With MaxSAT\". In: 22nd International Conference on Automated Planning and\\nScheduling. 2012.\\n[38] Giuseppe De Giacomo, Yves Lesperance, and Christian Muise. \"On supervising agents in\\nsituation-determined ConGolog\". In: Proceedings of the 11th International Conference on\\nAutonomous Agents and Multiagent Systems-Volume 2. International Foundation for Autonomous\\nAgents and Multiagent Systems. 2012, pp. 1031 1038.\\n[39] Christian Muise, Sheila A. McIlraith, and J. Christopher Beck. \"Monitoring the Execution of\\nPartial-Order Plans via Regression\". In: International Joint Conference On Artificial Intelligence.\\nInternational Joint Conference On Artificial Intelligence. 2011.\\n[40] Christian Muise, Sheila A. McIlratih, and J. Christopher Beck. \"Optimization of Partial-Order\\nPlans via MaxSAT\". In: Workshop on Constraint Satisfaction Techniques for Planning and\\nScheduling Problems (COPLAS\\'11). 2011.\\n[41] Giuseppe De Giacomo, Yves Lesperance, and Christian Muise. \"Agent Supervision in\\nSituation-Determined ConGolog\". In: Nonmonotonic Reasoning, Action and Change. 2011.\\n[42] Christian Muise, Sheila A. McIlraith, and J. Christopher Beck. \"Fast d-DNNF Compilation with\\nsharpSAT\". In: Workshop on Abstraction, Reformulation, and Approximation (AAAI-10). Atlanta,\\nGA, USA, 2010.\\n[43] Christian Muise, Sheila A. McIlraith, Jorge A. Baier, and Michael Reimer. \"Exploiting N-gram\\nAnalysis to Predict Operator Sequences\". In: 19th International Conference on Automated\\nPlanning and Scheduling. Thessaloniki, Greece, 2009.\\n[44] Eric I Hsu, Christian Muise, J. Christopher Beck, and Sheila A. McIlraith. \"Probabilistically\\nEstimating Backbones and Variable Bias: Experimental Overview\". In: Principles and Practice of\\nConstraint Programming, 14th International Conference. Sydney, Australia, 2008, pp. 613 617.\\nCV 9/9 Christian MuiseNikhil Bhargava Feb 2017 - Oct 2017\\nDoctoral Student Massachusetts Institute of Technology\\nProject: Multi-agent communication for joint temporal execution\\nRole: Guided research and monitored progress\\nPrimary Supervisor: Brian Williams\\nYuening Zhang Feb 2017 - Oct 2017\\nDoctoral Student Massachusetts Institute of Technology\\nProject: Preference-based decompositions for multi-agent scheduling\\nRole: Guided research and monitored progress\\nPrimary Supervisor: Brian Williams\\nJingkai Chen Sep 2016 - Oct 2017\\nDoctoral Student Massachusetts Institute of Technology\\nProject: EdgeCT Optimizing Network Communication Strategies\\nRole: Guided research and monitored progress\\nPrimary Supervisor: Brian Williams\\nSteven Levine Jul 2016 - Oct 2017\\nDoctoral Student Massachusetts Institute of Technology\\nProject: Temporal Execution Monitoring\\nRole: Guided research and monitored progress\\nPrimary Supervisor: Brian Williams\\nCV 3/9 Christian Muise\\nSimon Fang Sep 2016 - Feb 2017\\nDoctoral Student Massachusetts Institute of Technology\\nProject: EdgeCT Optimizing Network Communication Strategies\\nRole: Monitored project progress\\nPrimary Supervisor: Brian Williams\\nAndrew Wang Jul 2016 - Feb 2017\\nDoctoral Student Massachusetts Institute of Technology\\nProject: Dynamic Controllability\\nRole: Guided research and monitored progress\\nPrimary Supervisor: Brian Williams\\nPeng Yu May 2016 - Sep 2016\\nDoctoral Student Massachusetts Institute of Technology\\nProject: Collaborative Diagnosis of Over-Subscribed Temporal Plans\\nRole: Guided research and served as official reader for thesis\\nPrimary Supervisor: Brian Williams\\nAlberto Camacho Sep 2014 - Present\\nDoctoral Student University of Toronto\\nProject: Probabilistic Planning Solving MAXPROB With FOND\\nRole: Guided research and advised student on career objectives\\nPrimary Supervisor: Sheila McIlraith\\nRehan Aziz Jun 2014 - Aug 2015\\nDoctoral Student University of Melbourne\\nProject: Knowledge Compilation With Projected Variables\\nRole: Guided research\\nPrimary Supervisor: Peter Stuckey\\nAkshay Ganesh May 2013 - Dec 2013\\nUndergraduate Student University of Toronto\\nProject: Probabilistic Planning Using FOND\\nRole: Lead research agenda and monitored progress\\nPrimary Supervisor: Sheila McIlraith\\nDaniel Katz May 2013 - Sep 2013\\nUndergraduate Student University of Toronto\\nProject: Frameworks for Planning With Partial Observability\\nRole: Lead research agenda and monitored progress\\nPrimary Supervisor: Sheila McIlraith\\nCV 4/9 Christian Muise\\nLeadership and Outreach Experience\\nFounder and Lead Developer 2014 - Present\\nPlanning.Domains Virtual Collaboration\\nStarted an initiative for researchers to work with benchmark problems in Automated Planning\\nDeveloped a series of online services in support of the initiative:\\nProgrammatic access to every benchmark problem\\nhttp://api.planning.domains/\\nRemote solver technology as a service\\nhttp://solver.planning.domains/\\nOnline modeling interface for planning\\nhttp://editor.planning.domains/\\nSecured funding for the initiative\\'s online services from the ICAPS international organization\\nFormed a multi-institutional team to continue the development of the services for the community\\nDeveloped and delivered a tutorial on the initiative at the 2016 ICAPS conference\\nCo-Founder and Organizer 2016\\nUnsolvability International Planning Competition Co-located with ICAPS\\'16\\nCreated the inaugural international contest for detecting unsolvable planning instances\\nRecruited 12 international teams to develop a planner and enter the contest\\nDeveloped the infrastructure to run and evaluate all of the planners\\nPresented the results and insights that were found during the contest at the ICAPS conference\\nTechnical Lead 2012 - 2013\\nToronto Public Spaces Initiative TABS on Toronto Project Toronto, Canada\\nDeveloped an online portal to alert Toronto citizens of upcoming City Hall agenda items\\nWorked with initiatives from the US and India to help bring similar technology to their own locales\\nResearch Visits and Invited Talks\\nInvited lecture at the Dagstuhl seminar of Planning and Operations Research . . . . . . . . 2018\\nInvited keynote at the Workshop on Knowledge Engineering for Planning and Scheduling . . 2017\\nInvited lecture at the University of New Hampshire\\'s CS Department . . . . . . . . . . . . . 2016\\nInvited lecture at MIT\\'s Learning and Intelligent Systems Group . . . . . . . . . . . . . . . 2016\\nInvited lecture at MIT\\'s Interactive Robotics Laboratory . . . . . . . . . . . . . . . . . . . . 2016\\nTwo guest lectures for MIT\\'s 16.412: Cognitive Robotics . . . . . . . . . . . . . . . . . . . . 2016\\nInvited to a Lorentz Symposium to present my research . . . . . . . . . . . . . . . . . . . . . 2015\\nResearch visit to (NICTA): Australia\\'s Information and Communications Technology\\nResearch Centre of Excellence . . . . . . . . . . . . . . . . . . . . . . . . . . . . . . . . . . . 2015\\nResearch visits to the University of Toronto . . . . . . . . . . . . . . . . . . . . . . . . 2014,2015\\nGuest lecture for Melbourne University\\'s COMP90054: Software Agents . . . . . . . . 2014,2015\\nTwo invited lectures at the Melbourne AgentsVic research group . . . . . . . . . . . . . . . . 2014\\nPresented PhD research at the Research In Action showcase . . . . . . . . . . . . . . . 2012,2013\\nStudied with the planning group at the University of Strathclyde, Glasgow, Scotland . . . . 2009\\nTrain-IT Exchange Program to Royal Institute of Technology, Stockholm, Sweden . . . . . . 2004\\nCV 5/9 Christian Muise\\nAcademic Service\\nOrganizing Committee\\nWorkshop on Heuristics and Search for Domain-independent Planning (HSDIP) . . . . 2016,2018\\nWorkshop on Planning, Search, and Optimization (PlanSOpt) . . . . . . . . . . . . . . . . . 2017\\nPlanning.Domains Tutorial at the International Conference on Automated Planning\\nand Scheduling (ICAPS) . . . . . . . . . . . . . . . . . . . . . . . . . . . . . . . . . . . . . . 2016\\nInternational Conference on Automated Planning and Scheduling: Publicity Chair . . . . . . 2016\\nInternational Planning Competition on Unsolvable Planning Instances . . . . . . . . . . . . . 2016\\nTidel Operations Research Challenge, Toronto, ON. (TORCH) . . . . . . . . . . . 2011,2012,2013\\nDCS Symposium on Trends in Computing, Toronto, ON. . . . . . . . . . . . . . . . . . . . . 2010\\nProgram Committee\\nInternational Conference on Automated Planning and Scheduling (ICAPS) . 2015,2016,2017,2018\\nInternational Joint Conference on Artificial Intelligence (IJCAI) . . . . . . . 2011,2015,2016,2018\\nWorkshop on Generalized Planning (GenPlan) . . . . . . . . . . . . . . . . . . . . . . . . . . 2017\\nSymposium On Combinatorial Search (SoCS) . . . . . . . . . . . . . . . . . . . . . . . . . . 2016\\nAAAI Conference on Artificial Intelligence (AAAI) . . . . . . . . . . . . . . . . . . . . . . . 2015\\nEuropean Conference on Artificial Intelligence (ECAI) . . . . . . . . . . . . . . . . . . . . . 2014\\nICAPS Workshop on Planning in Games . . . . . . . . . . . . . . . . . . . . . . . . . . . . . 2013\\nAAAI Workshop on Problem Solving using Classical Planners . . . . . . . . . . . . . . . . . 2012\\nNorth Eastern Student Colloquium on Artificial Intelligence (NESCAI) . . . . . . . . . . . . 2010\\nReviewer\\nJournal of Artificial Intelligence Research (JAIR) . . . . . . . . . . . . . . . . . . 2013,2014,2018\\nNational Science Foundation (NSF) Proposal Review Panel . . . . . . . . . . . . . . . . . . . 2016\\nArtificial Intelligence Journal (AIJ) . . . . . . . . . . . . . . . . . . . . . . . . . . . . . 2015,2016\\nInternational Conference on Automated Planning and Scheduling (ICAPS) . . . . 2010,2013,2014\\nCanadian Conference on Artificial Intelligence (CAI) . . . . . . . . . . . . . . . . . . . 2010,2014\\nConference on Principles of Knowledge Representation and Reasoning (KR) . . . . . . . . . 2014\\nInternational Conference on Autonomous Agents and Multiagent Systems (AAMAS) . . . . 2014\\nReferences williams@mit.edu\\n(617) 253-2739\\nProf. Brian Williams\\nMassachusetts Institute of Technology adrianrp@unimelb.edu.au\\n+61 3 8344 1399\\nProf. Adrian Pearce\\nUniversity of Melbourne sheila@cs.toronto.edu\\n(416) 946-8484\\nProf. Sheila McIlraith\\nUniversity of Toronto malte.helmert@unibas.ch\\n+41 61 20 70548\\nProf. Malte Helmert\\nUniversity of Basel Christian Muise\\nCV 6/9\\nRefereed Publications\\n[1] Alberto Camacho, Jorge Baier, Christian Muise, and Sheila A. McIlraith. \"Bridging the Gap\\nBetween LTL Synthesis and Automated Planning\". In: Workshop on Generalized Planning\\n(GenPlan\\'17). 2017.\\n[2] Alberto Camacho, Eleni Triantafillou, Christian Muise, Jorge Baier, and Sheila A. McIlraith.\\n\"Non-Deterministic Planning with Temporally Extended Goals: LTL over finite and infinite traces\".\\nIn: The 31st AAAI Conference on Artificial Intelligence. 2017.\\n[3] Brent Mombourquette, Christian Muise, and Sheila McIlraith. \"Logical Filtering and Smoothing:\\nState Estimation in Partially Observable Domains\". In: The 31st AAAI Conference on Artificial\\nIntelligence. 2017.\\n[4] Alberto Camacho, Christian Muise, and Sheila A. McIlraith. \"From FOND to Robust\\nProbabilistic Planning: Computing compact policies that bypass avoidable deadends\". In: The 26th\\nInternational Conference on Automated Planning and Scheduling. 2016.\\n[5] Alberto Camacho, Eleni Triantafillou, Christian Muise, Jorge Baier, and Sheila A. McIlraith.\\n\"LTL Synthesis for Non-Deterministic Systems on Finite and Infinite Traces\". In: Workshop on\\nHeuristic Search and Domain Independent Planning (HSDIP\\'16). 2016.\\n[6] Alberto Camacho, Eleni Triantafillou, Christian Muise, Jorge Baier, and Sheila A. McIlraith.\\n\"Non-Deterministic Planning with Temporally Extended Goals: Completing the story for finite and\\ninfinite LTL\". In: Workshop on Knowledge-based techniques for problem solving and reasoning\\n(KnowProS\\'16). 2016.\\n[7] Christian Muise. \"A Flow Shop Scheduler\". In: 500 Lines or Less. Ed. by Amy Brown and\\nMichael Dibernardo. Lulu.com, 2016. Chap. 9. url: http://aosabook.org/en/index.html.\\n[8] Christian Muise. \"Planning.Domains\". In: The 26th International Conference on Automated\\nPlanning and Scheduling - Demonstrations. 2016.\\n[9] Christian Muise, J. Christopher Beck, and Sheila A. McIlraith. \"Optimal Partial-Order Plan\\nRelaxation via MaxSAT\". In: Journal of Artificial Intelligence Research (2016).\\n[10] Christian Muise, Frank Dignum, Paolo Felli, Tim Miller, Adrian R. Pearce, and Liz Sonenberg.\\n\"Towards Team Formation via Automated Planning\". In: Lecture Notes in Computer Science 9628\\n(2016). Special Issue on Coordination, Organizations, Institutions, and Norms in Agent Systems\\nXI, pp. 282 299.\\n[11] Christian Muise, Paolo Felli, Tim Miller, Adrian R. Pearce, and Liz Sonenberg. \"Planning for a\\nSingle Agent in a Multi-Agent Environment Using FOND\". In: International Joint Conference On\\nArtificial Intelligence. 2016.\\n[12] Christian Muise, Sheila A. McIlraith, J. Christopher Beck, and Eric Hsu. \"DSHARP: Fast\\nd-DNNF Compilation with sharpSAT (Amended Version)\". In: AAAI-16 Workshop on Beyond NP.\\n2016.\\n[13] Nir Lipovetzky, Christian Muise, and Hector Geffner. \"Traps, Invariants, and Dead-Ends\". In:\\nThe 26th International Conference on Automated Planning and Scheduling. 2016.\\n[14] Tim Miller and Christian Muise. \"Belief Update for Proper Epistemic Knowledge Bases\". In:\\nInternational Joint Conference On Artificial Intelligence. 2016.\\n[15] Tim Miller, Christian Muise, Paolo Felli, Adrian R. Pearce, and Liz Sonenberg. \"\\'Knowing\\nWhether\\' in Proper Epistemic Knowledge Bases\". In: The 30th AAAI Conference on Artificial\\nIntelligence. 2016.\\nCV 7/9 Christian Muise\\n[16] Brent Mombourquette, Christian Muise, and Sheila A. McIlraith. \"Belief State Estimation for\\nPlanning via Approximate Logical Filtering and Smoothing\". In: Workshop on Knowledge-based\\ntechniques for problem solving and reasoning (KnowProS\\'16). 2016.\\n[17] Liz Sonenberg, Tim Miller, Adrian Pearce, Paolo Felli, Christian Muise, and Frank Dignum.\\n\"Social planning for social HRI\". In: 2nd Workshop on Cognitive Architectures for Social\\nHuman-Robot Interaction. 2016.\\n[18] Rehan Abdul Aziz, Geoffrey Chu, Christian Muise, and Peter Stuckey. \"Projected Model\\nCounting\". In: International Conference on Theory and Applications of Satisfiability Testing.\\nAustin, USA, 2015.\\n[19] Rehan Abdul Aziz, Geoffrey Chu, Christian Muise, and Peter Stuckey. \"Stable model counting\\nand its application in probabilistic logic programming\". In: The 29th AAAI Conference on\\nArtificial Intelligence. 2015.\\n[20] Alberto Camacho, Christian Muise, Akshay Ganeshen, and Sheila A. McIlraith. \"From FOND to\\nProbabilistic Planning: Guiding search for quality policies\". In: Workshop on Heuristic Search and\\nDomain Independent Planning (HSDIP\\'15). 2015.\\n[21] Christian Muise, Vaishak Belle, Paolo Felli, Sheila A. McIlraith, Tim Miller, Adrian R. Pearce,\\nand Liz Sonenberg. \"Planning Over Multi-Agent Epistemic States: A Classical Planning\\nApproach\". In: The 29th AAAI Conference on Artificial Intelligence. 2015.\\n[22] Christian Muise, Vaishak Belle, Paolo Felli, Sheila A. McIlraith, Tim Miller, Adrian R. Pearce,\\nand Liz Sonenberg. \"Planning Over Multi-Agent Epistemic States: A Classical Planning Approach\\n(Amended Version)\". In: Workshop on Distributed and Multi-Agent Planning (DMAP\\'15). 2015.\\n[23] Christian Muise, Frank Dignum, Paolo Felli, Tim Miller, Adrian R. Pearce, and Liz Sonenberg.\\n\"Towards Team Formation via Automated Planning\". In: International Workshop on Coordination,\\nOrganisation, Institutions and Norms in Multi-Agent Systems. 2015.\\n[24] Christian Muise, Paolo Felli, Tim Miller, Adrian R. Pearce, and Liz Sonenberg. \"Leveraging\\nFOND Planning Technology to Solve Multi-Agent Planning Problems\". In: Workshop on\\nDistributed and Multi-Agent Planning (DMAP\\'15). 2015.\\n[25] Christian Muise and Nir Lipovetzky. \"Unplannability IPC Track\". In: Workshop on the\\nInternational Planning Competition. 2015.\\n[26] Christian Muise, Nir Lipovetzky, and Miquel Ramirez. \"MAP-LAPKT: Omnipotent Multi-Agent\\nPlanning via Compilation to Classical Planning\". In: Competition of Distributed and Multiagent\\nPlanners. 2015.\\n[27] Christian Muise, Tim Miller, Paolo Felli, Adrian R. Pearce, and Liz Sonenberg. \"Efficient\\nReasoning With Consistent Proper Epistemic Knowledge Bases\". In: The International Conference\\non Autonomous Agents and Multiagent Systems. 2015.\\n[28] Paolo Felli, Tim Miller, Christian Muise, Adrian R. Pearce, and Liz Sonenberg. \"Computing\\nSocial Behaviours Using Agent Models\". In: International Joint Conference on Artificial\\nIntelligence, IJCAI 2015. 2015.\\n[29] Christian Muise, Vaishak Belle, and Sheila A. McIlraith. \"Computing Contingent Plans via Fully\\nObservable Non-Deterministic Planning\". In: The 28th AAAI Conference on Artificial Intelligence.\\n2014.\\n[30] Christian Muise, Sheila A. McIlraith, and Vaishak Belle. \"Non-Deterministic Planning With\\nConditional Effects\". In: The 24th International Conference on Automated Planning and\\nScheduling. 2014.\\n[31] Paolo Felli, Tim Miller, Christian Muise, Adrian R. Pearce, and Liz Sonenberg. \"Artificial social\\nreasoning: computational mechanisms for reasoning about others\". In: The International\\nConference on Social Robotics. 2014.\\nCV 8/9 Christian Muise\\n[32] Tim Miller, Adrian R. Pearce, Liz Sonenberg, Frank Dignum, Paolo Felli, and Christian Muise.\\n\"Foundations of Human-Agent Collaboration: Situation-Relevant Information Sharing\". In: The\\nAAAI 2014 Fall Symposium on AI for Human-Robot Interaction. Extended Abstract. 2014.\\n[33] Christian Muise, J. Christopher Beck, and Sheila A. McIlraith. \"Flexible Execution of Partial\\nOrder Plans With Temporal Constraints\". In: International Joint Conference On Artificial\\nIntelligence. 2013, pp. 2328 2335.\\n[34] Vladimir Klebanov, Norbert Manthey, and Christian Muise. \"SAT-based Analysis and\\nQuantification of Information Flow in Programs\". In: 10th International Conference on\\nQuantitative Evaluation of SysTems (QEST 2013). 2013, pp. 177 192.\\n[35] Christian Muise, Sheila A. McIlraith, and J. Christopher Beck. \"Improved Non-deterministic\\nPlanning by Exploiting State Relevance\". In: The 22nd International Conference on Automated\\nPlanning and Scheduling. The 22nd International Conference on Automated Planning and\\nScheduling. 2012.\\n[36] Christian Muise, Sheila A. McIlraith, J. Christopher Beck, and Eric Hsu. \"DSHARP: Fast\\nd-DNNF Compilation with sharpSAT\". In: Canadian Conference on Artificial Intelligence. 2012.\\n[37] Christian Muise, Sheila A. McIlratih, and J. Christopher Beck. \"Optimally Relaxing\\nPartial-order Plans With MaxSAT\". In: 22nd International Conference on Automated Planning and\\nScheduling. 2012.\\n[38] Giuseppe De Giacomo, Yves Lesperance, and Christian Muise. \"On supervising agents in\\nsituation-determined ConGolog\". In: Proceedings of the 11th International Conference on\\nAutonomous Agents and Multiagent Systems-Volume 2. International Foundation for Autonomous\\nAgents and Multiagent Systems. 2012, pp. 1031 1038.\\n[39] Christian Muise, Sheila A. McIlraith, and J. Christopher Beck. \"Monitoring the Execution of\\nPartial-Order Plans via Regression\". In: International Joint Conference On Artificial Intelligence.\\nInternational Joint Conference On Artificial Intelligence. 2011.\\n[40] Christian Muise, Sheila A. McIlratih, and J. Christopher Beck. \"Optimization of Partial-Order\\nPlans via MaxSAT\". In: Workshop on Constraint Satisfaction Techniques for Planning and\\nScheduling Problems (COPLAS\\'11). 2011.\\n[41] Giuseppe De Giacomo, Yves Lesperance, and Christian Muise. \"Agent Supervision in\\nSituation-Determined ConGolog\". In: Nonmonotonic Reasoning, Action and Change. 2011.\\n[42] Christian Muise, Sheila A. McIlraith, and J. Christopher Beck. \"Fast d-DNNF Compilation with\\nsharpSAT\". In: Workshop on Abstraction, Reformulation, and Approximation (AAAI-10). Atlanta,\\nGA, USA, 2010.\\n[43] Christian Muise, Sheila A. McIlraith, Jorge A. Baier, and Michael Reimer. \"Exploiting N-gram\\nAnalysis to Predict Operator Sequences\". In: 19th International Conference on Automated\\nPlanning and Scheduling. Thessaloniki, Greece, 2009.\\n[44] Eric I Hsu, Christian Muise, J. Christopher Beck, and Sheila A. McIlraith. \"Probabilistically\\nEstimating Backbones and Variable Bias: Experimental Overview\". In: Principles and Practice of\\nConstraint Programming, 14th International Conference. Sydney, Australia, 2008, pp. 613 617.\\nCV 9/9 Christian MuiseFounder and Lead Developer 2014 - Present\\nPlanning.Domains Virtual Collaboration\\nStarted an initiative for researchers to work with benchmark problems in Automated Planning\\nDeveloped a series of online services in support of the initiative:\\nProgrammatic access to every benchmark problem\\nhttp://api.planning.domains/\\nRemote solver technology as a service\\nhttp://solver.planning.domains/\\nOnline modeling interface for planning\\nhttp://editor.planning.domains/\\nSecured funding for the initiative\\'s online services from the ICAPS international organization\\nFormed a multi-institutional team to continue the development of the services for the community\\nDeveloped and delivered a tutorial on the initiative at the 2016 ICAPS conference\\nCo-Founder and Organizer 2016\\nUnsolvability International Planning Competition Co-located with ICAPS\\'16\\nCreated the inaugural international contest for detecting unsolvable planning instances\\nRecruited 12 international teams to develop a planner and enter the contest\\nDeveloped the infrastructure to run and evaluate all of the planners\\nPresented the results and insights that were found during the contest at the ICAPS conference\\nTechnical Lead 2012 - 2013\\nToronto Public Spaces Initiative TABS on Toronto Project Toronto, Canada\\nDeveloped an online portal to alert Toronto citizens of upcoming City Hall agenda items\\nWorked with initiatives from the US and India to help bring similar technology to their own locales\\nResearch Visits and Invited Talks\\nInvited lecture at the Dagstuhl seminar of Planning and Operations Research . . . . . . . . 2018\\nInvited keynote at the Workshop on Knowledge Engineering for Planning and Scheduling . . 2017\\nInvited lecture at the University of New Hampshire\\'s CS Department . . . . . . . . . . . . . 2016\\nInvited lecture at MIT\\'s Learning and Intelligent Systems Group . . . . . . . . . . . . . . . 2016\\nInvited lecture at MIT\\'s Interactive Robotics Laboratory . . . . . . . . . . . . . . . . . . . . 2016\\nTwo guest lectures for MIT\\'s 16.412: Cognitive Robotics . . . . . . . . . . . . . . . . . . . . 2016\\nInvited to a Lorentz Symposium to present my research . . . . . . . . . . . . . . . . . . . . . 2015\\nResearch visit to (NICTA): Australia\\'s Information and Communications Technology\\nResearch Centre of Excellence . . . . . . . . . . . . . . . . . . . . . . . . . . . . . . . . . . . 2015\\nResearch visits to the University of Toronto . . . . . . . . . . . . . . . . . . . . . . . . 2014,2015\\nGuest lecture for Melbourne University\\'s COMP90054: Software Agents . . . . . . . . 2014,2015\\nTwo invited lectures at the Melbourne AgentsVic research group . . . . . . . . . . . . . . . . 2014\\nPresented PhD research at the Research In Action showcase . . . . . . . . . . . . . . . 2012,2013\\nStudied with the planning group at the University of Strathclyde, Glasgow, Scotland . . . . 2009\\nTrain-IT Exchange Program to Royal Institute of Technology, Stockholm, Sweden . . . . . . 2004\\nCV 5/9 Christian Muise\\nAcademic Service\\nOrganizing Committee\\nWorkshop on Heuristics and Search for Domain-independent Planning (HSDIP) . . . . 2016,2018\\nWorkshop on Planning, Search, and Optimization (PlanSOpt) . . . . . . . . . . . . . . . . . 2017\\nPlanning.Domains Tutorial at the International Conference on Automated Planning\\nand Scheduling (ICAPS) . . . . . . . . . . . . . . . . . . . . . . . . . . . . . . . . . . . . . . 2016\\nInternational Conference on Automated Planning and Scheduling: Publicity Chair . . . . . . 2016\\nInternational Planning Competition on Unsolvable Planning Instances . . . . . . . . . . . . . 2016\\nTidel Operations Research Challenge, Toronto, ON. (TORCH) . . . . . . . . . . . 2011,2012,2013\\nDCS Symposium on Trends in Computing, Toronto, ON. . . . . . . . . . . . . . . . . . . . . 2010\\nProgram Committee\\nInternational Conference on Automated Planning and Scheduling (ICAPS) . 2015,2016,2017,2018\\nInternational Joint Conference on Artificial Intelligence (IJCAI) . . . . . . . 2011,2015,2016,2018\\nWorkshop on Generalized Planning (GenPlan) . . . . . . . . . . . . . . . . . . . . . . . . . . 2017\\nSymposium On Combinatorial Search (SoCS) . . . . . . . . . . . . . . . . . . . . . . . . . . 2016\\nAAAI Conference on Artificial Intelligence (AAAI) . . . . . . . . . . . . . . . . . . . . . . . 2015\\nEuropean Conference on Artificial Intelligence (ECAI) . . . . . . . . . . . . . . . . . . . . . 2014\\nICAPS Workshop on Planning in Games . . . . . . . . . . . . . . . . . . . . . . . . . . . . . 2013\\nAAAI Workshop on Problem Solving using Classical Planners . . . . . . . . . . . . . . . . . 2012\\nNorth Eastern Student Colloquium on Artificial Intelligence (NESCAI) . . . . . . . . . . . . 2010\\nReviewer\\nJournal of Artificial Intelligence Research (JAIR) . . . . . . . . . . . . . . . . . . 2013,2014,2018\\nNational Science Foundation (NSF) Proposal Review Panel . . . . . . . . . . . . . . . . . . . 2016\\nArtificial Intelligence Journal (AIJ) . . . . . . . . . . . . . . . . . . . . . . . . . . . . . 2015,2016\\nInternational Conference on Automated Planning and Scheduling (ICAPS) . . . . 2010,2013,2014\\nCanadian Conference on Artificial Intelligence (CAI) . . . . . . . . . . . . . . . . . . . 2010,2014\\nConference on Principles of Knowledge Representation and Reasoning (KR) . . . . . . . . . 2014\\nInternational Conference on Autonomous Agents and Multiagent Systems (AAMAS) . . . . 2014\\nReferences williams@mit.edu\\n(617) 253-2739\\nProf. Brian Williams\\nMassachusetts Institute of Technology adrianrp@unimelb.edu.au\\n+61 3 8344 1399\\nProf. Adrian Pearce\\nUniversity of Melbourne sheila@cs.toronto.edu\\n(416) 946-8484\\nProf. Sheila McIlraith\\nUniversity of Toronto malte.helmert@unibas.ch\\n+41 61 20 70548\\nProf. Malte Helmert\\nUniversity of Basel Christian Muise\\nCV 6/9\\nRefereed Publications\\n[1] Alberto Camacho, Jorge Baier, Christian Muise, and Sheila A. McIlraith. \"Bridging the Gap\\nBetween LTL Synthesis and Automated Planning\". In: Workshop on Generalized Planning\\n(GenPlan\\'17). 2017.\\n[2] Alberto Camacho, Eleni Triantafillou, Christian Muise, Jorge Baier, and Sheila A. McIlraith.\\n\"Non-Deterministic Planning with Temporally Extended Goals: LTL over finite and infinite traces\".\\nIn: The 31st AAAI Conference on Artificial Intelligence. 2017.\\n[3] Brent Mombourquette, Christian Muise, and Sheila McIlraith. \"Logical Filtering and Smoothing:\\nState Estimation in Partially Observable Domains\". In: The 31st AAAI Conference on Artificial\\nIntelligence. 2017.\\n[4] Alberto Camacho, Christian Muise, and Sheila A. McIlraith. \"From FOND to Robust\\nProbabilistic Planning: Computing compact policies that bypass avoidable deadends\". In: The 26th\\nInternational Conference on Automated Planning and Scheduling. 2016.\\n[5] Alberto Camacho, Eleni Triantafillou, Christian Muise, Jorge Baier, and Sheila A. McIlraith.\\n\"LTL Synthesis for Non-Deterministic Systems on Finite and Infinite Traces\". In: Workshop on\\nHeuristic Search and Domain Independent Planning (HSDIP\\'16). 2016.\\n[6] Alberto Camacho, Eleni Triantafillou, Christian Muise, Jorge Baier, and Sheila A. McIlraith.\\n\"Non-Deterministic Planning with Temporally Extended Goals: Completing the story for finite and\\ninfinite LTL\". In: Workshop on Knowledge-based techniques for problem solving and reasoning\\n(KnowProS\\'16). 2016.\\n[7] Christian Muise. \"A Flow Shop Scheduler\". In: 500 Lines or Less. Ed. by Amy Brown and\\nMichael Dibernardo. Lulu.com, 2016. Chap. 9. url: http://aosabook.org/en/index.html.\\n[8] Christian Muise. \"Planning.Domains\". In: The 26th International Conference on Automated\\nPlanning and Scheduling - Demonstrations. 2016.\\n[9] Christian Muise, J. Christopher Beck, and Sheila A. McIlraith. \"Optimal Partial-Order Plan\\nRelaxation via MaxSAT\". In: Journal of Artificial Intelligence Research (2016).\\n[10] Christian Muise, Frank Dignum, Paolo Felli, Tim Miller, Adrian R. Pearce, and Liz Sonenberg.\\n\"Towards Team Formation via Automated Planning\". In: Lecture Notes in Computer Science 9628\\n(2016). Special Issue on Coordination, Organizations, Institutions, and Norms in Agent Systems\\nXI, pp. 282 299.\\n[11] Christian Muise, Paolo Felli, Tim Miller, Adrian R. Pearce, and Liz Sonenberg. \"Planning for a\\nSingle Agent in a Multi-Agent Environment Using FOND\". In: International Joint Conference On\\nArtificial Intelligence. 2016.\\n[12] Christian Muise, Sheila A. McIlraith, J. Christopher Beck, and Eric Hsu. \"DSHARP: Fast\\nd-DNNF Compilation with sharpSAT (Amended Version)\". In: AAAI-16 Workshop on Beyond NP.\\n2016.\\n[13] Nir Lipovetzky, Christian Muise, and Hector Geffner. \"Traps, Invariants, and Dead-Ends\". In:\\nThe 26th International Conference on Automated Planning and Scheduling. 2016.\\n[14] Tim Miller and Christian Muise. \"Belief Update for Proper Epistemic Knowledge Bases\". In:\\nInternational Joint Conference On Artificial Intelligence. 2016.\\n[15] Tim Miller, Christian Muise, Paolo Felli, Adrian R. Pearce, and Liz Sonenberg. \"\\'Knowing\\nWhether\\' in Proper Epistemic Knowledge Bases\". In: The 30th AAAI Conference on Artificial\\nIntelligence. 2016.\\nCV 7/9 Christian Muise\\n[16] Brent Mombourquette, Christian Muise, and Sheila A. McIlraith. \"Belief State Estimation for\\nPlanning via Approximate Logical Filtering and Smoothing\". In: Workshop on Knowledge-based\\ntechniques for problem solving and reasoning (KnowProS\\'16). 2016.\\n[17] Liz Sonenberg, Tim Miller, Adrian Pearce, Paolo Felli, Christian Muise, and Frank Dignum.\\n\"Social planning for social HRI\". In: 2nd Workshop on Cognitive Architectures for Social\\nHuman-Robot Interaction. 2016.\\n[18] Rehan Abdul Aziz, Geoffrey Chu, Christian Muise, and Peter Stuckey. \"Projected Model\\nCounting\". In: International Conference on Theory and Applications of Satisfiability Testing.\\nAustin, USA, 2015.\\n[19] Rehan Abdul Aziz, Geoffrey Chu, Christian Muise, and Peter Stuckey. \"Stable model counting\\nand its application in probabilistic logic programming\". In: The 29th AAAI Conference on\\nArtificial Intelligence. 2015.\\n[20] Alberto Camacho, Christian Muise, Akshay Ganeshen, and Sheila A. McIlraith. \"From FOND to\\nProbabilistic Planning: Guiding search for quality policies\". In: Workshop on Heuristic Search and\\nDomain Independent Planning (HSDIP\\'15). 2015.\\n[21] Christian Muise, Vaishak Belle, Paolo Felli, Sheila A. McIlraith, Tim Miller, Adrian R. Pearce,\\nand Liz Sonenberg. \"Planning Over Multi-Agent Epistemic States: A Classical Planning\\nApproach\". In: The 29th AAAI Conference on Artificial Intelligence. 2015.\\n[22] Christian Muise, Vaishak Belle, Paolo Felli, Sheila A. McIlraith, Tim Miller, Adrian R. Pearce,\\nand Liz Sonenberg. \"Planning Over Multi-Agent Epistemic States: A Classical Planning Approach\\n(Amended Version)\". In: Workshop on Distributed and Multi-Agent Planning (DMAP\\'15). 2015.\\n[23] Christian Muise, Frank Dignum, Paolo Felli, Tim Miller, Adrian R. Pearce, and Liz Sonenberg.\\n\"Towards Team Formation via Automated Planning\". In: International Workshop on Coordination,\\nOrganisation, Institutions and Norms in Multi-Agent Systems. 2015.\\n[24] Christian Muise, Paolo Felli, Tim Miller, Adrian R. Pearce, and Liz Sonenberg. \"Leveraging\\nFOND Planning Technology to Solve Multi-Agent Planning Problems\". In: Workshop on\\nDistributed and Multi-Agent Planning (DMAP\\'15). 2015.\\n[25] Christian Muise and Nir Lipovetzky. \"Unplannability IPC Track\". In: Workshop on the\\nInternational Planning Competition. 2015.\\n[26] Christian Muise, Nir Lipovetzky, and Miquel Ramirez. \"MAP-LAPKT: Omnipotent Multi-Agent\\nPlanning via Compilation to Classical Planning\". In: Competition of Distributed and Multiagent\\nPlanners. 2015.\\n[27] Christian Muise, Tim Miller, Paolo Felli, Adrian R. Pearce, and Liz Sonenberg. \"Efficient\\nReasoning With Consistent Proper Epistemic Knowledge Bases\". In: The International Conference\\non Autonomous Agents and Multiagent Systems. 2015.\\n[28] Paolo Felli, Tim Miller, Christian Muise, Adrian R. Pearce, and Liz Sonenberg. \"Computing\\nSocial Behaviours Using Agent Models\". In: International Joint Conference on Artificial\\nIntelligence, IJCAI 2015. 2015.\\n[29] Christian Muise, Vaishak Belle, and Sheila A. McIlraith. \"Computing Contingent Plans via Fully\\nObservable Non-Deterministic Planning\". In: The 28th AAAI Conference on Artificial Intelligence.\\n2014.\\n[30] Christian Muise, Sheila A. McIlraith, and Vaishak Belle. \"Non-Deterministic Planning With\\nConditional Effects\". In: The 24th International Conference on Automated Planning and\\nScheduling. 2014.\\n[31] Paolo Felli, Tim Miller, Christian Muise, Adrian R. Pearce, and Liz Sonenberg. \"Artificial social\\nreasoning: computational mechanisms for reasoning about others\". In: The International\\nConference on Social Robotics. 2014.\\nCV 8/9 Christian Muise\\n[32] Tim Miller, Adrian R. Pearce, Liz Sonenberg, Frank Dignum, Paolo Felli, and Christian Muise.\\n\"Foundations of Human-Agent Collaboration: Situation-Relevant Information Sharing\". In: The\\nAAAI 2014 Fall Symposium on AI for Human-Robot Interaction. Extended Abstract. 2014.\\n[33] Christian Muise, J. Christopher Beck, and Sheila A. McIlraith. \"Flexible Execution of Partial\\nOrder Plans With Temporal Constraints\". In: International Joint Conference On Artificial\\nIntelligence. 2013, pp. 2328 2335.\\n[34] Vladimir Klebanov, Norbert Manthey, and Christian Muise. \"SAT-based Analysis and\\nQuantification of Information Flow in Programs\". In: 10th International Conference on\\nQuantitative Evaluation of SysTems (QEST 2013). 2013, pp. 177 192.\\n[35] Christian Muise, Sheila A. McIlraith, and J. Christopher Beck. \"Improved Non-deterministic\\nPlanning by Exploiting State Relevance\". In: The 22nd International Conference on Automated\\nPlanning and Scheduling. The 22nd International Conference on Automated Planning and\\nScheduling. 2012.\\n[36] Christian Muise, Sheila A. McIlraith, J. Christopher Beck, and Eric Hsu. \"DSHARP: Fast\\nd-DNNF Compilation with sharpSAT\". In: Canadian Conference on Artificial Intelligence. 2012.\\n[37] Christian Muise, Sheila A. McIlratih, and J. Christopher Beck. \"Optimally Relaxing\\nPartial-order Plans With MaxSAT\". In: 22nd International Conference on Automated Planning and\\nScheduling. 2012.\\n[38] Giuseppe De Giacomo, Yves Lesperance, and Christian Muise. \"On supervising agents in\\nsituation-determined ConGolog\". In: Proceedings of the 11th International Conference on\\nAutonomous Agents and Multiagent Systems-Volume 2. International Foundation for Autonomous\\nAgents and Multiagent Systems. 2012, pp. 1031 1038.\\n[39] Christian Muise, Sheila A. McIlraith, and J. Christopher Beck. \"Monitoring the Execution of\\nPartial-Order Plans via Regression\". In: International Joint Conference On Artificial Intelligence.\\nInternational Joint Conference On Artificial Intelligence. 2011.\\n[40] Christian Muise, Sheila A. McIlratih, and J. Christopher Beck. \"Optimization of Partial-Order\\nPlans via MaxSAT\". In: Workshop on Constraint Satisfaction Techniques for Planning and\\nScheduling Problems (COPLAS\\'11). 2011.\\n[41] Giuseppe De Giacomo, Yves Lesperance, and Christian Muise. \"Agent Supervision in\\nSituation-Determined ConGolog\". In: Nonmonotonic Reasoning, Action and Change. 2011.\\n[42] Christian Muise, Sheila A. McIlraith, and J. Christopher Beck. \"Fast d-DNNF Compilation with\\nsharpSAT\". In: Workshop on Abstraction, Reformulation, and Approximation (AAAI-10). Atlanta,\\nGA, USA, 2010.\\n[43] Christian Muise, Sheila A. McIlraith, Jorge A. Baier, and Michael Reimer. \"Exploiting N-gram\\nAnalysis to Predict Operator Sequences\". In: 19th International Conference on Automated\\nPlanning and Scheduling. Thessaloniki, Greece, 2009.\\n[44] Eric I Hsu, Christian Muise, J. Christopher Beck, and Sheila A. McIlraith. \"Probabilistically\\nEstimating Backbones and Variable Bias: Experimental Overview\". In: Principles and Practice of\\nConstraint Programming, 14th International Conference. Sydney, Australia, 2008, pp. 613 617.\\nCV 9/9 Christian Muise',\n",
       " 'name': 'Christian Muise',\n",
       " 'phone': '(617) 253-2739'}"
      ]
     },
     "execution_count": 25,
     "metadata": {},
     "output_type": "execute_result"
    }
   ],
   "source": [
    "user_record_degree"
   ]
  },
  {
   "cell_type": "code",
   "execution_count": null,
   "metadata": {},
   "outputs": [],
   "source": []
  }
 ],
 "metadata": {
  "kernelspec": {
   "display_name": "Python 3",
   "language": "python",
   "name": "python3"
  },
  "language_info": {
   "codemirror_mode": {
    "name": "ipython",
    "version": 3
   },
   "file_extension": ".py",
   "mimetype": "text/x-python",
   "name": "python",
   "nbconvert_exporter": "python",
   "pygments_lexer": "ipython3",
   "version": "3.6.5"
  }
 },
 "nbformat": 4,
 "nbformat_minor": 2
}
