{
 "cells": [
  {
   "cell_type": "code",
   "execution_count": 321,
   "metadata": {},
   "outputs": [],
   "source": [
    "from pyelasticsearch.client import ElasticSearch\n",
    "import json\n",
    "import requests\n",
    "import pandas as pd\n",
    "import math\n",
    "import numpy as np\n",
    "import boto3\n",
    "import re\n",
    "import collections\n",
    "from collections import defaultdict\n",
    "from dateutil import parser\n",
    "from datetime import datetime"
   ]
  },
  {
   "cell_type": "code",
   "execution_count": 580,
   "metadata": {},
   "outputs": [],
   "source": [
    "config = json.load(open('../config/configsql.json', 'r'))\n",
    "aws_access_key_id=config['dev']['aws']['key']\n",
    "aws_secret_access_key=config['dev']['aws']['secret']\n",
    "region = 'us-east-1'\n",
    "endpoint = config['dev']['endpoint']\n",
    "bucketname=config['dev']['bucketname']['bucketname']\n",
    "s3r = boto3.resource('s3', aws_access_key_id=aws_access_key_id, aws_secret_access_key=aws_secret_access_key)\n",
    "s3c = boto3.client('s3',aws_access_key_id = aws_access_key_id, aws_secret_access_key = aws_secret_access_key)\n",
    "index_name1 = 'candidates_cv'\n",
    "index_name2 = 'parsed_resume'\n",
    "es = ElasticSearch(endpoint, port=443)"
   ]
  },
  {
   "cell_type": "code",
   "execution_count": 328,
   "metadata": {},
   "outputs": [],
   "source": [
    "d_all = es.search(index = index_name2, query={\n",
    "                                     \"query\": {\"match_all\": {}},\n",
    "                                     \"size\":  6\n",
    "                                     })"
   ]
  },
  {
   "cell_type": "code",
   "execution_count": 329,
   "metadata": {},
   "outputs": [],
   "source": [
    "for i in range(len(d_all['hits']['hits'])):\n",
    "    user = d_all['hits']['hits'][i]"
   ]
  },
  {
   "cell_type": "code",
   "execution_count": 464,
   "metadata": {},
   "outputs": [],
   "source": [
    "for r in range(tdf.shape[0]):\n",
    "        row = tdf.iloc[r]\n",
    "        id = row['id']"
   ]
  },
  {
   "cell_type": "code",
   "execution_count": null,
   "metadata": {},
   "outputs": [],
   "source": []
  },
  {
   "cell_type": "code",
   "execution_count": 502,
   "metadata": {},
   "outputs": [
    {
     "data": {
      "text/plain": [
       "['ukrainian national university']"
      ]
     },
     "execution_count": 502,
     "metadata": {},
     "output_type": "execute_result"
    }
   ],
   "source": [
    "educations['institution']"
   ]
  },
  {
   "cell_type": "code",
   "execution_count": 501,
   "metadata": {},
   "outputs": [],
   "source": [
    "user_record = es.search(index=index_name2,query={\"query\" : {\"match\":{\"_id\": id}}})\n",
    "user = user_record['hits']['hits'][0]\n",
    "educations = get_educations(user)"
   ]
  },
  {
   "cell_type": "code",
   "execution_count": 476,
   "metadata": {},
   "outputs": [
    {
     "data": {
      "text/plain": [
       "'Ukrainian National University'"
      ]
     },
     "execution_count": 476,
     "metadata": {},
     "output_type": "execute_result"
    }
   ],
   "source": [
    "row[2]"
   ]
  },
  {
   "cell_type": "code",
   "execution_count": 496,
   "metadata": {},
   "outputs": [
    {
     "ename": "TypeError",
     "evalue": "string indices must be integers",
     "output_type": "error",
     "traceback": [
      "\u001b[0;31m---------------------------------------------------------------------------\u001b[0m",
      "\u001b[0;31mTypeError\u001b[0m                                 Traceback (most recent call last)",
      "\u001b[0;32m<ipython-input-496-0b6dfa4629d1>\u001b[0m in \u001b[0;36m<module>\u001b[0;34m()\u001b[0m\n\u001b[1;32m      3\u001b[0m     \u001b[0msuccess\u001b[0m \u001b[0;34m=\u001b[0m \u001b[0;32mTrue\u001b[0m\u001b[0;34m\u001b[0m\u001b[0m\n\u001b[1;32m      4\u001b[0m     \u001b[0;32mfor\u001b[0m \u001b[0mvalue\u001b[0m \u001b[0;32min\u001b[0m \u001b[0;34m[\u001b[0m \u001b[0;34m\"institution\"\u001b[0m\u001b[0;34m,\u001b[0m \u001b[0;34m\"years\"\u001b[0m \u001b[0;34m]\u001b[0m\u001b[0;34m:\u001b[0m\u001b[0;34m\u001b[0m\u001b[0m\n\u001b[0;32m----> 5\u001b[0;31m         \u001b[0mprint\u001b[0m\u001b[0;34m(\u001b[0m\u001b[0medu\u001b[0m\u001b[0;34m[\u001b[0m\u001b[0mvalue\u001b[0m\u001b[0;34m]\u001b[0m\u001b[0;34m)\u001b[0m\u001b[0;34m\u001b[0m\u001b[0m\n\u001b[0m\u001b[1;32m      6\u001b[0m         \u001b[0mprint\u001b[0m\u001b[0;34m(\u001b[0m\u001b[0mrow\u001b[0m\u001b[0;34m[\u001b[0m\u001b[0mvalue\u001b[0m\u001b[0;34m]\u001b[0m\u001b[0;34m)\u001b[0m\u001b[0;34m\u001b[0m\u001b[0m\n\u001b[1;32m      7\u001b[0m         \u001b[0;32mif\u001b[0m \u001b[0;32mnot\u001b[0m \u001b[0;34m(\u001b[0m\u001b[0medu\u001b[0m\u001b[0;34m[\u001b[0m\u001b[0mvalue\u001b[0m\u001b[0;34m]\u001b[0m \u001b[0;34m==\u001b[0m \u001b[0mrow\u001b[0m\u001b[0;34m[\u001b[0m\u001b[0mvalue\u001b[0m\u001b[0;34m]\u001b[0m\u001b[0;34m)\u001b[0m\u001b[0;34m:\u001b[0m\u001b[0;34m\u001b[0m\u001b[0m\n",
      "\u001b[0;31mTypeError\u001b[0m: string indices must be integers"
     ]
    }
   ],
   "source": [
    "match_any = False\n",
    "for edu in educations:\n",
    "    success = True\n",
    "    for value in [ \"institution\", \"years\" ]: \n",
    "        print(edu[value])\n",
    "        print(row[value])\n",
    "        if not (edu[value] == row[value]):\n",
    "            success = False\n",
    "    if success:\n",
    "        match_any = True"
   ]
  },
  {
   "cell_type": "code",
   "execution_count": null,
   "metadata": {},
   "outputs": [],
   "source": []
  },
  {
   "cell_type": "code",
   "execution_count": null,
   "metadata": {},
   "outputs": [],
   "source": []
  },
  {
   "cell_type": "code",
   "execution_count": null,
   "metadata": {},
   "outputs": [],
   "source": []
  },
  {
   "cell_type": "code",
   "execution_count": null,
   "metadata": {},
   "outputs": [],
   "source": []
  },
  {
   "cell_type": "code",
   "execution_count": null,
   "metadata": {},
   "outputs": [],
   "source": []
  },
  {
   "cell_type": "code",
   "execution_count": null,
   "metadata": {},
   "outputs": [],
   "source": []
  },
  {
   "cell_type": "code",
   "execution_count": 494,
   "metadata": {},
   "outputs": [
    {
     "name": "stdout",
     "output_type": "stream",
     "text": [
      "['ukrainian national university']\n",
      "ukrainian national university\n"
     ]
    }
   ],
   "source": [
    "match_any = False\n",
    "for edu in educations:\n",
    "    success = True\n",
    "    for value in [ \"institution\" ]: \n",
    "        print(edu[value])\n",
    "        print(row[2].lower())\n",
    "        if not (edu['institution'] == row[2].lower()):\n",
    "            success = False\n",
    "    if success:\n",
    "        match_any = True"
   ]
  },
  {
   "cell_type": "code",
   "execution_count": 461,
   "metadata": {},
   "outputs": [
    {
     "data": {
      "text/plain": [
       "True"
      ]
     },
     "execution_count": 461,
     "metadata": {},
     "output_type": "execute_result"
    }
   ],
   "source": [
    "match_any"
   ]
  },
  {
   "cell_type": "code",
   "execution_count": 457,
   "metadata": {},
   "outputs": [
    {
     "data": {
      "text/plain": [
       "'ukrainian national university'"
      ]
     },
     "execution_count": 457,
     "metadata": {},
     "output_type": "execute_result"
    }
   ],
   "source": [
    "edu['institution'][0]"
   ]
  },
  {
   "cell_type": "code",
   "execution_count": 450,
   "metadata": {},
   "outputs": [
    {
     "data": {
      "text/plain": [
       "'ukrainian national university'"
      ]
     },
     "execution_count": 450,
     "metadata": {},
     "output_type": "execute_result"
    }
   ],
   "source": [
    "row[2].lower()"
   ]
  },
  {
   "cell_type": "code",
   "execution_count": null,
   "metadata": {},
   "outputs": [],
   "source": []
  },
  {
   "cell_type": "code",
   "execution_count": 487,
   "metadata": {},
   "outputs": [],
   "source": [
    "def run_test(es, validation_csv_filename):\n",
    "    tdf = pd.read_csv(validation_csv_filename)\n",
    "    tdf = tdf.head()\n",
    "    tdf.sort_values('id', inplace=True)\n",
    "    successes = []\n",
    "    for r in range(tdf.shape[0]):\n",
    "        row = tdf.iloc[r]\n",
    "        id = row['id']\n",
    "        user_record = es.search(index=index_name2,query={\"query\" : {\"match\":{\"_id\": id}}})\n",
    "        user = user_record['hits']['hits'][0]\n",
    "        educations = get_educations(user)\n",
    "        match_any = False\n",
    "        for edu in educations:\n",
    "            success = True\n",
    "            for value in [ \"institution\", \"years\" ]: \n",
    "                if not (edu[value] == row[value]):\n",
    "                    success = False\n",
    "            if success:\n",
    "                match_any = True\n",
    "        successes.append(match_any)\n",
    "    return len(successes) / tdf.shape[0]"
   ]
  },
  {
   "cell_type": "code",
   "execution_count": 747,
   "metadata": {},
   "outputs": [],
   "source": [
    "def get_educations(parsed_resume):\n",
    "    education = user['_source']['education']\n",
    "    if len(user['_source']['education']['entities']) > 0:\n",
    "        text = [i['Text'] for i in user['_source']['education']['entities']['Entities']]\n",
    "        type = [i['Type'] for i in user['_source']['education']['entities']['Entities']]\n",
    "        start_pos = [i['BeginOffset'] for i in user['_source']['education']['entities']['Entities']]\n",
    "        my_dict = defaultdict(list)\n",
    "        for k, v in zip(type, text):\n",
    "            my_dict[k].append(v)\n",
    "            print(my_dict)\n",
    "        organizations = my_dict['ORGANIZATION']\n",
    "        organizations_l = [i.lower() for i in organizations]\n",
    "        schools = [i for i in organizations_l  if \"university\" in i]\n",
    "        years = my_dict['DATE']\n",
    "        years_low = min(parser.parse(i).year for i in years)\n",
    "        years_high = max(parser.parse(i).year for i in years)\n",
    "        my_dict2 = defaultdict(list)\n",
    "\n",
    "        \n",
    "        edu_info = {\"institution\": schools, \"years_low\":years_low,\"years_high\":years_high}\n",
    "        return  edu_info"
   ]
  },
  {
   "cell_type": "code",
   "execution_count": 748,
   "metadata": {},
   "outputs": [
    {
     "name": "stdout",
     "output_type": "stream",
     "text": [
      "defaultdict(<class 'list'>, {'DATE': ['2017']})\n",
      "defaultdict(<class 'list'>, {'DATE': ['2017', '2015']})\n",
      "defaultdict(<class 'list'>, {'DATE': ['2017', '2015'], 'ORGANIZATION': ['Ukrainian National University']})\n",
      "defaultdict(<class 'list'>, {'DATE': ['2017', '2015', '2012'], 'ORGANIZATION': ['Ukrainian National University']})\n",
      "defaultdict(<class 'list'>, {'2017': [77]})\n",
      "defaultdict(<class 'list'>, {'2017': [77], '2015': [163]})\n",
      "defaultdict(<class 'list'>, {'2017': [77], '2015': [163], 'Ukrainian National University': [229]})\n",
      "defaultdict(<class 'list'>, {'2017': [77], '2015': [163], 'Ukrainian National University': [229], '2012': [259]})\n"
     ]
    },
    {
     "data": {
      "text/plain": [
       "{'institution': ['ukrainian national university'],\n",
       " 'years_high': 2017,\n",
       " 'years_low': 2012}"
      ]
     },
     "execution_count": 748,
     "metadata": {},
     "output_type": "execute_result"
    }
   ],
   "source": [
    "get_educations(user)"
   ]
  },
  {
   "cell_type": "code",
   "execution_count": 737,
   "metadata": {},
   "outputs": [
    {
     "data": {
      "text/plain": [
       "{'institution': ['ukrainian national university'],\n",
       " 'years_high': 2017,\n",
       " 'years_low': 2012}"
      ]
     },
     "execution_count": 737,
     "metadata": {},
     "output_type": "execute_result"
    }
   ],
   "source": [
    "get_educations(user)"
   ]
  },
  {
   "cell_type": "code",
   "execution_count": 734,
   "metadata": {},
   "outputs": [],
   "source": [
    "def find_degree_type(univ_pos,user_record):\n",
    "    values = {\"bachelor\":'BS',\"master\":'MS','phd':'phD'}\n",
    "    for k in user_record:\n",
    "        if 'education' in k:\n",
    "            degree_d = {}\n",
    "            for key in values.keys():\n",
    "                degree_pos = user_record['education'].lower().find(key)\n",
    "                degree_d[degree_pos] = key\n",
    "            degree_type = degree_d.get(univ_pos, degree_d[min(degree_d.keys(), key=lambda k: abs(k-univ_pos))])\n",
    "            abbr_degree = values[degree_type]\n",
    "    return abbr_degree"
   ]
  },
  {
   "cell_type": "code",
   "execution_count": 739,
   "metadata": {},
   "outputs": [
    {
     "data": {
      "text/plain": [
       "'BS'"
      ]
     },
     "execution_count": 739,
     "metadata": {},
     "output_type": "execute_result"
    }
   ],
   "source": [
    "find_degree_type(228,user_record)"
   ]
  },
  {
   "cell_type": "code",
   "execution_count": null,
   "metadata": {},
   "outputs": [],
   "source": []
  },
  {
   "cell_type": "code",
   "execution_count": null,
   "metadata": {},
   "outputs": [],
   "source": []
  },
  {
   "cell_type": "code",
   "execution_count": null,
   "metadata": {},
   "outputs": [],
   "source": []
  },
  {
   "cell_type": "code",
   "execution_count": null,
   "metadata": {},
   "outputs": [],
   "source": []
  },
  {
   "cell_type": "code",
   "execution_count": null,
   "metadata": {},
   "outputs": [],
   "source": []
  },
  {
   "cell_type": "code",
   "execution_count": null,
   "metadata": {},
   "outputs": [],
   "source": []
  },
  {
   "cell_type": "code",
   "execution_count": null,
   "metadata": {},
   "outputs": [],
   "source": []
  },
  {
   "cell_type": "code",
   "execution_count": null,
   "metadata": {},
   "outputs": [],
   "source": []
  },
  {
   "cell_type": "code",
   "execution_count": null,
   "metadata": {},
   "outputs": [],
   "source": []
  },
  {
   "cell_type": "code",
   "execution_count": null,
   "metadata": {},
   "outputs": [],
   "source": []
  },
  {
   "cell_type": "code",
   "execution_count": null,
   "metadata": {},
   "outputs": [],
   "source": []
  },
  {
   "cell_type": "code",
   "execution_count": null,
   "metadata": {},
   "outputs": [],
   "source": [
    "def get_educations(user_record):\n",
    "    # TODO: implement this\n",
    "    return [{\"institution\": \"?\", \"degree_type\": \"?\", \"degree_level\": \"?\", \"years_low\": 2004, \"years_high\": 2015}]"
   ]
  },
  {
   "cell_type": "code",
   "execution_count": 542,
   "metadata": {},
   "outputs": [
    {
     "name": "stdout",
     "output_type": "stream",
     "text": [
      "12\n",
      "34 Main Street, 212 First Avenue\n",
      "Alan\n",
      "Mary-Ann\n",
      "firstName\n"
     ]
    }
   ],
   "source": [
    "#Just an example how the dictionary may look like\n",
    "myDict = {'age': ['12'], 'address': ['34 Main Street, 212 First Avenue'],\n",
    "      'firstName': ['Alan', 'Mary-Ann'], 'lastName': ['Stone', 'Lee']}\n",
    "\n",
    "def search(values, searchFor):\n",
    "    for k in values:\n",
    "        for v in values[k]:\n",
    "            print(v)\n",
    "            if searchFor in v:\n",
    "                return k\n",
    "    return None\n",
    "\n",
    "#Checking if string 'Mary' exists in dictionary value\n",
    "print (search(myDict, 'Mary'))"
   ]
  },
  {
   "cell_type": "code",
   "execution_count": 560,
   "metadata": {},
   "outputs": [],
   "source": [
    "id = 'https://s3.amazonaws.com/careers.dataskeptic.com/resumes/career_page1/2018-03text/resumes_career_page1_2018-03_VIC.DASHKOV@GMAIL.COM_viktor-dashkov-resume.pdf.txt'"
   ]
  },
  {
   "cell_type": "code",
   "execution_count": 589,
   "metadata": {},
   "outputs": [],
   "source": [
    "bucket = s3.Bucket(bucketname)"
   ]
  },
  {
   "cell_type": "code",
   "execution_count": 590,
   "metadata": {},
   "outputs": [],
   "source": [
    "objects = bucket.objects.filter(Prefix='resumes/career_page1/2018-04text')"
   ]
  },
  {
   "cell_type": "code",
   "execution_count": 610,
   "metadata": {},
   "outputs": [],
   "source": [
    "key = []\n",
    "for obj in objects:\n",
    "    k = obj.key\n",
    "    key.append(k)"
   ]
  },
  {
   "cell_type": "code",
   "execution_count": 611,
   "metadata": {},
   "outputs": [],
   "source": [
    "filenames = []\n",
    "for i in range(len(key)):\n",
    "    p = key[i].rfind('/')\n",
    "    filename = key[i][p+1:]\n",
    "    filenames.append(filename)"
   ]
  },
  {
   "cell_type": "code",
   "execution_count": 621,
   "metadata": {},
   "outputs": [],
   "source": [
    "for i in range(len(key)):\n",
    "    s3c.download_file(bucketname, key[i], filenames[i])"
   ]
  },
  {
   "cell_type": "code",
   "execution_count": 603,
   "metadata": {},
   "outputs": [],
   "source": [
    "f = open(filenames[9],'r')\n",
    "s = f.read()\n",
    "f.close()"
   ]
  },
  {
   "cell_type": "code",
   "execution_count": 634,
   "metadata": {},
   "outputs": [],
   "source": [
    "fname = 'resumes_career_page1_2018-03_VIC.DASHKOV@GMAIL.COM_viktor-dashkov-resume.pdf.txt'\n",
    "s3key = 'resumes/career_page1/2018-03text/'+fname\n",
    "s3c.download_file(bucketname, s3key, fname)"
   ]
  },
  {
   "cell_type": "code",
   "execution_count": 635,
   "metadata": {},
   "outputs": [],
   "source": [
    "f = open(fname,'r')\n",
    "s = f.read()\n",
    "f.close()"
   ]
  },
  {
   "cell_type": "code",
   "execution_count": null,
   "metadata": {},
   "outputs": [],
   "source": [
    "def find_degree_type(univ_pos,text):\n",
    "    values = {\"bachelor\":'BS',\"master\":'MS'}\n",
    "    degree_pos = text.find('Bachelor')\n",
    "    "
   ]
  },
  {
   "cell_type": "code",
   "execution_count": 647,
   "metadata": {},
   "outputs": [
    {
     "data": {
      "text/plain": [
       "2623"
      ]
     },
     "execution_count": 647,
     "metadata": {},
     "output_type": "execute_result"
    }
   ],
   "source": [
    "s.find('Bachelor')"
   ]
  },
  {
   "cell_type": "code",
   "execution_count": 648,
   "metadata": {},
   "outputs": [
    {
     "data": {
      "text/plain": [
       "'ing professional with solid e'"
      ]
     },
     "execution_count": 648,
     "metadata": {},
     "output_type": "execute_result"
    }
   ],
   "source": [
    "s[229:258]"
   ]
  },
  {
   "cell_type": "code",
   "execution_count": 650,
   "metadata": {},
   "outputs": [],
   "source": [
    "user1 = es.search(index=index_name1,query={\"query\" : {\"match\":{\"_id\": id}}})"
   ]
  },
  {
   "cell_type": "code",
   "execution_count": 661,
   "metadata": {},
   "outputs": [],
   "source": [
    "user2 = user1['hits']['hits'][0]['_source']"
   ]
  },
  {
   "cell_type": "code",
   "execution_count": 664,
   "metadata": {},
   "outputs": [
    {
     "data": {
      "text/plain": [
       "248"
      ]
     },
     "execution_count": 664,
     "metadata": {},
     "output_type": "execute_result"
    }
   ],
   "source": [
    "user2['education'].find('University')"
   ]
  },
  {
   "cell_type": "code",
   "execution_count": 670,
   "metadata": {},
   "outputs": [
    {
     "data": {
      "text/plain": [
       "248"
      ]
     },
     "execution_count": 670,
     "metadata": {},
     "output_type": "execute_result"
    }
   ],
   "source": [
    "user2['education'].find('University')"
   ]
  },
  {
   "cell_type": "code",
   "execution_count": null,
   "metadata": {},
   "outputs": [],
   "source": []
  },
  {
   "cell_type": "code",
   "execution_count": null,
   "metadata": {},
   "outputs": [],
   "source": []
  },
  {
   "cell_type": "code",
   "execution_count": null,
   "metadata": {},
   "outputs": [],
   "source": []
  }
 ],
 "metadata": {
  "kernelspec": {
   "display_name": "Python 3",
   "language": "python",
   "name": "python3"
  },
  "language_info": {
   "codemirror_mode": {
    "name": "ipython",
    "version": 3
   },
   "file_extension": ".py",
   "mimetype": "text/x-python",
   "name": "python",
   "nbconvert_exporter": "python",
   "pygments_lexer": "ipython3",
   "version": "3.6.4"
  }
 },
 "nbformat": 4,
 "nbformat_minor": 2
}
