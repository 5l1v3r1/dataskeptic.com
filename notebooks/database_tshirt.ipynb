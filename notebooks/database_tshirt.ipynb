{
 "cells": [
  {
   "cell_type": "code",
   "execution_count": 20,
   "metadata": {},
   "outputs": [],
   "source": [
    "import sqlalchemy\n",
    "import pandas as pd\n",
    "import json\n",
    "import matplotlib.pyplot as plt; plt.rcdefaults()\n",
    "import numpy as np\n",
    "import matplotlib.pyplot as plt"
   ]
  },
  {
   "cell_type": "code",
   "execution_count": 2,
   "metadata": {},
   "outputs": [],
   "source": [
    "config = json.load(open('../config/configsql.json', 'r'))"
   ]
  },
  {
   "cell_type": "code",
   "execution_count": 3,
   "metadata": {},
   "outputs": [],
   "source": [
    "user = config['dev']['mysql']['user']\n",
    "password = config['dev']['mysql']['password']\n",
    "host = config['dev']['mysql']['host']\n",
    "port = config['dev']['mysql']['port']\n",
    "dbname = config['dev']['mysql']['dbname']"
   ]
  },
  {
   "cell_type": "code",
   "execution_count": 4,
   "metadata": {},
   "outputs": [],
   "source": [
    "template = \"mysql+pymysql://{user}:{password}@{host}:{port}/{dbname}\"\n",
    "connection_string = template.format(user=user, password=password, host=host, port=port, dbname=dbname)"
   ]
  },
  {
   "cell_type": "code",
   "execution_count": 5,
   "metadata": {},
   "outputs": [],
   "source": [
    "conn = sqlalchemy.create_engine(connection_string, pool_size=1)"
   ]
  },
  {
   "cell_type": "code",
   "execution_count": 7,
   "metadata": {},
   "outputs": [
    {
     "data": {
      "text/html": [
       "<div>\n",
       "<style scoped>\n",
       "    .dataframe tbody tr th:only-of-type {\n",
       "        vertical-align: middle;\n",
       "    }\n",
       "\n",
       "    .dataframe tbody tr th {\n",
       "        vertical-align: top;\n",
       "    }\n",
       "\n",
       "    .dataframe thead th {\n",
       "        text-align: right;\n",
       "    }\n",
       "</style>\n",
       "<table border=\"1\" class=\"dataframe\">\n",
       "  <thead>\n",
       "    <tr style=\"text-align: right;\">\n",
       "      <th></th>\n",
       "      <th>blog_id</th>\n",
       "      <th>prettyname</th>\n",
       "      <th>title</th>\n",
       "      <th>author</th>\n",
       "      <th>abstract</th>\n",
       "      <th>date_created</th>\n",
       "      <th>publish_date</th>\n",
       "      <th>last_rendered</th>\n",
       "      <th>src_file</th>\n",
       "      <th>c_hash</th>\n",
       "      <th>guid</th>\n",
       "      <th>member_link</th>\n",
       "      <th>last_indexed</th>\n",
       "    </tr>\n",
       "  </thead>\n",
       "  <tbody>\n",
       "    <tr>\n",
       "      <th>0</th>\n",
       "      <td>359</td>\n",
       "      <td>/episodes/2018/the-master-algorithm</td>\n",
       "      <td>The Master Algorithm</td>\n",
       "      <td>Kyle</td>\n",
       "      <td>In this week's episode, Kyle Polich interviews...</td>\n",
       "      <td>2018-03-16 05:14:46</td>\n",
       "      <td>2018-03-15</td>\n",
       "      <td>2018-03-16 05:14:46</td>\n",
       "      <td>episodes/2018/the-master-algorithm.htm</td>\n",
       "      <td>c8743657c285050362e7c836861823d8</td>\n",
       "      <td></td>\n",
       "      <td></td>\n",
       "      <td>NaT</td>\n",
       "    </tr>\n",
       "    <tr>\n",
       "      <th>1</th>\n",
       "      <td>358</td>\n",
       "      <td>/careers/2018/what-do-recruiters-do</td>\n",
       "      <td>What do Recruiters do?</td>\n",
       "      <td>Kyle</td>\n",
       "      <td>That's a loaded question almost demanding of a...</td>\n",
       "      <td>2018-03-15 16:30:54</td>\n",
       "      <td>2099-01-01</td>\n",
       "      <td>2018-03-15 16:30:54</td>\n",
       "      <td>careers/2018/what-do-recruiters-do.htm</td>\n",
       "      <td>a9e30c19f12a944e143947c4957685c0</td>\n",
       "      <td></td>\n",
       "      <td></td>\n",
       "      <td>NaT</td>\n",
       "    </tr>\n",
       "    <tr>\n",
       "      <th>2</th>\n",
       "      <td>357</td>\n",
       "      <td>/careers/2018/just-enough-background-on-databa...</td>\n",
       "      <td>Just Enough Background on Databases and SQL</td>\n",
       "      <td>Kyle</td>\n",
       "      <td>Database are a big topic and an area a profess...</td>\n",
       "      <td>2018-03-15 16:30:25</td>\n",
       "      <td>2099-01-01</td>\n",
       "      <td>2018-03-15 16:30:25</td>\n",
       "      <td>careers/2018/just-enough-sql.htm</td>\n",
       "      <td>d62ef98a2b45d64e28997eadba0955ed</td>\n",
       "      <td></td>\n",
       "      <td></td>\n",
       "      <td>NaT</td>\n",
       "    </tr>\n",
       "    <tr>\n",
       "      <th>3</th>\n",
       "      <td>356</td>\n",
       "      <td>/careers/2018/chicago/jane-doe</td>\n",
       "      <td>Jane Doe</td>\n",
       "      <td>Kyle</td>\n",
       "      <td>This is another pro</td>\n",
       "      <td>2018-03-13 04:19:38</td>\n",
       "      <td>2018-03-01</td>\n",
       "      <td>2018-03-13 04:20:43</td>\n",
       "      <td>careers/2018/chicago/profile2.htm</td>\n",
       "      <td>163c52e77f550e62c438085d6c333881</td>\n",
       "      <td></td>\n",
       "      <td></td>\n",
       "      <td>NaT</td>\n",
       "    </tr>\n",
       "    <tr>\n",
       "      <th>4</th>\n",
       "      <td>355</td>\n",
       "      <td>/careers/2018/chicago/john-doe</td>\n",
       "      <td>John Doe</td>\n",
       "      <td>Kyle</td>\n",
       "      <td>This is one pro</td>\n",
       "      <td>2018-03-13 04:19:32</td>\n",
       "      <td>2018-03-01</td>\n",
       "      <td>2018-03-13 04:19:32</td>\n",
       "      <td>careers/2018/chicago/profile1.htm</td>\n",
       "      <td>b32283772c727dccac04a0bd7d3a1230</td>\n",
       "      <td></td>\n",
       "      <td></td>\n",
       "      <td>NaT</td>\n",
       "    </tr>\n",
       "  </tbody>\n",
       "</table>\n",
       "</div>"
      ],
      "text/plain": [
       "   blog_id                                         prettyname  \\\n",
       "0      359                /episodes/2018/the-master-algorithm   \n",
       "1      358                /careers/2018/what-do-recruiters-do   \n",
       "2      357  /careers/2018/just-enough-background-on-databa...   \n",
       "3      356                     /careers/2018/chicago/jane-doe   \n",
       "4      355                     /careers/2018/chicago/john-doe   \n",
       "\n",
       "                                         title author  \\\n",
       "0                         The Master Algorithm   Kyle   \n",
       "1                       What do Recruiters do?   Kyle   \n",
       "2  Just Enough Background on Databases and SQL   Kyle   \n",
       "3                                     Jane Doe   Kyle   \n",
       "4                                     John Doe   Kyle   \n",
       "\n",
       "                                            abstract        date_created  \\\n",
       "0  In this week's episode, Kyle Polich interviews... 2018-03-16 05:14:46   \n",
       "1  That's a loaded question almost demanding of a... 2018-03-15 16:30:54   \n",
       "2  Database are a big topic and an area a profess... 2018-03-15 16:30:25   \n",
       "3                                This is another pro 2018-03-13 04:19:38   \n",
       "4                                    This is one pro 2018-03-13 04:19:32   \n",
       "\n",
       "  publish_date       last_rendered                                src_file  \\\n",
       "0   2018-03-15 2018-03-16 05:14:46  episodes/2018/the-master-algorithm.htm   \n",
       "1   2099-01-01 2018-03-15 16:30:54  careers/2018/what-do-recruiters-do.htm   \n",
       "2   2099-01-01 2018-03-15 16:30:25        careers/2018/just-enough-sql.htm   \n",
       "3   2018-03-01 2018-03-13 04:20:43       careers/2018/chicago/profile2.htm   \n",
       "4   2018-03-01 2018-03-13 04:19:32       careers/2018/chicago/profile1.htm   \n",
       "\n",
       "                             c_hash guid member_link last_indexed  \n",
       "0  c8743657c285050362e7c836861823d8                           NaT  \n",
       "1  a9e30c19f12a944e143947c4957685c0                           NaT  \n",
       "2  d62ef98a2b45d64e28997eadba0955ed                           NaT  \n",
       "3  163c52e77f550e62c438085d6c333881                           NaT  \n",
       "4  b32283772c727dccac04a0bd7d3a1230                           NaT  "
      ]
     },
     "execution_count": 7,
     "metadata": {},
     "output_type": "execute_result"
    }
   ],
   "source": [
    "df = pd.read_sql(\"SELECT * from blog order by blog_id desc limit 10\", conn)\n",
    "df.head()"
   ]
  },
  {
   "cell_type": "markdown",
   "metadata": {},
   "source": [
    "# AI & DS TSHIRT"
   ]
  },
  {
   "cell_type": "code",
   "execution_count": 11,
   "metadata": {},
   "outputs": [],
   "source": [
    "df = pd.read_sql(\"select a.item_id , a.order_item_size_id , sum(quantity) as quantity , b.title from order_details a inner join store_items_sizes b on a.order_item_size_id = b.order_item_size_id where a.item_id = 11 or a.item_id = 23 GROUP BY order_item_size_id, item_id\",conn)"
   ]
  },
  {
   "cell_type": "code",
   "execution_count": 18,
   "metadata": {},
   "outputs": [
    {
     "data": {
      "text/html": [
       "<div>\n",
       "<style scoped>\n",
       "    .dataframe tbody tr th:only-of-type {\n",
       "        vertical-align: middle;\n",
       "    }\n",
       "\n",
       "    .dataframe tbody tr th {\n",
       "        vertical-align: top;\n",
       "    }\n",
       "\n",
       "    .dataframe thead th {\n",
       "        text-align: right;\n",
       "    }\n",
       "</style>\n",
       "<table border=\"1\" class=\"dataframe\">\n",
       "  <thead>\n",
       "    <tr style=\"text-align: right;\">\n",
       "      <th></th>\n",
       "      <th>item_id</th>\n",
       "      <th>order_item_size_id</th>\n",
       "      <th>quantity</th>\n",
       "      <th>title</th>\n",
       "    </tr>\n",
       "  </thead>\n",
       "  <tbody>\n",
       "    <tr>\n",
       "      <th>0</th>\n",
       "      <td>11</td>\n",
       "      <td>3</td>\n",
       "      <td>2</td>\n",
       "      <td>M</td>\n",
       "    </tr>\n",
       "    <tr>\n",
       "      <th>1</th>\n",
       "      <td>11</td>\n",
       "      <td>4</td>\n",
       "      <td>2</td>\n",
       "      <td>L</td>\n",
       "    </tr>\n",
       "    <tr>\n",
       "      <th>2</th>\n",
       "      <td>11</td>\n",
       "      <td>5</td>\n",
       "      <td>1</td>\n",
       "      <td>XL</td>\n",
       "    </tr>\n",
       "    <tr>\n",
       "      <th>3</th>\n",
       "      <td>23</td>\n",
       "      <td>26</td>\n",
       "      <td>3</td>\n",
       "      <td>S</td>\n",
       "    </tr>\n",
       "    <tr>\n",
       "      <th>4</th>\n",
       "      <td>23</td>\n",
       "      <td>27</td>\n",
       "      <td>6</td>\n",
       "      <td>M</td>\n",
       "    </tr>\n",
       "    <tr>\n",
       "      <th>5</th>\n",
       "      <td>23</td>\n",
       "      <td>28</td>\n",
       "      <td>6</td>\n",
       "      <td>L</td>\n",
       "    </tr>\n",
       "    <tr>\n",
       "      <th>6</th>\n",
       "      <td>23</td>\n",
       "      <td>29</td>\n",
       "      <td>1</td>\n",
       "      <td>XL</td>\n",
       "    </tr>\n",
       "  </tbody>\n",
       "</table>\n",
       "</div>"
      ],
      "text/plain": [
       "   item_id  order_item_size_id  quantity title\n",
       "0       11                   3         2     M\n",
       "1       11                   4         2     L\n",
       "2       11                   5         1    XL\n",
       "3       23                  26         3     S\n",
       "4       23                  27         6     M\n",
       "5       23                  28         6     L\n",
       "6       23                  29         1    XL"
      ]
     },
     "execution_count": 18,
     "metadata": {},
     "output_type": "execute_result"
    }
   ],
   "source": [
    "df['quantity'] = df['quantity'].astype(int)\n",
    "df"
   ]
  },
  {
   "cell_type": "code",
   "execution_count": 32,
   "metadata": {},
   "outputs": [],
   "source": [
    "ds = df.loc[df['item_id'] == 11]\n",
    "ai = df.loc[df['item_id'] == 23]"
   ]
  },
  {
   "cell_type": "code",
   "execution_count": 33,
   "metadata": {},
   "outputs": [
    {
     "data": {
      "image/png": "[encoded data removed]",
      "text/plain": [
       "<matplotlib.figure.Figure at 0x107e065f8>"
      ]
     },
     "metadata": {},
     "output_type": "display_data"
    }
   ],
   "source": [
    "plt.barh(ds['title'], ds['quantity'], align='center')\n",
    "plt.show()"
   ]
  },
  {
   "cell_type": "code",
   "execution_count": 34,
   "metadata": {},
   "outputs": [
    {
     "data": {
      "image/png": "[encoded data removed]",
      "text/plain": [
       "<matplotlib.figure.Figure at 0x107f425c0>"
      ]
     },
     "metadata": {},
     "output_type": "display_data"
    }
   ],
   "source": [
    "plt.barh(ai['title'], ai['quantity'], align='center')\n",
    "plt.show()"
   ]
  },
  {
   "cell_type": "markdown",
   "metadata": {},
   "source": [
    "# Total Tshirt"
   ]
  },
  {
   "cell_type": "code",
   "execution_count": 36,
   "metadata": {},
   "outputs": [],
   "source": [
    "df = pd.read_sql(\"select sum(quantity),title from order_details a inner join store_items_sizes b on a.order_item_size_id = b.order_item_size_id GROUP BY title\",conn)"
   ]
  },
  {
   "cell_type": "code",
   "execution_count": 38,
   "metadata": {},
   "outputs": [
    {
     "data": {
      "text/html": [
       "<div>\n",
       "<style scoped>\n",
       "    .dataframe tbody tr th:only-of-type {\n",
       "        vertical-align: middle;\n",
       "    }\n",
       "\n",
       "    .dataframe tbody tr th {\n",
       "        vertical-align: top;\n",
       "    }\n",
       "\n",
       "    .dataframe thead th {\n",
       "        text-align: right;\n",
       "    }\n",
       "</style>\n",
       "<table border=\"1\" class=\"dataframe\">\n",
       "  <thead>\n",
       "    <tr style=\"text-align: right;\">\n",
       "      <th></th>\n",
       "      <th>sum(quantity)</th>\n",
       "      <th>title</th>\n",
       "    </tr>\n",
       "  </thead>\n",
       "  <tbody>\n",
       "    <tr>\n",
       "      <th>0</th>\n",
       "      <td>8.0</td>\n",
       "      <td>L</td>\n",
       "    </tr>\n",
       "    <tr>\n",
       "      <th>1</th>\n",
       "      <td>8.0</td>\n",
       "      <td>M</td>\n",
       "    </tr>\n",
       "    <tr>\n",
       "      <th>2</th>\n",
       "      <td>3.0</td>\n",
       "      <td>S</td>\n",
       "    </tr>\n",
       "    <tr>\n",
       "      <th>3</th>\n",
       "      <td>2.0</td>\n",
       "      <td>XL</td>\n",
       "    </tr>\n",
       "  </tbody>\n",
       "</table>\n",
       "</div>"
      ],
      "text/plain": [
       "   sum(quantity) title\n",
       "0            8.0     L\n",
       "1            8.0     M\n",
       "2            3.0     S\n",
       "3            2.0    XL"
      ]
     },
     "execution_count": 38,
     "metadata": {},
     "output_type": "execute_result"
    }
   ],
   "source": [
    "df"
   ]
  },
  {
   "cell_type": "code",
   "execution_count": 44,
   "metadata": {},
   "outputs": [
    {
     "data": {
      "image/png": "[encoded data removed]",
      "text/plain": [
       "<matplotlib.figure.Figure at 0x1084c9240>"
      ]
     },
     "metadata": {},
     "output_type": "display_data"
    }
   ],
   "source": [
    "plt.bar(df['title'], df['sum(quantity)'], align='center')\n",
    "plt.show()"
   ]
  }
 ],
 "metadata": {
  "kernelspec": {
   "display_name": "Python 3",
   "language": "python",
   "name": "python3"
  },
  "language_info": {
   "codemirror_mode": {
    "name": "ipython",
    "version": 3
   },
   "file_extension": ".py",
   "mimetype": "text/x-python",
   "name": "python",
   "nbconvert_exporter": "python",
   "pygments_lexer": "ipython3",
   "version": "3.6.4"
  }
 },
 "nbformat": 4,
 "nbformat_minor": 2
}
